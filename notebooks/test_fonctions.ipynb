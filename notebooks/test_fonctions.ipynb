{
 "cells": [
  {
   "cell_type": "markdown",
   "id": "0be4b55a-fab3-4d90-8afe-079bade8152e",
   "metadata": {},
   "source": [
    "# Comparison initial / regridded files for all the models "
   ]
  },
  {
   "cell_type": "code",
   "execution_count": 2,
   "id": "08cbf174-e2ab-4d06-8c6d-df2abecadf2e",
   "metadata": {},
   "outputs": [],
   "source": [
    "import xarray as xr\n",
    "import pandas as pd\n",
    "import numpy as np\n",
    "import os\n",
    "import matplotlib.pyplot as plt\n",
    "import glob"
   ]
  },
  {
   "cell_type": "code",
   "execution_count": 3,
   "id": "5690033f-e9fd-487d-bbef-26b486968119",
   "metadata": {},
   "outputs": [],
   "source": [
    "# models\n",
    "models = [\n",
    "    \"BCC-CSM2-MR\", \"CanESM5\", \"CanESM5-CanOE\", \"CESM2\", \"CESM2-WACCM\", \"CIESM\",\n",
    "    \"CNRM-CM6-1\", \"CNRM-CM6-1-HR\", \"CNRM-ESM2-1\", \"EC-Earth3\", \"EC-Earth3-Veg\",\n",
    "    \"FGOALS-f3-L\", \"FGOALS-g3\", \"GFDL-CM4\", \"GISS-E2-1-G\", \"HadGEM3-GC31-LL\",\n",
    "    \"IPSL-CM6A-LR\", \"MIROC-ES2L\", \"MIROC6\", \"MPI-ESM1-2-HR\", \"MPI-ESM1-2-LR\",\n",
    "    \"MRI-ESM2-0\", \"NorESM2-LM\", \"NorESM2-MM\", \"UKESM1-0-LL\"\n",
    "]"
   ]
  },
  {
   "cell_type": "code",
   "execution_count": 4,
   "id": "c9c9121d-137f-4082-9a05-d6eeeeebc9f3",
   "metadata": {},
   "outputs": [],
   "source": [
    "# path initial files\n",
    "path_ini_hist = \"/home/jovyan/private-storage/historical-LImon-snc/\""
   ]
  },
  {
   "cell_type": "code",
   "execution_count": 5,
   "id": "7ba42198-4c50-414b-a355-76003016998f",
   "metadata": {},
   "outputs": [
    {
     "name": "stderr",
     "output_type": "stream",
     "text": [
      "/srv/conda/envs/notebook/lib/python3.12/site-packages/xarray/conventions.py:193: SerializationWarning: variable 'snc' has multiple fill values {np.float32(1e+20), np.float64(1e+20)} defined, decoding all values to NaN.\n",
      "  var = coder.decode(var, name=name)\n",
      "/srv/conda/envs/notebook/lib/python3.12/site-packages/xarray/conventions.py:193: SerializationWarning: variable 'snc' has multiple fill values {np.float32(1e+20), np.float64(1e+20)} defined, decoding all values to NaN.\n",
      "  var = coder.decode(var, name=name)\n"
     ]
    }
   ],
   "source": [
    "datasets_ini_hist = {}\n",
    "\n",
    "for model in models:\n",
    "    file_pattern = os.path.join(path_ini_hist, f\"snc_LImon_{model}_historical_*.nc\")\n",
    "    files = glob.glob(file_pattern)\n",
    "    \n",
    "    datasets_ini_hist[model] = xr.open_mfdataset(files, combine='by_coords')"
   ]
  },
  {
   "cell_type": "code",
   "execution_count": 7,
   "id": "b33b0d21-4fb1-430f-a20b-45d9255c2201",
   "metadata": {},
   "outputs": [],
   "source": [
    "# areacella\n",
    "path_areacella = \"/home/jovyan/private-storage/masques/masques/areacella/\"\n",
    "path_pseudo_areacella = \"/home/jovyan/private-storage/masques/masques/pseudo_areacella/\""
   ]
  },
  {
   "cell_type": "code",
   "execution_count": 8,
   "id": "13227800-34d6-4579-9374-49ad5989652b",
   "metadata": {},
   "outputs": [
    {
     "name": "stderr",
     "output_type": "stream",
     "text": [
      "/srv/conda/envs/notebook/lib/python3.12/site-packages/xarray/conventions.py:193: SerializationWarning: variable 'areacella' has multiple fill values {np.float32(1e+20), np.float64(1e+20)} defined, decoding all values to NaN.\n",
      "  var = coder.decode(var, name=name)\n"
     ]
    }
   ],
   "source": [
    "datasets_area = {}\n",
    "for model in models:\n",
    "    area_file_path = os.path.join(path_areacella, f\"areacella_{model}.nc\")\n",
    "    pseudo_area_file_path = os.path.join(path_pseudo_areacella, f\"areacella_{model}.nc\")\n",
    "\n",
    "    if os.path.exists(area_file_path):\n",
    "        datasets_area[model] = xr.open_dataset(area_file_path)['areacella']\n",
    "    elif os.path.exists(pseudo_area_file_path):\n",
    "        datasets_area[model] = xr.open_dataset(pseudo_area_file_path)['areacella']\n",
    "    else:\n",
    "        print(f\"Pas de fichier d'aire trouvé pour {model} !\")\n",
    "        datasets_area[model] = None"
   ]
  },
  {
   "cell_type": "code",
   "execution_count": null,
   "id": "9f115743-8c0a-4c4c-862c-7267afe84c49",
   "metadata": {},
   "outputs": [],
   "source": [
    "path_BCC_CSM2 = os.path.join(\"/home/jovyan/private-storage/historical-LImon-snc/\", \"snc_LImon_BCC-CSM2-MR_historical_r1i1p1f1_gn_185001-201412.nc\")"
   ]
  },
  {
   "cell_type": "code",
   "execution_count": null,
   "id": "c2c24a51-ea24-41b1-b030-fa964bd378e1",
   "metadata": {},
   "outputs": [],
   "source": [
    "BCC_CSM2 = xr.open_dataset(path_BCC_CSM2)\n",
    "BCC_CSM2"
   ]
  },
  {
   "cell_type": "code",
   "execution_count": null,
   "id": "4ea12854-fcd3-43c0-81fd-ddc61317cb64",
   "metadata": {},
   "outputs": [],
   "source": [
    "snow_cover_ini = BCC_CSM2[\"snc\"]\n",
    "snow_cover_ini"
   ]
  },
  {
   "cell_type": "code",
   "execution_count": null,
   "id": "5004fac7-0587-411d-b147-ca59a61b0514",
   "metadata": {},
   "outputs": [],
   "source": [
    "path_areacella_BCC_CSM2 = os.path.join(\"/home/jovyan/private-storage/masques/masques/pseudo_areacella/\", \"areacella_BCC-CSM2-MR.nc\")"
   ]
  },
  {
   "cell_type": "code",
   "execution_count": null,
   "id": "9c435c16-d597-489d-910f-3ceb4ff2fd7f",
   "metadata": {},
   "outputs": [],
   "source": [
    "areacella_BCC_CSM2 = xr.open_dataset(path_areacella_BCC_CSM2)\n",
    "areacella_BCC_CSM2"
   ]
  },
  {
   "cell_type": "code",
   "execution_count": null,
   "id": "61f1bb2f-b78a-4895-9c1c-462605263fd4",
   "metadata": {},
   "outputs": [],
   "source": [
    "BCC_CSM2_ref = BCC_CSM2.sel(time=slice(\"1995\", \"2014\"))\n",
    "BCC_CSM2_ref"
   ]
  },
  {
   "cell_type": "code",
   "execution_count": null,
   "id": "259eb4cc-89c4-464b-8b1a-86fbc3e7e217",
   "metadata": {},
   "outputs": [],
   "source": [
    "snow_cover = BCC_CSM2_ref[\"snc\"]"
   ]
  },
  {
   "cell_type": "code",
   "execution_count": null,
   "id": "d65bf776-bc2e-4a88-815a-48d34c7c0d56",
   "metadata": {},
   "outputs": [],
   "source": [
    "snow_cover = snow_cover.groupby(\"time.month\").mean(dim=\"time\")"
   ]
  },
  {
   "cell_type": "code",
   "execution_count": null,
   "id": "65308d52-7f70-4d1b-b42f-3359215652c1",
   "metadata": {},
   "outputs": [],
   "source": [
    "def plot(data, x, y, title):\n",
    "    plt.plot(range(1, 13), data, marker=\"o\")\n",
    "    plt.xlabel(x)\n",
    "    plt.ylabel(y)\n",
    "    plt.title(title)\n",
    "    plt.grid()\n",
    "    plt.show()"
   ]
  },
  {
   "cell_type": "code",
   "execution_count": null,
   "id": "72e6f811-d647-496d-8979-3e6a6125e22a",
   "metadata": {},
   "outputs": [],
   "source": [
    "monthly_mean = snow_cover.mean(dim=(\"lat\", \"lon\"))\n",
    "\n",
    "plot(\n",
    "    data=monthly_mean,\n",
    "    x=\"Mois\",\n",
    "    y=\"Couverture neigeuse moyenne\",\n",
    "    title=\"Moyenne mensuelle de la couverture neigeuse\"\n",
    ")"
   ]
  },
  {
   "cell_type": "code",
   "execution_count": null,
   "id": "2a49583c-835e-470b-90ea-3795c91e3fb3",
   "metadata": {},
   "outputs": [],
   "source": [
    "cell_area_ini = areacella_BCC_CSM2[\"areacella\"]\n",
    "\n",
    "snow_cover_km2 = (snow_cover * (cell_area_ini * 1e-6) ).groupby(snow_cover[\"month\"]).sum(dim=[\"lat\", \"lon\"], skipna=True)\n",
    "\n",
    "print(snow_cover_km2)\n",
    "print(snow_cover_km2.shape)"
   ]
  },
  {
   "cell_type": "code",
   "execution_count": null,
   "id": "c72e26e2-96dd-4152-9b96-5b7889235509",
   "metadata": {},
   "outputs": [],
   "source": [
    "plot(\n",
    "    data=snow_cover_km2,\n",
    "    x=\"Mois\",\n",
    "    y=\"Superficie enneigée (km²)\",\n",
    "    title=\"Superficie moyenne mensuelle de la couverture neigeuse\"\n",
    ")"
   ]
  }
 ],
 "metadata": {
  "kernelspec": {
   "display_name": "Python 3 (ipykernel)",
   "language": "python",
   "name": "python3"
  },
  "language_info": {
   "codemirror_mode": {
    "name": "ipython",
    "version": 3
   },
   "file_extension": ".py",
   "mimetype": "text/x-python",
   "name": "python",
   "nbconvert_exporter": "python",
   "pygments_lexer": "ipython3",
   "version": "3.12.8"
  }
 },
 "nbformat": 4,
 "nbformat_minor": 5
}
