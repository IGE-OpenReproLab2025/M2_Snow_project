{
 "cells": [
  {
   "cell_type": "markdown",
   "id": "54aad290-ec09-4032-8679-e7c4aff1a782",
   "metadata": {},
   "source": [
    "# Recalcul areacella des fichiers interpolés historiques et de sortie (SnowWarming)avec l'aide de cdo"
   ]
  },
  {
   "cell_type": "code",
   "execution_count": 1,
   "id": "a7f02bbf-040c-4a0e-a525-9cddb6ed779a",
   "metadata": {},
   "outputs": [
    {
     "name": "stdout",
     "output_type": "stream",
     "text": [
      "Requirement already satisfied: cdo in /srv/conda/envs/notebook/lib/python3.12/site-packages (1.6.1)\n",
      "Requirement already satisfied: six in /srv/conda/envs/notebook/lib/python3.12/site-packages (from cdo) (1.17.0)\n",
      "Requirement already satisfied: packaging in /srv/conda/envs/notebook/lib/python3.12/site-packages (from cdo) (24.2)\n",
      "Note: you may need to restart the kernel to use updated packages.\n"
     ]
    }
   ],
   "source": [
    "pip install cdo"
   ]
  },
  {
   "cell_type": "code",
   "execution_count": 1,
   "id": "238456bc-4760-4450-a60d-ab43f73166fb",
   "metadata": {},
   "outputs": [],
   "source": [
    "import os\n",
    "import cdo\n",
    "import glob\n",
    "import xarray as xr"
   ]
  },
  {
   "cell_type": "markdown",
   "id": "f240cd35-93c6-44be-addb-c6d5d827ad68",
   "metadata": {},
   "source": [
    "## Areacella fichiers historiques"
   ]
  },
  {
   "cell_type": "code",
   "execution_count": 2,
   "id": "312e0b32-2149-4c67-afc0-84251e9331cf",
   "metadata": {},
   "outputs": [
    {
     "name": "stdout",
     "output_type": "stream",
     "text": [
      "Traitement du modèle BCC-CSM2-MR : ~/private-storage/interp_models_hist_bis/BCC-CSM2-MR_hist_reprojete.nc\n",
      "Exécution de la commande : cdo gridarea ~/private-storage/interp_models_hist_bis/BCC-CSM2-MR_hist_reprojete.nc /home/jovyan/private-storage/areacella_recalcule_cdo_bis/BCC-CSM2-MR_gridarea_hist_recalcule.nc\n",
      "cdo    gridarea: Processed 1 variable [0.16s 49MB].\n",
      "Traitement du modèle CanESM5 : ~/private-storage/interp_models_hist_bis/CanESM5_hist_reprojete.nc\n",
      "Exécution de la commande : cdo gridarea ~/private-storage/interp_models_hist_bis/CanESM5_hist_reprojete.nc /home/jovyan/private-storage/areacella_recalcule_cdo_bis/CanESM5_gridarea_hist_recalcule.nc\n",
      "cdo    gridarea: Processed 1 variable [0.14s 49MB].\n",
      "Traitement du modèle CanESM5-CanOE : ~/private-storage/interp_models_hist_bis/CanESM5-CanOE_hist_reprojete.nc\n",
      "Exécution de la commande : cdo gridarea ~/private-storage/interp_models_hist_bis/CanESM5-CanOE_hist_reprojete.nc /home/jovyan/private-storage/areacella_recalcule_cdo_bis/CanESM5-CanOE_gridarea_hist_recalcule.nc\n",
      "cdo    gridarea: Processed 1 variable [0.07s 49MB].\n",
      "Traitement du modèle CESM2 : ~/private-storage/interp_models_hist_bis/CESM2_hist_reprojete.nc\n",
      "Exécution de la commande : cdo gridarea ~/private-storage/interp_models_hist_bis/CESM2_hist_reprojete.nc /home/jovyan/private-storage/areacella_recalcule_cdo_bis/CESM2_gridarea_hist_recalcule.nc\n",
      "cdo    gridarea: Processed 1 variable [0.09s 49MB].\n",
      "Traitement du modèle CESM2-WACCM : ~/private-storage/interp_models_hist_bis/CESM2-WACCM_hist_reprojete.nc\n",
      "Exécution de la commande : cdo gridarea ~/private-storage/interp_models_hist_bis/CESM2-WACCM_hist_reprojete.nc /home/jovyan/private-storage/areacella_recalcule_cdo_bis/CESM2-WACCM_gridarea_hist_recalcule.nc\n",
      "cdo    gridarea: Processed 1 variable [0.07s 49MB].\n",
      "Traitement du modèle CIESM : ~/private-storage/interp_models_hist_bis/CIESM_hist_reprojete.nc\n",
      "Exécution de la commande : cdo gridarea ~/private-storage/interp_models_hist_bis/CIESM_hist_reprojete.nc /home/jovyan/private-storage/areacella_recalcule_cdo_bis/CIESM_gridarea_hist_recalcule.nc\n",
      "cdo    gridarea: Processed 1 variable [0.14s 49MB].\n",
      "Traitement du modèle CNRM-CM6-1 : ~/private-storage/interp_models_hist_bis/CNRM-CM6-1_hist_reprojete.nc\n",
      "Exécution de la commande : cdo gridarea ~/private-storage/interp_models_hist_bis/CNRM-CM6-1_hist_reprojete.nc /home/jovyan/private-storage/areacella_recalcule_cdo_bis/CNRM-CM6-1_gridarea_hist_recalcule.nc\n",
      "cdo    gridarea: Processed 1 variable [0.09s 49MB].\n",
      "Traitement du modèle CNRM-CM6-1-HR : ~/private-storage/interp_models_hist_bis/CNRM-CM6-1-HR_hist_reprojete.nc\n",
      "Exécution de la commande : cdo gridarea ~/private-storage/interp_models_hist_bis/CNRM-CM6-1-HR_hist_reprojete.nc /home/jovyan/private-storage/areacella_recalcule_cdo_bis/CNRM-CM6-1-HR_gridarea_hist_recalcule.nc\n",
      "cdo    gridarea: Processed 1 variable [0.10s 49MB].\n",
      "Traitement du modèle CNRM-ESM2-1 : ~/private-storage/interp_models_hist_bis/CNRM-ESM2-1_hist_reprojete.nc\n",
      "Exécution de la commande : cdo gridarea ~/private-storage/interp_models_hist_bis/CNRM-ESM2-1_hist_reprojete.nc /home/jovyan/private-storage/areacella_recalcule_cdo_bis/CNRM-ESM2-1_gridarea_hist_recalcule.nc\n",
      "cdo    gridarea: Processed 1 variable [0.12s 49MB].\n",
      "Traitement du modèle EC-Earth3 : ~/private-storage/interp_models_hist_bis/EC-Earth3_hist_reprojete.nc\n",
      "Exécution de la commande : cdo gridarea ~/private-storage/interp_models_hist_bis/EC-Earth3_hist_reprojete.nc /home/jovyan/private-storage/areacella_recalcule_cdo_bis/EC-Earth3_gridarea_hist_recalcule.nc\n",
      "cdo    gridarea: Processed 1 variable [0.14s 49MB].\n",
      "Traitement du modèle EC-Earth3-Veg : ~/private-storage/interp_models_hist_bis/EC-Earth3-Veg_hist_reprojete.nc\n",
      "Exécution de la commande : cdo gridarea ~/private-storage/interp_models_hist_bis/EC-Earth3-Veg_hist_reprojete.nc /home/jovyan/private-storage/areacella_recalcule_cdo_bis/EC-Earth3-Veg_gridarea_hist_recalcule.nc\n",
      "cdo    gridarea: Processed 1 variable [0.10s 49MB].\n",
      "Traitement du modèle FGOALS-f3-L : ~/private-storage/interp_models_hist_bis/FGOALS-f3-L_hist_reprojete.nc\n",
      "Exécution de la commande : cdo gridarea ~/private-storage/interp_models_hist_bis/FGOALS-f3-L_hist_reprojete.nc /home/jovyan/private-storage/areacella_recalcule_cdo_bis/FGOALS-f3-L_gridarea_hist_recalcule.nc\n",
      "cdo    gridarea: Processed 1 variable [0.12s 49MB].\n",
      "Traitement du modèle FGOALS-g3 : ~/private-storage/interp_models_hist_bis/FGOALS-g3_hist_reprojete.nc\n",
      "Exécution de la commande : cdo gridarea ~/private-storage/interp_models_hist_bis/FGOALS-g3_hist_reprojete.nc /home/jovyan/private-storage/areacella_recalcule_cdo_bis/FGOALS-g3_gridarea_hist_recalcule.nc\n",
      "cdo    gridarea: Processed 1 variable [0.11s 49MB].\n",
      "Traitement du modèle GFDL-CM4 : ~/private-storage/interp_models_hist_bis/GFDL-CM4_hist_reprojete.nc\n",
      "Exécution de la commande : cdo gridarea ~/private-storage/interp_models_hist_bis/GFDL-CM4_hist_reprojete.nc /home/jovyan/private-storage/areacella_recalcule_cdo_bis/GFDL-CM4_gridarea_hist_recalcule.nc\n",
      "cdo    gridarea: Processed 1 variable [0.13s 49MB].\n",
      "Traitement du modèle GISS-E2-1-G : ~/private-storage/interp_models_hist_bis/GISS-E2-1-G_hist_reprojete.nc\n",
      "Exécution de la commande : cdo gridarea ~/private-storage/interp_models_hist_bis/GISS-E2-1-G_hist_reprojete.nc /home/jovyan/private-storage/areacella_recalcule_cdo_bis/GISS-E2-1-G_gridarea_hist_recalcule.nc\n",
      "cdo    gridarea: Processed 1 variable [0.29s 49MB].\n",
      "Traitement du modèle HadGEM3-GC31-LL : ~/private-storage/interp_models_hist_bis/HadGEM3-GC31-LL_hist_reprojete.nc\n",
      "Exécution de la commande : cdo gridarea ~/private-storage/interp_models_hist_bis/HadGEM3-GC31-LL_hist_reprojete.nc /home/jovyan/private-storage/areacella_recalcule_cdo_bis/HadGEM3-GC31-LL_gridarea_hist_recalcule.nc\n",
      "cdo    gridarea: Processed 1 variable [0.27s 49MB].\n",
      "Traitement du modèle IPSL-CM6A-LR : ~/private-storage/interp_models_hist_bis/IPSL-CM6A-LR_hist_reprojete.nc\n",
      "Exécution de la commande : cdo gridarea ~/private-storage/interp_models_hist_bis/IPSL-CM6A-LR_hist_reprojete.nc /home/jovyan/private-storage/areacella_recalcule_cdo_bis/IPSL-CM6A-LR_gridarea_hist_recalcule.nc\n",
      "cdo    gridarea: Processed 1 variable [0.14s 49MB].\n",
      "Traitement du modèle MIROC-ES2L : ~/private-storage/interp_models_hist_bis/MIROC-ES2L_hist_reprojete.nc\n",
      "Exécution de la commande : cdo gridarea ~/private-storage/interp_models_hist_bis/MIROC-ES2L_hist_reprojete.nc /home/jovyan/private-storage/areacella_recalcule_cdo_bis/MIROC-ES2L_gridarea_hist_recalcule.nc\n",
      "cdo    gridarea: Processed 1 variable [0.12s 49MB].\n",
      "Traitement du modèle MIROC6 : ~/private-storage/interp_models_hist_bis/MIROC6_hist_reprojete.nc\n",
      "Exécution de la commande : cdo gridarea ~/private-storage/interp_models_hist_bis/MIROC6_hist_reprojete.nc /home/jovyan/private-storage/areacella_recalcule_cdo_bis/MIROC6_gridarea_hist_recalcule.nc\n",
      "cdo    gridarea: Processed 1 variable [0.11s 49MB].\n",
      "Traitement du modèle MPI-ESM1-2-HR : ~/private-storage/interp_models_hist_bis/MPI-ESM1-2-HR_hist_reprojete.nc\n",
      "Exécution de la commande : cdo gridarea ~/private-storage/interp_models_hist_bis/MPI-ESM1-2-HR_hist_reprojete.nc /home/jovyan/private-storage/areacella_recalcule_cdo_bis/MPI-ESM1-2-HR_gridarea_hist_recalcule.nc\n",
      "cdo    gridarea: Processed 1 variable [0.06s 49MB].\n",
      "Traitement du modèle MPI-ESM1-2-LR : ~/private-storage/interp_models_hist_bis/MPI-ESM1-2-LR_hist_reprojete.nc\n",
      "Exécution de la commande : cdo gridarea ~/private-storage/interp_models_hist_bis/MPI-ESM1-2-LR_hist_reprojete.nc /home/jovyan/private-storage/areacella_recalcule_cdo_bis/MPI-ESM1-2-LR_gridarea_hist_recalcule.nc\n",
      "cdo    gridarea: Processed 1 variable [0.11s 49MB].\n",
      "Traitement du modèle MRI-ESM2-0 : ~/private-storage/interp_models_hist_bis/MRI-ESM2-0_hist_reprojete.nc\n",
      "Exécution de la commande : cdo gridarea ~/private-storage/interp_models_hist_bis/MRI-ESM2-0_hist_reprojete.nc /home/jovyan/private-storage/areacella_recalcule_cdo_bis/MRI-ESM2-0_gridarea_hist_recalcule.nc\n",
      "cdo    gridarea: Processed 1 variable [0.14s 48MB].\n",
      "Traitement du modèle NorESM2-LM : ~/private-storage/interp_models_hist_bis/NorESM2-LM_hist_reprojete.nc\n",
      "Exécution de la commande : cdo gridarea ~/private-storage/interp_models_hist_bis/NorESM2-LM_hist_reprojete.nc /home/jovyan/private-storage/areacella_recalcule_cdo_bis/NorESM2-LM_gridarea_hist_recalcule.nc\n",
      "cdo    gridarea: Processed 1 variable [0.10s 49MB].\n",
      "Traitement du modèle NorESM2-MM : ~/private-storage/interp_models_hist_bis/NorESM2-MM_hist_reprojete.nc\n",
      "Exécution de la commande : cdo gridarea ~/private-storage/interp_models_hist_bis/NorESM2-MM_hist_reprojete.nc /home/jovyan/private-storage/areacella_recalcule_cdo_bis/NorESM2-MM_gridarea_hist_recalcule.nc\n",
      "cdo    gridarea: Processed 1 variable [0.17s 49MB].\n",
      "Traitement du modèle UKESM1-0-LL : ~/private-storage/interp_models_hist_bis/UKESM1-0-LL_hist_reprojete.nc\n",
      "Exécution de la commande : cdo gridarea ~/private-storage/interp_models_hist_bis/UKESM1-0-LL_hist_reprojete.nc /home/jovyan/private-storage/areacella_recalcule_cdo_bis/UKESM1-0-LL_gridarea_hist_recalcule.nc\n",
      "cdo    gridarea: Processed 1 variable [0.08s 49MB].\n"
     ]
    }
   ],
   "source": [
    "path = \"~/private-storage/interp_models_hist_bis\"\n",
    "output_dir = \"/home/jovyan/private-storage/areacella_recalcule_cdo_bis\"\n",
    "os.makedirs(output_dir, exist_ok=True)\n",
    "\n",
    "models = [\n",
    "    \"BCC-CSM2-MR\", \"CanESM5\", \"CanESM5-CanOE\", \"CESM2\", \"CESM2-WACCM\", \"CIESM\",\n",
    "    \"CNRM-CM6-1\", \"CNRM-CM6-1-HR\", \"CNRM-ESM2-1\", \"EC-Earth3\", \"EC-Earth3-Veg\",\n",
    "    \"FGOALS-f3-L\", \"FGOALS-g3\", \"GFDL-CM4\", \"GISS-E2-1-G\", \"HadGEM3-GC31-LL\",\n",
    "    \"IPSL-CM6A-LR\", \"MIROC-ES2L\", \"MIROC6\", \"MPI-ESM1-2-HR\", \"MPI-ESM1-2-LR\",\n",
    "    \"MRI-ESM2-0\", \"NorESM2-LM\", \"NorESM2-MM\", \"UKESM1-0-LL\"\n",
    "]\n",
    "\n",
    "for model in models:\n",
    "    file_pattern = os.path.join(path, f\"{model}_hist_reprojete.nc\")\n",
    "\n",
    "    # est ce que le fichier existe\n",
    "    if not (file_pattern):\n",
    "        print(f\"Pas de fichier trouvé pour le modèle {model} : {file_pattern}\")\n",
    "        continue\n",
    "\n",
    "    print(f\"Traitement du modèle {model} : {file_pattern}\")\n",
    "\n",
    "    # ouverture fichier NetCDF\n",
    "    try:\n",
    "        with xr.open_dataset(file_pattern, engine='netcdf4'):\n",
    "            # endroit où vont être stockés les fichiers\n",
    "            gridarea_output = os.path.join(output_dir, f\"{model}_gridarea_hist_recalcule.nc\")\n",
    "\n",
    "            # commande cdo pour recalcul des areacella\n",
    "            cdo_command = f\"cdo gridarea {file_pattern} {gridarea_output}\"\n",
    "            print(f\"Exécution de la commande : {cdo_command}\")\n",
    "            os.system(cdo_command)\n",
    "    except Exception as e:\n",
    "        print(f\"Erreur lors de l'ouverture du fichier pour le modèle {model} : {e}\")\n"
   ]
  },
  {
   "cell_type": "code",
   "execution_count": null,
   "id": "c5f6661e-92e1-4479-bc06-412afe649e1b",
   "metadata": {},
   "outputs": [],
   "source": []
  }
 ],
 "metadata": {
  "kernelspec": {
   "display_name": "Python 3 (ipykernel)",
   "language": "python",
   "name": "python3"
  },
  "language_info": {
   "codemirror_mode": {
    "name": "ipython",
    "version": 3
   },
   "file_extension": ".py",
   "mimetype": "text/x-python",
   "name": "python",
   "nbconvert_exporter": "python",
   "pygments_lexer": "ipython3",
   "version": "3.12.8"
  }
 },
 "nbformat": 4,
 "nbformat_minor": 5
}
