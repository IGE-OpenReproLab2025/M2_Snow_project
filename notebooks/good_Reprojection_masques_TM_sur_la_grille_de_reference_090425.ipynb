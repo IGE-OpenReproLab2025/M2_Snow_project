{
 "cells": [
  {
   "cell_type": "markdown",
   "id": "3d57ed8c-8793-49b2-84c4-a34a0b662f73",
   "metadata": {},
   "source": [
    "# Reprojection des masques TM sur la grille de référence (nouvelle version)"
   ]
  },
  {
   "cell_type": "code",
   "execution_count": 4,
   "id": "8fe5d9ee-d244-45b0-8ddf-dd86f296eef0",
   "metadata": {},
   "outputs": [
    {
     "name": "stdout",
     "output_type": "stream",
     "text": [
      "Last updated: 2025-04-09T11:46:19.713011+00:00\n",
      "\n",
      "Python implementation: CPython\n",
      "Python version       : 3.12.8\n",
      "IPython version      : 8.17.2\n",
      "\n",
      "Compiler    : GCC 13.3.0\n",
      "OS          : Linux\n",
      "Release     : 6.8.0-31-generic\n",
      "Machine     : x86_64\n",
      "Processor   : x86_64\n",
      "CPU cores   : 8\n",
      "Architecture: 64bit\n",
      "\n"
     ]
    }
   ],
   "source": [
    "from watermark import watermark\n",
    "%load_ext watermark\n",
    "print(watermark())"
   ]
  },
  {
   "cell_type": "code",
   "execution_count": 1,
   "id": "df2ef448-c744-4bcc-9f03-49d4bb84a941",
   "metadata": {},
   "outputs": [
    {
     "name": "stderr",
     "output_type": "stream",
     "text": [
      "/srv/conda/envs/notebook/lib/python3.12/site-packages/esmpy/interface/loadESMF.py:94: VersionWarning: ESMF installation version 8.8.0, ESMPy version 8.8.0b0\n",
      "  warnings.warn(\"ESMF installation version {}, ESMPy version {}\".format(\n"
     ]
    }
   ],
   "source": [
    "import os\n",
    "import glob\n",
    "import xarray as xr\n",
    "import xesmf as xe"
   ]
  },
  {
   "cell_type": "code",
   "execution_count": 5,
   "id": "8a9ac3ce-af18-41a1-a59b-73ada43a292b",
   "metadata": {},
   "outputs": [
    {
     "name": "stdout",
     "output_type": "stream",
     "text": [
      "watermark: 2.5.0\n",
      "xesmf    : 0.8.8\n",
      "xarray   : 2025.1.1\n",
      "\n"
     ]
    }
   ],
   "source": [
    "%watermark --iversions"
   ]
  },
  {
   "cell_type": "code",
   "execution_count": 2,
   "id": "c2c6889e-2eac-48fd-ab8b-af7fc21db4db",
   "metadata": {},
   "outputs": [],
   "source": [
    "path = \"/home/jovyan/private-storage/grid/\"\n",
    "file = \"nhsce_mon.v01r01_19661004_20250303_1.0x1.0.nc\"\n",
    "ref_grid = xr.open_dataset(os.path.join(path, file))"
   ]
  },
  {
   "cell_type": "code",
   "execution_count": 3,
   "id": "9bf15588-f45a-4095-84af-19c73a229718",
   "metadata": {},
   "outputs": [],
   "source": [
    "ref_grid = ref_grid.sel(time=slice(\"1995\", \"2014\"))"
   ]
  },
  {
   "cell_type": "markdown",
   "id": "5668e8dc-65c1-4629-8246-7bd80fcdfc55",
   "metadata": {},
   "source": [
    "## Sftlf"
   ]
  },
  {
   "cell_type": "code",
   "execution_count": 6,
   "id": "f7d6bb2a-badd-4684-b69d-318536a39408",
   "metadata": {},
   "outputs": [
    {
     "name": "stdout",
     "output_type": "stream",
     "text": [
      "Traitement du modèle BCC-CSM2-MR : /home/jovyan/private-storage/masques/masques/pseudo_sftlf/sftlf_BCC-CSM2-MR.nc\n",
      "Fichier sauvegardé : /home/jovyan/private-storage/interp_sftlf_bis/BCC-CSM2-MR_sftlf_reprojete.nc\n",
      "Traitement du modèle CanESM5 : /home/jovyan/private-storage/masques/masques/sftlf/sftlf_CanESM5.nc\n",
      "Fichier sauvegardé : /home/jovyan/private-storage/interp_sftlf_bis/CanESM5_sftlf_reprojete.nc\n",
      "Traitement du modèle CanESM5-CanOE : /home/jovyan/private-storage/masques/masques/sftlf/sftlf_CanESM5-CanOE.nc\n",
      "Fichier sauvegardé : /home/jovyan/private-storage/interp_sftlf_bis/CanESM5-CanOE_sftlf_reprojete.nc\n",
      "Traitement du modèle CESM2 : /home/jovyan/private-storage/masques/masques/sftlf/sftlf_CESM2.nc\n"
     ]
    },
    {
     "name": "stderr",
     "output_type": "stream",
     "text": [
      "/srv/conda/envs/notebook/lib/python3.12/site-packages/xarray/conventions.py:193: SerializationWarning: variable 'sftlf' has multiple fill values {np.float32(1e+20), np.float64(1e+20)} defined, decoding all values to NaN.\n",
      "  var = coder.decode(var, name=name)\n"
     ]
    },
    {
     "name": "stdout",
     "output_type": "stream",
     "text": [
      "Fichier sauvegardé : /home/jovyan/private-storage/interp_sftlf_bis/CESM2_sftlf_reprojete.nc\n",
      "Traitement du modèle CESM2-WACCM : /home/jovyan/private-storage/masques/masques/sftlf/sftlf_CESM2-WACCM.nc\n"
     ]
    },
    {
     "name": "stderr",
     "output_type": "stream",
     "text": [
      "/srv/conda/envs/notebook/lib/python3.12/site-packages/xarray/conventions.py:193: SerializationWarning: variable 'sftlf' has multiple fill values {np.float32(1e+20), np.float64(1e+20)} defined, decoding all values to NaN.\n",
      "  var = coder.decode(var, name=name)\n"
     ]
    },
    {
     "name": "stdout",
     "output_type": "stream",
     "text": [
      "Fichier sauvegardé : /home/jovyan/private-storage/interp_sftlf_bis/CESM2-WACCM_sftlf_reprojete.nc\n",
      "Traitement du modèle CIESM : /home/jovyan/private-storage/masques/masques/sftlf/sftlf_CIESM.nc\n",
      "Fichier sauvegardé : /home/jovyan/private-storage/interp_sftlf_bis/CIESM_sftlf_reprojete.nc\n",
      "Traitement du modèle CNRM-CM6-1 : /home/jovyan/private-storage/masques/masques/sftlf/sftlf_CNRM-CM6-1.nc\n",
      "Fichier sauvegardé : /home/jovyan/private-storage/interp_sftlf_bis/CNRM-CM6-1_sftlf_reprojete.nc\n",
      "Traitement du modèle CNRM-CM6-1-HR : /home/jovyan/private-storage/masques/masques/sftlf/sftlf_CNRM-CM6-1-HR.nc\n",
      "Fichier sauvegardé : /home/jovyan/private-storage/interp_sftlf_bis/CNRM-CM6-1-HR_sftlf_reprojete.nc\n",
      "Traitement du modèle CNRM-ESM2-1 : /home/jovyan/private-storage/masques/masques/sftlf/sftlf_CNRM-ESM2-1.nc\n",
      "Fichier sauvegardé : /home/jovyan/private-storage/interp_sftlf_bis/CNRM-ESM2-1_sftlf_reprojete.nc\n",
      "Traitement du modèle EC-Earth3 : /home/jovyan/private-storage/masques/masques/sftlf/sftlf_EC-Earth3.nc\n",
      "Fichier sauvegardé : /home/jovyan/private-storage/interp_sftlf_bis/EC-Earth3_sftlf_reprojete.nc\n",
      "Traitement du modèle EC-Earth3-Veg : /home/jovyan/private-storage/masques/masques/sftlf/sftlf_EC-Earth3-Veg.nc\n",
      "Fichier sauvegardé : /home/jovyan/private-storage/interp_sftlf_bis/EC-Earth3-Veg_sftlf_reprojete.nc\n",
      "Traitement du modèle FGOALS-f3-L : /home/jovyan/private-storage/masques/masques/sftlf/sftlf_FGOALS-f3-L.nc\n",
      "Fichier sauvegardé : /home/jovyan/private-storage/interp_sftlf_bis/FGOALS-f3-L_sftlf_reprojete.nc\n",
      "Traitement du modèle FGOALS-g3 : /home/jovyan/private-storage/masques/masques/sftlf/sftlf_FGOALS-g3.nc\n",
      "Fichier sauvegardé : /home/jovyan/private-storage/interp_sftlf_bis/FGOALS-g3_sftlf_reprojete.nc\n",
      "Traitement du modèle GFDL-CM4 : /home/jovyan/private-storage/masques/masques/sftlf/sftlf_GFDL-CM4.nc\n",
      "Fichier sauvegardé : /home/jovyan/private-storage/interp_sftlf_bis/GFDL-CM4_sftlf_reprojete.nc\n",
      "Traitement du modèle GISS-E2-1-G : /home/jovyan/private-storage/masques/masques/sftlf/sftlf_GISS-E2-1-G.nc\n",
      "Fichier sauvegardé : /home/jovyan/private-storage/interp_sftlf_bis/GISS-E2-1-G_sftlf_reprojete.nc\n",
      "Traitement du modèle HadGEM3-GC31-LL : /home/jovyan/private-storage/masques/masques/sftlf/sftlf_HadGEM3-GC31-LL.nc\n",
      "Fichier sauvegardé : /home/jovyan/private-storage/interp_sftlf_bis/HadGEM3-GC31-LL_sftlf_reprojete.nc\n",
      "Traitement du modèle IPSL-CM6A-LR : /home/jovyan/private-storage/masques/masques/sftlf/sftlf_IPSL-CM6A-LR.nc\n",
      "Fichier sauvegardé : /home/jovyan/private-storage/interp_sftlf_bis/IPSL-CM6A-LR_sftlf_reprojete.nc\n",
      "Traitement du modèle MIROC-ES2L : /home/jovyan/private-storage/masques/masques/sftlf/sftlf_MIROC-ES2L.nc\n",
      "Fichier sauvegardé : /home/jovyan/private-storage/interp_sftlf_bis/MIROC-ES2L_sftlf_reprojete.nc\n",
      "Traitement du modèle MIROC6 : /home/jovyan/private-storage/masques/masques/sftlf/sftlf_MIROC6.nc\n",
      "Fichier sauvegardé : /home/jovyan/private-storage/interp_sftlf_bis/MIROC6_sftlf_reprojete.nc\n",
      "Traitement du modèle MPI-ESM1-2-HR : /home/jovyan/private-storage/masques/masques/sftlf/sftlf_MPI-ESM1-2-HR.nc\n",
      "Fichier sauvegardé : /home/jovyan/private-storage/interp_sftlf_bis/MPI-ESM1-2-HR_sftlf_reprojete.nc\n",
      "Traitement du modèle MPI-ESM1-2-LR : /home/jovyan/private-storage/masques/masques/sftlf/sftlf_MPI-ESM1-2-LR.nc\n",
      "Fichier sauvegardé : /home/jovyan/private-storage/interp_sftlf_bis/MPI-ESM1-2-LR_sftlf_reprojete.nc\n",
      "Traitement du modèle MRI-ESM2-0 : /home/jovyan/private-storage/masques/masques/sftlf/sftlf_MRI-ESM2-0.nc\n",
      "Fichier sauvegardé : /home/jovyan/private-storage/interp_sftlf_bis/MRI-ESM2-0_sftlf_reprojete.nc\n",
      "Traitement du modèle NorESM2-LM : /home/jovyan/private-storage/masques/masques/sftlf/sftlf_NorESM2-LM.nc\n",
      "Fichier sauvegardé : /home/jovyan/private-storage/interp_sftlf_bis/NorESM2-LM_sftlf_reprojete.nc\n",
      "Traitement du modèle NorESM2-MM : /home/jovyan/private-storage/masques/masques/sftlf/sftlf_NorESM2-MM.nc\n",
      "Fichier sauvegardé : /home/jovyan/private-storage/interp_sftlf_bis/NorESM2-MM_sftlf_reprojete.nc\n",
      "Traitement du modèle UKESM1-0-LL : /home/jovyan/private-storage/masques/masques/sftlf/sftlf_UKESM1-0-LL.nc\n",
      "Fichier sauvegardé : /home/jovyan/private-storage/interp_sftlf_bis/UKESM1-0-LL_sftlf_reprojete.nc\n"
     ]
    }
   ],
   "source": [
    "path1 = \"/home/jovyan/private-storage/masques/masques/sftlf/\"\n",
    "path2 = \"/home/jovyan/private-storage/masques/masques/pseudo_sftlf/\"\n",
    "output_dir = \"/home/jovyan/private-storage/interp_sftlf_bis\"\n",
    "os.makedirs(output_dir, exist_ok=True)\n",
    "\n",
    "models = [\n",
    "    \"BCC-CSM2-MR\", \"CanESM5\", \"CanESM5-CanOE\", \"CESM2\", \"CESM2-WACCM\", \"CIESM\",\n",
    "    \"CNRM-CM6-1\", \"CNRM-CM6-1-HR\", \"CNRM-ESM2-1\", \"EC-Earth3\", \"EC-Earth3-Veg\",\n",
    "    \"FGOALS-f3-L\", \"FGOALS-g3\", \"GFDL-CM4\", \"GISS-E2-1-G\", \"HadGEM3-GC31-LL\",\n",
    "    \"IPSL-CM6A-LR\", \"MIROC-ES2L\", \"MIROC6\", \"MPI-ESM1-2-HR\", \"MPI-ESM1-2-LR\",\n",
    "    \"MRI-ESM2-0\", \"NorESM2-LM\", \"NorESM2-MM\", \"UKESM1-0-LL\"\n",
    "]\n",
    "\n",
    "# Reference grid\n",
    "ref_grid = ref_grid\n",
    "\n",
    "for model in models:\n",
    "    # Search in sftlf\n",
    "    file_pattern1 = os.path.join(path1, f\"sftlf_{model}.nc\")\n",
    "    files1 = glob.glob(file_pattern1)\n",
    "    \n",
    "    # if not, search in pseudo_sftlf\n",
    "    if not files1:\n",
    "        file_pattern2 = os.path.join(path2, f\"sftlf_{model}.nc\")\n",
    "        files2 = glob.glob(file_pattern2)\n",
    "        if not files2:\n",
    "            print(f\"Aucun fichier trouvé pour le modèle {model}\")\n",
    "            continue\n",
    "        else:\n",
    "            file_path = files2[0]\n",
    "    else:\n",
    "        file_path = files1[0]\n",
    "\n",
    "    print(f\"Traitement du modèle {model} : {file_path}\")\n",
    "\n",
    "    # file projection\n",
    "    with xr.open_dataset(file_path) as ds:\n",
    "        regridder = xe.Regridder(ds, ref_grid, method=\"nearest_s2d\", ignore_degenerate=True)\n",
    "        ds_regridded = regridder(ds)\n",
    "\n",
    "        output_path = os.path.join(output_dir, f\"{model}_sftlf_reprojete.nc\")\n",
    "        ds_regridded.to_netcdf(output_path)\n",
    "        print(f\"Fichier sauvegardé : {output_path}\")\n",
    "\n",
    "        del ds_regridded, regridder"
   ]
  },
  {
   "cell_type": "markdown",
   "id": "dca9737e-abf4-4a10-bc1f-a2537aa22372",
   "metadata": {},
   "source": [
    "## Sftgif"
   ]
  },
  {
   "cell_type": "code",
   "execution_count": 7,
   "id": "c81740fb-eebb-44d9-8e2c-f4c9325c82de",
   "metadata": {},
   "outputs": [
    {
     "name": "stdout",
     "output_type": "stream",
     "text": [
      "Traitement du modèle BCC-CSM2-MR : /home/jovyan/private-storage/masques/masques/pseudo_sftgif/sftgif_BCC-CSM2-MR.nc\n",
      "Fichier sauvegardé : /home/jovyan/private-storage/interp_sftgif_bis/BCC-CSM2-MR_sftgif_reprojete.nc\n",
      "Traitement du modèle CanESM5 : /home/jovyan/private-storage/masques/masques/sftgif/sftgif_CanESM5.nc\n",
      "Fichier sauvegardé : /home/jovyan/private-storage/interp_sftgif_bis/CanESM5_sftgif_reprojete.nc\n",
      "Traitement du modèle CanESM5-CanOE : /home/jovyan/private-storage/masques/masques/sftgif/sftgif_CanESM5-CanOE.nc\n",
      "Fichier sauvegardé : /home/jovyan/private-storage/interp_sftgif_bis/CanESM5-CanOE_sftgif_reprojete.nc\n",
      "Traitement du modèle CESM2 : /home/jovyan/private-storage/masques/masques/sftgif/sftgif_CESM2.nc\n"
     ]
    },
    {
     "name": "stderr",
     "output_type": "stream",
     "text": [
      "/srv/conda/envs/notebook/lib/python3.12/site-packages/xarray/conventions.py:193: SerializationWarning: variable 'sftgif' has multiple fill values {np.float32(1e+20), np.float64(1e+20)} defined, decoding all values to NaN.\n",
      "  var = coder.decode(var, name=name)\n"
     ]
    },
    {
     "name": "stdout",
     "output_type": "stream",
     "text": [
      "Fichier sauvegardé : /home/jovyan/private-storage/interp_sftgif_bis/CESM2_sftgif_reprojete.nc\n",
      "Traitement du modèle CESM2-WACCM : /home/jovyan/private-storage/masques/masques/sftgif/sftgif_CESM2-WACCM.nc\n"
     ]
    },
    {
     "name": "stderr",
     "output_type": "stream",
     "text": [
      "/srv/conda/envs/notebook/lib/python3.12/site-packages/xarray/conventions.py:193: SerializationWarning: variable 'sftgif' has multiple fill values {np.float32(1e+20), np.float64(1e+20)} defined, decoding all values to NaN.\n",
      "  var = coder.decode(var, name=name)\n"
     ]
    },
    {
     "name": "stdout",
     "output_type": "stream",
     "text": [
      "Fichier sauvegardé : /home/jovyan/private-storage/interp_sftgif_bis/CESM2-WACCM_sftgif_reprojete.nc\n",
      "Traitement du modèle CIESM : /home/jovyan/private-storage/masques/masques/sftgif/sftgif_CIESM.nc\n",
      "Fichier sauvegardé : /home/jovyan/private-storage/interp_sftgif_bis/CIESM_sftgif_reprojete.nc\n",
      "Traitement du modèle CNRM-CM6-1 : /home/jovyan/private-storage/masques/masques/sftgif/sftgif_CNRM-CM6-1.nc\n",
      "Fichier sauvegardé : /home/jovyan/private-storage/interp_sftgif_bis/CNRM-CM6-1_sftgif_reprojete.nc\n",
      "Traitement du modèle CNRM-CM6-1-HR : /home/jovyan/private-storage/masques/masques/sftgif/sftgif_CNRM-CM6-1-HR.nc\n",
      "Fichier sauvegardé : /home/jovyan/private-storage/interp_sftgif_bis/CNRM-CM6-1-HR_sftgif_reprojete.nc\n",
      "Traitement du modèle CNRM-ESM2-1 : /home/jovyan/private-storage/masques/masques/sftgif/sftgif_CNRM-ESM2-1.nc\n",
      "Fichier sauvegardé : /home/jovyan/private-storage/interp_sftgif_bis/CNRM-ESM2-1_sftgif_reprojete.nc\n",
      "Traitement du modèle EC-Earth3 : /home/jovyan/private-storage/masques/masques/sftgif/sftgif_EC-Earth3.nc\n",
      "Fichier sauvegardé : /home/jovyan/private-storage/interp_sftgif_bis/EC-Earth3_sftgif_reprojete.nc\n",
      "Traitement du modèle EC-Earth3-Veg : /home/jovyan/private-storage/masques/masques/sftgif/sftgif_EC-Earth3-Veg.nc\n",
      "Fichier sauvegardé : /home/jovyan/private-storage/interp_sftgif_bis/EC-Earth3-Veg_sftgif_reprojete.nc\n",
      "Traitement du modèle FGOALS-f3-L : /home/jovyan/private-storage/masques/masques/sftgif/sftgif_FGOALS-f3-L.nc\n",
      "Fichier sauvegardé : /home/jovyan/private-storage/interp_sftgif_bis/FGOALS-f3-L_sftgif_reprojete.nc\n",
      "Traitement du modèle FGOALS-g3 : /home/jovyan/private-storage/masques/masques/sftgif/sftgif_FGOALS-g3.nc\n",
      "Fichier sauvegardé : /home/jovyan/private-storage/interp_sftgif_bis/FGOALS-g3_sftgif_reprojete.nc\n",
      "Traitement du modèle GFDL-CM4 : /home/jovyan/private-storage/masques/masques/sftgif/sftgif_GFDL-CM4.nc\n",
      "Fichier sauvegardé : /home/jovyan/private-storage/interp_sftgif_bis/GFDL-CM4_sftgif_reprojete.nc\n",
      "Traitement du modèle GISS-E2-1-G : /home/jovyan/private-storage/masques/masques/sftgif/sftgif_GISS-E2-1-G.nc\n",
      "Fichier sauvegardé : /home/jovyan/private-storage/interp_sftgif_bis/GISS-E2-1-G_sftgif_reprojete.nc\n",
      "Traitement du modèle HadGEM3-GC31-LL : /home/jovyan/private-storage/masques/masques/pseudo_sftgif/sftgif_HadGEM3-GC31-LL.nc\n",
      "Fichier sauvegardé : /home/jovyan/private-storage/interp_sftgif_bis/HadGEM3-GC31-LL_sftgif_reprojete.nc\n",
      "Traitement du modèle IPSL-CM6A-LR : /home/jovyan/private-storage/masques/masques/pseudo_sftgif/sftgif_IPSL-CM6A-LR.nc\n",
      "Fichier sauvegardé : /home/jovyan/private-storage/interp_sftgif_bis/IPSL-CM6A-LR_sftgif_reprojete.nc\n",
      "Traitement du modèle MIROC-ES2L : /home/jovyan/private-storage/masques/masques/sftgif/sftgif_MIROC-ES2L.nc\n",
      "Fichier sauvegardé : /home/jovyan/private-storage/interp_sftgif_bis/MIROC-ES2L_sftgif_reprojete.nc\n",
      "Traitement du modèle MIROC6 : /home/jovyan/private-storage/masques/masques/pseudo_sftgif/sftgif_MIROC6.nc\n",
      "Fichier sauvegardé : /home/jovyan/private-storage/interp_sftgif_bis/MIROC6_sftgif_reprojete.nc\n",
      "Traitement du modèle MPI-ESM1-2-HR : /home/jovyan/private-storage/masques/masques/sftgif/sftgif_MPI-ESM1-2-HR.nc\n",
      "Fichier sauvegardé : /home/jovyan/private-storage/interp_sftgif_bis/MPI-ESM1-2-HR_sftgif_reprojete.nc\n",
      "Traitement du modèle MPI-ESM1-2-LR : /home/jovyan/private-storage/masques/masques/sftgif/sftgif_MPI-ESM1-2-LR.nc\n",
      "Fichier sauvegardé : /home/jovyan/private-storage/interp_sftgif_bis/MPI-ESM1-2-LR_sftgif_reprojete.nc\n",
      "Traitement du modèle MRI-ESM2-0 : /home/jovyan/private-storage/masques/masques/sftgif/sftgif_MRI-ESM2-0.nc\n",
      "Fichier sauvegardé : /home/jovyan/private-storage/interp_sftgif_bis/MRI-ESM2-0_sftgif_reprojete.nc\n",
      "Traitement du modèle NorESM2-LM : /home/jovyan/private-storage/masques/masques/sftgif/sftgif_NorESM2-LM.nc\n",
      "Fichier sauvegardé : /home/jovyan/private-storage/interp_sftgif_bis/NorESM2-LM_sftgif_reprojete.nc\n",
      "Traitement du modèle NorESM2-MM : /home/jovyan/private-storage/masques/masques/sftgif/sftgif_NorESM2-MM.nc\n",
      "Fichier sauvegardé : /home/jovyan/private-storage/interp_sftgif_bis/NorESM2-MM_sftgif_reprojete.nc\n",
      "Traitement du modèle UKESM1-0-LL : /home/jovyan/private-storage/masques/masques/pseudo_sftgif/sftgif_UKESM1-0-LL.nc\n",
      "Fichier sauvegardé : /home/jovyan/private-storage/interp_sftgif_bis/UKESM1-0-LL_sftgif_reprojete.nc\n"
     ]
    }
   ],
   "source": [
    "path1 = \"/home/jovyan/private-storage/masques/masques/sftgif/\"\n",
    "path2 = \"/home/jovyan/private-storage/masques/masques/pseudo_sftgif/\"\n",
    "output_dir = \"/home/jovyan/private-storage/interp_sftgif_bis\"\n",
    "os.makedirs(output_dir, exist_ok=True)\n",
    "\n",
    "models = [\n",
    "    \"BCC-CSM2-MR\", \"CanESM5\", \"CanESM5-CanOE\", \"CESM2\", \"CESM2-WACCM\", \"CIESM\",\n",
    "    \"CNRM-CM6-1\", \"CNRM-CM6-1-HR\", \"CNRM-ESM2-1\", \"EC-Earth3\", \"EC-Earth3-Veg\",\n",
    "    \"FGOALS-f3-L\", \"FGOALS-g3\", \"GFDL-CM4\", \"GISS-E2-1-G\", \"HadGEM3-GC31-LL\",\n",
    "    \"IPSL-CM6A-LR\", \"MIROC-ES2L\", \"MIROC6\", \"MPI-ESM1-2-HR\", \"MPI-ESM1-2-LR\",\n",
    "    \"MRI-ESM2-0\", \"NorESM2-LM\", \"NorESM2-MM\", \"UKESM1-0-LL\"\n",
    "]\n",
    "\n",
    "# Reference grid\n",
    "ref_grid = ref_grid\n",
    "\n",
    "for model in models:\n",
    "    # Search in sftgif\n",
    "    file_pattern1 = os.path.join(path1, f\"sftgif_{model}.nc\")\n",
    "    files1 = glob.glob(file_pattern1)\n",
    "    \n",
    "    # if not, search in pseudo_sftgif\n",
    "    if not files1:\n",
    "        file_pattern2 = os.path.join(path2, f\"sftgif_{model}.nc\")\n",
    "        files2 = glob.glob(file_pattern2)\n",
    "        if not files2:\n",
    "            print(f\"Aucun fichier trouvé pour le modèle {model}\")\n",
    "            continue\n",
    "        else:\n",
    "            file_path = files2[0]\n",
    "    else:\n",
    "        file_path = files1[0]\n",
    "\n",
    "    print(f\"Traitement du modèle {model} : {file_path}\")\n",
    "\n",
    "    # file projection\n",
    "    with xr.open_dataset(file_path) as ds:\n",
    "        regridder = xe.Regridder(ds, ref_grid, method=\"nearest_s2d\", ignore_degenerate=True)\n",
    "        ds_regridded = regridder(ds)\n",
    "\n",
    "        output_path = os.path.join(output_dir, f\"{model}_sftgif_reprojete.nc\")\n",
    "        ds_regridded.to_netcdf(output_path)\n",
    "        print(f\"Fichier sauvegardé : {output_path}\")\n",
    "\n",
    "        del ds_regridded, regridder"
   ]
  },
  {
   "cell_type": "code",
   "execution_count": null,
   "id": "d20ffcde-1df5-4774-8bc0-8abf7930e877",
   "metadata": {},
   "outputs": [],
   "source": []
  }
 ],
 "metadata": {
  "kernelspec": {
   "display_name": "Python 3 (ipykernel)",
   "language": "python",
   "name": "python3"
  },
  "language_info": {
   "codemirror_mode": {
    "name": "ipython",
    "version": 3
   },
   "file_extension": ".py",
   "mimetype": "text/x-python",
   "name": "python",
   "nbconvert_exporter": "python",
   "pygments_lexer": "ipython3",
   "version": "3.12.8"
  }
 },
 "nbformat": 4,
 "nbformat_minor": 5
}
