{
 "cells": [
  {
   "cell_type": "markdown",
   "id": "25dcf573-7815-4527-8130-95afbb769c90",
   "metadata": {},
   "source": [
    "# Conversion de grille du fichier de référence aux fichiers historiques"
   ]
  },
  {
   "cell_type": "markdown",
   "id": "48a981e5-8978-4f9b-a36f-cc6e0ec0f7b9",
   "metadata": {},
   "source": [
    "## Libraries"
   ]
  },
  {
   "cell_type": "code",
   "execution_count": 2,
   "id": "f5be13c7-c75a-4bb6-9fde-f7e185b49627",
   "metadata": {},
   "outputs": [
    {
     "name": "stderr",
     "output_type": "stream",
     "text": [
      "/srv/conda/envs/notebook/lib/python3.12/site-packages/esmpy/interface/loadESMF.py:94: VersionWarning: ESMF installation version 8.8.0, ESMPy version 8.8.0b0\n",
      "  warnings.warn(\"ESMF installation version {}, ESMPy version {}\".format(\n"
     ]
    }
   ],
   "source": [
    "import xarray as xr\n",
    "import pandas as pd\n",
    "import numpy as np\n",
    "import os\n",
    "import xesmf as xe\n",
    "import matplotlib.pyplot as plt0\n",
    "import glob"
   ]
  },
  {
   "cell_type": "markdown",
   "id": "077360e7-6ccd-4471-abc4-757f3b3ebd25",
   "metadata": {},
   "source": [
    "## Reference grid"
   ]
  },
  {
   "cell_type": "code",
   "execution_count": 3,
   "id": "6a975fa1-324f-4c05-8193-0ec6cbeac517",
   "metadata": {},
   "outputs": [],
   "source": [
    "path = \"grid/\"\n",
    "file = \"nhsce_mon.v01r01_19661004_20250303_1.0x1.0.nc\"\n",
    "ref_grid = xr.open_dataset(os.path.join(path, file))"
   ]
  },
  {
   "cell_type": "code",
   "execution_count": 4,
   "id": "c58b5729-59a1-4504-b03b-5ce478069ad2",
   "metadata": {},
   "outputs": [],
   "source": [
    "ref_grid = ref_grid.sel(time=slice(\"1995\", \"2014\"))"
   ]
  },
  {
   "cell_type": "markdown",
   "id": "1c0e9ff3-adb8-4a79-8f9c-6ac0e7c436f9",
   "metadata": {},
   "source": [
    "## Reprojection"
   ]
  },
  {
   "cell_type": "code",
   "execution_count": 5,
   "id": "4d753582-9c90-4232-a780-84b1be3b3dd7",
   "metadata": {
    "scrolled": true
   },
   "outputs": [
    {
     "name": "stdout",
     "output_type": "stream",
     "text": [
      "Traitement du modèle BCC-CSM2-MR : historical-LImon-snc/snc_LImon_BCC-CSM2-MR_historical_r1i1p1f1_gn_185001-201412.nc\n",
      "Fichier sauvegardé : interp_models_hist/BCC-CSM2-MR_hist_reprojete.nc\n",
      "Traitement du modèle CanESM5 : historical-LImon-snc/snc_LImon_CanESM5_historical_r1i1p1f1_gn_185001-201412.nc\n",
      "Fichier sauvegardé : interp_models_hist/CanESM5_hist_reprojete.nc\n",
      "Traitement du modèle CanESM5-CanOE : historical-LImon-snc/snc_LImon_CanESM5-CanOE_historical_r1i1p2f1_gn_185001-201412.nc\n",
      "Fichier sauvegardé : interp_models_hist/CanESM5-CanOE_hist_reprojete.nc\n",
      "Traitement du modèle CESM2 : historical-LImon-snc/snc_LImon_CESM2_historical_r1i1p1f1_gn_185001-201412.nc\n"
     ]
    },
    {
     "name": "stderr",
     "output_type": "stream",
     "text": [
      "/srv/conda/envs/notebook/lib/python3.12/site-packages/xarray/conventions.py:193: SerializationWarning: variable 'snc' has multiple fill values {np.float32(1e+20), np.float64(1e+20)} defined, decoding all values to NaN.\n",
      "  var = coder.decode(var, name=name)\n"
     ]
    },
    {
     "name": "stdout",
     "output_type": "stream",
     "text": [
      "Fichier sauvegardé : interp_models_hist/CESM2_hist_reprojete.nc\n",
      "Traitement du modèle CESM2-WACCM : historical-LImon-snc/snc_LImon_CESM2-WACCM_historical_r1i1p1f1_gn_185001-201412.nc\n"
     ]
    },
    {
     "name": "stderr",
     "output_type": "stream",
     "text": [
      "/srv/conda/envs/notebook/lib/python3.12/site-packages/xarray/conventions.py:193: SerializationWarning: variable 'snc' has multiple fill values {np.float32(1e+20), np.float64(1e+20)} defined, decoding all values to NaN.\n",
      "  var = coder.decode(var, name=name)\n"
     ]
    },
    {
     "name": "stdout",
     "output_type": "stream",
     "text": [
      "Fichier sauvegardé : interp_models_hist/CESM2-WACCM_hist_reprojete.nc\n",
      "Traitement du modèle CIESM : historical-LImon-snc/snc_LImon_CIESM_historical_r1i1p1f1_gr_185001-201412.nc\n",
      "Fichier sauvegardé : interp_models_hist/CIESM_hist_reprojete.nc\n",
      "Traitement du modèle CNRM-CM6-1 : historical-LImon-snc/snc_LImon_CNRM-CM6-1_historical_r1i1p1f2_gr_185001-201412.nc\n",
      "Fichier sauvegardé : interp_models_hist/CNRM-CM6-1_hist_reprojete.nc\n",
      "Traitement du modèle CNRM-CM6-1-HR : historical-LImon-snc/snc_LImon_CNRM-CM6-1-HR_historical_r1i1p1f2_gr_185001-201412.nc\n",
      "Fichier sauvegardé : interp_models_hist/CNRM-CM6-1-HR_hist_reprojete.nc\n",
      "Traitement du modèle CNRM-ESM2-1 : historical-LImon-snc/snc_LImon_CNRM-ESM2-1_historical_r1i1p1f2_gr_185001-201412.nc\n",
      "Fichier sauvegardé : interp_models_hist/CNRM-ESM2-1_hist_reprojete.nc\n",
      "Traitement du modèle EC-Earth3 : historical-LImon-snc/snc_LImon_EC-Earth3_historical_r1i1p1f1_gr_185001-201412.nc\n",
      "Fichier sauvegardé : interp_models_hist/EC-Earth3_hist_reprojete.nc\n",
      "Traitement du modèle EC-Earth3-Veg : historical-LImon-snc/snc_LImon_EC-Earth3-Veg_historical_r1i1p1f1_gr_185001-201412.nc\n",
      "Fichier sauvegardé : interp_models_hist/EC-Earth3-Veg_hist_reprojete.nc\n",
      "Traitement du modèle FGOALS-f3-L : historical-LImon-snc/snc_LImon_FGOALS-f3-L_historical_r1i1p1f1_gn_185001-201412.nc\n",
      "Fichier sauvegardé : interp_models_hist/FGOALS-f3-L_hist_reprojete.nc\n",
      "Traitement du modèle FGOALS-g3 : historical-LImon-snc/snc_LImon_FGOALS-g3_historical_r5i1p1f1_gn_185001-201612.nc\n",
      "Fichier sauvegardé : interp_models_hist/FGOALS-g3_hist_reprojete.nc\n",
      "Traitement du modèle GFDL-CM4 : historical-LImon-snc/snc_LImon_GFDL-CM4_historical_r1i1p1f1_gr1_185001-201412.nc\n",
      "Fichier sauvegardé : interp_models_hist/GFDL-CM4_hist_reprojete.nc\n",
      "Traitement du modèle GISS-E2-1-G : historical-LImon-snc/snc_LImon_GISS-E2-1-G_historical_r1i1p1f1_gn_185001-201412.nc\n",
      "Fichier sauvegardé : interp_models_hist/GISS-E2-1-G_hist_reprojete.nc\n",
      "Traitement du modèle HadGEM3-GC31-LL : historical-LImon-snc/snc_LImon_HadGEM3-GC31-LL_historical_r1i1p1f3_gn_185001-201412.nc\n",
      "Fichier sauvegardé : interp_models_hist/HadGEM3-GC31-LL_hist_reprojete.nc\n",
      "Traitement du modèle IPSL-CM6A-LR : historical-LImon-snc/snc_LImon_IPSL-CM6A-LR_historical_r1i1p1f1_gr_185001-201412.nc\n",
      "Fichier sauvegardé : interp_models_hist/IPSL-CM6A-LR_hist_reprojete.nc\n",
      "Traitement du modèle MIROC-ES2L : historical-LImon-snc/snc_LImon_MIROC-ES2L_historical_r1i1p1f2_gn_185001-201412.nc\n",
      "Fichier sauvegardé : interp_models_hist/MIROC-ES2L_hist_reprojete.nc\n",
      "Traitement du modèle MIROC6 : historical-LImon-snc/snc_LImon_MIROC6_historical_r1i1p1f1_gn_185001-201412.nc\n",
      "Fichier sauvegardé : interp_models_hist/MIROC6_hist_reprojete.nc\n",
      "Traitement du modèle MPI-ESM1-2-HR : historical-LImon-snc/snc_LImon_MPI-ESM1-2-HR_historical_r1i1p1f1_gn_185001-201412.nc\n",
      "Fichier sauvegardé : interp_models_hist/MPI-ESM1-2-HR_hist_reprojete.nc\n",
      "Traitement du modèle MPI-ESM1-2-LR : historical-LImon-snc/snc_LImon_MPI-ESM1-2-LR_historical_r10i1p1f1_gn_185001-201412.nc\n",
      "Fichier sauvegardé : interp_models_hist/MPI-ESM1-2-LR_hist_reprojete.nc\n",
      "Traitement du modèle MRI-ESM2-0 : historical-LImon-snc/snc_LImon_MRI-ESM2-0_historical_r1i1p1f1_gn_185001-201412.nc\n",
      "Fichier sauvegardé : interp_models_hist/MRI-ESM2-0_hist_reprojete.nc\n",
      "Traitement du modèle NorESM2-LM : historical-LImon-snc/snc_LImon_NorESM2-LM_historical_r2i1p1f1_gn_195001-201412.nc\n",
      "Fichier sauvegardé : interp_models_hist/NorESM2-LM_hist_reprojete.nc\n",
      "Traitement du modèle NorESM2-MM : historical-LImon-snc/snc_LImon_NorESM2-MM_historical_r1i1p1f1_gn_185001-201412.nc\n",
      "Fichier sauvegardé : interp_models_hist/NorESM2-MM_hist_reprojete.nc\n",
      "Traitement du modèle UKESM1-0-LL : historical-LImon-snc/snc_LImon_UKESM1-0-LL_historical_r1i1p1f2_gn_185001-201412.nc\n",
      "Fichier sauvegardé : interp_models_hist/UKESM1-0-LL_hist_reprojete.nc\n"
     ]
    }
   ],
   "source": [
    "path = \"historical-LImon-snc/\"\n",
    "output_dir = \"interp_models_hist\"\n",
    "os.makedirs(output_dir, exist_ok=True)\n",
    "\n",
    "models = [\n",
    "    \"BCC-CSM2-MR\", \"CanESM5\", \"CanESM5-CanOE\", \"CESM2\", \"CESM2-WACCM\", \"CIESM\",\n",
    "    \"CNRM-CM6-1\", \"CNRM-CM6-1-HR\", \"CNRM-ESM2-1\", \"EC-Earth3\", \"EC-Earth3-Veg\",\n",
    "    \"FGOALS-f3-L\", \"FGOALS-g3\", \"GFDL-CM4\", \"GISS-E2-1-G\", \"HadGEM3-GC31-LL\",\n",
    "    \"IPSL-CM6A-LR\", \"MIROC-ES2L\", \"MIROC6\", \"MPI-ESM1-2-HR\", \"MPI-ESM1-2-LR\",\n",
    "    \"MRI-ESM2-0\", \"NorESM2-LM\", \"NorESM2-MM\", \"UKESM1-0-LL\"\n",
    "]\n",
    "\n",
    "ref_grid = ref_grid\n",
    "\n",
    "# search the good file\n",
    "for model in models:\n",
    "    file_pattern = os.path.join(path, f\"snc_LImon_{model}_historical_*.nc\")\n",
    "    files = glob.glob(file_pattern)\n",
    "    \n",
    "    if not files:\n",
    "        print(f\"Aucun fichier trouvé pour le modèle {model}\")\n",
    "        continue\n",
    "    \n",
    "    file_path = files[0]\n",
    "    print(f\"Traitement du modèle {model} : {file_path}\")\n",
    "\n",
    "# do this for each model, 1 by 1 to avoid reaching the memory limit    \n",
    "    with xr.open_dataset(file_path) as ds:\n",
    "        regridder = xe.Regridder(ds, ref_grid, \"bilinear\", periodic=True)\n",
    "        ds_regridded = regridder(ds)\n",
    "\n",
    "        output_path = os.path.join(output_dir, f\"{model}_hist_reprojete.nc\")\n",
    "        ds_regridded.to_netcdf(output_path)\n",
    "        print(f\"Fichier sauvegardé : {output_path}\")\n",
    "\n",
    "        del ds_regridded, regridder"
   ]
  }
 ],
 "metadata": {
  "kernelspec": {
   "display_name": "Python 3 (ipykernel)",
   "language": "python",
   "name": "python3"
  },
  "language_info": {
   "codemirror_mode": {
    "name": "ipython",
    "version": 3
   },
   "file_extension": ".py",
   "mimetype": "text/x-python",
   "name": "python",
   "nbconvert_exporter": "python",
   "pygments_lexer": "ipython3",
   "version": "3.12.8"
  }
 },
 "nbformat": 4,
 "nbformat_minor": 5
}
