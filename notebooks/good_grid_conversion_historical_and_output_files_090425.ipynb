{
 "cells": [
  {
   "cell_type": "markdown",
   "id": "7e788785-52b1-46ea-b765-5e52c26b1b7f",
   "metadata": {},
   "source": [
    "# Conversion de grille du fichier de référence aux fichiers historiques et fichiers de sortie"
   ]
  },
  {
   "cell_type": "code",
   "execution_count": 2,
   "id": "eb093c17-44cf-4580-b404-71483b976d1a",
   "metadata": {},
   "outputs": [
    {
     "name": "stdout",
     "output_type": "stream",
     "text": [
      "Last updated: 2025-05-24T09:21:29.554749+00:00\n",
      "\n",
      "Python implementation: CPython\n",
      "Python version       : 3.12.8\n",
      "IPython version      : 8.17.2\n",
      "\n",
      "Compiler    : GCC 13.3.0\n",
      "OS          : Linux\n",
      "Release     : 6.8.0-58-generic\n",
      "Machine     : x86_64\n",
      "Processor   : x86_64\n",
      "CPU cores   : 8\n",
      "Architecture: 64bit\n",
      "\n"
     ]
    }
   ],
   "source": [
    "from watermark import watermark\n",
    "%load_ext watermark\n",
    "print(watermark())"
   ]
  },
  {
   "cell_type": "code",
   "execution_count": 3,
   "id": "388f9609-ed7b-4e0a-9b10-c6fab6fa99df",
   "metadata": {},
   "outputs": [
    {
     "name": "stderr",
     "output_type": "stream",
     "text": [
      "/srv/conda/envs/notebook/lib/python3.12/site-packages/esmpy/interface/loadESMF.py:94: VersionWarning: ESMF installation version 8.8.0, ESMPy version 8.8.0b0\n",
      "  warnings.warn(\"ESMF installation version {}, ESMPy version {}\".format(\n"
     ]
    }
   ],
   "source": [
    "import xarray as xr\n",
    "import pandas as pd\n",
    "import numpy as np\n",
    "import os\n",
    "import xesmf as xe\n",
    "import glob"
   ]
  },
  {
   "cell_type": "code",
   "execution_count": 4,
   "id": "17f1cfc3-e0e4-4400-b122-5b8f7f0f1173",
   "metadata": {},
   "outputs": [
    {
     "name": "stdout",
     "output_type": "stream",
     "text": [
      "xesmf    : 0.8.8\n",
      "xarray   : 2025.1.1\n",
      "pandas   : 2.2.3\n",
      "numpy    : 2.0.2\n",
      "watermark: 2.5.0\n",
      "\n"
     ]
    }
   ],
   "source": [
    "%watermark --iversions"
   ]
  },
  {
   "cell_type": "markdown",
   "id": "ecd7a4f5-933f-4cd6-99aa-cd40445ac4cd",
   "metadata": {},
   "source": [
    "## Reference Grid"
   ]
  },
  {
   "cell_type": "code",
   "execution_count": 5,
   "id": "3bf6886a-33f9-4c6b-a937-ac41e0a1823d",
   "metadata": {},
   "outputs": [],
   "source": [
    "path = \"/home/jovyan/private-storage/grid/\"\n",
    "file = \"nhsce_mon.v01r01_19661004_20250303_1.0x1.0.nc\"\n",
    "ref_grid = xr.open_dataset(os.path.join(path, file))"
   ]
  },
  {
   "cell_type": "code",
   "execution_count": 6,
   "id": "a9e8b286-3d07-49a5-bd86-61dc0f264ab1",
   "metadata": {},
   "outputs": [],
   "source": [
    "ref_grid = ref_grid.sel(time=slice(\"1995\", \"2014\"))"
   ]
  },
  {
   "cell_type": "markdown",
   "id": "0b4c0d71-547c-4021-87e3-665fd0430be1",
   "metadata": {},
   "source": [
    "## Regridding"
   ]
  },
  {
   "cell_type": "markdown",
   "id": "a3e923e1-8f85-46d2-a2d7-d788701ac6ea",
   "metadata": {},
   "source": [
    "### Fichiers historiques"
   ]
  },
  {
   "cell_type": "code",
   "execution_count": 5,
   "id": "e95c6f06-9888-4cca-8210-6be97b52cd7c",
   "metadata": {},
   "outputs": [
    {
     "name": "stdout",
     "output_type": "stream",
     "text": [
      "Traitement du modèle BCC-CSM2-MR : /home/jovyan/private-storage/historical-LImon-snc/snc_LImon_BCC-CSM2-MR_historical_r1i1p1f1_gn_185001-201412.nc\n",
      "Fichier sauvegardé : /home/jovyan/private-storage/interp_models_hist_bis/BCC-CSM2-MR_hist_reprojete.nc\n",
      "Traitement du modèle CanESM5 : /home/jovyan/private-storage/historical-LImon-snc/snc_LImon_CanESM5_historical_r1i1p1f1_gn_185001-201412.nc\n",
      "Fichier sauvegardé : /home/jovyan/private-storage/interp_models_hist_bis/CanESM5_hist_reprojete.nc\n",
      "Traitement du modèle CanESM5-CanOE : /home/jovyan/private-storage/historical-LImon-snc/snc_LImon_CanESM5-CanOE_historical_r1i1p2f1_gn_185001-201412.nc\n",
      "Fichier sauvegardé : /home/jovyan/private-storage/interp_models_hist_bis/CanESM5-CanOE_hist_reprojete.nc\n",
      "Traitement du modèle CESM2 : /home/jovyan/private-storage/historical-LImon-snc/snc_LImon_CESM2_historical_r1i1p1f1_gn_185001-201412.nc\n"
     ]
    },
    {
     "name": "stderr",
     "output_type": "stream",
     "text": [
      "/srv/conda/envs/notebook/lib/python3.12/site-packages/xarray/conventions.py:193: SerializationWarning: variable 'snc' has multiple fill values {np.float32(1e+20), np.float64(1e+20)} defined, decoding all values to NaN.\n",
      "  var = coder.decode(var, name=name)\n"
     ]
    },
    {
     "name": "stdout",
     "output_type": "stream",
     "text": [
      "Fichier sauvegardé : /home/jovyan/private-storage/interp_models_hist_bis/CESM2_hist_reprojete.nc\n",
      "Traitement du modèle CESM2-WACCM : /home/jovyan/private-storage/historical-LImon-snc/snc_LImon_CESM2-WACCM_historical_r1i1p1f1_gn_185001-201412.nc\n"
     ]
    },
    {
     "name": "stderr",
     "output_type": "stream",
     "text": [
      "/srv/conda/envs/notebook/lib/python3.12/site-packages/xarray/conventions.py:193: SerializationWarning: variable 'snc' has multiple fill values {np.float32(1e+20), np.float64(1e+20)} defined, decoding all values to NaN.\n",
      "  var = coder.decode(var, name=name)\n"
     ]
    },
    {
     "name": "stdout",
     "output_type": "stream",
     "text": [
      "Fichier sauvegardé : /home/jovyan/private-storage/interp_models_hist_bis/CESM2-WACCM_hist_reprojete.nc\n",
      "Traitement du modèle CIESM : /home/jovyan/private-storage/historical-LImon-snc/snc_LImon_CIESM_historical_r1i1p1f1_gr_185001-201412.nc\n",
      "Fichier sauvegardé : /home/jovyan/private-storage/interp_models_hist_bis/CIESM_hist_reprojete.nc\n",
      "Traitement du modèle CNRM-CM6-1 : /home/jovyan/private-storage/historical-LImon-snc/snc_LImon_CNRM-CM6-1_historical_r1i1p1f2_gr_185001-201412.nc\n",
      "Fichier sauvegardé : /home/jovyan/private-storage/interp_models_hist_bis/CNRM-CM6-1_hist_reprojete.nc\n",
      "Traitement du modèle CNRM-CM6-1-HR : /home/jovyan/private-storage/historical-LImon-snc/snc_LImon_CNRM-CM6-1-HR_historical_r1i1p1f2_gr_185001-201412.nc\n",
      "Fichier sauvegardé : /home/jovyan/private-storage/interp_models_hist_bis/CNRM-CM6-1-HR_hist_reprojete.nc\n",
      "Traitement du modèle CNRM-ESM2-1 : /home/jovyan/private-storage/historical-LImon-snc/snc_LImon_CNRM-ESM2-1_historical_r1i1p1f2_gr_185001-201412.nc\n",
      "Fichier sauvegardé : /home/jovyan/private-storage/interp_models_hist_bis/CNRM-ESM2-1_hist_reprojete.nc\n",
      "Traitement du modèle EC-Earth3 : /home/jovyan/private-storage/historical-LImon-snc/snc_LImon_EC-Earth3_historical_r1i1p1f1_gr_185001-201412.nc\n",
      "Fichier sauvegardé : /home/jovyan/private-storage/interp_models_hist_bis/EC-Earth3_hist_reprojete.nc\n",
      "Traitement du modèle EC-Earth3-Veg : /home/jovyan/private-storage/historical-LImon-snc/snc_LImon_EC-Earth3-Veg_historical_r1i1p1f1_gr_185001-201412.nc\n",
      "Fichier sauvegardé : /home/jovyan/private-storage/interp_models_hist_bis/EC-Earth3-Veg_hist_reprojete.nc\n",
      "Traitement du modèle FGOALS-f3-L : /home/jovyan/private-storage/historical-LImon-snc/snc_LImon_FGOALS-f3-L_historical_r1i1p1f1_gn_185001-201412.nc\n",
      "Fichier sauvegardé : /home/jovyan/private-storage/interp_models_hist_bis/FGOALS-f3-L_hist_reprojete.nc\n",
      "Traitement du modèle FGOALS-g3 : /home/jovyan/private-storage/historical-LImon-snc/snc_LImon_FGOALS-g3_historical_r5i1p1f1_gn_185001-201612.nc\n",
      "Fichier sauvegardé : /home/jovyan/private-storage/interp_models_hist_bis/FGOALS-g3_hist_reprojete.nc\n",
      "Traitement du modèle GFDL-CM4 : /home/jovyan/private-storage/historical-LImon-snc/snc_LImon_GFDL-CM4_historical_r1i1p1f1_gr1_185001-201412.nc\n",
      "Fichier sauvegardé : /home/jovyan/private-storage/interp_models_hist_bis/GFDL-CM4_hist_reprojete.nc\n",
      "Traitement du modèle GISS-E2-1-G : /home/jovyan/private-storage/historical-LImon-snc/snc_LImon_GISS-E2-1-G_historical_r1i1p1f1_gn_185001-201412.nc\n",
      "Fichier sauvegardé : /home/jovyan/private-storage/interp_models_hist_bis/GISS-E2-1-G_hist_reprojete.nc\n",
      "Traitement du modèle HadGEM3-GC31-LL : /home/jovyan/private-storage/historical-LImon-snc/snc_LImon_HadGEM3-GC31-LL_historical_r1i1p1f3_gn_185001-201412.nc\n",
      "Fichier sauvegardé : /home/jovyan/private-storage/interp_models_hist_bis/HadGEM3-GC31-LL_hist_reprojete.nc\n",
      "Traitement du modèle IPSL-CM6A-LR : /home/jovyan/private-storage/historical-LImon-snc/snc_LImon_IPSL-CM6A-LR_historical_r1i1p1f1_gr_185001-201412.nc\n",
      "Fichier sauvegardé : /home/jovyan/private-storage/interp_models_hist_bis/IPSL-CM6A-LR_hist_reprojete.nc\n",
      "Traitement du modèle MIROC-ES2L : /home/jovyan/private-storage/historical-LImon-snc/snc_LImon_MIROC-ES2L_historical_r1i1p1f2_gn_185001-201412.nc\n",
      "Fichier sauvegardé : /home/jovyan/private-storage/interp_models_hist_bis/MIROC-ES2L_hist_reprojete.nc\n",
      "Traitement du modèle MIROC6 : /home/jovyan/private-storage/historical-LImon-snc/snc_LImon_MIROC6_historical_r1i1p1f1_gn_185001-201412.nc\n",
      "Fichier sauvegardé : /home/jovyan/private-storage/interp_models_hist_bis/MIROC6_hist_reprojete.nc\n",
      "Traitement du modèle MPI-ESM1-2-HR : /home/jovyan/private-storage/historical-LImon-snc/snc_LImon_MPI-ESM1-2-HR_historical_r1i1p1f1_gn_185001-201412.nc\n",
      "Fichier sauvegardé : /home/jovyan/private-storage/interp_models_hist_bis/MPI-ESM1-2-HR_hist_reprojete.nc\n",
      "Traitement du modèle MPI-ESM1-2-LR : /home/jovyan/private-storage/historical-LImon-snc/snc_LImon_MPI-ESM1-2-LR_historical_r10i1p1f1_gn_185001-201412.nc\n",
      "Fichier sauvegardé : /home/jovyan/private-storage/interp_models_hist_bis/MPI-ESM1-2-LR_hist_reprojete.nc\n",
      "Traitement du modèle MRI-ESM2-0 : /home/jovyan/private-storage/historical-LImon-snc/snc_LImon_MRI-ESM2-0_historical_r1i1p1f1_gn_185001-201412.nc\n",
      "Fichier sauvegardé : /home/jovyan/private-storage/interp_models_hist_bis/MRI-ESM2-0_hist_reprojete.nc\n",
      "Traitement du modèle NorESM2-LM : /home/jovyan/private-storage/historical-LImon-snc/snc_LImon_NorESM2-LM_historical_r2i1p1f1_gn_195001-201412.nc\n",
      "Fichier sauvegardé : /home/jovyan/private-storage/interp_models_hist_bis/NorESM2-LM_hist_reprojete.nc\n",
      "Traitement du modèle NorESM2-MM : /home/jovyan/private-storage/historical-LImon-snc/snc_LImon_NorESM2-MM_historical_r1i1p1f1_gn_185001-201412.nc\n",
      "Fichier sauvegardé : /home/jovyan/private-storage/interp_models_hist_bis/NorESM2-MM_hist_reprojete.nc\n",
      "Traitement du modèle UKESM1-0-LL : /home/jovyan/private-storage/historical-LImon-snc/snc_LImon_UKESM1-0-LL_historical_r1i1p1f2_gn_185001-201412.nc\n",
      "Fichier sauvegardé : /home/jovyan/private-storage/interp_models_hist_bis/UKESM1-0-LL_hist_reprojete.nc\n"
     ]
    }
   ],
   "source": [
    "path = \"/home/jovyan/private-storage/historical-LImon-snc/\"\n",
    "output_dir = \"/home/jovyan/private-storage/interp_models_hist_bis\"\n",
    "os.makedirs(output_dir, exist_ok=True)\n",
    "\n",
    "models = [\n",
    "    \"BCC-CSM2-MR\", \"CanESM5\", \"CanESM5-CanOE\", \"CESM2\", \"CESM2-WACCM\", \"CIESM\",\n",
    "    \"CNRM-CM6-1\", \"CNRM-CM6-1-HR\", \"CNRM-ESM2-1\", \"EC-Earth3\", \"EC-Earth3-Veg\",\n",
    "    \"FGOALS-f3-L\", \"FGOALS-g3\", \"GFDL-CM4\", \"GISS-E2-1-G\", \"HadGEM3-GC31-LL\",\n",
    "    \"IPSL-CM6A-LR\", \"MIROC-ES2L\", \"MIROC6\", \"MPI-ESM1-2-HR\", \"MPI-ESM1-2-LR\",\n",
    "    \"MRI-ESM2-0\", \"NorESM2-LM\", \"NorESM2-MM\", \"UKESM1-0-LL\"\n",
    "]\n",
    "\n",
    "ref_grid = ref_grid\n",
    "\n",
    "# search the good file\n",
    "for model in models:\n",
    "    file_pattern = os.path.join(path, f\"snc_LImon_{model}_historical_*.nc\")\n",
    "    files = glob.glob(file_pattern)\n",
    "    \n",
    "    if not files:\n",
    "        print(f\"Aucun fichier trouvé pour le modèle {model}\")\n",
    "        continue\n",
    "    \n",
    "    file_path = files[0]\n",
    "    print(f\"Traitement du modèle {model} : {file_path}\")\n",
    "\n",
    "# do this for each model, 1 by 1 to avoid reaching the memory limit    \n",
    "    with xr.open_dataset(file_path) as ds:\n",
    "        regridder = xe.Regridder(ds, ref_grid, method=\"nearest_s2d\", ignore_degenerate=True)\n",
    "        ds_regridded = regridder(ds)\n",
    "\n",
    "        output_path = os.path.join(output_dir, f\"{model}_hist_reprojete.nc\")\n",
    "        ds_regridded.to_netcdf(output_path)\n",
    "        print(f\"Fichier sauvegardé : {output_path}\")\n",
    "\n",
    "        del ds_regridded, regridder"
   ]
  },
  {
   "cell_type": "markdown",
   "id": "9f2c18db-10ea-4a32-ae6a-857b139df3a2",
   "metadata": {},
   "source": [
    "### Fichiers de sortie (SnowWarming) (avec période de référence 1850-1900)"
   ]
  },
  {
   "cell_type": "code",
   "execution_count": 5,
   "id": "4185c4af-60df-4a7c-823e-e4a54533d110",
   "metadata": {},
   "outputs": [
    {
     "name": "stdout",
     "output_type": "stream",
     "text": [
      "Traitement du modèle BCC-CSM2-MR : /home/jovyan/private-storage/SnowWarming/SnowWarming_BCC-CSM2-MR_historical+ssp585.nc\n",
      "Fichier sauvegardé : /home/jovyan/private-storage/interp_models_SW/BCC-CSM2-MR_SW_reprojete.nc\n",
      "Traitement du modèle CanESM5 : /home/jovyan/private-storage/SnowWarming/SnowWarming_CanESM5_historical+ssp585.nc\n",
      "Fichier sauvegardé : /home/jovyan/private-storage/interp_models_SW/CanESM5_SW_reprojete.nc\n",
      "Traitement du modèle CanESM5-CanOE : /home/jovyan/private-storage/SnowWarming/SnowWarming_CanESM5-CanOE_historical+ssp585.nc\n",
      "Fichier sauvegardé : /home/jovyan/private-storage/interp_models_SW/CanESM5-CanOE_SW_reprojete.nc\n",
      "Traitement du modèle CESM2 : /home/jovyan/private-storage/SnowWarming/SnowWarming_CESM2_historical+ssp585.nc\n",
      "Fichier sauvegardé : /home/jovyan/private-storage/interp_models_SW/CESM2_SW_reprojete.nc\n",
      "Traitement du modèle CESM2-WACCM : /home/jovyan/private-storage/SnowWarming/SnowWarming_CESM2-WACCM_historical+ssp585.nc\n",
      "Fichier sauvegardé : /home/jovyan/private-storage/interp_models_SW/CESM2-WACCM_SW_reprojete.nc\n",
      "Traitement du modèle CIESM : /home/jovyan/private-storage/SnowWarming/SnowWarming_CIESM_historical+ssp585.nc\n",
      "Fichier sauvegardé : /home/jovyan/private-storage/interp_models_SW/CIESM_SW_reprojete.nc\n",
      "Traitement du modèle CNRM-CM6-1 : /home/jovyan/private-storage/SnowWarming/SnowWarming_CNRM-CM6-1_historical+ssp585.nc\n",
      "Fichier sauvegardé : /home/jovyan/private-storage/interp_models_SW/CNRM-CM6-1_SW_reprojete.nc\n",
      "Traitement du modèle CNRM-CM6-1-HR : /home/jovyan/private-storage/SnowWarming/SnowWarming_CNRM-CM6-1-HR_historical+ssp585.nc\n",
      "Fichier sauvegardé : /home/jovyan/private-storage/interp_models_SW/CNRM-CM6-1-HR_SW_reprojete.nc\n",
      "Traitement du modèle CNRM-ESM2-1 : /home/jovyan/private-storage/SnowWarming/SnowWarming_CNRM-ESM2-1_historical+ssp585.nc\n",
      "Fichier sauvegardé : /home/jovyan/private-storage/interp_models_SW/CNRM-ESM2-1_SW_reprojete.nc\n",
      "Traitement du modèle EC-Earth3 : /home/jovyan/private-storage/SnowWarming/SnowWarming_EC-Earth3_historical+ssp585.nc\n",
      "Fichier sauvegardé : /home/jovyan/private-storage/interp_models_SW/EC-Earth3_SW_reprojete.nc\n",
      "Traitement du modèle EC-Earth3-Veg : /home/jovyan/private-storage/SnowWarming/SnowWarming_EC-Earth3-Veg_historical+ssp585.nc\n",
      "Fichier sauvegardé : /home/jovyan/private-storage/interp_models_SW/EC-Earth3-Veg_SW_reprojete.nc\n",
      "Traitement du modèle FGOALS-f3-L : /home/jovyan/private-storage/SnowWarming/SnowWarming_FGOALS-f3-L_historical+ssp585.nc\n",
      "Fichier sauvegardé : /home/jovyan/private-storage/interp_models_SW/FGOALS-f3-L_SW_reprojete.nc\n",
      "Traitement du modèle FGOALS-g3 : /home/jovyan/private-storage/SnowWarming/SnowWarming_FGOALS-g3_historical+ssp585.nc\n",
      "Fichier sauvegardé : /home/jovyan/private-storage/interp_models_SW/FGOALS-g3_SW_reprojete.nc\n",
      "Traitement du modèle GFDL-CM4 : /home/jovyan/private-storage/SnowWarming/SnowWarming_GFDL-CM4_historical+ssp585.nc\n",
      "Fichier sauvegardé : /home/jovyan/private-storage/interp_models_SW/GFDL-CM4_SW_reprojete.nc\n",
      "Traitement du modèle GISS-E2-1-G : /home/jovyan/private-storage/SnowWarming/SnowWarming_GISS-E2-1-G_historical+ssp585.nc\n",
      "Fichier sauvegardé : /home/jovyan/private-storage/interp_models_SW/GISS-E2-1-G_SW_reprojete.nc\n",
      "Traitement du modèle HadGEM3-GC31-LL : /home/jovyan/private-storage/SnowWarming/SnowWarming_HadGEM3-GC31-LL_historical+ssp585.nc\n",
      "Fichier sauvegardé : /home/jovyan/private-storage/interp_models_SW/HadGEM3-GC31-LL_SW_reprojete.nc\n",
      "Traitement du modèle IPSL-CM6A-LR : /home/jovyan/private-storage/SnowWarming/SnowWarming_IPSL-CM6A-LR_historical+ssp585.nc\n",
      "Fichier sauvegardé : /home/jovyan/private-storage/interp_models_SW/IPSL-CM6A-LR_SW_reprojete.nc\n",
      "Traitement du modèle MIROC-ES2L : /home/jovyan/private-storage/SnowWarming/SnowWarming_MIROC-ES2L_historical+ssp585.nc\n",
      "Fichier sauvegardé : /home/jovyan/private-storage/interp_models_SW/MIROC-ES2L_SW_reprojete.nc\n",
      "Traitement du modèle MIROC6 : /home/jovyan/private-storage/SnowWarming/SnowWarming_MIROC6_historical+ssp585.nc\n",
      "Fichier sauvegardé : /home/jovyan/private-storage/interp_models_SW/MIROC6_SW_reprojete.nc\n",
      "Traitement du modèle MPI-ESM1-2-HR : /home/jovyan/private-storage/SnowWarming/SnowWarming_MPI-ESM1-2-HR_historical+ssp585.nc\n",
      "Fichier sauvegardé : /home/jovyan/private-storage/interp_models_SW/MPI-ESM1-2-HR_SW_reprojete.nc\n",
      "Traitement du modèle MPI-ESM1-2-LR : /home/jovyan/private-storage/SnowWarming/SnowWarming_MPI-ESM1-2-LR_historical+ssp585.nc\n",
      "Fichier sauvegardé : /home/jovyan/private-storage/interp_models_SW/MPI-ESM1-2-LR_SW_reprojete.nc\n",
      "Traitement du modèle MRI-ESM2-0 : /home/jovyan/private-storage/SnowWarming/SnowWarming_MRI-ESM2-0_historical+ssp585.nc\n",
      "Fichier sauvegardé : /home/jovyan/private-storage/interp_models_SW/MRI-ESM2-0_SW_reprojete.nc\n",
      "Traitement du modèle NorESM2-LM : /home/jovyan/private-storage/SnowWarming/SnowWarming_NorESM2-LM_historical+ssp585.nc\n",
      "Fichier sauvegardé : /home/jovyan/private-storage/interp_models_SW/NorESM2-LM_SW_reprojete.nc\n",
      "Traitement du modèle NorESM2-MM : /home/jovyan/private-storage/SnowWarming/SnowWarming_NorESM2-MM_historical+ssp585.nc\n",
      "Fichier sauvegardé : /home/jovyan/private-storage/interp_models_SW/NorESM2-MM_SW_reprojete.nc\n",
      "Traitement du modèle UKESM1-0-LL : /home/jovyan/private-storage/SnowWarming/SnowWarming_UKESM1-0-LL_historical+ssp585.nc\n",
      "Fichier sauvegardé : /home/jovyan/private-storage/interp_models_SW/UKESM1-0-LL_SW_reprojete.nc\n"
     ]
    }
   ],
   "source": [
    "path = \"/home/jovyan/private-storage/SnowWarming/\"\n",
    "output_dir = \"/home/jovyan/private-storage/interp_models_SW\"\n",
    "os.makedirs(output_dir, exist_ok=True)\n",
    "\n",
    "models = [\n",
    "    \"BCC-CSM2-MR\", \"CanESM5\", \"CanESM5-CanOE\", \"CESM2\", \"CESM2-WACCM\", \"CIESM\",\n",
    "    \"CNRM-CM6-1\", \"CNRM-CM6-1-HR\", \"CNRM-ESM2-1\", \"EC-Earth3\", \"EC-Earth3-Veg\",\n",
    "    \"FGOALS-f3-L\", \"FGOALS-g3\", \"GFDL-CM4\", \"GISS-E2-1-G\", \"HadGEM3-GC31-LL\",\n",
    "    \"IPSL-CM6A-LR\", \"MIROC-ES2L\", \"MIROC6\", \"MPI-ESM1-2-HR\", \"MPI-ESM1-2-LR\",\n",
    "    \"MRI-ESM2-0\", \"NorESM2-LM\", \"NorESM2-MM\", \"UKESM1-0-LL\"\n",
    "]\n",
    "\n",
    "ref_grid = ref_grid\n",
    "\n",
    "# search the good file\n",
    "for model in models:\n",
    "    file_pattern = os.path.join(path, f\"SnowWarming_{model}_historical+ssp585.nc\")\n",
    "    files = glob.glob(file_pattern)\n",
    "    \n",
    "    if not files:\n",
    "        print(f\"Aucun fichier trouvé pour le modèle {model}\")\n",
    "        continue\n",
    "    \n",
    "    file_path = files[0]\n",
    "    print(f\"Traitement du modèle {model} : {file_path}\")\n",
    "\n",
    "# do this for each model, 1 by 1 to avoid reaching the memory limit    \n",
    "    with xr.open_dataset(file_path) as ds:\n",
    "        regridder = xe.Regridder(ds, ref_grid, method=\"nearest_s2d\", ignore_degenerate=True)\n",
    "        ds_regridded = regridder(ds)\n",
    "\n",
    "        output_path = os.path.join(output_dir, f\"{model}_SW_reprojete.nc\")\n",
    "        ds_regridded.to_netcdf(output_path)\n",
    "        print(f\"Fichier sauvegardé : {output_path}\")\n",
    "\n",
    "        del ds_regridded, regridder"
   ]
  },
  {
   "cell_type": "markdown",
   "id": "b11f779a-0ddd-4753-8050-983a0d63bcb9",
   "metadata": {},
   "source": [
    "### Fichiers de sortie (SnowWarming) (avec période de référence 1995-2014)"
   ]
  },
  {
   "cell_type": "code",
   "execution_count": 14,
   "id": "b43efd8b-6629-487a-891f-6c0c61046cf0",
   "metadata": {},
   "outputs": [
    {
     "name": "stdout",
     "output_type": "stream",
     "text": [
      "Traitement du modèle BCC-CSM2-MR : /home/jovyan/private-storage/output_data/SnowWarming_1995_2014/SnowWarming_BCC-CSM2-MR_historical+ssp585.nc\n",
      "Fichier sauvegardé : /home/jovyan/private-storage/output_data/interp_models_SW_1995_2014/BCC-CSM2-MR_SW_reprojete.nc\n",
      "Traitement du modèle CanESM5 : /home/jovyan/private-storage/output_data/SnowWarming_1995_2014/SnowWarming_CanESM5_historical+ssp585.nc\n",
      "Fichier sauvegardé : /home/jovyan/private-storage/output_data/interp_models_SW_1995_2014/CanESM5_SW_reprojete.nc\n",
      "Traitement du modèle CanESM5-CanOE : /home/jovyan/private-storage/output_data/SnowWarming_1995_2014/SnowWarming_CanESM5-CanOE_historical+ssp585.nc\n",
      "Fichier sauvegardé : /home/jovyan/private-storage/output_data/interp_models_SW_1995_2014/CanESM5-CanOE_SW_reprojete.nc\n",
      "Traitement du modèle CESM2 : /home/jovyan/private-storage/output_data/SnowWarming_1995_2014/SnowWarming_CESM2_historical+ssp585.nc\n",
      "Fichier sauvegardé : /home/jovyan/private-storage/output_data/interp_models_SW_1995_2014/CESM2_SW_reprojete.nc\n",
      "Traitement du modèle CESM2-WACCM : /home/jovyan/private-storage/output_data/SnowWarming_1995_2014/SnowWarming_CESM2-WACCM_historical+ssp585.nc\n",
      "Fichier sauvegardé : /home/jovyan/private-storage/output_data/interp_models_SW_1995_2014/CESM2-WACCM_SW_reprojete.nc\n",
      "Traitement du modèle CIESM : /home/jovyan/private-storage/output_data/SnowWarming_1995_2014/SnowWarming_CIESM_historical+ssp585.nc\n",
      "Fichier sauvegardé : /home/jovyan/private-storage/output_data/interp_models_SW_1995_2014/CIESM_SW_reprojete.nc\n",
      "Traitement du modèle CNRM-CM6-1 : /home/jovyan/private-storage/output_data/SnowWarming_1995_2014/SnowWarming_CNRM-CM6-1_historical+ssp585.nc\n",
      "Fichier sauvegardé : /home/jovyan/private-storage/output_data/interp_models_SW_1995_2014/CNRM-CM6-1_SW_reprojete.nc\n",
      "Traitement du modèle CNRM-CM6-1-HR : /home/jovyan/private-storage/output_data/SnowWarming_1995_2014/SnowWarming_CNRM-CM6-1-HR_historical+ssp585.nc\n",
      "Fichier sauvegardé : /home/jovyan/private-storage/output_data/interp_models_SW_1995_2014/CNRM-CM6-1-HR_SW_reprojete.nc\n",
      "Traitement du modèle CNRM-ESM2-1 : /home/jovyan/private-storage/output_data/SnowWarming_1995_2014/SnowWarming_CNRM-ESM2-1_historical+ssp585.nc\n",
      "Fichier sauvegardé : /home/jovyan/private-storage/output_data/interp_models_SW_1995_2014/CNRM-ESM2-1_SW_reprojete.nc\n",
      "Traitement du modèle EC-Earth3 : /home/jovyan/private-storage/output_data/SnowWarming_1995_2014/SnowWarming_EC-Earth3_historical+ssp585.nc\n",
      "Fichier sauvegardé : /home/jovyan/private-storage/output_data/interp_models_SW_1995_2014/EC-Earth3_SW_reprojete.nc\n",
      "Traitement du modèle EC-Earth3-Veg : /home/jovyan/private-storage/output_data/SnowWarming_1995_2014/SnowWarming_EC-Earth3-Veg_historical+ssp585.nc\n",
      "Fichier sauvegardé : /home/jovyan/private-storage/output_data/interp_models_SW_1995_2014/EC-Earth3-Veg_SW_reprojete.nc\n",
      "Traitement du modèle FGOALS-f3-L : /home/jovyan/private-storage/output_data/SnowWarming_1995_2014/SnowWarming_FGOALS-f3-L_historical+ssp585.nc\n",
      "Fichier sauvegardé : /home/jovyan/private-storage/output_data/interp_models_SW_1995_2014/FGOALS-f3-L_SW_reprojete.nc\n",
      "Traitement du modèle FGOALS-g3 : /home/jovyan/private-storage/output_data/SnowWarming_1995_2014/SnowWarming_FGOALS-g3_historical+ssp585.nc\n",
      "Fichier sauvegardé : /home/jovyan/private-storage/output_data/interp_models_SW_1995_2014/FGOALS-g3_SW_reprojete.nc\n",
      "Traitement du modèle GFDL-CM4 : /home/jovyan/private-storage/output_data/SnowWarming_1995_2014/SnowWarming_GFDL-CM4_historical+ssp585.nc\n",
      "Fichier sauvegardé : /home/jovyan/private-storage/output_data/interp_models_SW_1995_2014/GFDL-CM4_SW_reprojete.nc\n",
      "Traitement du modèle GISS-E2-1-G : /home/jovyan/private-storage/output_data/SnowWarming_1995_2014/SnowWarming_GISS-E2-1-G_historical+ssp585.nc\n",
      "Fichier sauvegardé : /home/jovyan/private-storage/output_data/interp_models_SW_1995_2014/GISS-E2-1-G_SW_reprojete.nc\n",
      "Traitement du modèle HadGEM3-GC31-LL : /home/jovyan/private-storage/output_data/SnowWarming_1995_2014/SnowWarming_HadGEM3-GC31-LL_historical+ssp585.nc\n",
      "Fichier sauvegardé : /home/jovyan/private-storage/output_data/interp_models_SW_1995_2014/HadGEM3-GC31-LL_SW_reprojete.nc\n",
      "Traitement du modèle IPSL-CM6A-LR : /home/jovyan/private-storage/output_data/SnowWarming_1995_2014/SnowWarming_IPSL-CM6A-LR_historical+ssp585.nc\n",
      "Fichier sauvegardé : /home/jovyan/private-storage/output_data/interp_models_SW_1995_2014/IPSL-CM6A-LR_SW_reprojete.nc\n",
      "Traitement du modèle MIROC-ES2L : /home/jovyan/private-storage/output_data/SnowWarming_1995_2014/SnowWarming_MIROC-ES2L_historical+ssp585.nc\n",
      "Fichier sauvegardé : /home/jovyan/private-storage/output_data/interp_models_SW_1995_2014/MIROC-ES2L_SW_reprojete.nc\n",
      "Traitement du modèle MIROC6 : /home/jovyan/private-storage/output_data/SnowWarming_1995_2014/SnowWarming_MIROC6_historical+ssp585.nc\n",
      "Fichier sauvegardé : /home/jovyan/private-storage/output_data/interp_models_SW_1995_2014/MIROC6_SW_reprojete.nc\n",
      "Traitement du modèle MPI-ESM1-2-HR : /home/jovyan/private-storage/output_data/SnowWarming_1995_2014/SnowWarming_MPI-ESM1-2-HR_historical+ssp585.nc\n",
      "Fichier sauvegardé : /home/jovyan/private-storage/output_data/interp_models_SW_1995_2014/MPI-ESM1-2-HR_SW_reprojete.nc\n",
      "Traitement du modèle MPI-ESM1-2-LR : /home/jovyan/private-storage/output_data/SnowWarming_1995_2014/SnowWarming_MPI-ESM1-2-LR_historical+ssp585.nc\n",
      "Fichier sauvegardé : /home/jovyan/private-storage/output_data/interp_models_SW_1995_2014/MPI-ESM1-2-LR_SW_reprojete.nc\n",
      "Traitement du modèle MRI-ESM2-0 : /home/jovyan/private-storage/output_data/SnowWarming_1995_2014/SnowWarming_MRI-ESM2-0_historical+ssp585.nc\n",
      "Fichier sauvegardé : /home/jovyan/private-storage/output_data/interp_models_SW_1995_2014/MRI-ESM2-0_SW_reprojete.nc\n",
      "Traitement du modèle NorESM2-LM : /home/jovyan/private-storage/output_data/SnowWarming_1995_2014/SnowWarming_NorESM2-LM_historical+ssp585.nc\n",
      "Fichier sauvegardé : /home/jovyan/private-storage/output_data/interp_models_SW_1995_2014/NorESM2-LM_SW_reprojete.nc\n",
      "Traitement du modèle NorESM2-MM : /home/jovyan/private-storage/output_data/SnowWarming_1995_2014/SnowWarming_NorESM2-MM_historical+ssp585.nc\n",
      "Fichier sauvegardé : /home/jovyan/private-storage/output_data/interp_models_SW_1995_2014/NorESM2-MM_SW_reprojete.nc\n",
      "Traitement du modèle UKESM1-0-LL : /home/jovyan/private-storage/output_data/SnowWarming_1995_2014/SnowWarming_UKESM1-0-LL_historical+ssp585.nc\n",
      "Fichier sauvegardé : /home/jovyan/private-storage/output_data/interp_models_SW_1995_2014/UKESM1-0-LL_SW_reprojete.nc\n"
     ]
    }
   ],
   "source": [
    "path = \"/home/jovyan/private-storage/output_data/SnowWarming_1995_2014/\"\n",
    "output_dir = \"/home/jovyan/private-storage/output_data/interp_models_SW_1995_2014\"\n",
    "os.makedirs(output_dir, exist_ok=True)\n",
    "\n",
    "models = [\n",
    "    \"BCC-CSM2-MR\", \"CanESM5\", \"CanESM5-CanOE\", \"CESM2\", \"CESM2-WACCM\", \"CIESM\",\n",
    "    \"CNRM-CM6-1\", \"CNRM-CM6-1-HR\", \"CNRM-ESM2-1\", \"EC-Earth3\", \"EC-Earth3-Veg\",\n",
    "    \"FGOALS-f3-L\", \"FGOALS-g3\", \"GFDL-CM4\", \"GISS-E2-1-G\", \"HadGEM3-GC31-LL\",\n",
    "    \"IPSL-CM6A-LR\", \"MIROC-ES2L\", \"MIROC6\", \"MPI-ESM1-2-HR\", \"MPI-ESM1-2-LR\",\n",
    "    \"MRI-ESM2-0\", \"NorESM2-LM\", \"NorESM2-MM\", \"UKESM1-0-LL\"\n",
    "]\n",
    "\n",
    "ref_grid = ref_grid\n",
    "\n",
    "# search the good file\n",
    "for model in models:\n",
    "    file_pattern = os.path.join(path, f\"SnowWarming_{model}_historical+ssp585.nc\")\n",
    "    files = glob.glob(file_pattern)\n",
    "    \n",
    "    if not files:\n",
    "        print(f\"Aucun fichier trouvé pour le modèle {model}\")\n",
    "        continue\n",
    "    \n",
    "    file_path = files[0]\n",
    "    print(f\"Traitement du modèle {model} : {file_path}\")\n",
    "\n",
    "# do this for each model, 1 by 1 to avoid reaching the memory limit    \n",
    "    with xr.open_dataset(file_path) as ds:\n",
    "        regridder = xe.Regridder(ds, ref_grid, method=\"nearest_s2d\", ignore_degenerate=True)\n",
    "        ds_regridded = regridder(ds)\n",
    "\n",
    "        output_path = os.path.join(output_dir, f\"{model}_SW_reprojete.nc\")\n",
    "        ds_regridded.to_netcdf(output_path)\n",
    "        print(f\"Fichier sauvegardé : {output_path}\")\n",
    "\n",
    "        del ds_regridded, regridder"
   ]
  },
  {
   "cell_type": "markdown",
   "id": "8cd2b706-69c2-4f85-b81d-c5b7dc11d65e",
   "metadata": {},
   "source": [
    "### Fichiers de snowmass"
   ]
  },
  {
   "cell_type": "code",
   "execution_count": 7,
   "id": "5e26f9a0-6543-4152-bd45-274835b5dfff",
   "metadata": {},
   "outputs": [
    {
     "name": "stdout",
     "output_type": "stream",
     "text": [
      "Traitement du modèle BCC-CSM2-MR : /home/jovyan/private-storage/data_snowmass/snw_merged_BCC-CSM2-MR.nc\n",
      "Fichier sauvegardé : /home/jovyan/private-storage/output_data/interp_snowmass/BCC-CSM2-MR_snowmass_reprojete.nc\n",
      "Traitement du modèle CanESM5 : /home/jovyan/private-storage/data_snowmass/snw_merged_CanESM5.nc\n",
      "Fichier sauvegardé : /home/jovyan/private-storage/output_data/interp_snowmass/CanESM5_snowmass_reprojete.nc\n",
      "Traitement du modèle CanESM5-CanOE : /home/jovyan/private-storage/data_snowmass/snw_merged_CanESM5-CanOE.nc\n",
      "Fichier sauvegardé : /home/jovyan/private-storage/output_data/interp_snowmass/CanESM5-CanOE_snowmass_reprojete.nc\n",
      "Traitement du modèle CESM2 : /home/jovyan/private-storage/data_snowmass/snw_merged_CESM2.nc\n"
     ]
    },
    {
     "name": "stderr",
     "output_type": "stream",
     "text": [
      "/srv/conda/envs/notebook/lib/python3.12/site-packages/xarray/conventions.py:193: SerializationWarning: variable 'snw' has multiple fill values {np.float32(1e+20), np.float64(1e+20)} defined, decoding all values to NaN.\n",
      "  var = coder.decode(var, name=name)\n"
     ]
    },
    {
     "name": "stdout",
     "output_type": "stream",
     "text": [
      "Fichier sauvegardé : /home/jovyan/private-storage/output_data/interp_snowmass/CESM2_snowmass_reprojete.nc\n",
      "Traitement du modèle CESM2-WACCM : /home/jovyan/private-storage/data_snowmass/snw_merged_CESM2-WACCM.nc\n"
     ]
    },
    {
     "name": "stderr",
     "output_type": "stream",
     "text": [
      "/srv/conda/envs/notebook/lib/python3.12/site-packages/xarray/conventions.py:193: SerializationWarning: variable 'snw' has multiple fill values {np.float32(1e+20), np.float64(1e+20)} defined, decoding all values to NaN.\n",
      "  var = coder.decode(var, name=name)\n"
     ]
    },
    {
     "name": "stdout",
     "output_type": "stream",
     "text": [
      "Fichier sauvegardé : /home/jovyan/private-storage/output_data/interp_snowmass/CESM2-WACCM_snowmass_reprojete.nc\n",
      "Traitement du modèle CIESM : /home/jovyan/private-storage/data_snowmass/snw_merged_CIESM.nc\n",
      "Fichier sauvegardé : /home/jovyan/private-storage/output_data/interp_snowmass/CIESM_snowmass_reprojete.nc\n",
      "Traitement du modèle CNRM-CM6-1 : /home/jovyan/private-storage/data_snowmass/snw_merged_CNRM-CM6-1.nc\n",
      "Fichier sauvegardé : /home/jovyan/private-storage/output_data/interp_snowmass/CNRM-CM6-1_snowmass_reprojete.nc\n",
      "Traitement du modèle CNRM-CM6-1-HR : /home/jovyan/private-storage/data_snowmass/snw_merged_CNRM-CM6-1-HR.nc\n",
      "Fichier sauvegardé : /home/jovyan/private-storage/output_data/interp_snowmass/CNRM-CM6-1-HR_snowmass_reprojete.nc\n",
      "Traitement du modèle CNRM-ESM2-1 : /home/jovyan/private-storage/data_snowmass/snw_merged_CNRM-ESM2-1.nc\n",
      "Fichier sauvegardé : /home/jovyan/private-storage/output_data/interp_snowmass/CNRM-ESM2-1_snowmass_reprojete.nc\n",
      "Traitement du modèle EC-Earth3 : /home/jovyan/private-storage/data_snowmass/snw_merged_EC-Earth3.nc\n",
      "Fichier sauvegardé : /home/jovyan/private-storage/output_data/interp_snowmass/EC-Earth3_snowmass_reprojete.nc\n",
      "Traitement du modèle EC-Earth3-Veg : /home/jovyan/private-storage/data_snowmass/snw_merged_EC-Earth3-Veg.nc\n",
      "Fichier sauvegardé : /home/jovyan/private-storage/output_data/interp_snowmass/EC-Earth3-Veg_snowmass_reprojete.nc\n",
      "Traitement du modèle GFDL-CM4 : /home/jovyan/private-storage/data_snowmass/snw_merged_GFDL-CM4.nc\n",
      "Fichier sauvegardé : /home/jovyan/private-storage/output_data/interp_snowmass/GFDL-CM4_snowmass_reprojete.nc\n",
      "Traitement du modèle GISS-E2-1-G : /home/jovyan/private-storage/data_snowmass/snw_merged_GISS-E2-1-G.nc\n",
      "Fichier sauvegardé : /home/jovyan/private-storage/output_data/interp_snowmass/GISS-E2-1-G_snowmass_reprojete.nc\n",
      "Traitement du modèle HadGEM3-GC31-LL : /home/jovyan/private-storage/data_snowmass/snw_merged_HadGEM3-GC31-LL.nc\n",
      "Fichier sauvegardé : /home/jovyan/private-storage/output_data/interp_snowmass/HadGEM3-GC31-LL_snowmass_reprojete.nc\n",
      "Traitement du modèle IPSL-CM6A-LR : /home/jovyan/private-storage/data_snowmass/snw_merged_IPSL-CM6A-LR.nc\n",
      "Fichier sauvegardé : /home/jovyan/private-storage/output_data/interp_snowmass/IPSL-CM6A-LR_snowmass_reprojete.nc\n",
      "Traitement du modèle MIROC-ES2L : /home/jovyan/private-storage/data_snowmass/snw_merged_MIROC-ES2L.nc\n",
      "Fichier sauvegardé : /home/jovyan/private-storage/output_data/interp_snowmass/MIROC-ES2L_snowmass_reprojete.nc\n",
      "Traitement du modèle MIROC6 : /home/jovyan/private-storage/data_snowmass/snw_merged_MIROC6.nc\n",
      "Fichier sauvegardé : /home/jovyan/private-storage/output_data/interp_snowmass/MIROC6_snowmass_reprojete.nc\n",
      "Traitement du modèle MPI-ESM1-2-HR : /home/jovyan/private-storage/data_snowmass/snw_merged_MPI-ESM1-2-HR.nc\n",
      "Fichier sauvegardé : /home/jovyan/private-storage/output_data/interp_snowmass/MPI-ESM1-2-HR_snowmass_reprojete.nc\n",
      "Traitement du modèle MPI-ESM1-2-LR : /home/jovyan/private-storage/data_snowmass/snw_merged_MPI-ESM1-2-LR.nc\n",
      "Fichier sauvegardé : /home/jovyan/private-storage/output_data/interp_snowmass/MPI-ESM1-2-LR_snowmass_reprojete.nc\n",
      "Traitement du modèle MRI-ESM2-0 : /home/jovyan/private-storage/data_snowmass/snw_merged_MRI-ESM2-0.nc\n",
      "Fichier sauvegardé : /home/jovyan/private-storage/output_data/interp_snowmass/MRI-ESM2-0_snowmass_reprojete.nc\n",
      "Traitement du modèle NorESM2-LM : /home/jovyan/private-storage/data_snowmass/snw_merged_NorESM2-LM.nc\n",
      "Fichier sauvegardé : /home/jovyan/private-storage/output_data/interp_snowmass/NorESM2-LM_snowmass_reprojete.nc\n",
      "Traitement du modèle NorESM2-MM : /home/jovyan/private-storage/data_snowmass/snw_merged_NorESM2-MM.nc\n",
      "Fichier sauvegardé : /home/jovyan/private-storage/output_data/interp_snowmass/NorESM2-MM_snowmass_reprojete.nc\n",
      "Traitement du modèle UKESM1-0-LL : /home/jovyan/private-storage/data_snowmass/snw_merged_UKESM1-0-LL.nc\n",
      "Fichier sauvegardé : /home/jovyan/private-storage/output_data/interp_snowmass/UKESM1-0-LL_snowmass_reprojete.nc\n"
     ]
    }
   ],
   "source": [
    "path = \"/home/jovyan/private-storage/data_snowmass/\"\n",
    "output_dir = \"/home/jovyan/private-storage/output_data/interp_snowmass\"\n",
    "os.makedirs(output_dir, exist_ok=True)\n",
    "\n",
    "models = [\n",
    "    \"BCC-CSM2-MR\", \"CanESM5\", \"CanESM5-CanOE\", \"CESM2\", \"CESM2-WACCM\", \"CIESM\",\n",
    "    \"CNRM-CM6-1\", \"CNRM-CM6-1-HR\", \"CNRM-ESM2-1\", \"EC-Earth3\", \"EC-Earth3-Veg\",\n",
    "    \"GFDL-CM4\", \"GISS-E2-1-G\", \"HadGEM3-GC31-LL\", \"IPSL-CM6A-LR\", \"MIROC-ES2L\", \n",
    "    \"MIROC6\", \"MPI-ESM1-2-HR\", \"MPI-ESM1-2-LR\", \"MRI-ESM2-0\", \"NorESM2-LM\", \n",
    "    \"NorESM2-MM\", \"UKESM1-0-LL\"\n",
    "]\n",
    "\n",
    "ref_grid = ref_grid\n",
    "\n",
    "# search the good file\n",
    "for model in models:\n",
    "    file_pattern = os.path.join(path, f\"snw_merged_{model}.nc\")\n",
    "    files = glob.glob(file_pattern)\n",
    "    \n",
    "    if not files:\n",
    "        print(f\"Aucun fichier trouvé pour le modèle {model}\")\n",
    "        continue\n",
    "    \n",
    "    file_path = files[0]\n",
    "    print(f\"Traitement du modèle {model} : {file_path}\")\n",
    "\n",
    "# do this for each model, 1 by 1 to avoid reaching the memory limit    \n",
    "    with xr.open_dataset(file_path) as ds:\n",
    "        regridder = xe.Regridder(ds, ref_grid, method=\"nearest_s2d\", ignore_degenerate=True)\n",
    "        ds_regridded = regridder(ds)\n",
    "\n",
    "        output_path = os.path.join(output_dir, f\"{model}_snowmass_reprojete.nc\")\n",
    "        ds_regridded.to_netcdf(output_path)\n",
    "        print(f\"Fichier sauvegardé : {output_path}\")\n",
    "\n",
    "        del ds_regridded, regridder"
   ]
  },
  {
   "cell_type": "code",
   "execution_count": null,
   "id": "c2a85da8-f5b0-432f-8434-05c71f099825",
   "metadata": {},
   "outputs": [],
   "source": []
  }
 ],
 "metadata": {
  "kernelspec": {
   "display_name": "Python 3 (ipykernel)",
   "language": "python",
   "name": "python3"
  },
  "language_info": {
   "codemirror_mode": {
    "name": "ipython",
    "version": 3
   },
   "file_extension": ".py",
   "mimetype": "text/x-python",
   "name": "python",
   "nbconvert_exporter": "python",
   "pygments_lexer": "ipython3",
   "version": "3.12.8"
  }
 },
 "nbformat": 4,
 "nbformat_minor": 5
}
