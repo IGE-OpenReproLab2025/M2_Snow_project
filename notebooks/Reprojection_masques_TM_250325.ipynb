{
 "cells": [
  {
   "cell_type": "markdown",
   "id": "eceb0461-3a33-408b-9f6b-13472400dae0",
   "metadata": {},
   "source": [
    "# Reprojection des masques TM sur la grille de référence"
   ]
  },
  {
   "cell_type": "code",
   "execution_count": 1,
   "id": "1292cca1-2977-47ad-93f6-6c19a307d921",
   "metadata": {},
   "outputs": [
    {
     "name": "stderr",
     "output_type": "stream",
     "text": [
      "/srv/conda/envs/notebook/lib/python3.12/site-packages/esmpy/interface/loadESMF.py:94: VersionWarning: ESMF installation version 8.8.0, ESMPy version 8.8.0b0\n",
      "  warnings.warn(\"ESMF installation version {}, ESMPy version {}\".format(\n"
     ]
    }
   ],
   "source": [
    "import os\n",
    "import glob\n",
    "import xarray as xr\n",
    "import xesmf as xe"
   ]
  },
  {
   "cell_type": "code",
   "execution_count": 2,
   "id": "267874ce-8fe0-4fb4-814b-44eb29b207df",
   "metadata": {},
   "outputs": [],
   "source": [
    "path = \"grid/\"\n",
    "file = \"nhsce_mon.v01r01_19661004_20250303_1.0x1.0.nc\"\n",
    "ref_grid = xr.open_dataset(os.path.join(path, file))"
   ]
  },
  {
   "cell_type": "code",
   "execution_count": 3,
   "id": "d39c4c07-f018-4166-b9cd-bae75326ab2f",
   "metadata": {},
   "outputs": [],
   "source": [
    "ref_grid = ref_grid.sel(time=slice(\"1995\", \"2014\"))"
   ]
  },
  {
   "cell_type": "markdown",
   "id": "112df5e4-91b3-4f7b-836c-8ed4ab0f5637",
   "metadata": {},
   "source": [
    "## Sftlf"
   ]
  },
  {
   "cell_type": "code",
   "execution_count": 4,
   "id": "3532a2d4-d8cc-47e6-9e3b-8e39a0795acb",
   "metadata": {},
   "outputs": [
    {
     "name": "stdout",
     "output_type": "stream",
     "text": [
      "Traitement du modèle BCC-CSM2-MR : masques/masques/pseudo_sftlf/sftlf_BCC-CSM2-MR.nc\n",
      "Fichier sauvegardé : interp_sftlf/BCC-CSM2-MR_sftlf_reprojete.nc\n",
      "Traitement du modèle CanESM5 : masques/masques/sftlf/sftlf_CanESM5.nc\n",
      "Fichier sauvegardé : interp_sftlf/CanESM5_sftlf_reprojete.nc\n",
      "Traitement du modèle CanESM5-CanOE : masques/masques/sftlf/sftlf_CanESM5-CanOE.nc\n",
      "Fichier sauvegardé : interp_sftlf/CanESM5-CanOE_sftlf_reprojete.nc\n",
      "Traitement du modèle CESM2 : masques/masques/sftlf/sftlf_CESM2.nc\n"
     ]
    },
    {
     "name": "stderr",
     "output_type": "stream",
     "text": [
      "/srv/conda/envs/notebook/lib/python3.12/site-packages/xarray/conventions.py:193: SerializationWarning: variable 'sftlf' has multiple fill values {np.float32(1e+20), np.float64(1e+20)} defined, decoding all values to NaN.\n",
      "  var = coder.decode(var, name=name)\n"
     ]
    },
    {
     "name": "stdout",
     "output_type": "stream",
     "text": [
      "Fichier sauvegardé : interp_sftlf/CESM2_sftlf_reprojete.nc\n",
      "Traitement du modèle CESM2-WACCM : masques/masques/sftlf/sftlf_CESM2-WACCM.nc\n"
     ]
    },
    {
     "name": "stderr",
     "output_type": "stream",
     "text": [
      "/srv/conda/envs/notebook/lib/python3.12/site-packages/xarray/conventions.py:193: SerializationWarning: variable 'sftlf' has multiple fill values {np.float32(1e+20), np.float64(1e+20)} defined, decoding all values to NaN.\n",
      "  var = coder.decode(var, name=name)\n"
     ]
    },
    {
     "name": "stdout",
     "output_type": "stream",
     "text": [
      "Fichier sauvegardé : interp_sftlf/CESM2-WACCM_sftlf_reprojete.nc\n",
      "Traitement du modèle CIESM : masques/masques/sftlf/sftlf_CIESM.nc\n",
      "Fichier sauvegardé : interp_sftlf/CIESM_sftlf_reprojete.nc\n",
      "Traitement du modèle CNRM-CM6-1 : masques/masques/sftlf/sftlf_CNRM-CM6-1.nc\n",
      "Fichier sauvegardé : interp_sftlf/CNRM-CM6-1_sftlf_reprojete.nc\n",
      "Traitement du modèle CNRM-CM6-1-HR : masques/masques/sftlf/sftlf_CNRM-CM6-1-HR.nc\n",
      "Fichier sauvegardé : interp_sftlf/CNRM-CM6-1-HR_sftlf_reprojete.nc\n",
      "Traitement du modèle CNRM-ESM2-1 : masques/masques/sftlf/sftlf_CNRM-ESM2-1.nc\n",
      "Fichier sauvegardé : interp_sftlf/CNRM-ESM2-1_sftlf_reprojete.nc\n",
      "Traitement du modèle EC-Earth3 : masques/masques/sftlf/sftlf_EC-Earth3.nc\n",
      "Fichier sauvegardé : interp_sftlf/EC-Earth3_sftlf_reprojete.nc\n",
      "Traitement du modèle EC-Earth3-Veg : masques/masques/sftlf/sftlf_EC-Earth3-Veg.nc\n",
      "Fichier sauvegardé : interp_sftlf/EC-Earth3-Veg_sftlf_reprojete.nc\n",
      "Traitement du modèle FGOALS-f3-L : masques/masques/sftlf/sftlf_FGOALS-f3-L.nc\n",
      "Fichier sauvegardé : interp_sftlf/FGOALS-f3-L_sftlf_reprojete.nc\n",
      "Traitement du modèle FGOALS-g3 : masques/masques/sftlf/sftlf_FGOALS-g3.nc\n",
      "Fichier sauvegardé : interp_sftlf/FGOALS-g3_sftlf_reprojete.nc\n",
      "Traitement du modèle GFDL-CM4 : masques/masques/sftlf/sftlf_GFDL-CM4.nc\n",
      "Fichier sauvegardé : interp_sftlf/GFDL-CM4_sftlf_reprojete.nc\n",
      "Traitement du modèle GISS-E2-1-G : masques/masques/sftlf/sftlf_GISS-E2-1-G.nc\n",
      "Fichier sauvegardé : interp_sftlf/GISS-E2-1-G_sftlf_reprojete.nc\n",
      "Traitement du modèle HadGEM3-GC31-LL : masques/masques/sftlf/sftlf_HadGEM3-GC31-LL.nc\n",
      "Fichier sauvegardé : interp_sftlf/HadGEM3-GC31-LL_sftlf_reprojete.nc\n",
      "Traitement du modèle IPSL-CM6A-LR : masques/masques/sftlf/sftlf_IPSL-CM6A-LR.nc\n",
      "Fichier sauvegardé : interp_sftlf/IPSL-CM6A-LR_sftlf_reprojete.nc\n",
      "Traitement du modèle MIROC-ES2L : masques/masques/sftlf/sftlf_MIROC-ES2L.nc\n",
      "Fichier sauvegardé : interp_sftlf/MIROC-ES2L_sftlf_reprojete.nc\n",
      "Traitement du modèle MIROC6 : masques/masques/sftlf/sftlf_MIROC6.nc\n",
      "Fichier sauvegardé : interp_sftlf/MIROC6_sftlf_reprojete.nc\n",
      "Traitement du modèle MPI-ESM1-2-HR : masques/masques/sftlf/sftlf_MPI-ESM1-2-HR.nc\n",
      "Fichier sauvegardé : interp_sftlf/MPI-ESM1-2-HR_sftlf_reprojete.nc\n",
      "Traitement du modèle MPI-ESM1-2-LR : masques/masques/sftlf/sftlf_MPI-ESM1-2-LR.nc\n",
      "Fichier sauvegardé : interp_sftlf/MPI-ESM1-2-LR_sftlf_reprojete.nc\n",
      "Traitement du modèle MRI-ESM2-0 : masques/masques/sftlf/sftlf_MRI-ESM2-0.nc\n",
      "Fichier sauvegardé : interp_sftlf/MRI-ESM2-0_sftlf_reprojete.nc\n",
      "Traitement du modèle NorESM2-LM : masques/masques/sftlf/sftlf_NorESM2-LM.nc\n",
      "Fichier sauvegardé : interp_sftlf/NorESM2-LM_sftlf_reprojete.nc\n",
      "Traitement du modèle NorESM2-MM : masques/masques/sftlf/sftlf_NorESM2-MM.nc\n",
      "Fichier sauvegardé : interp_sftlf/NorESM2-MM_sftlf_reprojete.nc\n",
      "Traitement du modèle UKESM1-0-LL : masques/masques/sftlf/sftlf_UKESM1-0-LL.nc\n",
      "Fichier sauvegardé : interp_sftlf/UKESM1-0-LL_sftlf_reprojete.nc\n"
     ]
    }
   ],
   "source": [
    "path1 = \"masques/masques/sftlf/\"\n",
    "path2 = \"masques/masques/pseudo_sftlf/\"\n",
    "output_dir = \"interp_sftlf\"\n",
    "os.makedirs(output_dir, exist_ok=True)\n",
    "\n",
    "models = [\n",
    "    \"BCC-CSM2-MR\", \"CanESM5\", \"CanESM5-CanOE\", \"CESM2\", \"CESM2-WACCM\", \"CIESM\",\n",
    "    \"CNRM-CM6-1\", \"CNRM-CM6-1-HR\", \"CNRM-ESM2-1\", \"EC-Earth3\", \"EC-Earth3-Veg\",\n",
    "    \"FGOALS-f3-L\", \"FGOALS-g3\", \"GFDL-CM4\", \"GISS-E2-1-G\", \"HadGEM3-GC31-LL\",\n",
    "    \"IPSL-CM6A-LR\", \"MIROC-ES2L\", \"MIROC6\", \"MPI-ESM1-2-HR\", \"MPI-ESM1-2-LR\",\n",
    "    \"MRI-ESM2-0\", \"NorESM2-LM\", \"NorESM2-MM\", \"UKESM1-0-LL\"\n",
    "]\n",
    "\n",
    "# Reference grid\n",
    "ref_grid = ref_grid\n",
    "\n",
    "for model in models:\n",
    "    # Search in sftlf\n",
    "    file_pattern1 = os.path.join(path1, f\"sftlf_{model}.nc\")\n",
    "    files1 = glob.glob(file_pattern1)\n",
    "    \n",
    "    # if not, search in pseudo_sftlf\n",
    "    if not files1:\n",
    "        file_pattern2 = os.path.join(path2, f\"sftlf_{model}.nc\")\n",
    "        files2 = glob.glob(file_pattern2)\n",
    "        if not files2:\n",
    "            print(f\"Aucun fichier trouvé pour le modèle {model}\")\n",
    "            continue\n",
    "        else:\n",
    "            file_path = files2[0]\n",
    "    else:\n",
    "        file_path = files1[0]\n",
    "\n",
    "    print(f\"Traitement du modèle {model} : {file_path}\")\n",
    "\n",
    "    # file projection\n",
    "    with xr.open_dataset(file_path) as ds:\n",
    "        regridder = xe.Regridder(ds, ref_grid, \"bilinear\", periodic=True)\n",
    "        ds_regridded = regridder(ds)\n",
    "\n",
    "        output_path = os.path.join(output_dir, f\"{model}_sftlf_reprojete.nc\")\n",
    "        ds_regridded.to_netcdf(output_path)\n",
    "        print(f\"Fichier sauvegardé : {output_path}\")\n",
    "\n",
    "        del ds_regridded, regridder"
   ]
  },
  {
   "cell_type": "markdown",
   "id": "c97c90f8-687f-4799-9fac-1774887d4777",
   "metadata": {},
   "source": [
    "## Sftgif (only Greenland and Antarctica)"
   ]
  },
  {
   "cell_type": "code",
   "execution_count": 5,
   "id": "b8af049c-588b-4388-98b4-b811163acd77",
   "metadata": {},
   "outputs": [
    {
     "name": "stdout",
     "output_type": "stream",
     "text": [
      "Traitement du modèle BCC-CSM2-MR : masques/masques/pseudo_sftgif/sftgif_BCC-CSM2-MR.nc\n",
      "Fichier sauvegardé : interp_sftgif/BCC-CSM2-MR_sftgif_reprojete.nc\n",
      "Traitement du modèle CanESM5 : masques/masques/sftgif/sftgif_CanESM5.nc\n",
      "Fichier sauvegardé : interp_sftgif/CanESM5_sftgif_reprojete.nc\n",
      "Traitement du modèle CanESM5-CanOE : masques/masques/sftgif/sftgif_CanESM5-CanOE.nc\n",
      "Fichier sauvegardé : interp_sftgif/CanESM5-CanOE_sftgif_reprojete.nc\n",
      "Traitement du modèle CESM2 : masques/masques/sftgif/sftgif_CESM2.nc\n"
     ]
    },
    {
     "name": "stderr",
     "output_type": "stream",
     "text": [
      "/srv/conda/envs/notebook/lib/python3.12/site-packages/xarray/conventions.py:193: SerializationWarning: variable 'sftgif' has multiple fill values {np.float32(1e+20), np.float64(1e+20)} defined, decoding all values to NaN.\n",
      "  var = coder.decode(var, name=name)\n"
     ]
    },
    {
     "name": "stdout",
     "output_type": "stream",
     "text": [
      "Fichier sauvegardé : interp_sftgif/CESM2_sftgif_reprojete.nc\n",
      "Traitement du modèle CESM2-WACCM : masques/masques/sftgif/sftgif_CESM2-WACCM.nc\n"
     ]
    },
    {
     "name": "stderr",
     "output_type": "stream",
     "text": [
      "/srv/conda/envs/notebook/lib/python3.12/site-packages/xarray/conventions.py:193: SerializationWarning: variable 'sftgif' has multiple fill values {np.float32(1e+20), np.float64(1e+20)} defined, decoding all values to NaN.\n",
      "  var = coder.decode(var, name=name)\n"
     ]
    },
    {
     "name": "stdout",
     "output_type": "stream",
     "text": [
      "Fichier sauvegardé : interp_sftgif/CESM2-WACCM_sftgif_reprojete.nc\n",
      "Traitement du modèle CIESM : masques/masques/sftgif/sftgif_CIESM.nc\n",
      "Fichier sauvegardé : interp_sftgif/CIESM_sftgif_reprojete.nc\n",
      "Traitement du modèle CNRM-CM6-1 : masques/masques/sftgif/sftgif_CNRM-CM6-1.nc\n",
      "Fichier sauvegardé : interp_sftgif/CNRM-CM6-1_sftgif_reprojete.nc\n",
      "Traitement du modèle CNRM-CM6-1-HR : masques/masques/sftgif/sftgif_CNRM-CM6-1-HR.nc\n",
      "Fichier sauvegardé : interp_sftgif/CNRM-CM6-1-HR_sftgif_reprojete.nc\n",
      "Traitement du modèle CNRM-ESM2-1 : masques/masques/sftgif/sftgif_CNRM-ESM2-1.nc\n",
      "Fichier sauvegardé : interp_sftgif/CNRM-ESM2-1_sftgif_reprojete.nc\n",
      "Traitement du modèle EC-Earth3 : masques/masques/sftgif/sftgif_EC-Earth3.nc\n",
      "Fichier sauvegardé : interp_sftgif/EC-Earth3_sftgif_reprojete.nc\n",
      "Traitement du modèle EC-Earth3-Veg : masques/masques/sftgif/sftgif_EC-Earth3-Veg.nc\n",
      "Fichier sauvegardé : interp_sftgif/EC-Earth3-Veg_sftgif_reprojete.nc\n",
      "Traitement du modèle FGOALS-f3-L : masques/masques/sftgif/sftgif_FGOALS-f3-L.nc\n",
      "Fichier sauvegardé : interp_sftgif/FGOALS-f3-L_sftgif_reprojete.nc\n",
      "Traitement du modèle FGOALS-g3 : masques/masques/sftgif/sftgif_FGOALS-g3.nc\n",
      "Fichier sauvegardé : interp_sftgif/FGOALS-g3_sftgif_reprojete.nc\n",
      "Traitement du modèle GFDL-CM4 : masques/masques/sftgif/sftgif_GFDL-CM4.nc\n",
      "Fichier sauvegardé : interp_sftgif/GFDL-CM4_sftgif_reprojete.nc\n",
      "Traitement du modèle GISS-E2-1-G : masques/masques/sftgif/sftgif_GISS-E2-1-G.nc\n",
      "Fichier sauvegardé : interp_sftgif/GISS-E2-1-G_sftgif_reprojete.nc\n",
      "Traitement du modèle HadGEM3-GC31-LL : masques/masques/pseudo_sftgif/sftgif_HadGEM3-GC31-LL.nc\n",
      "Fichier sauvegardé : interp_sftgif/HadGEM3-GC31-LL_sftgif_reprojete.nc\n",
      "Traitement du modèle IPSL-CM6A-LR : masques/masques/pseudo_sftgif/sftgif_IPSL-CM6A-LR.nc\n",
      "Fichier sauvegardé : interp_sftgif/IPSL-CM6A-LR_sftgif_reprojete.nc\n",
      "Traitement du modèle MIROC-ES2L : masques/masques/sftgif/sftgif_MIROC-ES2L.nc\n",
      "Fichier sauvegardé : interp_sftgif/MIROC-ES2L_sftgif_reprojete.nc\n",
      "Traitement du modèle MIROC6 : masques/masques/pseudo_sftgif/sftgif_MIROC6.nc\n",
      "Fichier sauvegardé : interp_sftgif/MIROC6_sftgif_reprojete.nc\n",
      "Traitement du modèle MPI-ESM1-2-HR : masques/masques/sftgif/sftgif_MPI-ESM1-2-HR.nc\n",
      "Fichier sauvegardé : interp_sftgif/MPI-ESM1-2-HR_sftgif_reprojete.nc\n",
      "Traitement du modèle MPI-ESM1-2-LR : masques/masques/sftgif/sftgif_MPI-ESM1-2-LR.nc\n",
      "Fichier sauvegardé : interp_sftgif/MPI-ESM1-2-LR_sftgif_reprojete.nc\n",
      "Traitement du modèle MRI-ESM2-0 : masques/masques/sftgif/sftgif_MRI-ESM2-0.nc\n",
      "Fichier sauvegardé : interp_sftgif/MRI-ESM2-0_sftgif_reprojete.nc\n",
      "Traitement du modèle NorESM2-LM : masques/masques/sftgif/sftgif_NorESM2-LM.nc\n",
      "Fichier sauvegardé : interp_sftgif/NorESM2-LM_sftgif_reprojete.nc\n",
      "Traitement du modèle NorESM2-MM : masques/masques/sftgif/sftgif_NorESM2-MM.nc\n",
      "Fichier sauvegardé : interp_sftgif/NorESM2-MM_sftgif_reprojete.nc\n",
      "Traitement du modèle UKESM1-0-LL : masques/masques/pseudo_sftgif/sftgif_UKESM1-0-LL.nc\n",
      "Fichier sauvegardé : interp_sftgif/UKESM1-0-LL_sftgif_reprojete.nc\n"
     ]
    }
   ],
   "source": [
    "path1 = \"masques/masques/sftgif/\"\n",
    "path2 = \"masques/masques/pseudo_sftgif/\"\n",
    "output_dir = \"interp_sftgif\"\n",
    "os.makedirs(output_dir, exist_ok=True)\n",
    "\n",
    "models = [\n",
    "    \"BCC-CSM2-MR\", \"CanESM5\", \"CanESM5-CanOE\", \"CESM2\", \"CESM2-WACCM\", \"CIESM\",\n",
    "    \"CNRM-CM6-1\", \"CNRM-CM6-1-HR\", \"CNRM-ESM2-1\", \"EC-Earth3\", \"EC-Earth3-Veg\",\n",
    "    \"FGOALS-f3-L\", \"FGOALS-g3\", \"GFDL-CM4\", \"GISS-E2-1-G\", \"HadGEM3-GC31-LL\",\n",
    "    \"IPSL-CM6A-LR\", \"MIROC-ES2L\", \"MIROC6\", \"MPI-ESM1-2-HR\", \"MPI-ESM1-2-LR\",\n",
    "    \"MRI-ESM2-0\", \"NorESM2-LM\", \"NorESM2-MM\", \"UKESM1-0-LL\"\n",
    "]\n",
    "\n",
    "# Reference grid\n",
    "ref_grid = ref_grid\n",
    "\n",
    "for model in models:\n",
    "    # Search in sftgif\n",
    "    file_pattern1 = os.path.join(path1, f\"sftgif_{model}.nc\")\n",
    "    files1 = glob.glob(file_pattern1)\n",
    "    \n",
    "    # if not, search in pseudo_sftgif\n",
    "    if not files1:\n",
    "        file_pattern2 = os.path.join(path2, f\"sftgif_{model}.nc\")\n",
    "        files2 = glob.glob(file_pattern2)\n",
    "        if not files2:\n",
    "            print(f\"Aucun fichier trouvé pour le modèle {model}\")\n",
    "            continue\n",
    "        else:\n",
    "            file_path = files2[0]\n",
    "    else:\n",
    "        file_path = files1[0]\n",
    "\n",
    "    print(f\"Traitement du modèle {model} : {file_path}\")\n",
    "\n",
    "    # file projection\n",
    "    with xr.open_dataset(file_path) as ds:\n",
    "        regridder = xe.Regridder(ds, ref_grid, \"bilinear\", periodic=True)\n",
    "        ds_regridded = regridder(ds)\n",
    "\n",
    "        output_path = os.path.join(output_dir, f\"{model}_sftgif_reprojete.nc\")\n",
    "        ds_regridded.to_netcdf(output_path)\n",
    "        print(f\"Fichier sauvegardé : {output_path}\")\n",
    "\n",
    "        del ds_regridded, regridder"
   ]
  },
  {
   "cell_type": "code",
   "execution_count": null,
   "id": "41d39f81-8611-404e-b783-4d91e2e06073",
   "metadata": {},
   "outputs": [],
   "source": []
  }
 ],
 "metadata": {
  "kernelspec": {
   "display_name": "Python 3 (ipykernel)",
   "language": "python",
   "name": "python3"
  },
  "language_info": {
   "codemirror_mode": {
    "name": "ipython",
    "version": 3
   },
   "file_extension": ".py",
   "mimetype": "text/x-python",
   "name": "python",
   "nbconvert_exporter": "python",
   "pygments_lexer": "ipython3",
   "version": "3.12.8"
  }
 },
 "nbformat": 4,
 "nbformat_minor": 5
}
