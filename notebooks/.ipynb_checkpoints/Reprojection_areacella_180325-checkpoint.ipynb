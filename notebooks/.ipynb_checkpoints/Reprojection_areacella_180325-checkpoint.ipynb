{
 "cells": [
  {
   "cell_type": "markdown",
   "id": "aad120a0-4ede-4bca-8e96-5c9162c5cd37",
   "metadata": {},
   "source": [
    "# Reprojection des areacella sur la grille de référence"
   ]
  },
  {
   "cell_type": "code",
   "execution_count": 1,
   "id": "73f09678-9e70-4360-996d-0f67c38ceb2e",
   "metadata": {},
   "outputs": [
    {
     "name": "stderr",
     "output_type": "stream",
     "text": [
      "/srv/conda/envs/notebook/lib/python3.12/site-packages/esmpy/interface/loadESMF.py:94: VersionWarning: ESMF installation version 8.8.0, ESMPy version 8.8.0b0\n",
      "  warnings.warn(\"ESMF installation version {}, ESMPy version {}\".format(\n"
     ]
    }
   ],
   "source": [
    "import os\n",
    "import glob\n",
    "import xarray as xr\n",
    "import xesmf as xe"
   ]
  },
  {
   "cell_type": "code",
   "execution_count": 2,
   "id": "98008bba-4dc6-49d9-a56d-c1c76215925e",
   "metadata": {},
   "outputs": [],
   "source": [
    "path = \"/home/jovyan/private-storage/grid/\"\n",
    "file = \"nhsce_mon.v01r01_19661004_20250303_1.0x1.0.nc\"\n",
    "ref_grid = xr.open_dataset(os.path.join(path, file))"
   ]
  },
  {
   "cell_type": "code",
   "execution_count": 3,
   "id": "722b5506-420e-4e4c-99ea-7328d45b77cb",
   "metadata": {},
   "outputs": [],
   "source": [
    "ref_grid = ref_grid.sel(time=slice(\"1995\", \"2014\"))"
   ]
  },
  {
   "cell_type": "code",
   "execution_count": 5,
   "id": "1f3c7dea-973f-44fe-9fc7-ddc7cdd8f423",
   "metadata": {},
   "outputs": [
    {
     "name": "stdout",
     "output_type": "stream",
     "text": [
      "Traitement du modèle BCC-CSM2-MR : masques/masques/pseudo_areacella/areacella_BCC-CSM2-MR.nc\n",
      "Fichier sauvegardé : interp_areacella/BCC-CSM2-MR_areacella_reprojete.nc\n",
      "Traitement du modèle CanESM5 : masques/masques/areacella/areacella_CanESM5.nc\n",
      "Fichier sauvegardé : interp_areacella/CanESM5_areacella_reprojete.nc\n",
      "Traitement du modèle CanESM5-CanOE : masques/masques/areacella/areacella_CanESM5-CanOE.nc\n",
      "Fichier sauvegardé : interp_areacella/CanESM5-CanOE_areacella_reprojete.nc\n",
      "Traitement du modèle CESM2 : masques/masques/areacella/areacella_CESM2.nc\n"
     ]
    },
    {
     "name": "stderr",
     "output_type": "stream",
     "text": [
      "/srv/conda/envs/notebook/lib/python3.12/site-packages/xarray/conventions.py:193: SerializationWarning: variable 'areacella' has multiple fill values {np.float32(1e+20), np.float64(1e+20)} defined, decoding all values to NaN.\n",
      "  var = coder.decode(var, name=name)\n"
     ]
    },
    {
     "name": "stdout",
     "output_type": "stream",
     "text": [
      "Fichier sauvegardé : interp_areacella/CESM2_areacella_reprojete.nc\n",
      "Traitement du modèle CESM2-WACCM : masques/masques/areacella/areacella_CESM2-WACCM.nc\n"
     ]
    },
    {
     "name": "stderr",
     "output_type": "stream",
     "text": [
      "/srv/conda/envs/notebook/lib/python3.12/site-packages/xarray/conventions.py:193: SerializationWarning: variable 'areacella' has multiple fill values {np.float32(1e+20), np.float64(1e+20)} defined, decoding all values to NaN.\n",
      "  var = coder.decode(var, name=name)\n"
     ]
    },
    {
     "name": "stdout",
     "output_type": "stream",
     "text": [
      "Fichier sauvegardé : interp_areacella/CESM2-WACCM_areacella_reprojete.nc\n",
      "Traitement du modèle CIESM : masques/masques/pseudo_areacella/areacella_CIESM.nc\n",
      "Fichier sauvegardé : interp_areacella/CIESM_areacella_reprojete.nc\n",
      "Traitement du modèle CNRM-CM6-1 : masques/masques/areacella/areacella_CNRM-CM6-1.nc\n",
      "Fichier sauvegardé : interp_areacella/CNRM-CM6-1_areacella_reprojete.nc\n",
      "Traitement du modèle CNRM-CM6-1-HR : masques/masques/areacella/areacella_CNRM-CM6-1-HR.nc\n",
      "Fichier sauvegardé : interp_areacella/CNRM-CM6-1-HR_areacella_reprojete.nc\n",
      "Traitement du modèle CNRM-ESM2-1 : masques/masques/areacella/areacella_CNRM-ESM2-1.nc\n",
      "Fichier sauvegardé : interp_areacella/CNRM-ESM2-1_areacella_reprojete.nc\n",
      "Traitement du modèle EC-Earth3 : masques/masques/pseudo_areacella/areacella_EC-Earth3.nc\n",
      "Fichier sauvegardé : interp_areacella/EC-Earth3_areacella_reprojete.nc\n",
      "Traitement du modèle EC-Earth3-Veg : masques/masques/areacella/areacella_EC-Earth3-Veg.nc\n",
      "Fichier sauvegardé : interp_areacella/EC-Earth3-Veg_areacella_reprojete.nc\n",
      "Traitement du modèle FGOALS-f3-L : masques/masques/pseudo_areacella/areacella_FGOALS-f3-L.nc\n",
      "Fichier sauvegardé : interp_areacella/FGOALS-f3-L_areacella_reprojete.nc\n",
      "Traitement du modèle FGOALS-g3 : masques/masques/pseudo_areacella/areacella_FGOALS-g3.nc\n",
      "Fichier sauvegardé : interp_areacella/FGOALS-g3_areacella_reprojete.nc\n",
      "Traitement du modèle GFDL-CM4 : masques/masques/areacella/areacella_GFDL-CM4.nc\n",
      "Fichier sauvegardé : interp_areacella/GFDL-CM4_areacella_reprojete.nc\n",
      "Traitement du modèle GISS-E2-1-G : masques/masques/areacella/areacella_GISS-E2-1-G.nc\n",
      "Fichier sauvegardé : interp_areacella/GISS-E2-1-G_areacella_reprojete.nc\n",
      "Traitement du modèle HadGEM3-GC31-LL : masques/masques/areacella/areacella_HadGEM3-GC31-LL.nc\n",
      "Fichier sauvegardé : interp_areacella/HadGEM3-GC31-LL_areacella_reprojete.nc\n",
      "Traitement du modèle IPSL-CM6A-LR : masques/masques/areacella/areacella_IPSL-CM6A-LR.nc\n",
      "Fichier sauvegardé : interp_areacella/IPSL-CM6A-LR_areacella_reprojete.nc\n",
      "Traitement du modèle MIROC-ES2L : masques/masques/areacella/areacella_MIROC-ES2L.nc\n",
      "Fichier sauvegardé : interp_areacella/MIROC-ES2L_areacella_reprojete.nc\n",
      "Traitement du modèle MIROC6 : masques/masques/areacella/areacella_MIROC6.nc\n",
      "Fichier sauvegardé : interp_areacella/MIROC6_areacella_reprojete.nc\n",
      "Traitement du modèle MPI-ESM1-2-HR : masques/masques/areacella/areacella_MPI-ESM1-2-HR.nc\n",
      "Fichier sauvegardé : interp_areacella/MPI-ESM1-2-HR_areacella_reprojete.nc\n",
      "Traitement du modèle MPI-ESM1-2-LR : masques/masques/areacella/areacella_MPI-ESM1-2-LR.nc\n",
      "Fichier sauvegardé : interp_areacella/MPI-ESM1-2-LR_areacella_reprojete.nc\n",
      "Traitement du modèle MRI-ESM2-0 : masques/masques/areacella/areacella_MRI-ESM2-0.nc\n",
      "Fichier sauvegardé : interp_areacella/MRI-ESM2-0_areacella_reprojete.nc\n",
      "Traitement du modèle NorESM2-LM : masques/masques/areacella/areacella_NorESM2-LM.nc\n",
      "Fichier sauvegardé : interp_areacella/NorESM2-LM_areacella_reprojete.nc\n",
      "Traitement du modèle NorESM2-MM : masques/masques/areacella/areacella_NorESM2-MM.nc\n",
      "Fichier sauvegardé : interp_areacella/NorESM2-MM_areacella_reprojete.nc\n",
      "Traitement du modèle UKESM1-0-LL : masques/masques/areacella/areacella_UKESM1-0-LL.nc\n",
      "Fichier sauvegardé : interp_areacella/UKESM1-0-LL_areacella_reprojete.nc\n"
     ]
    }
   ],
   "source": [
    "path1 = \"/home/jovyan/private-storage/masques/masques/areacella/\"\n",
    "path2 = \"/home/jovyan/private-storage/masques/masques/pseudo_areacella/\"\n",
    "output_dir = \"/home/jovyan/private-storage/interp_areacella\"\n",
    "os.makedirs(output_dir, exist_ok=True)\n",
    "\n",
    "models = [\n",
    "    \"BCC-CSM2-MR\", \"CanESM5\", \"CanESM5-CanOE\", \"CESM2\", \"CESM2-WACCM\", \"CIESM\",\n",
    "    \"CNRM-CM6-1\", \"CNRM-CM6-1-HR\", \"CNRM-ESM2-1\", \"EC-Earth3\", \"EC-Earth3-Veg\",\n",
    "    \"FGOALS-f3-L\", \"FGOALS-g3\", \"GFDL-CM4\", \"GISS-E2-1-G\", \"HadGEM3-GC31-LL\",\n",
    "    \"IPSL-CM6A-LR\", \"MIROC-ES2L\", \"MIROC6\", \"MPI-ESM1-2-HR\", \"MPI-ESM1-2-LR\",\n",
    "    \"MRI-ESM2-0\", \"NorESM2-LM\", \"NorESM2-MM\", \"UKESM1-0-LL\"\n",
    "]\n",
    "\n",
    "# Reference grid\n",
    "ref_grid = ref_grid\n",
    "\n",
    "for model in models:\n",
    "    # Search in areacella\n",
    "    file_pattern1 = os.path.join(path1, f\"areacella_{model}.nc\")\n",
    "    files1 = glob.glob(file_pattern1)\n",
    "    \n",
    "    # if not, search in pseudo_areacella\n",
    "    if not files1:\n",
    "        file_pattern2 = os.path.join(path2, f\"areacella_{model}.nc\")\n",
    "        files2 = glob.glob(file_pattern2)\n",
    "        if not files2:\n",
    "            print(f\"Aucun fichier trouvé pour le modèle {model}\")\n",
    "            continue\n",
    "        else:\n",
    "            file_path = files2[0]\n",
    "    else:\n",
    "        file_path = files1[0]\n",
    "\n",
    "    print(f\"Traitement du modèle {model} : {file_path}\")\n",
    "\n",
    "    # file projection\n",
    "    with xr.open_dataset(file_path) as ds:\n",
    "        regridder = xe.Regridder(ds, ref_grid, \"bilinear\", periodic=True)\n",
    "        ds_regridded = regridder(ds)\n",
    "\n",
    "        output_path = os.path.join(output_dir, f\"{model}_areacella_reprojete.nc\")\n",
    "        ds_regridded.to_netcdf(output_path)\n",
    "        print(f\"Fichier sauvegardé : {output_path}\")\n",
    "\n",
    "        del ds_regridded, regridder"
   ]
  },
  {
   "cell_type": "code",
   "execution_count": null,
   "id": "2f64048e-2365-4dc6-801e-86d0cb3fe09e",
   "metadata": {},
   "outputs": [],
   "source": []
  }
 ],
 "metadata": {
  "kernelspec": {
   "display_name": "Python 3 (ipykernel)",
   "language": "python",
   "name": "python3"
  },
  "language_info": {
   "codemirror_mode": {
    "name": "ipython",
    "version": 3
   },
   "file_extension": ".py",
   "mimetype": "text/x-python",
   "name": "python",
   "nbconvert_exporter": "python",
   "pygments_lexer": "ipython3",
   "version": "3.12.8"
  }
 },
 "nbformat": 4,
 "nbformat_minor": 5
}
