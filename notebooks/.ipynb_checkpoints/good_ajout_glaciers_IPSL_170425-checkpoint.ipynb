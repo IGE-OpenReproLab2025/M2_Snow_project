{
 "cells": [
  {
   "cell_type": "markdown",
   "id": "c60eeea0-890d-4ed0-8e15-c2ba257ddd86",
   "metadata": {},
   "source": [
    "# Ajout glaciers modèle IPSL"
   ]
  },
  {
   "cell_type": "code",
   "execution_count": 7,
   "id": "89099172-7740-401d-af5f-2917cfa763c4",
   "metadata": {},
   "outputs": [
    {
     "name": "stdout",
     "output_type": "stream",
     "text": [
      "The watermark extension is already loaded. To reload it, use:\n",
      "  %reload_ext watermark\n",
      "Last updated: 2025-04-24T07:40:10.617957+00:00\n",
      "\n",
      "Python implementation: CPython\n",
      "Python version       : 3.12.8\n",
      "IPython version      : 8.17.2\n",
      "\n",
      "Compiler    : GCC 13.3.0\n",
      "OS          : Linux\n",
      "Release     : 6.8.0-31-generic\n",
      "Machine     : x86_64\n",
      "Processor   : x86_64\n",
      "CPU cores   : 8\n",
      "Architecture: 64bit\n",
      "\n"
     ]
    }
   ],
   "source": [
    "from watermark import watermark\n",
    "%load_ext watermark\n",
    "print(watermark())"
   ]
  },
  {
   "cell_type": "code",
   "execution_count": 2,
   "id": "0540f412-f6c7-48f4-b067-832db5c2264c",
   "metadata": {},
   "outputs": [],
   "source": [
    "import xarray as xr\n",
    "import pandas as pd\n",
    "import numpy as np\n",
    "import os\n",
    "import matplotlib.pyplot as plt\n",
    "import cartopy.crs as ccrs"
   ]
  },
  {
   "cell_type": "code",
   "execution_count": 4,
   "id": "584e8163-1d4c-47a9-88a9-e05e9324b048",
   "metadata": {},
   "outputs": [
    {
     "name": "stdout",
     "output_type": "stream",
     "text": [
      "watermark : 2.5.0\n",
      "numpy     : 2.0.2\n",
      "cartopy   : 0.24.0\n",
      "pandas    : 2.2.3\n",
      "xarray    : 2025.1.1\n",
      "matplotlib: 3.10.0\n",
      "\n"
     ]
    }
   ],
   "source": [
    "%watermark --iversions"
   ]
  },
  {
   "cell_type": "markdown",
   "id": "09dcd8f7-8d2a-4dab-8c38-730dbc21b805",
   "metadata": {},
   "source": [
    "## Fichier de sortie SnowWarming regriddé"
   ]
  },
  {
   "cell_type": "code",
   "execution_count": 5,
   "id": "b6e80a14-3e21-4ce2-9851-aca068bf4288",
   "metadata": {},
   "outputs": [],
   "source": [
    "path_snc = os.path.join(\"~/private-storage/interp_models_SW/\", \"IPSL-CM6A-LR_SW_reprojete.nc\")\n",
    "path_sftgif = os.path.join(\"/home/jovyan/private-storage/interp_sftgif_bis/\", \"IPSL-CM6A-LR_sftgif_reprojete.nc\")\n",
    "\n",
    "ds_snc = xr.open_dataset(path_snc)\n",
    "ds_sftgif = xr.open_dataset(path_sftgif)\n",
    "\n",
    "sncbin = ds_snc[\"sncbin\"]\n",
    "sftgif = ds_sftgif[\"sftgif\"]\n",
    "\n",
    "# création d'un masque qui remarque les valeurs de sncbin comme nan ou > à 1e19\n",
    "mask = np.isnan(sncbin) | (sncbin > 1e19)\n",
    "\n",
    "# lorsque sncbin a les valeurs du masque, on remplace par sftgif\n",
    "snc_combined = sncbin.where(~mask, sftgif)"
   ]
  },
  {
   "cell_type": "code",
   "execution_count": 6,
   "id": "a6d13dcc-8391-4e71-9fde-8aa7a2c402a9",
   "metadata": {},
   "outputs": [],
   "source": [
    "snc_combined.to_netcdf(\"~/private-storage/interp_models_SW/IPSL-CM6A-LR2_SW_reprojete.nc\", format=\"NETCDF4\")"
   ]
  },
  {
   "cell_type": "code",
   "execution_count": null,
   "id": "eac92896-98f9-490e-9c3e-5985abb2b35a",
   "metadata": {},
   "outputs": [],
   "source": []
  }
 ],
 "metadata": {
  "kernelspec": {
   "display_name": "Python 3 (ipykernel)",
   "language": "python",
   "name": "python3"
  },
  "language_info": {
   "codemirror_mode": {
    "name": "ipython",
    "version": 3
   },
   "file_extension": ".py",
   "mimetype": "text/x-python",
   "name": "python",
   "nbconvert_exporter": "python",
   "pygments_lexer": "ipython3",
   "version": "3.12.8"
  }
 },
 "nbformat": 4,
 "nbformat_minor": 5
}
