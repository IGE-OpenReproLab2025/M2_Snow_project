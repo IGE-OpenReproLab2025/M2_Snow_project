{
 "cells": [
  {
   "cell_type": "markdown",
   "id": "54aad290-ec09-4032-8679-e7c4aff1a782",
   "metadata": {},
   "source": [
    "# Recalcul areacella avec l'aide de cdo "
   ]
  },
  {
   "cell_type": "code",
   "execution_count": 1,
   "id": "a7f02bbf-040c-4a0e-a525-9cddb6ed779a",
   "metadata": {},
   "outputs": [
    {
     "name": "stdout",
     "output_type": "stream",
     "text": [
      "Collecting cdo\n",
      "  Using cached cdo-1.6.1-py3-none-any.whl.metadata (14 kB)\n",
      "Requirement already satisfied: six in /srv/conda/envs/notebook/lib/python3.12/site-packages (from cdo) (1.17.0)\n",
      "Requirement already satisfied: packaging in /srv/conda/envs/notebook/lib/python3.12/site-packages (from cdo) (24.2)\n",
      "Using cached cdo-1.6.1-py3-none-any.whl (16 kB)\n",
      "Installing collected packages: cdo\n",
      "Successfully installed cdo-1.6.1\n",
      "Note: you may need to restart the kernel to use updated packages.\n"
     ]
    }
   ],
   "source": [
    "pip install cdo"
   ]
  },
  {
   "cell_type": "code",
   "execution_count": 2,
   "id": "238456bc-4760-4450-a60d-ab43f73166fb",
   "metadata": {},
   "outputs": [
    {
     "name": "stderr",
     "output_type": "stream",
     "text": [
      "/srv/conda/envs/notebook/lib/python3.12/site-packages/esmpy/interface/loadESMF.py:94: VersionWarning: ESMF installation version 8.8.0, ESMPy version 8.8.0b0\n",
      "  warnings.warn(\"ESMF installation version {}, ESMPy version {}\".format(\n"
     ]
    }
   ],
   "source": [
    "import os\n",
    "import cdo\n",
    "import glob\n",
    "import xarray as xr\n",
    "import xesmf as xe"
   ]
  },
  {
   "cell_type": "code",
   "execution_count": 14,
   "id": "312e0b32-2149-4c67-afc0-84251e9331cf",
   "metadata": {},
   "outputs": [
    {
     "name": "stdout",
     "output_type": "stream",
     "text": [
      "Traitement du modèle BCC-CSM2-MR : ~/private-storage/interp_models_hist/BCC-CSM2-MR_hist_reprojete.nc\n",
      "Exécution de la commande : cdo gridarea ~/private-storage/interp_models_hist/BCC-CSM2-MR_hist_reprojete.nc /home/jovyan/private-storage/areacella_recalcule_cdo/BCC-CSM2-MR_gridarea_recalcule.nc\n",
      "cdo    gridarea: Processed 1 variable [0.16s 49MB].\n",
      "Traitement du modèle CanESM5 : ~/private-storage/interp_models_hist/CanESM5_hist_reprojete.nc\n",
      "Exécution de la commande : cdo gridarea ~/private-storage/interp_models_hist/CanESM5_hist_reprojete.nc /home/jovyan/private-storage/areacella_recalcule_cdo/CanESM5_gridarea_recalcule.nc\n",
      "cdo    gridarea: Processed 1 variable [0.19s 49MB].\n",
      "Traitement du modèle CanESM5-CanOE : ~/private-storage/interp_models_hist/CanESM5-CanOE_hist_reprojete.nc\n",
      "Exécution de la commande : cdo gridarea ~/private-storage/interp_models_hist/CanESM5-CanOE_hist_reprojete.nc /home/jovyan/private-storage/areacella_recalcule_cdo/CanESM5-CanOE_gridarea_recalcule.nc\n",
      "cdo    gridarea: Processed 1 variable [0.18s 49MB].\n",
      "Traitement du modèle CESM2 : ~/private-storage/interp_models_hist/CESM2_hist_reprojete.nc\n",
      "Exécution de la commande : cdo gridarea ~/private-storage/interp_models_hist/CESM2_hist_reprojete.nc /home/jovyan/private-storage/areacella_recalcule_cdo/CESM2_gridarea_recalcule.nc\n",
      "cdo    gridarea: Processed 1 variable [0.08s 49MB].\n",
      "Traitement du modèle CESM2-WACCM : ~/private-storage/interp_models_hist/CESM2-WACCM_hist_reprojete.nc\n",
      "Exécution de la commande : cdo gridarea ~/private-storage/interp_models_hist/CESM2-WACCM_hist_reprojete.nc /home/jovyan/private-storage/areacella_recalcule_cdo/CESM2-WACCM_gridarea_recalcule.nc\n",
      "cdo    gridarea: Processed 1 variable [0.12s 49MB].\n",
      "Traitement du modèle CIESM : ~/private-storage/interp_models_hist/CIESM_hist_reprojete.nc\n",
      "Exécution de la commande : cdo gridarea ~/private-storage/interp_models_hist/CIESM_hist_reprojete.nc /home/jovyan/private-storage/areacella_recalcule_cdo/CIESM_gridarea_recalcule.nc\n",
      "cdo    gridarea: Processed 1 variable [0.12s 49MB].\n",
      "Traitement du modèle CNRM-CM6-1 : ~/private-storage/interp_models_hist/CNRM-CM6-1_hist_reprojete.nc\n",
      "Exécution de la commande : cdo gridarea ~/private-storage/interp_models_hist/CNRM-CM6-1_hist_reprojete.nc /home/jovyan/private-storage/areacella_recalcule_cdo/CNRM-CM6-1_gridarea_recalcule.nc\n",
      "cdo    gridarea: Processed 1 variable [0.10s 48MB].\n",
      "Traitement du modèle CNRM-CM6-1-HR : ~/private-storage/interp_models_hist/CNRM-CM6-1-HR_hist_reprojete.nc\n",
      "Exécution de la commande : cdo gridarea ~/private-storage/interp_models_hist/CNRM-CM6-1-HR_hist_reprojete.nc /home/jovyan/private-storage/areacella_recalcule_cdo/CNRM-CM6-1-HR_gridarea_recalcule.nc\n",
      "cdo    gridarea: Processed 1 variable [0.21s 49MB].\n",
      "Traitement du modèle CNRM-ESM2-1 : ~/private-storage/interp_models_hist/CNRM-ESM2-1_hist_reprojete.nc\n",
      "Exécution de la commande : cdo gridarea ~/private-storage/interp_models_hist/CNRM-ESM2-1_hist_reprojete.nc /home/jovyan/private-storage/areacella_recalcule_cdo/CNRM-ESM2-1_gridarea_recalcule.nc\n",
      "cdo    gridarea: Processed 1 variable [0.07s 49MB].\n",
      "Traitement du modèle EC-Earth3 : ~/private-storage/interp_models_hist/EC-Earth3_hist_reprojete.nc\n",
      "Exécution de la commande : cdo gridarea ~/private-storage/interp_models_hist/EC-Earth3_hist_reprojete.nc /home/jovyan/private-storage/areacella_recalcule_cdo/EC-Earth3_gridarea_recalcule.nc\n",
      "cdo    gridarea: Processed 1 variable [0.19s 49MB].\n",
      "Traitement du modèle EC-Earth3-Veg : ~/private-storage/interp_models_hist/EC-Earth3-Veg_hist_reprojete.nc\n",
      "Exécution de la commande : cdo gridarea ~/private-storage/interp_models_hist/EC-Earth3-Veg_hist_reprojete.nc /home/jovyan/private-storage/areacella_recalcule_cdo/EC-Earth3-Veg_gridarea_recalcule.nc\n",
      "cdo    gridarea: Processed 1 variable [0.22s 49MB].\n",
      "Traitement du modèle FGOALS-f3-L : ~/private-storage/interp_models_hist/FGOALS-f3-L_hist_reprojete.nc\n",
      "Exécution de la commande : cdo gridarea ~/private-storage/interp_models_hist/FGOALS-f3-L_hist_reprojete.nc /home/jovyan/private-storage/areacella_recalcule_cdo/FGOALS-f3-L_gridarea_recalcule.nc\n",
      "cdo    gridarea: Processed 1 variable [0.17s 49MB].\n",
      "Traitement du modèle FGOALS-g3 : ~/private-storage/interp_models_hist/FGOALS-g3_hist_reprojete.nc\n",
      "Exécution de la commande : cdo gridarea ~/private-storage/interp_models_hist/FGOALS-g3_hist_reprojete.nc /home/jovyan/private-storage/areacella_recalcule_cdo/FGOALS-g3_gridarea_recalcule.nc\n",
      "cdo    gridarea: Processed 1 variable [0.15s 49MB].\n",
      "Traitement du modèle GFDL-CM4 : ~/private-storage/interp_models_hist/GFDL-CM4_hist_reprojete.nc\n",
      "Exécution de la commande : cdo gridarea ~/private-storage/interp_models_hist/GFDL-CM4_hist_reprojete.nc /home/jovyan/private-storage/areacella_recalcule_cdo/GFDL-CM4_gridarea_recalcule.nc\n",
      "cdo    gridarea: Processed 1 variable [0.10s 49MB].\n",
      "Traitement du modèle GISS-E2-1-G : ~/private-storage/interp_models_hist/GISS-E2-1-G_hist_reprojete.nc\n",
      "Exécution de la commande : cdo gridarea ~/private-storage/interp_models_hist/GISS-E2-1-G_hist_reprojete.nc /home/jovyan/private-storage/areacella_recalcule_cdo/GISS-E2-1-G_gridarea_recalcule.nc\n",
      "cdo    gridarea: Processed 1 variable [0.13s 49MB].\n",
      "Traitement du modèle HadGEM3-GC31-LL : ~/private-storage/interp_models_hist/HadGEM3-GC31-LL_hist_reprojete.nc\n",
      "Exécution de la commande : cdo gridarea ~/private-storage/interp_models_hist/HadGEM3-GC31-LL_hist_reprojete.nc /home/jovyan/private-storage/areacella_recalcule_cdo/HadGEM3-GC31-LL_gridarea_recalcule.nc\n",
      "cdo    gridarea: Processed 1 variable [0.17s 48MB].\n",
      "Traitement du modèle IPSL-CM6A-LR : ~/private-storage/interp_models_hist/IPSL-CM6A-LR_hist_reprojete.nc\n",
      "Exécution de la commande : cdo gridarea ~/private-storage/interp_models_hist/IPSL-CM6A-LR_hist_reprojete.nc /home/jovyan/private-storage/areacella_recalcule_cdo/IPSL-CM6A-LR_gridarea_recalcule.nc\n",
      "cdo    gridarea: Processed 1 variable [0.11s 49MB].\n",
      "Traitement du modèle MIROC-ES2L : ~/private-storage/interp_models_hist/MIROC-ES2L_hist_reprojete.nc\n",
      "Exécution de la commande : cdo gridarea ~/private-storage/interp_models_hist/MIROC-ES2L_hist_reprojete.nc /home/jovyan/private-storage/areacella_recalcule_cdo/MIROC-ES2L_gridarea_recalcule.nc\n",
      "cdo    gridarea: Processed 1 variable [0.12s 49MB].\n",
      "Traitement du modèle MIROC6 : ~/private-storage/interp_models_hist/MIROC6_hist_reprojete.nc\n",
      "Exécution de la commande : cdo gridarea ~/private-storage/interp_models_hist/MIROC6_hist_reprojete.nc /home/jovyan/private-storage/areacella_recalcule_cdo/MIROC6_gridarea_recalcule.nc\n",
      "cdo    gridarea: Processed 1 variable [0.12s 49MB].\n",
      "Traitement du modèle MPI-ESM1-2-HR : ~/private-storage/interp_models_hist/MPI-ESM1-2-HR_hist_reprojete.nc\n",
      "Exécution de la commande : cdo gridarea ~/private-storage/interp_models_hist/MPI-ESM1-2-HR_hist_reprojete.nc /home/jovyan/private-storage/areacella_recalcule_cdo/MPI-ESM1-2-HR_gridarea_recalcule.nc\n",
      "cdo    gridarea: Processed 1 variable [0.08s 49MB].\n",
      "Traitement du modèle MPI-ESM1-2-LR : ~/private-storage/interp_models_hist/MPI-ESM1-2-LR_hist_reprojete.nc\n",
      "Exécution de la commande : cdo gridarea ~/private-storage/interp_models_hist/MPI-ESM1-2-LR_hist_reprojete.nc /home/jovyan/private-storage/areacella_recalcule_cdo/MPI-ESM1-2-LR_gridarea_recalcule.nc\n",
      "cdo    gridarea: Processed 1 variable [0.18s 49MB].\n",
      "Traitement du modèle MRI-ESM2-0 : ~/private-storage/interp_models_hist/MRI-ESM2-0_hist_reprojete.nc\n",
      "Exécution de la commande : cdo gridarea ~/private-storage/interp_models_hist/MRI-ESM2-0_hist_reprojete.nc /home/jovyan/private-storage/areacella_recalcule_cdo/MRI-ESM2-0_gridarea_recalcule.nc\n",
      "cdo    gridarea: Processed 1 variable [0.11s 48MB].\n",
      "Traitement du modèle NorESM2-LM : ~/private-storage/interp_models_hist/NorESM2-LM_hist_reprojete.nc\n",
      "Exécution de la commande : cdo gridarea ~/private-storage/interp_models_hist/NorESM2-LM_hist_reprojete.nc /home/jovyan/private-storage/areacella_recalcule_cdo/NorESM2-LM_gridarea_recalcule.nc\n",
      "cdo    gridarea: Processed 1 variable [0.21s 49MB].\n",
      "Traitement du modèle NorESM2-MM : ~/private-storage/interp_models_hist/NorESM2-MM_hist_reprojete.nc\n",
      "Exécution de la commande : cdo gridarea ~/private-storage/interp_models_hist/NorESM2-MM_hist_reprojete.nc /home/jovyan/private-storage/areacella_recalcule_cdo/NorESM2-MM_gridarea_recalcule.nc\n",
      "cdo    gridarea: Processed 1 variable [0.15s 49MB].\n",
      "Traitement du modèle UKESM1-0-LL : ~/private-storage/interp_models_hist/UKESM1-0-LL_hist_reprojete.nc\n",
      "Exécution de la commande : cdo gridarea ~/private-storage/interp_models_hist/UKESM1-0-LL_hist_reprojete.nc /home/jovyan/private-storage/areacella_recalcule_cdo/UKESM1-0-LL_gridarea_recalcule.nc\n",
      "cdo    gridarea: Processed 1 variable [0.19s 49MB].\n"
     ]
    }
   ],
   "source": [
    "import os\n",
    "import glob\n",
    "import xarray as xr\n",
    "\n",
    "path = \"~/private-storage/interp_models_hist\"\n",
    "output_dir = \"/home/jovyan/private-storage/areacella_recalcule_cdo\"\n",
    "os.makedirs(output_dir, exist_ok=True)\n",
    "\n",
    "models = [\n",
    "    \"BCC-CSM2-MR\", \"CanESM5\", \"CanESM5-CanOE\", \"CESM2\", \"CESM2-WACCM\", \"CIESM\",\n",
    "    \"CNRM-CM6-1\", \"CNRM-CM6-1-HR\", \"CNRM-ESM2-1\", \"EC-Earth3\", \"EC-Earth3-Veg\",\n",
    "    \"FGOALS-f3-L\", \"FGOALS-g3\", \"GFDL-CM4\", \"GISS-E2-1-G\", \"HadGEM3-GC31-LL\",\n",
    "    \"IPSL-CM6A-LR\", \"MIROC-ES2L\", \"MIROC6\", \"MPI-ESM1-2-HR\", \"MPI-ESM1-2-LR\",\n",
    "    \"MRI-ESM2-0\", \"NorESM2-LM\", \"NorESM2-MM\", \"UKESM1-0-LL\"\n",
    "]\n",
    "\n",
    "for model in models:\n",
    "    file_pattern = os.path.join(path, f\"{model}_hist_reprojete.nc\")\n",
    "\n",
    "    # est ce que le fichier existe\n",
    "    if not (file_pattern):\n",
    "        print(f\"Pas de fichier trouvé pour le modèle {model} : {file_pattern}\")\n",
    "        continue\n",
    "\n",
    "    print(f\"Traitement du modèle {model} : {file_pattern}\")\n",
    "\n",
    "    # ouverture fichier NetCDF\n",
    "    try:\n",
    "        with xr.open_dataset(file_pattern, engine='netcdf4') as ds:\n",
    "            # endroit où vont être stockés les fichiers\n",
    "            gridarea_output = os.path.join(output_dir, f\"{model}_gridarea_recalcule.nc\")\n",
    "\n",
    "            # commande cdo pour recalcul des areacella\n",
    "            cdo_command = f\"cdo gridarea {file_pattern} {gridarea_output}\"\n",
    "            print(f\"Exécution de la commande : {cdo_command}\")\n",
    "            os.system(cdo_command)\n",
    "    except Exception as e:\n",
    "        print(f\"Erreur lors de l'ouverture du fichier pour le modèle {model} : {e}\")\n"
   ]
  },
  {
   "cell_type": "code",
   "execution_count": null,
   "id": "5b6862cb-870b-49c3-979e-18cb64d4516b",
   "metadata": {},
   "outputs": [],
   "source": []
  }
 ],
 "metadata": {
  "kernelspec": {
   "display_name": "Python 3 (ipykernel)",
   "language": "python",
   "name": "python3"
  },
  "language_info": {
   "codemirror_mode": {
    "name": "ipython",
    "version": 3
   },
   "file_extension": ".py",
   "mimetype": "text/x-python",
   "name": "python",
   "nbconvert_exporter": "python",
   "pygments_lexer": "ipython3",
   "version": "3.12.8"
  }
 },
 "nbformat": 4,
 "nbformat_minor": 5
}
