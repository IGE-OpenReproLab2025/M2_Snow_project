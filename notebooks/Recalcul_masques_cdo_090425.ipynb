{
 "cells": [
  {
   "cell_type": "markdown",
   "id": "43c500f7-ba02-4f96-9bbe-71d5d0c2b4cc",
   "metadata": {},
   "source": [
    "# Recalcul masques TM des fichiers historiques avec l'aide de cdo "
   ]
  },
  {
   "cell_type": "code",
   "execution_count": 1,
   "id": "9bb329c3-41ee-4aa6-95be-e55add6f4c39",
   "metadata": {},
   "outputs": [],
   "source": [
    "import os\n",
    "import cdo\n",
    "import glob\n",
    "import xarray as xr"
   ]
  },
  {
   "cell_type": "code",
   "execution_count": 3,
   "id": "3cd43dc7-59fb-4ffd-9fb6-21aec3e4ff5e",
   "metadata": {},
   "outputs": [
    {
     "name": "stdout",
     "output_type": "stream",
     "text": [
      "Traitement du modèle BCC-CSM2-MR : /home/jovyan/private-storage/masques/masques/pseudo_sftgif/sftgif_BCC-CSM2-MR.nc\n",
      "Exécution de la commande : cdo gridarea /home/jovyan/private-storage/masques/masques/pseudo_sftgif/sftgif_BCC-CSM2-MR.nc /home/jovyan/private-storage/interp_sftgif_cdo/BCC-CSM2-MR_gridarea_hist_recalcule.nc\n",
      "cdo    gridarea: Processed 1 variable [0.05s 49MB].\n",
      "Traitement du modèle CanESM5 : /home/jovyan/private-storage/masques/masques/sftgif/sftgif_CanESM5.nc\n",
      "Exécution de la commande : cdo gridarea /home/jovyan/private-storage/masques/masques/sftgif/sftgif_CanESM5.nc /home/jovyan/private-storage/interp_sftgif_cdo/CanESM5_gridarea_hist_recalcule.nc\n",
      "cdo    gridarea: Processed 1 variable [0.02s 48MB].\n",
      "Traitement du modèle CanESM5-CanOE : /home/jovyan/private-storage/masques/masques/sftgif/sftgif_CanESM5-CanOE.nc\n",
      "Exécution de la commande : cdo gridarea /home/jovyan/private-storage/masques/masques/sftgif/sftgif_CanESM5-CanOE.nc /home/jovyan/private-storage/interp_sftgif_cdo/CanESM5-CanOE_gridarea_hist_recalcule.nc\n",
      "cdo    gridarea: Processed 1 variable [0.03s 48MB].\n",
      "Traitement du modèle CESM2 : /home/jovyan/private-storage/masques/masques/sftgif/sftgif_CESM2.nc\n"
     ]
    },
    {
     "name": "stderr",
     "output_type": "stream",
     "text": [
      "/srv/conda/envs/notebook/lib/python3.12/site-packages/xarray/conventions.py:193: SerializationWarning: variable 'sftgif' has multiple fill values {np.float32(1e+20), np.float64(1e+20)} defined, decoding all values to NaN.\n",
      "  var = coder.decode(var, name=name)\n"
     ]
    },
    {
     "name": "stdout",
     "output_type": "stream",
     "text": [
      "Exécution de la commande : cdo gridarea /home/jovyan/private-storage/masques/masques/sftgif/sftgif_CESM2.nc /home/jovyan/private-storage/interp_sftgif_cdo/CESM2_gridarea_hist_recalcule.nc\n",
      "cdo    gridarea: Processed 1 variable [0.05s 48MB].\n",
      "Traitement du modèle CESM2-WACCM : /home/jovyan/private-storage/masques/masques/sftgif/sftgif_CESM2-WACCM.nc\n",
      "Exécution de la commande : cdo gridarea /home/jovyan/private-storage/masques/masques/sftgif/sftgif_CESM2-WACCM.nc /home/jovyan/private-storage/interp_sftgif_cdo/CESM2-WACCM_gridarea_hist_recalcule.nc\n",
      "cdo    gridarea: Processed 1 variable [0.05s 49MB].\n",
      "Traitement du modèle CIESM : /home/jovyan/private-storage/masques/masques/sftgif/sftgif_CIESM.nc\n",
      "Exécution de la commande : cdo gridarea /home/jovyan/private-storage/masques/masques/sftgif/sftgif_CIESM.nc /home/jovyan/private-storage/interp_sftgif_cdo/CIESM_gridarea_hist_recalcule.nc\n",
      "cdo    gridarea: Processed 1 variable [0.06s 48MB].\n",
      "Traitement du modèle CNRM-CM6-1 : /home/jovyan/private-storage/masques/masques/sftgif/sftgif_CNRM-CM6-1.nc\n",
      "Exécution de la commande : cdo gridarea /home/jovyan/private-storage/masques/masques/sftgif/sftgif_CNRM-CM6-1.nc /home/jovyan/private-storage/interp_sftgif_cdo/CNRM-CM6-1_gridarea_hist_recalcule.nc\n",
      "cdo    gridarea: Processed 1 variable [0.04s 48MB].\n",
      "Traitement du modèle CNRM-CM6-1-HR : /home/jovyan/private-storage/masques/masques/sftgif/sftgif_CNRM-CM6-1-HR.nc\n",
      "Exécution de la commande : cdo gridarea /home/jovyan/private-storage/masques/masques/sftgif/sftgif_CNRM-CM6-1-HR.nc /home/jovyan/private-storage/interp_sftgif_cdo/CNRM-CM6-1-HR_gridarea_hist_recalcule.nc\n"
     ]
    },
    {
     "name": "stderr",
     "output_type": "stream",
     "text": [
      "Warning (find_time_vars): Time variable >time< not found!\n",
      "Warning (cdf_set_dimtype): Could not assign all character coordinates to data variable!\n",
      "Warning (find_time_vars): Time variable >time< not found!\n",
      "Warning (cdf_set_dimtype): Could not assign all character coordinates to data variable!\n"
     ]
    },
    {
     "name": "stdout",
     "output_type": "stream",
     "text": [
      "cdo    gridarea: Processed 1 variable [0.33s 51MB].\n",
      "Traitement du modèle CNRM-ESM2-1 : /home/jovyan/private-storage/masques/masques/sftgif/sftgif_CNRM-ESM2-1.nc\n",
      "Exécution de la commande : cdo gridarea /home/jovyan/private-storage/masques/masques/sftgif/sftgif_CNRM-ESM2-1.nc /home/jovyan/private-storage/interp_sftgif_cdo/CNRM-ESM2-1_gridarea_hist_recalcule.nc\n",
      "cdo    gridarea: Processed 1 variable [0.04s 48MB].\n",
      "Traitement du modèle EC-Earth3 : /home/jovyan/private-storage/masques/masques/sftgif/sftgif_EC-Earth3.nc\n"
     ]
    },
    {
     "name": "stderr",
     "output_type": "stream",
     "text": [
      "Warning (find_time_vars): Time variable >time< not found!\n",
      "Warning (cdf_set_dimtype): Could not assign all character coordinates to data variable!\n"
     ]
    },
    {
     "name": "stdout",
     "output_type": "stream",
     "text": [
      "Exécution de la commande : cdo gridarea /home/jovyan/private-storage/masques/masques/sftgif/sftgif_EC-Earth3.nc /home/jovyan/private-storage/interp_sftgif_cdo/EC-Earth3_gridarea_hist_recalcule.nc\n",
      "cdo    gridarea: Processed 1 variable [0.12s 50MB].\n",
      "Traitement du modèle EC-Earth3-Veg : /home/jovyan/private-storage/masques/masques/sftgif/sftgif_EC-Earth3-Veg.nc\n",
      "Exécution de la commande : cdo gridarea /home/jovyan/private-storage/masques/masques/sftgif/sftgif_EC-Earth3-Veg.nc /home/jovyan/private-storage/interp_sftgif_cdo/EC-Earth3-Veg_gridarea_hist_recalcule.nc\n",
      "cdo    gridarea: Processed 1 variable [0.08s 49MB].\n",
      "Traitement du modèle FGOALS-f3-L : /home/jovyan/private-storage/masques/masques/sftgif/sftgif_FGOALS-f3-L.nc\n",
      "Exécution de la commande : cdo gridarea /home/jovyan/private-storage/masques/masques/sftgif/sftgif_FGOALS-f3-L.nc /home/jovyan/private-storage/interp_sftgif_cdo/FGOALS-f3-L_gridarea_hist_recalcule.nc\n",
      "cdo    gridarea: Processed 1 variable [0.06s 49MB].\n",
      "Traitement du modèle FGOALS-g3 : /home/jovyan/private-storage/masques/masques/sftgif/sftgif_FGOALS-g3.nc\n",
      "Exécution de la commande : cdo gridarea /home/jovyan/private-storage/masques/masques/sftgif/sftgif_FGOALS-g3.nc /home/jovyan/private-storage/interp_sftgif_cdo/FGOALS-g3_gridarea_hist_recalcule.nc\n",
      "cdo    gridarea: Processed 1 variable [0.03s 48MB].\n",
      "Traitement du modèle GFDL-CM4 : /home/jovyan/private-storage/masques/masques/sftgif/sftgif_GFDL-CM4.nc\n",
      "Exécution de la commande : cdo gridarea /home/jovyan/private-storage/masques/masques/sftgif/sftgif_GFDL-CM4.nc /home/jovyan/private-storage/interp_sftgif_cdo/GFDL-CM4_gridarea_hist_recalcule.nc\n",
      "cdo    gridarea: Processed 1 variable [0.05s 49MB].\n",
      "Traitement du modèle GISS-E2-1-G : /home/jovyan/private-storage/masques/masques/sftgif/sftgif_GISS-E2-1-G.nc\n",
      "Exécution de la commande : cdo gridarea /home/jovyan/private-storage/masques/masques/sftgif/sftgif_GISS-E2-1-G.nc /home/jovyan/private-storage/interp_sftgif_cdo/GISS-E2-1-G_gridarea_hist_recalcule.nc\n",
      "cdo    gridarea: Processed 1 variable [0.02s 46MB].\n",
      "Traitement du modèle HadGEM3-GC31-LL : /home/jovyan/private-storage/masques/masques/pseudo_sftgif/sftgif_HadGEM3-GC31-LL.nc\n",
      "Exécution de la commande : cdo gridarea /home/jovyan/private-storage/masques/masques/pseudo_sftgif/sftgif_HadGEM3-GC31-LL.nc /home/jovyan/private-storage/interp_sftgif_cdo/HadGEM3-GC31-LL_gridarea_hist_recalcule.nc\n"
     ]
    },
    {
     "name": "stderr",
     "output_type": "stream",
     "text": [
      "Warning (cdf_set_dimtype): Could not assign all character coordinates to data variable!\n"
     ]
    },
    {
     "name": "stdout",
     "output_type": "stream",
     "text": [
      "cdo    gridarea: Processed 1 variable [0.04s 48MB].\n",
      "Traitement du modèle IPSL-CM6A-LR : /home/jovyan/private-storage/masques/masques/pseudo_sftgif/sftgif_IPSL-CM6A-LR.nc\n",
      "Exécution de la commande : cdo gridarea /home/jovyan/private-storage/masques/masques/pseudo_sftgif/sftgif_IPSL-CM6A-LR.nc /home/jovyan/private-storage/interp_sftgif_cdo/IPSL-CM6A-LR_gridarea_hist_recalcule.nc\n",
      "cdo    gridarea: Processed 1 variable [0.03s 48MB].\n",
      "Traitement du modèle MIROC-ES2L : /home/jovyan/private-storage/masques/masques/sftgif/sftgif_MIROC-ES2L.nc\n",
      "Exécution de la commande : cdo gridarea /home/jovyan/private-storage/masques/masques/sftgif/sftgif_MIROC-ES2L.nc /home/jovyan/private-storage/interp_sftgif_cdo/MIROC-ES2L_gridarea_hist_recalcule.nc\n",
      "cdo    gridarea: Processed 1 variable [0.03s 48MB].\n",
      "Traitement du modèle MIROC6 : /home/jovyan/private-storage/masques/masques/pseudo_sftgif/sftgif_MIROC6.nc\n",
      "Exécution de la commande : cdo gridarea /home/jovyan/private-storage/masques/masques/pseudo_sftgif/sftgif_MIROC6.nc /home/jovyan/private-storage/interp_sftgif_cdo/MIROC6_gridarea_hist_recalcule.nc\n",
      "cdo    gridarea: Processed 1 variable [0.36s 48MB].\n",
      "Traitement du modèle MPI-ESM1-2-HR : /home/jovyan/private-storage/masques/masques/sftgif/sftgif_MPI-ESM1-2-HR.nc\n",
      "Exécution de la commande : cdo gridarea /home/jovyan/private-storage/masques/masques/sftgif/sftgif_MPI-ESM1-2-HR.nc /home/jovyan/private-storage/interp_sftgif_cdo/MPI-ESM1-2-HR_gridarea_hist_recalcule.nc\n",
      "cdo    gridarea: Processed 1 variable [0.07s 49MB].\n",
      "Traitement du modèle MPI-ESM1-2-LR : /home/jovyan/private-storage/masques/masques/sftgif/sftgif_MPI-ESM1-2-LR.nc\n",
      "Exécution de la commande : cdo gridarea /home/jovyan/private-storage/masques/masques/sftgif/sftgif_MPI-ESM1-2-LR.nc /home/jovyan/private-storage/interp_sftgif_cdo/MPI-ESM1-2-LR_gridarea_hist_recalcule.nc\n",
      "cdo    gridarea: Processed 1 variable [0.04s 48MB].\n",
      "Traitement du modèle MRI-ESM2-0 : /home/jovyan/private-storage/masques/masques/sftgif/sftgif_MRI-ESM2-0.nc\n",
      "Exécution de la commande : cdo gridarea /home/jovyan/private-storage/masques/masques/sftgif/sftgif_MRI-ESM2-0.nc /home/jovyan/private-storage/interp_sftgif_cdo/MRI-ESM2-0_gridarea_hist_recalcule.nc\n",
      "cdo    gridarea: Processed 1 variable [0.08s 49MB].\n",
      "Traitement du modèle NorESM2-LM : /home/jovyan/private-storage/masques/masques/sftgif/sftgif_NorESM2-LM.nc\n"
     ]
    },
    {
     "name": "stderr",
     "output_type": "stream",
     "text": [
      "Warning (cdf_set_dimtype): Could not assign all character coordinates to data variable!\n"
     ]
    },
    {
     "name": "stdout",
     "output_type": "stream",
     "text": [
      "Exécution de la commande : cdo gridarea /home/jovyan/private-storage/masques/masques/sftgif/sftgif_NorESM2-LM.nc /home/jovyan/private-storage/interp_sftgif_cdo/NorESM2-LM_gridarea_hist_recalcule.nc\n",
      "cdo    gridarea: Processed 1 variable [0.03s 48MB].\n",
      "Traitement du modèle NorESM2-MM : /home/jovyan/private-storage/masques/masques/sftgif/sftgif_NorESM2-MM.nc\n",
      "Exécution de la commande : cdo gridarea /home/jovyan/private-storage/masques/masques/sftgif/sftgif_NorESM2-MM.nc /home/jovyan/private-storage/interp_sftgif_cdo/NorESM2-MM_gridarea_hist_recalcule.nc\n",
      "cdo    gridarea: Processed 1 variable [0.06s 49MB].\n",
      "Traitement du modèle UKESM1-0-LL : /home/jovyan/private-storage/masques/masques/pseudo_sftgif/sftgif_UKESM1-0-LL.nc\n",
      "Exécution de la commande : cdo gridarea /home/jovyan/private-storage/masques/masques/pseudo_sftgif/sftgif_UKESM1-0-LL.nc /home/jovyan/private-storage/interp_sftgif_cdo/UKESM1-0-LL_gridarea_hist_recalcule.nc\n",
      "cdo    gridarea: Processed 1 variable [0.04s 48MB].\n"
     ]
    }
   ],
   "source": [
    "path1 = \"/home/jovyan/private-storage/masques/masques/sftgif/\"\n",
    "path2 = \"/home/jovyan/private-storage/masques/masques/pseudo_sftgif/\"\n",
    "output_dir = \"/home/jovyan/private-storage/interp_sftgif_cdo\"\n",
    "os.makedirs(output_dir, exist_ok=True)\n",
    "\n",
    "models = [\n",
    "    \"BCC-CSM2-MR\", \"CanESM5\", \"CanESM5-CanOE\", \"CESM2\", \"CESM2-WACCM\", \"CIESM\",\n",
    "    \"CNRM-CM6-1\", \"CNRM-CM6-1-HR\", \"CNRM-ESM2-1\", \"EC-Earth3\", \"EC-Earth3-Veg\",\n",
    "    \"FGOALS-f3-L\", \"FGOALS-g3\", \"GFDL-CM4\", \"GISS-E2-1-G\", \"HadGEM3-GC31-LL\",\n",
    "    \"IPSL-CM6A-LR\", \"MIROC-ES2L\", \"MIROC6\", \"MPI-ESM1-2-HR\", \"MPI-ESM1-2-LR\",\n",
    "    \"MRI-ESM2-0\", \"NorESM2-LM\", \"NorESM2-MM\", \"UKESM1-0-LL\"\n",
    "]\n",
    "\n",
    "for model in models:\n",
    "    # Search in sftgif\n",
    "    file_pattern1 = os.path.join(path1, f\"sftgif_{model}.nc\")\n",
    "    files1 = glob.glob(file_pattern1)\n",
    "    \n",
    "    # if not, search in pseudo_sftgif\n",
    "    if not files1:\n",
    "        file_pattern2 = os.path.join(path2, f\"sftgif_{model}.nc\")\n",
    "        files2 = glob.glob(file_pattern2)\n",
    "        if not files2:\n",
    "            print(f\"Aucun fichier trouvé pour le modèle {model}\")\n",
    "            continue\n",
    "        else:\n",
    "            file_path = files2[0]\n",
    "    else:\n",
    "        file_path = files1[0]\n",
    "\n",
    "    print(f\"Traitement du modèle {model} : {file_path}\")\n",
    "\n",
    "    # ouverture fichier NetCDF\n",
    "    try:\n",
    "        with xr.open_dataset(file_path, engine='netcdf4'):\n",
    "            # endroit où vont être stockés les fichiers\n",
    "            gridarea_output = os.path.join(output_dir, f\"{model}_gridarea_hist_recalcule.nc\")\n",
    "\n",
    "            # commande cdo pour recalcul des areacella\n",
    "            cdo_command = f\"cdo gridarea {file_path} {gridarea_output}\"\n",
    "            print(f\"Exécution de la commande : {cdo_command}\")\n",
    "            os.system(cdo_command)\n",
    "    except Exception as e:\n",
    "        print(f\"Erreur lors de l'ouverture du fichier pour le modèle {model} : {e}\")\n"
   ]
  }
 ],
 "metadata": {
  "kernelspec": {
   "display_name": "Python 3 (ipykernel)",
   "language": "python",
   "name": "python3"
  },
  "language_info": {
   "codemirror_mode": {
    "name": "ipython",
    "version": 3
   },
   "file_extension": ".py",
   "mimetype": "text/x-python",
   "name": "python",
   "nbconvert_exporter": "python",
   "pygments_lexer": "ipython3",
   "version": "3.12.8"
  }
 },
 "nbformat": 4,
 "nbformat_minor": 5
}
