{
 "cells": [
  {
   "cell_type": "markdown",
   "id": "a055873a-e425-4bf1-a4ce-a670a430ed0b",
   "metadata": {},
   "source": [
    "# Recalculate the area of interpolated historical and output files (SiconcWarming) using cdo"
   ]
  },
  {
   "cell_type": "markdown",
   "id": "c03f9bc4-f586-4285-a65a-7823a1bb4070",
   "metadata": {},
   "source": [
    "## Objective\n",
    "\n",
    "Previously, many files were interpolated to be all on the same reference grid. The cell area of ​​each model still needs to be recalculated from these interpolated files, and that is the goal of this notebook."
   ]
  },
  {
   "cell_type": "code",
   "execution_count": 1,
   "id": "546269fc-cfd5-4c20-886a-f6cd6bba1326",
   "metadata": {},
   "outputs": [
    {
     "name": "stdout",
     "output_type": "stream",
     "text": [
      "Last updated: 2025-07-31T14:36:02.107584+00:00\n",
      "\n",
      "Python implementation: CPython\n",
      "Python version       : 3.12.8\n",
      "IPython version      : 8.17.2\n",
      "\n",
      "Compiler    : GCC 13.3.0\n",
      "OS          : Linux\n",
      "Release     : 6.8.0-55-generic\n",
      "Machine     : x86_64\n",
      "Processor   : x86_64\n",
      "CPU cores   : 8\n",
      "Architecture: 64bit\n",
      "\n"
     ]
    }
   ],
   "source": [
    "from watermark import watermark\n",
    "%load_ext watermark\n",
    "print(watermark())"
   ]
  },
  {
   "cell_type": "code",
   "execution_count": 2,
   "id": "0ce4246a-82e6-4cc9-bfc1-0989e41b6fd7",
   "metadata": {},
   "outputs": [
    {
     "name": "stdout",
     "output_type": "stream",
     "text": [
      "Projet root ajouté au path: /home/jovyan/M2_Snow_project/M2_SeaIce_project\n"
     ]
    }
   ],
   "source": [
    "import sys\n",
    "import os\n",
    "\n",
    "# Chemin absolu vers le dossier codes_ORL_evaluation\n",
    "project_root = os.path.abspath(os.path.join(os.getcwd(), \"..\"))\n",
    "\n",
    "# Ajout du chemin au sys.path\n",
    "if project_root not in sys.path:\n",
    "    sys.path.insert(0, project_root)\n",
    "\n",
    "print(\"Projet root ajouté au path:\", project_root)"
   ]
  },
  {
   "cell_type": "code",
   "execution_count": 3,
   "id": "41afc6c9-c3eb-4fbe-b376-d24f29891e07",
   "metadata": {},
   "outputs": [
    {
     "name": "stderr",
     "output_type": "stream",
     "text": [
      "/srv/conda/envs/notebook/lib/python3.12/site-packages/esmpy/interface/loadESMF.py:94: VersionWarning: ESMF installation version 8.8.0, ESMPy version 8.8.0b0\n",
      "  warnings.warn(\"ESMF installation version {}, ESMPy version {}\".format(\n"
     ]
    }
   ],
   "source": [
    "from module import *"
   ]
  },
  {
   "cell_type": "code",
   "execution_count": 4,
   "id": "d43bcb71-5b6f-4b3a-aecc-333589417f4c",
   "metadata": {},
   "outputs": [
    {
     "name": "stdout",
     "output_type": "stream",
     "text": [
      "matplotlib: 3.10.0\n",
      "numpy     : 2.0.2\n",
      "xarray    : 2025.1.1\n",
      "cartopy   : 0.24.0\n",
      "skimage   : 0.25.0\n",
      "cdo       : 1.6.1\n",
      "sys       : 3.12.8 | packaged by conda-forge | (main, Dec  5 2024, 14:24:40) [GCC 13.3.0]\n",
      "watermark : 2.5.0\n",
      "seaborn   : 0.13.2\n",
      "netCDF4   : 1.7.2\n",
      "csv       : 1.0\n",
      "pandas    : 2.2.3\n",
      "xesmf     : 0.8.8\n",
      "\n"
     ]
    }
   ],
   "source": [
    "%watermark --iversions"
   ]
  },
  {
   "cell_type": "markdown",
   "id": "aec34853-766c-44cc-9f55-31009858bcb9",
   "metadata": {},
   "source": [
    "## Areacella historical files"
   ]
  },
  {
   "cell_type": "code",
   "execution_count": 5,
   "id": "287cf2b6-e25c-4802-80e8-745737d59f94",
   "metadata": {},
   "outputs": [],
   "source": [
    "models = [\n",
    "    \"BCC-CSM2-MR\", \"CAMS-CSM1-0\", \"CESM2\", \"CESM2-WACCM\", \"CNRM-CM6-1\", \"CNRM-CM6-1-HR\", \"CanESM5\", \n",
    "    \"FGOALS-f3-L\", \"FIO-ESM-2-0\", \"GFDL-CM4\", \"GFDL-ESM4\", \"INM-CM4-8\", \"INM-CM5-0\", \"IPSL-CM6A-LR\", \n",
    "    \"MIROC-ES2L\", \"MIROC6\", \"MPI-ESM1-2-HR\", \"MRI-ESM2-0\", \"NESM3\"\n",
    "]"
   ]
  },
  {
   "cell_type": "code",
   "execution_count": 6,
   "id": "783ef20e-05a6-46f8-b3e0-2dcd51b79b17",
   "metadata": {},
   "outputs": [
    {
     "name": "stdout",
     "output_type": "stream",
     "text": [
      "🔄 Traitement du modèle BCC-CSM2-MR\n",
      "⚙️ Exécution : cdo gridarea /home/jovyan/private-storage/output_data/sea_ice_interp/BCC-CSM2-MR_hist_reprojete.nc /home/jovyan/private-storage/output_data/areacella_recalcule/BCC-CSM2-MR_gridarea_hist_recalcule.nc\n"
     ]
    },
    {
     "name": "stderr",
     "output_type": "stream",
     "text": [
      "Warning (cdf_set_dimtype): Could not assign all character coordinates to data variable!\n"
     ]
    },
    {
     "name": "stdout",
     "output_type": "stream",
     "text": [
      "cdo    gridarea: Processed 1 variable [0.71s 47MB].\n",
      "🔄 Traitement du modèle CAMS-CSM1-0\n",
      "⚙️ Exécution : cdo gridarea /home/jovyan/private-storage/output_data/sea_ice_interp/CAMS-CSM1-0_hist_reprojete.nc /home/jovyan/private-storage/output_data/areacella_recalcule/CAMS-CSM1-0_gridarea_hist_recalcule.nc\n"
     ]
    },
    {
     "name": "stderr",
     "output_type": "stream",
     "text": [
      "Warning (cdf_set_dimtype): Could not assign all character coordinates to data variable!\n",
      "Warning (cdf_set_dimtype): Could not assign all character coordinates to data variable!\n",
      "Warning (cdf_set_dimtype): Could not assign all character coordinates to data variable!\n"
     ]
    },
    {
     "name": "stdout",
     "output_type": "stream",
     "text": [
      "cdo    gridarea: Processed 3 variables [0.06s 48MB].\n",
      "🔄 Traitement du modèle CESM2\n",
      "⚙️ Exécution : cdo gridarea /home/jovyan/private-storage/output_data/sea_ice_interp/CESM2_hist_reprojete.nc /home/jovyan/private-storage/output_data/areacella_recalcule/CESM2_gridarea_hist_recalcule.nc\n",
      "cdo    gridarea: Processed 3 variables [0.07s 48MB].\n",
      "🔄 Traitement du modèle CESM2-WACCM\n",
      "⚙️ Exécution : cdo gridarea /home/jovyan/private-storage/output_data/sea_ice_interp/CESM2-WACCM_hist_reprojete.nc /home/jovyan/private-storage/output_data/areacella_recalcule/CESM2-WACCM_gridarea_hist_recalcule.nc\n",
      "cdo    gridarea: Processed 3 variables [0.07s 48MB].\n",
      "🔄 Traitement du modèle CNRM-CM6-1\n",
      "⚙️ Exécution : cdo gridarea /home/jovyan/private-storage/output_data/sea_ice_interp/CNRM-CM6-1_hist_reprojete.nc /home/jovyan/private-storage/output_data/areacella_recalcule/CNRM-CM6-1_gridarea_hist_recalcule.nc\n"
     ]
    },
    {
     "name": "stderr",
     "output_type": "stream",
     "text": [
      "Warning (cdf_set_dimtype): Could not assign all character coordinates to data variable!\n",
      "Warning (cdf_set_dimtype): Could not assign all character coordinates to data variable!\n",
      "Warning (cdf_set_dimtype): Could not assign all character coordinates to data variable!\n"
     ]
    },
    {
     "name": "stdout",
     "output_type": "stream",
     "text": [
      "cdo    gridarea: Processed 3 variables [0.06s 48MB].\n",
      "🔄 Traitement du modèle CNRM-CM6-1-HR\n",
      "⚙️ Exécution : cdo gridarea /home/jovyan/private-storage/output_data/sea_ice_interp/CNRM-CM6-1-HR_hist_reprojete.nc /home/jovyan/private-storage/output_data/areacella_recalcule/CNRM-CM6-1-HR_gridarea_hist_recalcule.nc\n"
     ]
    },
    {
     "name": "stderr",
     "output_type": "stream",
     "text": [
      "Warning (cdf_set_dimtype): Could not assign all character coordinates to data variable!\n",
      "Warning (cdf_set_dimtype): Could not assign all character coordinates to data variable!\n",
      "Warning (cdf_set_dimtype): Could not assign all character coordinates to data variable!\n"
     ]
    },
    {
     "name": "stdout",
     "output_type": "stream",
     "text": [
      "cdo    gridarea: Processed 3 variables [0.10s 48MB].\n",
      "🔄 Traitement du modèle CanESM5\n",
      "⚙️ Exécution : cdo gridarea /home/jovyan/private-storage/output_data/sea_ice_interp/CanESM5_hist_reprojete.nc /home/jovyan/private-storage/output_data/areacella_recalcule/CanESM5_gridarea_hist_recalcule.nc\n"
     ]
    },
    {
     "name": "stderr",
     "output_type": "stream",
     "text": [
      "Warning (cdf_set_dimtype): Could not assign all character coordinates to data variable!\n",
      "Warning (cdf_set_dimtype): Could not assign all character coordinates to data variable!\n",
      "Warning (cdf_set_dimtype): Could not assign all character coordinates to data variable!\n",
      "Warning (cdf_set_dimtype): Could not assign all character coordinates to data variable!\n"
     ]
    },
    {
     "name": "stdout",
     "output_type": "stream",
     "text": [
      "cdo    gridarea: Processed 3 variables [0.07s 48MB].\n",
      "🔄 Traitement du modèle FGOALS-f3-L\n",
      "⚙️ Exécution : cdo gridarea /home/jovyan/private-storage/output_data/sea_ice_interp/FGOALS-f3-L_hist_reprojete.nc /home/jovyan/private-storage/output_data/areacella_recalcule/FGOALS-f3-L_gridarea_hist_recalcule.nc\n",
      "cdo    gridarea: Processed 1 variable [0.06s 48MB].\n",
      "🔄 Traitement du modèle FIO-ESM-2-0\n",
      "⚙️ Exécution : cdo gridarea /home/jovyan/private-storage/output_data/sea_ice_interp/FIO-ESM-2-0_hist_reprojete.nc /home/jovyan/private-storage/output_data/areacella_recalcule/FIO-ESM-2-0_gridarea_hist_recalcule.nc\n",
      "cdo    gridarea: Processed 3 variables [0.06s 48MB].\n",
      "🔄 Traitement du modèle GFDL-CM4\n"
     ]
    },
    {
     "name": "stderr",
     "output_type": "stream",
     "text": [
      "Warning (cdf_set_dimtype): Could not assign all character coordinates to data variable!\n",
      "Warning (cdf_set_dimtype): Could not assign all character coordinates to data variable!\n",
      "Warning (cdf_set_dimtype): Could not assign all character coordinates to data variable!\n"
     ]
    },
    {
     "name": "stdout",
     "output_type": "stream",
     "text": [
      "⚙️ Exécution : cdo gridarea /home/jovyan/private-storage/output_data/sea_ice_interp/GFDL-CM4_hist_reprojete.nc /home/jovyan/private-storage/output_data/areacella_recalcule/GFDL-CM4_gridarea_hist_recalcule.nc\n",
      "cdo    gridarea: Processed 3 variables [0.05s 48MB].\n",
      "🔄 Traitement du modèle GFDL-ESM4\n",
      "⚙️ Exécution : cdo gridarea /home/jovyan/private-storage/output_data/sea_ice_interp/GFDL-ESM4_hist_reprojete.nc /home/jovyan/private-storage/output_data/areacella_recalcule/GFDL-ESM4_gridarea_hist_recalcule.nc\n",
      "cdo    gridarea: Processed 5 variables [0.06s 48MB].\n",
      "🔄 Traitement du modèle INM-CM4-8\n",
      "⚙️ Exécution : cdo gridarea /home/jovyan/private-storage/output_data/sea_ice_interp/INM-CM4-8_hist_reprojete.nc /home/jovyan/private-storage/output_data/areacella_recalcule/INM-CM4-8_gridarea_hist_recalcule.nc\n",
      "cdo    gridarea: Processed 1 variable [0.06s 48MB].\n",
      "🔄 Traitement du modèle INM-CM5-0\n"
     ]
    },
    {
     "name": "stderr",
     "output_type": "stream",
     "text": [
      "Warning (cdf_set_dimtype): Could not assign all character coordinates to data variable!\n"
     ]
    },
    {
     "name": "stdout",
     "output_type": "stream",
     "text": [
      "⚙️ Exécution : cdo gridarea /home/jovyan/private-storage/output_data/sea_ice_interp/INM-CM5-0_hist_reprojete.nc /home/jovyan/private-storage/output_data/areacella_recalcule/INM-CM5-0_gridarea_hist_recalcule.nc\n",
      "cdo    gridarea: Processed 1 variable [0.07s 48MB].\n",
      "🔄 Traitement du modèle IPSL-CM6A-LR\n"
     ]
    },
    {
     "name": "stderr",
     "output_type": "stream",
     "text": [
      "Warning (cdf_set_dimtype): Could not assign all character coordinates to data variable!\n"
     ]
    },
    {
     "name": "stdout",
     "output_type": "stream",
     "text": [
      "⚙️ Exécution : cdo gridarea /home/jovyan/private-storage/output_data/sea_ice_interp/IPSL-CM6A-LR_hist_reprojete.nc /home/jovyan/private-storage/output_data/areacella_recalcule/IPSL-CM6A-LR_gridarea_hist_recalcule.nc\n",
      "cdo    gridarea: Processed 4 variables [0.08s 48MB].\n",
      "🔄 Traitement du modèle MIROC-ES2L\n"
     ]
    },
    {
     "name": "stderr",
     "output_type": "stream",
     "text": [
      "Warning (cdf_set_dimtype): Could not assign all character coordinates to data variable!\n",
      "Warning (cdf_set_dimtype): Could not assign all character coordinates to data variable!\n",
      "Warning (cdf_set_dimtype): Could not assign all character coordinates to data variable!\n",
      "Warning (cdf_set_dimtype): Could not assign all character coordinates to data variable!\n"
     ]
    },
    {
     "name": "stdout",
     "output_type": "stream",
     "text": [
      "⚙️ Exécution : cdo gridarea /home/jovyan/private-storage/output_data/sea_ice_interp/MIROC-ES2L_hist_reprojete.nc /home/jovyan/private-storage/output_data/areacella_recalcule/MIROC-ES2L_gridarea_hist_recalcule.nc\n",
      "cdo    gridarea: Processed 3 variables [0.06s 48MB].\n",
      "🔄 Traitement du modèle MIROC6\n"
     ]
    },
    {
     "name": "stderr",
     "output_type": "stream",
     "text": [
      "Warning (cdf_set_dimtype): Could not assign all character coordinates to data variable!\n",
      "Warning (cdf_set_dimtype): Could not assign all character coordinates to data variable!\n",
      "Warning (cdf_set_dimtype): Could not assign all character coordinates to data variable!\n"
     ]
    },
    {
     "name": "stdout",
     "output_type": "stream",
     "text": [
      "⚙️ Exécution : cdo gridarea /home/jovyan/private-storage/output_data/sea_ice_interp/MIROC6_hist_reprojete.nc /home/jovyan/private-storage/output_data/areacella_recalcule/MIROC6_gridarea_hist_recalcule.nc\n",
      "cdo    gridarea: Processed 3 variables [0.06s 48MB].\n",
      "🔄 Traitement du modèle MPI-ESM1-2-HR\n"
     ]
    },
    {
     "name": "stderr",
     "output_type": "stream",
     "text": [
      "Warning (cdf_set_dimtype): Could not assign all character coordinates to data variable!\n",
      "Warning (cdf_set_dimtype): Could not assign all character coordinates to data variable!\n",
      "Warning (cdf_set_dimtype): Could not assign all character coordinates to data variable!\n"
     ]
    },
    {
     "name": "stdout",
     "output_type": "stream",
     "text": [
      "⚙️ Exécution : cdo gridarea /home/jovyan/private-storage/output_data/sea_ice_interp/MPI-ESM1-2-HR_hist_reprojete.nc /home/jovyan/private-storage/output_data/areacella_recalcule/MPI-ESM1-2-HR_gridarea_hist_recalcule.nc\n",
      "cdo    gridarea: Processed 3 variables [0.06s 48MB].\n",
      "🔄 Traitement du modèle MRI-ESM2-0\n"
     ]
    },
    {
     "name": "stderr",
     "output_type": "stream",
     "text": [
      "Warning (cdf_set_dimtype): Could not assign all character coordinates to data variable!\n",
      "Warning (cdf_set_dimtype): Could not assign all character coordinates to data variable!\n",
      "Warning (cdf_set_dimtype): Could not assign all character coordinates to data variable!\n"
     ]
    },
    {
     "name": "stdout",
     "output_type": "stream",
     "text": [
      "⚙️ Exécution : cdo gridarea /home/jovyan/private-storage/output_data/sea_ice_interp/MRI-ESM2-0_hist_reprojete.nc /home/jovyan/private-storage/output_data/areacella_recalcule/MRI-ESM2-0_gridarea_hist_recalcule.nc\n",
      "cdo    gridarea: Processed 3 variables [0.06s 48MB].\n",
      "🔄 Traitement du modèle NESM3\n"
     ]
    },
    {
     "name": "stderr",
     "output_type": "stream",
     "text": [
      "Warning (cdf_set_dimtype): Could not assign all character coordinates to data variable!\n",
      "Warning (cdf_set_dimtype): Could not assign all character coordinates to data variable!\n",
      "Warning (cdf_set_dimtype): Could not assign all character coordinates to data variable!\n"
     ]
    },
    {
     "name": "stdout",
     "output_type": "stream",
     "text": [
      "⚙️ Exécution : cdo gridarea /home/jovyan/private-storage/output_data/sea_ice_interp/NESM3_hist_reprojete.nc /home/jovyan/private-storage/output_data/areacella_recalcule/NESM3_gridarea_hist_recalcule.nc\n",
      "cdo    gridarea: Processed 3 variables [0.07s 48MB].\n"
     ]
    },
    {
     "name": "stderr",
     "output_type": "stream",
     "text": [
      "Warning (cdf_set_dimtype): Could not assign all character coordinates to data variable!\n",
      "Warning (cdf_set_dimtype): Could not assign all character coordinates to data variable!\n",
      "Warning (cdf_set_dimtype): Could not assign all character coordinates to data variable!\n"
     ]
    }
   ],
   "source": [
    "recalculer_areacella(\n",
    "    models,\n",
    "    input_path=\"/home/jovyan/private-storage/output_data/sea_ice_interp\",\n",
    "    output_path=\"/home/jovyan/private-storage/output_data/areacella_recalcule\"\n",
    ")"
   ]
  },
  {
   "cell_type": "markdown",
   "id": "05cb4f93-677a-4632-bb1e-3657e6e90fb7",
   "metadata": {},
   "source": [
    "### All files"
   ]
  },
  {
   "cell_type": "code",
   "execution_count": 7,
   "id": "c0895885-d038-4ce3-8a83-ca3989907c3d",
   "metadata": {},
   "outputs": [],
   "source": [
    "models = [\"ACCESS-CM2\", \"ACCESS-ESM1-5\", \"CanESM5-CanOE\", \"CAS-ESM2-0\", \"CMCC-CM2-SR5\",\n",
    "          \"CMCC-ESM2\", \"CNRM-ESM2-1\", \"E3SM-1-1\", \"EC-Earth3\", \"EC-Earth3-CC\", \"EC-Earth3-Veg\",\n",
    "          \"EC-Earth3-Veg-LR\", \"FGOALS-g3\", \"HadGEM3-GC31-LL\", \"MPI-ESM1-2-LR\", \"NorESM2-LM\", \"NorESM2-MM\", \n",
    "          \"UKESM1-0-LL\", \"BCC-CSM2-MR\", \"CAMS-CSM1-0\", \"CESM2\", \"CESM2-WACCM\", \"CNRM-CM6-1\", \"CNRM-CM6-1-HR\", \n",
    "          \"CanESM5\", \"FGOALS-f3-L\", \"FIO-ESM-2-0\", \"GFDL-CM4\", \"GFDL-ESM4\", \"INM-CM4-8\", \"INM-CM5-0\", \n",
    "          \"IPSL-CM6A-LR\", \"MIROC-ES2L\", \"MIROC6\", \"MPI-ESM1-2-HR\", \"MRI-ESM2-0\", \"NESM3\"]"
   ]
  },
  {
   "cell_type": "code",
   "execution_count": 8,
   "id": "6322a22c-c8fa-4799-a4d7-5e388835dae3",
   "metadata": {
    "scrolled": true
   },
   "outputs": [
    {
     "name": "stdout",
     "output_type": "stream",
     "text": [
      "🔄 Traitement du modèle ACCESS-CM2\n",
      "⚙️ Exécution : cdo gridarea /home/jovyan/private-storage/output_data/sea_ice_interp_new/ACCESS-CM2_hist_reprojete.nc /home/jovyan/private-storage/output_data/areacella_recalcule_new/ACCESS-CM2_gridarea_hist_recalcule.nc\n",
      "cdo    gridarea: Processed 3 variables [0.12s 48MB].\n",
      "🔄 Traitement du modèle ACCESS-ESM1-5\n"
     ]
    },
    {
     "name": "stderr",
     "output_type": "stream",
     "text": [
      "Warning (cdf_set_dimtype): Could not assign all character coordinates to data variable!\n",
      "Warning (cdf_set_dimtype): Could not assign all character coordinates to data variable!\n",
      "Warning (cdf_set_dimtype): Could not assign all character coordinates to data variable!\n"
     ]
    },
    {
     "name": "stdout",
     "output_type": "stream",
     "text": [
      "⚙️ Exécution : cdo gridarea /home/jovyan/private-storage/output_data/sea_ice_interp_new/ACCESS-ESM1-5_hist_reprojete.nc /home/jovyan/private-storage/output_data/areacella_recalcule_new/ACCESS-ESM1-5_gridarea_hist_recalcule.nc\n",
      "cdo    gridarea: Processed 3 variables [0.12s 48MB].\n",
      "🔄 Traitement du modèle CanESM5-CanOE\n"
     ]
    },
    {
     "name": "stderr",
     "output_type": "stream",
     "text": [
      "Warning (cdf_set_dimtype): Could not assign all character coordinates to data variable!\n",
      "Warning (cdf_set_dimtype): Could not assign all character coordinates to data variable!\n",
      "Warning (cdf_set_dimtype): Could not assign all character coordinates to data variable!\n"
     ]
    },
    {
     "name": "stdout",
     "output_type": "stream",
     "text": [
      "⚙️ Exécution : cdo gridarea /home/jovyan/private-storage/output_data/sea_ice_interp_new/CanESM5-CanOE_hist_reprojete.nc /home/jovyan/private-storage/output_data/areacella_recalcule_new/CanESM5-CanOE_gridarea_hist_recalcule.nc\n",
      "cdo    gridarea: Processed 3 variables [0.10s 48MB].\n",
      "🔄 Traitement du modèle CAS-ESM2-0\n"
     ]
    },
    {
     "name": "stderr",
     "output_type": "stream",
     "text": [
      "Warning (cdf_set_dimtype): Could not assign all character coordinates to data variable!\n",
      "Warning (cdf_set_dimtype): Could not assign all character coordinates to data variable!\n",
      "Warning (cdf_set_dimtype): Could not assign all character coordinates to data variable!\n"
     ]
    },
    {
     "name": "stdout",
     "output_type": "stream",
     "text": [
      "⚙️ Exécution : cdo gridarea /home/jovyan/private-storage/output_data/sea_ice_interp_new/CAS-ESM2-0_hist_reprojete.nc /home/jovyan/private-storage/output_data/areacella_recalcule_new/CAS-ESM2-0_gridarea_hist_recalcule.nc\n",
      "cdo    gridarea: Processed 1 variable [0.07s 48MB].\n",
      "🔄 Traitement du modèle CMCC-CM2-SR5\n"
     ]
    },
    {
     "name": "stderr",
     "output_type": "stream",
     "text": [
      "Warning (cdf_set_dimtype): Could not assign all character coordinates to data variable!\n"
     ]
    },
    {
     "name": "stdout",
     "output_type": "stream",
     "text": [
      "⚙️ Exécution : cdo gridarea /home/jovyan/private-storage/output_data/sea_ice_interp_new/CMCC-CM2-SR5_hist_reprojete.nc /home/jovyan/private-storage/output_data/areacella_recalcule_new/CMCC-CM2-SR5_gridarea_hist_recalcule.nc\n",
      "cdo    gridarea: Processed 3 variables [0.07s 48MB].\n",
      "🔄 Traitement du modèle CMCC-ESM2\n"
     ]
    },
    {
     "name": "stderr",
     "output_type": "stream",
     "text": [
      "Warning (cdf_set_dimtype): Could not assign all character coordinates to data variable!\n",
      "Warning (cdf_set_dimtype): Could not assign all character coordinates to data variable!\n",
      "Warning (cdf_set_dimtype): Could not assign all character coordinates to data variable!\n"
     ]
    },
    {
     "name": "stdout",
     "output_type": "stream",
     "text": [
      "⚙️ Exécution : cdo gridarea /home/jovyan/private-storage/output_data/sea_ice_interp_new/CMCC-ESM2_hist_reprojete.nc /home/jovyan/private-storage/output_data/areacella_recalcule_new/CMCC-ESM2_gridarea_hist_recalcule.nc\n",
      "cdo    gridarea: Processed 3 variables [0.10s 48MB].\n",
      "🔄 Traitement du modèle CNRM-ESM2-1\n"
     ]
    },
    {
     "name": "stderr",
     "output_type": "stream",
     "text": [
      "Warning (cdf_set_dimtype): Could not assign all character coordinates to data variable!\n",
      "Warning (cdf_set_dimtype): Could not assign all character coordinates to data variable!\n",
      "Warning (cdf_set_dimtype): Could not assign all character coordinates to data variable!\n"
     ]
    },
    {
     "name": "stdout",
     "output_type": "stream",
     "text": [
      "⚙️ Exécution : cdo gridarea /home/jovyan/private-storage/output_data/sea_ice_interp_new/CNRM-ESM2-1_hist_reprojete.nc /home/jovyan/private-storage/output_data/areacella_recalcule_new/CNRM-ESM2-1_gridarea_hist_recalcule.nc\n",
      "cdo    gridarea: Processed 3 variables [0.11s 48MB].\n",
      "🔄 Traitement du modèle E3SM-1-1\n"
     ]
    },
    {
     "name": "stderr",
     "output_type": "stream",
     "text": [
      "Warning (cdf_set_dimtype): Could not assign all character coordinates to data variable!\n",
      "Warning (cdf_set_dimtype): Could not assign all character coordinates to data variable!\n",
      "Warning (cdf_set_dimtype): Could not assign all character coordinates to data variable!\n"
     ]
    },
    {
     "name": "stdout",
     "output_type": "stream",
     "text": [
      "⚙️ Exécution : cdo gridarea /home/jovyan/private-storage/output_data/sea_ice_interp_new/E3SM-1-1_hist_reprojete.nc /home/jovyan/private-storage/output_data/areacella_recalcule_new/E3SM-1-1_gridarea_hist_recalcule.nc\n"
     ]
    },
    {
     "name": "stderr",
     "output_type": "stream",
     "text": [
      "Warning (cdf_set_dimtype): Could not assign all character coordinates to data variable!\n"
     ]
    },
    {
     "name": "stdout",
     "output_type": "stream",
     "text": [
      "cdo    gridarea: Processed 1 variable [0.17s 47MB].\n",
      "🔄 Traitement du modèle EC-Earth3\n",
      "⚙️ Exécution : cdo gridarea /home/jovyan/private-storage/output_data/sea_ice_interp_new/EC-Earth3_hist_reprojete.nc /home/jovyan/private-storage/output_data/areacella_recalcule_new/EC-Earth3_gridarea_hist_recalcule.nc\n",
      "cdo    gridarea: Processed 3 variables [0.11s 48MB].\n",
      "🔄 Traitement du modèle EC-Earth3-CC\n"
     ]
    },
    {
     "name": "stderr",
     "output_type": "stream",
     "text": [
      "Warning (cdf_set_dimtype): Could not assign all character coordinates to data variable!\n",
      "Warning (cdf_set_dimtype): Could not assign all character coordinates to data variable!\n",
      "Warning (cdf_set_dimtype): Could not assign all character coordinates to data variable!\n"
     ]
    },
    {
     "name": "stdout",
     "output_type": "stream",
     "text": [
      "⚙️ Exécution : cdo gridarea /home/jovyan/private-storage/output_data/sea_ice_interp_new/EC-Earth3-CC_hist_reprojete.nc /home/jovyan/private-storage/output_data/areacella_recalcule_new/EC-Earth3-CC_gridarea_hist_recalcule.nc\n",
      "cdo    gridarea: Processed 3 variables [0.08s 48MB].\n",
      "🔄 Traitement du modèle EC-Earth3-Veg\n"
     ]
    },
    {
     "name": "stderr",
     "output_type": "stream",
     "text": [
      "Warning (cdf_set_dimtype): Could not assign all character coordinates to data variable!\n",
      "Warning (cdf_set_dimtype): Could not assign all character coordinates to data variable!\n",
      "Warning (cdf_set_dimtype): Could not assign all character coordinates to data variable!\n"
     ]
    },
    {
     "name": "stdout",
     "output_type": "stream",
     "text": [
      "⚙️ Exécution : cdo gridarea /home/jovyan/private-storage/output_data/sea_ice_interp_new/EC-Earth3-Veg_hist_reprojete.nc /home/jovyan/private-storage/output_data/areacella_recalcule_new/EC-Earth3-Veg_gridarea_hist_recalcule.nc\n",
      "cdo    gridarea: Processed 3 variables [0.10s 48MB].\n",
      "🔄 Traitement du modèle EC-Earth3-Veg-LR\n"
     ]
    },
    {
     "name": "stderr",
     "output_type": "stream",
     "text": [
      "Warning (cdf_set_dimtype): Could not assign all character coordinates to data variable!\n",
      "Warning (cdf_set_dimtype): Could not assign all character coordinates to data variable!\n",
      "Warning (cdf_set_dimtype): Could not assign all character coordinates to data variable!\n"
     ]
    },
    {
     "name": "stdout",
     "output_type": "stream",
     "text": [
      "⚙️ Exécution : cdo gridarea /home/jovyan/private-storage/output_data/sea_ice_interp_new/EC-Earth3-Veg-LR_hist_reprojete.nc /home/jovyan/private-storage/output_data/areacella_recalcule_new/EC-Earth3-Veg-LR_gridarea_hist_recalcule.nc\n",
      "cdo    gridarea: Processed 3 variables [0.11s 48MB].\n",
      "🔄 Traitement du modèle FGOALS-g3\n"
     ]
    },
    {
     "name": "stderr",
     "output_type": "stream",
     "text": [
      "Warning (cdf_set_dimtype): Could not assign all character coordinates to data variable!\n",
      "Warning (cdf_set_dimtype): Could not assign all character coordinates to data variable!\n",
      "Warning (cdf_set_dimtype): Could not assign all character coordinates to data variable!\n"
     ]
    },
    {
     "name": "stdout",
     "output_type": "stream",
     "text": [
      "⚙️ Exécution : cdo gridarea /home/jovyan/private-storage/output_data/sea_ice_interp_new/FGOALS-g3_hist_reprojete.nc /home/jovyan/private-storage/output_data/areacella_recalcule_new/FGOALS-g3_gridarea_hist_recalcule.nc\n",
      "cdo    gridarea: Processed 1 variable [0.10s 48MB].\n",
      "🔄 Traitement du modèle HadGEM3-GC31-LL\n"
     ]
    },
    {
     "name": "stderr",
     "output_type": "stream",
     "text": [
      "Warning (cdf_set_dimtype): Could not assign all character coordinates to data variable!\n"
     ]
    },
    {
     "name": "stdout",
     "output_type": "stream",
     "text": [
      "⚙️ Exécution : cdo gridarea /home/jovyan/private-storage/output_data/sea_ice_interp_new/HadGEM3-GC31-LL_hist_reprojete.nc /home/jovyan/private-storage/output_data/areacella_recalcule_new/HadGEM3-GC31-LL_gridarea_hist_recalcule.nc\n",
      "cdo    gridarea: Processed 3 variables [0.13s 48MB].\n",
      "🔄 Traitement du modèle MPI-ESM1-2-LR\n"
     ]
    },
    {
     "name": "stderr",
     "output_type": "stream",
     "text": [
      "Warning (cdf_set_dimtype): Could not assign all character coordinates to data variable!\n",
      "Warning (cdf_set_dimtype): Could not assign all character coordinates to data variable!\n",
      "Warning (cdf_set_dimtype): Could not assign all character coordinates to data variable!\n"
     ]
    },
    {
     "name": "stdout",
     "output_type": "stream",
     "text": [
      "⚙️ Exécution : cdo gridarea /home/jovyan/private-storage/output_data/sea_ice_interp_new/MPI-ESM1-2-LR_hist_reprojete.nc /home/jovyan/private-storage/output_data/areacella_recalcule_new/MPI-ESM1-2-LR_gridarea_hist_recalcule.nc\n"
     ]
    },
    {
     "name": "stderr",
     "output_type": "stream",
     "text": [
      "Warning (cdf_set_dimtype): Could not assign all character coordinates to data variable!\n",
      "Warning (cdf_set_dimtype): Could not assign all character coordinates to data variable!\n",
      "Warning (cdf_set_dimtype): Could not assign all character coordinates to data variable!\n"
     ]
    },
    {
     "name": "stdout",
     "output_type": "stream",
     "text": [
      "cdo    gridarea: Processed 3 variables [0.27s 48MB].\n",
      "🔄 Traitement du modèle NorESM2-LM\n",
      "⚙️ Exécution : cdo gridarea /home/jovyan/private-storage/output_data/sea_ice_interp_new/NorESM2-LM_hist_reprojete.nc /home/jovyan/private-storage/output_data/areacella_recalcule_new/NorESM2-LM_gridarea_hist_recalcule.nc\n",
      "cdo    gridarea: Processed 3 variables [0.08s 48MB].\n",
      "🔄 Traitement du modèle NorESM2-MM\n"
     ]
    },
    {
     "name": "stderr",
     "output_type": "stream",
     "text": [
      "Warning (cdf_set_dimtype): Could not assign all character coordinates to data variable!\n",
      "Warning (cdf_set_dimtype): Could not assign all character coordinates to data variable!\n",
      "Warning (cdf_set_dimtype): Could not assign all character coordinates to data variable!\n"
     ]
    },
    {
     "name": "stdout",
     "output_type": "stream",
     "text": [
      "⚙️ Exécution : cdo gridarea /home/jovyan/private-storage/output_data/sea_ice_interp_new/NorESM2-MM_hist_reprojete.nc /home/jovyan/private-storage/output_data/areacella_recalcule_new/NorESM2-MM_gridarea_hist_recalcule.nc\n",
      "cdo    gridarea: Processed 3 variables [0.11s 48MB].\n",
      "🔄 Traitement du modèle UKESM1-0-LL\n"
     ]
    },
    {
     "name": "stderr",
     "output_type": "stream",
     "text": [
      "Warning (cdf_set_dimtype): Could not assign all character coordinates to data variable!\n",
      "Warning (cdf_set_dimtype): Could not assign all character coordinates to data variable!\n",
      "Warning (cdf_set_dimtype): Could not assign all character coordinates to data variable!\n"
     ]
    },
    {
     "name": "stdout",
     "output_type": "stream",
     "text": [
      "⚙️ Exécution : cdo gridarea /home/jovyan/private-storage/output_data/sea_ice_interp_new/UKESM1-0-LL_hist_reprojete.nc /home/jovyan/private-storage/output_data/areacella_recalcule_new/UKESM1-0-LL_gridarea_hist_recalcule.nc\n",
      "cdo    gridarea: Processed 3 variables [0.11s 48MB].\n",
      "🔄 Traitement du modèle BCC-CSM2-MR\n"
     ]
    },
    {
     "name": "stderr",
     "output_type": "stream",
     "text": [
      "Warning (cdf_set_dimtype): Could not assign all character coordinates to data variable!\n",
      "Warning (cdf_set_dimtype): Could not assign all character coordinates to data variable!\n",
      "Warning (cdf_set_dimtype): Could not assign all character coordinates to data variable!\n"
     ]
    },
    {
     "name": "stdout",
     "output_type": "stream",
     "text": [
      "⚙️ Exécution : cdo gridarea /home/jovyan/private-storage/output_data/sea_ice_interp_new/BCC-CSM2-MR_hist_reprojete.nc /home/jovyan/private-storage/output_data/areacella_recalcule_new/BCC-CSM2-MR_gridarea_hist_recalcule.nc\n"
     ]
    },
    {
     "name": "stderr",
     "output_type": "stream",
     "text": [
      "Warning (cdf_set_dimtype): Could not assign all character coordinates to data variable!\n"
     ]
    },
    {
     "name": "stdout",
     "output_type": "stream",
     "text": [
      "cdo    gridarea: Processed 1 variable [0.20s 48MB].\n",
      "🔄 Traitement du modèle CAMS-CSM1-0\n",
      "⚙️ Exécution : cdo gridarea /home/jovyan/private-storage/output_data/sea_ice_interp_new/CAMS-CSM1-0_hist_reprojete.nc /home/jovyan/private-storage/output_data/areacella_recalcule_new/CAMS-CSM1-0_gridarea_hist_recalcule.nc\n"
     ]
    },
    {
     "name": "stderr",
     "output_type": "stream",
     "text": [
      "Warning (cdf_set_dimtype): Could not assign all character coordinates to data variable!\n",
      "Warning (cdf_set_dimtype): Could not assign all character coordinates to data variable!\n",
      "Warning (cdf_set_dimtype): Could not assign all character coordinates to data variable!\n"
     ]
    },
    {
     "name": "stdout",
     "output_type": "stream",
     "text": [
      "cdo    gridarea: Processed 3 variables [0.16s 48MB].\n",
      "🔄 Traitement du modèle CESM2\n",
      "⚙️ Exécution : cdo gridarea /home/jovyan/private-storage/output_data/sea_ice_interp_new/CESM2_hist_reprojete.nc /home/jovyan/private-storage/output_data/areacella_recalcule_new/CESM2_gridarea_hist_recalcule.nc\n",
      "cdo    gridarea: Processed 3 variables [0.16s 48MB].\n",
      "🔄 Traitement du modèle CESM2-WACCM\n",
      "⚙️ Exécution : cdo gridarea /home/jovyan/private-storage/output_data/sea_ice_interp_new/CESM2-WACCM_hist_reprojete.nc /home/jovyan/private-storage/output_data/areacella_recalcule_new/CESM2-WACCM_gridarea_hist_recalcule.nc\n",
      "cdo    gridarea: Processed 3 variables [0.13s 48MB].\n",
      "🔄 Traitement du modèle CNRM-CM6-1\n",
      "⚙️ Exécution : cdo gridarea /home/jovyan/private-storage/output_data/sea_ice_interp_new/CNRM-CM6-1_hist_reprojete.nc /home/jovyan/private-storage/output_data/areacella_recalcule_new/CNRM-CM6-1_gridarea_hist_recalcule.nc\n",
      "cdo    gridarea: Processed 3 variables [0.09s 48MB].\n",
      "🔄 Traitement du modèle CNRM-CM6-1-HR\n"
     ]
    },
    {
     "name": "stderr",
     "output_type": "stream",
     "text": [
      "Warning (cdf_set_dimtype): Could not assign all character coordinates to data variable!\n",
      "Warning (cdf_set_dimtype): Could not assign all character coordinates to data variable!\n",
      "Warning (cdf_set_dimtype): Could not assign all character coordinates to data variable!\n"
     ]
    },
    {
     "name": "stdout",
     "output_type": "stream",
     "text": [
      "⚙️ Exécution : cdo gridarea /home/jovyan/private-storage/output_data/sea_ice_interp_new/CNRM-CM6-1-HR_hist_reprojete.nc /home/jovyan/private-storage/output_data/areacella_recalcule_new/CNRM-CM6-1-HR_gridarea_hist_recalcule.nc\n",
      "cdo    gridarea: Processed 3 variables [0.08s 48MB].\n",
      "🔄 Traitement du modèle CanESM5\n"
     ]
    },
    {
     "name": "stderr",
     "output_type": "stream",
     "text": [
      "Warning (cdf_set_dimtype): Could not assign all character coordinates to data variable!\n",
      "Warning (cdf_set_dimtype): Could not assign all character coordinates to data variable!\n",
      "Warning (cdf_set_dimtype): Could not assign all character coordinates to data variable!\n"
     ]
    },
    {
     "name": "stdout",
     "output_type": "stream",
     "text": [
      "⚙️ Exécution : cdo gridarea /home/jovyan/private-storage/output_data/sea_ice_interp_new/CanESM5_hist_reprojete.nc /home/jovyan/private-storage/output_data/areacella_recalcule_new/CanESM5_gridarea_hist_recalcule.nc\n",
      "cdo    gridarea: Processed 3 variables [0.11s 48MB].\n",
      "🔄 Traitement du modèle FGOALS-f3-L\n"
     ]
    },
    {
     "name": "stderr",
     "output_type": "stream",
     "text": [
      "Warning (cdf_set_dimtype): Could not assign all character coordinates to data variable!\n",
      "Warning (cdf_set_dimtype): Could not assign all character coordinates to data variable!\n",
      "Warning (cdf_set_dimtype): Could not assign all character coordinates to data variable!\n"
     ]
    },
    {
     "name": "stdout",
     "output_type": "stream",
     "text": [
      "⚙️ Exécution : cdo gridarea /home/jovyan/private-storage/output_data/sea_ice_interp_new/FGOALS-f3-L_hist_reprojete.nc /home/jovyan/private-storage/output_data/areacella_recalcule_new/FGOALS-f3-L_gridarea_hist_recalcule.nc\n",
      "cdo    gridarea: Processed 1 variable [0.07s 48MB].\n",
      "🔄 Traitement du modèle FIO-ESM-2-0\n"
     ]
    },
    {
     "name": "stderr",
     "output_type": "stream",
     "text": [
      "Warning (cdf_set_dimtype): Could not assign all character coordinates to data variable!\n"
     ]
    },
    {
     "name": "stdout",
     "output_type": "stream",
     "text": [
      "⚙️ Exécution : cdo gridarea /home/jovyan/private-storage/output_data/sea_ice_interp_new/FIO-ESM-2-0_hist_reprojete.nc /home/jovyan/private-storage/output_data/areacella_recalcule_new/FIO-ESM-2-0_gridarea_hist_recalcule.nc\n",
      "cdo    gridarea: Processed 3 variables [0.09s 48MB].\n",
      "🔄 Traitement du modèle GFDL-CM4\n"
     ]
    },
    {
     "name": "stderr",
     "output_type": "stream",
     "text": [
      "Warning (cdf_set_dimtype): Could not assign all character coordinates to data variable!\n",
      "Warning (cdf_set_dimtype): Could not assign all character coordinates to data variable!\n",
      "Warning (cdf_set_dimtype): Could not assign all character coordinates to data variable!\n"
     ]
    },
    {
     "name": "stdout",
     "output_type": "stream",
     "text": [
      "⚙️ Exécution : cdo gridarea /home/jovyan/private-storage/output_data/sea_ice_interp_new/GFDL-CM4_hist_reprojete.nc /home/jovyan/private-storage/output_data/areacella_recalcule_new/GFDL-CM4_gridarea_hist_recalcule.nc\n",
      "cdo    gridarea: Processed 3 variables [0.13s 48MB].\n",
      "🔄 Traitement du modèle GFDL-ESM4\n",
      "⚙️ Exécution : cdo gridarea /home/jovyan/private-storage/output_data/sea_ice_interp_new/GFDL-ESM4_hist_reprojete.nc /home/jovyan/private-storage/output_data/areacella_recalcule_new/GFDL-ESM4_gridarea_hist_recalcule.nc\n",
      "cdo    gridarea: Processed 5 variables [0.08s 48MB].\n",
      "🔄 Traitement du modèle INM-CM4-8\n",
      "⚙️ Exécution : cdo gridarea /home/jovyan/private-storage/output_data/sea_ice_interp_new/INM-CM4-8_hist_reprojete.nc /home/jovyan/private-storage/output_data/areacella_recalcule_new/INM-CM4-8_gridarea_hist_recalcule.nc\n",
      "cdo    gridarea: Processed 1 variable [0.09s 48MB].\n",
      "🔄 Traitement du modèle INM-CM5-0\n"
     ]
    },
    {
     "name": "stderr",
     "output_type": "stream",
     "text": [
      "Warning (cdf_set_dimtype): Could not assign all character coordinates to data variable!\n"
     ]
    },
    {
     "name": "stdout",
     "output_type": "stream",
     "text": [
      "⚙️ Exécution : cdo gridarea /home/jovyan/private-storage/output_data/sea_ice_interp_new/INM-CM5-0_hist_reprojete.nc /home/jovyan/private-storage/output_data/areacella_recalcule_new/INM-CM5-0_gridarea_hist_recalcule.nc\n",
      "cdo    gridarea: Processed 1 variable [0.10s 48MB].\n",
      "🔄 Traitement du modèle IPSL-CM6A-LR\n"
     ]
    },
    {
     "name": "stderr",
     "output_type": "stream",
     "text": [
      "Warning (cdf_set_dimtype): Could not assign all character coordinates to data variable!\n"
     ]
    },
    {
     "name": "stdout",
     "output_type": "stream",
     "text": [
      "⚙️ Exécution : cdo gridarea /home/jovyan/private-storage/output_data/sea_ice_interp_new/IPSL-CM6A-LR_hist_reprojete.nc /home/jovyan/private-storage/output_data/areacella_recalcule_new/IPSL-CM6A-LR_gridarea_hist_recalcule.nc\n",
      "cdo    gridarea: Processed 4 variables [0.10s 48MB].\n",
      "🔄 Traitement du modèle MIROC-ES2L\n"
     ]
    },
    {
     "name": "stderr",
     "output_type": "stream",
     "text": [
      "Warning (cdf_set_dimtype): Could not assign all character coordinates to data variable!\n",
      "Warning (cdf_set_dimtype): Could not assign all character coordinates to data variable!\n",
      "Warning (cdf_set_dimtype): Could not assign all character coordinates to data variable!\n",
      "Warning (cdf_set_dimtype): Could not assign all character coordinates to data variable!\n"
     ]
    },
    {
     "name": "stdout",
     "output_type": "stream",
     "text": [
      "⚙️ Exécution : cdo gridarea /home/jovyan/private-storage/output_data/sea_ice_interp_new/MIROC-ES2L_hist_reprojete.nc /home/jovyan/private-storage/output_data/areacella_recalcule_new/MIROC-ES2L_gridarea_hist_recalcule.nc\n",
      "cdo    gridarea: Processed 3 variables [0.10s 48MB].\n",
      "🔄 Traitement du modèle MIROC6\n"
     ]
    },
    {
     "name": "stderr",
     "output_type": "stream",
     "text": [
      "Warning (cdf_set_dimtype): Could not assign all character coordinates to data variable!\n",
      "Warning (cdf_set_dimtype): Could not assign all character coordinates to data variable!\n",
      "Warning (cdf_set_dimtype): Could not assign all character coordinates to data variable!\n"
     ]
    },
    {
     "name": "stdout",
     "output_type": "stream",
     "text": [
      "⚙️ Exécution : cdo gridarea /home/jovyan/private-storage/output_data/sea_ice_interp_new/MIROC6_hist_reprojete.nc /home/jovyan/private-storage/output_data/areacella_recalcule_new/MIROC6_gridarea_hist_recalcule.nc\n",
      "cdo    gridarea: Processed 3 variables [0.13s 48MB].\n",
      "🔄 Traitement du modèle MPI-ESM1-2-HR\n"
     ]
    },
    {
     "name": "stderr",
     "output_type": "stream",
     "text": [
      "Warning (cdf_set_dimtype): Could not assign all character coordinates to data variable!\n",
      "Warning (cdf_set_dimtype): Could not assign all character coordinates to data variable!\n",
      "Warning (cdf_set_dimtype): Could not assign all character coordinates to data variable!\n"
     ]
    },
    {
     "name": "stdout",
     "output_type": "stream",
     "text": [
      "⚙️ Exécution : cdo gridarea /home/jovyan/private-storage/output_data/sea_ice_interp_new/MPI-ESM1-2-HR_hist_reprojete.nc /home/jovyan/private-storage/output_data/areacella_recalcule_new/MPI-ESM1-2-HR_gridarea_hist_recalcule.nc\n",
      "cdo    gridarea: Processed 3 variables [0.13s 48MB].\n",
      "🔄 Traitement du modèle MRI-ESM2-0\n"
     ]
    },
    {
     "name": "stderr",
     "output_type": "stream",
     "text": [
      "Warning (cdf_set_dimtype): Could not assign all character coordinates to data variable!\n",
      "Warning (cdf_set_dimtype): Could not assign all character coordinates to data variable!\n",
      "Warning (cdf_set_dimtype): Could not assign all character coordinates to data variable!\n"
     ]
    },
    {
     "name": "stdout",
     "output_type": "stream",
     "text": [
      "⚙️ Exécution : cdo gridarea /home/jovyan/private-storage/output_data/sea_ice_interp_new/MRI-ESM2-0_hist_reprojete.nc /home/jovyan/private-storage/output_data/areacella_recalcule_new/MRI-ESM2-0_gridarea_hist_recalcule.nc\n",
      "cdo    gridarea: Processed 3 variables [0.11s 48MB].\n",
      "🔄 Traitement du modèle NESM3\n"
     ]
    },
    {
     "name": "stderr",
     "output_type": "stream",
     "text": [
      "Warning (cdf_set_dimtype): Could not assign all character coordinates to data variable!\n",
      "Warning (cdf_set_dimtype): Could not assign all character coordinates to data variable!\n",
      "Warning (cdf_set_dimtype): Could not assign all character coordinates to data variable!\n"
     ]
    },
    {
     "name": "stdout",
     "output_type": "stream",
     "text": [
      "⚙️ Exécution : cdo gridarea /home/jovyan/private-storage/output_data/sea_ice_interp_new/NESM3_hist_reprojete.nc /home/jovyan/private-storage/output_data/areacella_recalcule_new/NESM3_gridarea_hist_recalcule.nc\n",
      "cdo    gridarea: Processed 3 variables [0.10s 48MB].\n"
     ]
    },
    {
     "name": "stderr",
     "output_type": "stream",
     "text": [
      "Warning (cdf_set_dimtype): Could not assign all character coordinates to data variable!\n",
      "Warning (cdf_set_dimtype): Could not assign all character coordinates to data variable!\n",
      "Warning (cdf_set_dimtype): Could not assign all character coordinates to data variable!\n"
     ]
    }
   ],
   "source": [
    "recalculer_areacella(\n",
    "    models,\n",
    "    input_path=\"/home/jovyan/private-storage/output_data/sea_ice_interp_new\",\n",
    "    output_path=\"/home/jovyan/private-storage/output_data/areacella_recalcule_new\"\n",
    ")"
   ]
  },
  {
   "cell_type": "markdown",
   "id": "b6d9b80a-45b1-4bbf-b72b-ce97d67b5ebf",
   "metadata": {},
   "source": [
    "## Conclusion\n",
    "\n",
    "This notebook recalculates each areacella file for all interpolated sea ice historical files, to allow calculations between these two variables later in the analysis. These files are stored in a new folder."
   ]
  }
 ],
 "metadata": {
  "kernelspec": {
   "display_name": "Python 3 (ipykernel)",
   "language": "python",
   "name": "python3"
  },
  "language_info": {
   "codemirror_mode": {
    "name": "ipython",
    "version": 3
   },
   "file_extension": ".py",
   "mimetype": "text/x-python",
   "name": "python",
   "nbconvert_exporter": "python",
   "pygments_lexer": "ipython3",
   "version": "3.12.8"
  }
 },
 "nbformat": 4,
 "nbformat_minor": 5
}
