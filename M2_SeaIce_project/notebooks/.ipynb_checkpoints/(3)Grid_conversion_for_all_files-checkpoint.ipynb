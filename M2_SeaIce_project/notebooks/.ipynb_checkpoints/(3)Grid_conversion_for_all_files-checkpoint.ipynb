{
 "cells": [
  {
   "cell_type": "markdown",
   "id": "e6fe4285-1281-4980-b983-b464487f7084",
   "metadata": {},
   "source": [
    "# Grid conversion for all files"
   ]
  },
  {
   "cell_type": "markdown",
   "id": "724fc340-2c81-4b96-8461-067116d718c7",
   "metadata": {},
   "source": [
    "## Objective \n",
    "\n",
    "The main objective of this notebook is to convert all files to a common grid so that comparisons can be made later. The useful files to convert are those with the sea ice variable for the historical period and those obtained from the output of the first notebook used, as well as all land surface and land ice mask files. The main tool used is the nearest s2d interpolation."
   ]
  },
  {
   "cell_type": "code",
   "execution_count": 1,
   "id": "3d74cde8-0310-469f-9510-4cc788db1267",
   "metadata": {},
   "outputs": [
    {
     "name": "stdout",
     "output_type": "stream",
     "text": [
      "Last updated: 2025-07-31T08:08:33.732985+00:00\n",
      "\n",
      "Python implementation: CPython\n",
      "Python version       : 3.12.8\n",
      "IPython version      : 8.17.2\n",
      "\n",
      "Compiler    : GCC 13.3.0\n",
      "OS          : Linux\n",
      "Release     : 6.8.0-55-generic\n",
      "Machine     : x86_64\n",
      "Processor   : x86_64\n",
      "CPU cores   : 8\n",
      "Architecture: 64bit\n",
      "\n"
     ]
    }
   ],
   "source": [
    "from watermark import watermark\n",
    "%load_ext watermark\n",
    "print(watermark())"
   ]
  },
  {
   "cell_type": "code",
   "execution_count": 2,
   "id": "9ff393ea-3b6f-492e-a4c3-41b5761ed16a",
   "metadata": {},
   "outputs": [
    {
     "name": "stdout",
     "output_type": "stream",
     "text": [
      "Projet root ajouté au path: /home/jovyan/M2_SeaIce_project\n"
     ]
    }
   ],
   "source": [
    "import sys\n",
    "import os\n",
    "\n",
    "# Chemin absolu vers le dossier codes_ORL_evaluation\n",
    "project_root = os.path.abspath(os.path.join(os.getcwd(), \"..\"))\n",
    "\n",
    "# Ajout du chemin au sys.path\n",
    "if project_root not in sys.path:\n",
    "    sys.path.insert(0, project_root)\n",
    "\n",
    "print(\"Projet root ajouté au path:\", project_root)"
   ]
  },
  {
   "cell_type": "code",
   "execution_count": 3,
   "id": "49986bfc-55e4-45f2-bbe1-081d7142fad3",
   "metadata": {},
   "outputs": [
    {
     "name": "stdout",
     "output_type": "stream",
     "text": [
      "Collecting cdo\n",
      "  Using cached cdo-1.6.1-py3-none-any.whl.metadata (14 kB)\n",
      "Requirement already satisfied: six in /srv/conda/envs/notebook/lib/python3.12/site-packages (from cdo) (1.17.0)\n",
      "Requirement already satisfied: packaging in /srv/conda/envs/notebook/lib/python3.12/site-packages (from cdo) (24.2)\n",
      "Using cached cdo-1.6.1-py3-none-any.whl (16 kB)\n",
      "Installing collected packages: cdo\n",
      "Successfully installed cdo-1.6.1\n",
      "Note: you may need to restart the kernel to use updated packages.\n"
     ]
    }
   ],
   "source": [
    "pip install cdo"
   ]
  },
  {
   "cell_type": "code",
   "execution_count": 4,
   "id": "0cc092cb-9ab4-47ca-9276-32321ad2e15c",
   "metadata": {},
   "outputs": [
    {
     "name": "stderr",
     "output_type": "stream",
     "text": [
      "/srv/conda/envs/notebook/lib/python3.12/site-packages/esmpy/interface/loadESMF.py:94: VersionWarning: ESMF installation version 8.8.0, ESMPy version 8.8.0b0\n",
      "  warnings.warn(\"ESMF installation version {}, ESMPy version {}\".format(\n"
     ]
    }
   ],
   "source": [
    "from module import *"
   ]
  },
  {
   "cell_type": "code",
   "execution_count": 5,
   "id": "b964616e-c4c1-4ddd-acfb-fad183a0daf2",
   "metadata": {},
   "outputs": [
    {
     "name": "stdout",
     "output_type": "stream",
     "text": [
      "netCDF4   : 1.7.2\n",
      "seaborn   : 0.13.2\n",
      "cartopy   : 0.24.0\n",
      "matplotlib: 3.10.0\n",
      "cdo       : 1.6.1\n",
      "xarray    : 2025.1.1\n",
      "skimage   : 0.25.0\n",
      "sys       : 3.12.8 | packaged by conda-forge | (main, Dec  5 2024, 14:24:40) [GCC 13.3.0]\n",
      "xesmf     : 0.8.8\n",
      "pandas    : 2.2.3\n",
      "csv       : 1.0\n",
      "watermark : 2.5.0\n",
      "numpy     : 2.0.2\n",
      "\n"
     ]
    }
   ],
   "source": [
    "%watermark --iversions"
   ]
  },
  {
   "cell_type": "markdown",
   "id": "52d7b599-4d82-41b0-9e56-d0a8c6d4cfbe",
   "metadata": {},
   "source": [
    "## Reference grid\n",
    "\n",
    "The reference grid is defined as that of the sea ice observation file, being real data."
   ]
  },
  {
   "cell_type": "code",
   "execution_count": 6,
   "id": "ec196b4a-4eaa-4102-977c-8298bd1b594e",
   "metadata": {},
   "outputs": [],
   "source": [
    "# path and file of the reference grid\n",
    "path = \"/home/jovyan/M2_SeaIce_project/Data/input_data/siconc_input_merged.nc\"\n",
    "ref_grid = xr.open_dataset(path)"
   ]
  },
  {
   "cell_type": "code",
   "execution_count": 7,
   "id": "92196373-9642-4a47-8b20-c2b4fbfbadcb",
   "metadata": {},
   "outputs": [
    {
     "data": {
      "text/html": [
       "<div><svg style=\"position: absolute; width: 0; height: 0; overflow: hidden\">\n",
       "<defs>\n",
       "<symbol id=\"icon-database\" viewBox=\"0 0 32 32\">\n",
       "<path d=\"M16 0c-8.837 0-16 2.239-16 5v4c0 2.761 7.163 5 16 5s16-2.239 16-5v-4c0-2.761-7.163-5-16-5z\"></path>\n",
       "<path d=\"M16 17c-8.837 0-16-2.239-16-5v6c0 2.761 7.163 5 16 5s16-2.239 16-5v-6c0 2.761-7.163 5-16 5z\"></path>\n",
       "<path d=\"M16 26c-8.837 0-16-2.239-16-5v6c0 2.761 7.163 5 16 5s16-2.239 16-5v-6c0 2.761-7.163 5-16 5z\"></path>\n",
       "</symbol>\n",
       "<symbol id=\"icon-file-text2\" viewBox=\"0 0 32 32\">\n",
       "<path d=\"M28.681 7.159c-0.694-0.947-1.662-2.053-2.724-3.116s-2.169-2.030-3.116-2.724c-1.612-1.182-2.393-1.319-2.841-1.319h-15.5c-1.378 0-2.5 1.121-2.5 2.5v27c0 1.378 1.122 2.5 2.5 2.5h23c1.378 0 2.5-1.122 2.5-2.5v-19.5c0-0.448-0.137-1.23-1.319-2.841zM24.543 5.457c0.959 0.959 1.712 1.825 2.268 2.543h-4.811v-4.811c0.718 0.556 1.584 1.309 2.543 2.268zM28 29.5c0 0.271-0.229 0.5-0.5 0.5h-23c-0.271 0-0.5-0.229-0.5-0.5v-27c0-0.271 0.229-0.5 0.5-0.5 0 0 15.499-0 15.5 0v7c0 0.552 0.448 1 1 1h7v19.5z\"></path>\n",
       "<path d=\"M23 26h-14c-0.552 0-1-0.448-1-1s0.448-1 1-1h14c0.552 0 1 0.448 1 1s-0.448 1-1 1z\"></path>\n",
       "<path d=\"M23 22h-14c-0.552 0-1-0.448-1-1s0.448-1 1-1h14c0.552 0 1 0.448 1 1s-0.448 1-1 1z\"></path>\n",
       "<path d=\"M23 18h-14c-0.552 0-1-0.448-1-1s0.448-1 1-1h14c0.552 0 1 0.448 1 1s-0.448 1-1 1z\"></path>\n",
       "</symbol>\n",
       "</defs>\n",
       "</svg>\n",
       "<style>/* CSS stylesheet for displaying xarray objects in jupyterlab.\n",
       " *\n",
       " */\n",
       "\n",
       ":root {\n",
       "  --xr-font-color0: var(--jp-content-font-color0, rgba(0, 0, 0, 1));\n",
       "  --xr-font-color2: var(--jp-content-font-color2, rgba(0, 0, 0, 0.54));\n",
       "  --xr-font-color3: var(--jp-content-font-color3, rgba(0, 0, 0, 0.38));\n",
       "  --xr-border-color: var(--jp-border-color2, #e0e0e0);\n",
       "  --xr-disabled-color: var(--jp-layout-color3, #bdbdbd);\n",
       "  --xr-background-color: var(--jp-layout-color0, white);\n",
       "  --xr-background-color-row-even: var(--jp-layout-color1, white);\n",
       "  --xr-background-color-row-odd: var(--jp-layout-color2, #eeeeee);\n",
       "}\n",
       "\n",
       "html[theme=\"dark\"],\n",
       "html[data-theme=\"dark\"],\n",
       "body[data-theme=\"dark\"],\n",
       "body.vscode-dark {\n",
       "  --xr-font-color0: rgba(255, 255, 255, 1);\n",
       "  --xr-font-color2: rgba(255, 255, 255, 0.54);\n",
       "  --xr-font-color3: rgba(255, 255, 255, 0.38);\n",
       "  --xr-border-color: #1f1f1f;\n",
       "  --xr-disabled-color: #515151;\n",
       "  --xr-background-color: #111111;\n",
       "  --xr-background-color-row-even: #111111;\n",
       "  --xr-background-color-row-odd: #313131;\n",
       "}\n",
       "\n",
       ".xr-wrap {\n",
       "  display: block !important;\n",
       "  min-width: 300px;\n",
       "  max-width: 700px;\n",
       "}\n",
       "\n",
       ".xr-text-repr-fallback {\n",
       "  /* fallback to plain text repr when CSS is not injected (untrusted notebook) */\n",
       "  display: none;\n",
       "}\n",
       "\n",
       ".xr-header {\n",
       "  padding-top: 6px;\n",
       "  padding-bottom: 6px;\n",
       "  margin-bottom: 4px;\n",
       "  border-bottom: solid 1px var(--xr-border-color);\n",
       "}\n",
       "\n",
       ".xr-header > div,\n",
       ".xr-header > ul {\n",
       "  display: inline;\n",
       "  margin-top: 0;\n",
       "  margin-bottom: 0;\n",
       "}\n",
       "\n",
       ".xr-obj-type,\n",
       ".xr-array-name {\n",
       "  margin-left: 2px;\n",
       "  margin-right: 10px;\n",
       "}\n",
       "\n",
       ".xr-obj-type {\n",
       "  color: var(--xr-font-color2);\n",
       "}\n",
       "\n",
       ".xr-sections {\n",
       "  padding-left: 0 !important;\n",
       "  display: grid;\n",
       "  grid-template-columns: 150px auto auto 1fr 0 20px 0 20px;\n",
       "}\n",
       "\n",
       ".xr-section-item {\n",
       "  display: contents;\n",
       "}\n",
       "\n",
       ".xr-section-item input {\n",
       "  display: inline-block;\n",
       "  opacity: 0;\n",
       "  height: 0;\n",
       "}\n",
       "\n",
       ".xr-section-item input + label {\n",
       "  color: var(--xr-disabled-color);\n",
       "}\n",
       "\n",
       ".xr-section-item input:enabled + label {\n",
       "  cursor: pointer;\n",
       "  color: var(--xr-font-color2);\n",
       "}\n",
       "\n",
       ".xr-section-item input:focus + label {\n",
       "  border: 2px solid var(--xr-font-color0);\n",
       "}\n",
       "\n",
       ".xr-section-item input:enabled + label:hover {\n",
       "  color: var(--xr-font-color0);\n",
       "}\n",
       "\n",
       ".xr-section-summary {\n",
       "  grid-column: 1;\n",
       "  color: var(--xr-font-color2);\n",
       "  font-weight: 500;\n",
       "}\n",
       "\n",
       ".xr-section-summary > span {\n",
       "  display: inline-block;\n",
       "  padding-left: 0.5em;\n",
       "}\n",
       "\n",
       ".xr-section-summary-in:disabled + label {\n",
       "  color: var(--xr-font-color2);\n",
       "}\n",
       "\n",
       ".xr-section-summary-in + label:before {\n",
       "  display: inline-block;\n",
       "  content: \"►\";\n",
       "  font-size: 11px;\n",
       "  width: 15px;\n",
       "  text-align: center;\n",
       "}\n",
       "\n",
       ".xr-section-summary-in:disabled + label:before {\n",
       "  color: var(--xr-disabled-color);\n",
       "}\n",
       "\n",
       ".xr-section-summary-in:checked + label:before {\n",
       "  content: \"▼\";\n",
       "}\n",
       "\n",
       ".xr-section-summary-in:checked + label > span {\n",
       "  display: none;\n",
       "}\n",
       "\n",
       ".xr-section-summary,\n",
       ".xr-section-inline-details {\n",
       "  padding-top: 4px;\n",
       "  padding-bottom: 4px;\n",
       "}\n",
       "\n",
       ".xr-section-inline-details {\n",
       "  grid-column: 2 / -1;\n",
       "}\n",
       "\n",
       ".xr-section-details {\n",
       "  display: none;\n",
       "  grid-column: 1 / -1;\n",
       "  margin-bottom: 5px;\n",
       "}\n",
       "\n",
       ".xr-section-summary-in:checked ~ .xr-section-details {\n",
       "  display: contents;\n",
       "}\n",
       "\n",
       ".xr-array-wrap {\n",
       "  grid-column: 1 / -1;\n",
       "  display: grid;\n",
       "  grid-template-columns: 20px auto;\n",
       "}\n",
       "\n",
       ".xr-array-wrap > label {\n",
       "  grid-column: 1;\n",
       "  vertical-align: top;\n",
       "}\n",
       "\n",
       ".xr-preview {\n",
       "  color: var(--xr-font-color3);\n",
       "}\n",
       "\n",
       ".xr-array-preview,\n",
       ".xr-array-data {\n",
       "  padding: 0 5px !important;\n",
       "  grid-column: 2;\n",
       "}\n",
       "\n",
       ".xr-array-data,\n",
       ".xr-array-in:checked ~ .xr-array-preview {\n",
       "  display: none;\n",
       "}\n",
       "\n",
       ".xr-array-in:checked ~ .xr-array-data,\n",
       ".xr-array-preview {\n",
       "  display: inline-block;\n",
       "}\n",
       "\n",
       ".xr-dim-list {\n",
       "  display: inline-block !important;\n",
       "  list-style: none;\n",
       "  padding: 0 !important;\n",
       "  margin: 0;\n",
       "}\n",
       "\n",
       ".xr-dim-list li {\n",
       "  display: inline-block;\n",
       "  padding: 0;\n",
       "  margin: 0;\n",
       "}\n",
       "\n",
       ".xr-dim-list:before {\n",
       "  content: \"(\";\n",
       "}\n",
       "\n",
       ".xr-dim-list:after {\n",
       "  content: \")\";\n",
       "}\n",
       "\n",
       ".xr-dim-list li:not(:last-child):after {\n",
       "  content: \",\";\n",
       "  padding-right: 5px;\n",
       "}\n",
       "\n",
       ".xr-has-index {\n",
       "  font-weight: bold;\n",
       "}\n",
       "\n",
       ".xr-var-list,\n",
       ".xr-var-item {\n",
       "  display: contents;\n",
       "}\n",
       "\n",
       ".xr-var-item > div,\n",
       ".xr-var-item label,\n",
       ".xr-var-item > .xr-var-name span {\n",
       "  background-color: var(--xr-background-color-row-even);\n",
       "  margin-bottom: 0;\n",
       "}\n",
       "\n",
       ".xr-var-item > .xr-var-name:hover span {\n",
       "  padding-right: 5px;\n",
       "}\n",
       "\n",
       ".xr-var-list > li:nth-child(odd) > div,\n",
       ".xr-var-list > li:nth-child(odd) > label,\n",
       ".xr-var-list > li:nth-child(odd) > .xr-var-name span {\n",
       "  background-color: var(--xr-background-color-row-odd);\n",
       "}\n",
       "\n",
       ".xr-var-name {\n",
       "  grid-column: 1;\n",
       "}\n",
       "\n",
       ".xr-var-dims {\n",
       "  grid-column: 2;\n",
       "}\n",
       "\n",
       ".xr-var-dtype {\n",
       "  grid-column: 3;\n",
       "  text-align: right;\n",
       "  color: var(--xr-font-color2);\n",
       "}\n",
       "\n",
       ".xr-var-preview {\n",
       "  grid-column: 4;\n",
       "}\n",
       "\n",
       ".xr-index-preview {\n",
       "  grid-column: 2 / 5;\n",
       "  color: var(--xr-font-color2);\n",
       "}\n",
       "\n",
       ".xr-var-name,\n",
       ".xr-var-dims,\n",
       ".xr-var-dtype,\n",
       ".xr-preview,\n",
       ".xr-attrs dt {\n",
       "  white-space: nowrap;\n",
       "  overflow: hidden;\n",
       "  text-overflow: ellipsis;\n",
       "  padding-right: 10px;\n",
       "}\n",
       "\n",
       ".xr-var-name:hover,\n",
       ".xr-var-dims:hover,\n",
       ".xr-var-dtype:hover,\n",
       ".xr-attrs dt:hover {\n",
       "  overflow: visible;\n",
       "  width: auto;\n",
       "  z-index: 1;\n",
       "}\n",
       "\n",
       ".xr-var-attrs,\n",
       ".xr-var-data,\n",
       ".xr-index-data {\n",
       "  display: none;\n",
       "  background-color: var(--xr-background-color) !important;\n",
       "  padding-bottom: 5px !important;\n",
       "}\n",
       "\n",
       ".xr-var-attrs-in:checked ~ .xr-var-attrs,\n",
       ".xr-var-data-in:checked ~ .xr-var-data,\n",
       ".xr-index-data-in:checked ~ .xr-index-data {\n",
       "  display: block;\n",
       "}\n",
       "\n",
       ".xr-var-data > table {\n",
       "  float: right;\n",
       "}\n",
       "\n",
       ".xr-var-name span,\n",
       ".xr-var-data,\n",
       ".xr-index-name div,\n",
       ".xr-index-data,\n",
       ".xr-attrs {\n",
       "  padding-left: 25px !important;\n",
       "}\n",
       "\n",
       ".xr-attrs,\n",
       ".xr-var-attrs,\n",
       ".xr-var-data,\n",
       ".xr-index-data {\n",
       "  grid-column: 1 / -1;\n",
       "}\n",
       "\n",
       "dl.xr-attrs {\n",
       "  padding: 0;\n",
       "  margin: 0;\n",
       "  display: grid;\n",
       "  grid-template-columns: 125px auto;\n",
       "}\n",
       "\n",
       ".xr-attrs dt,\n",
       ".xr-attrs dd {\n",
       "  padding: 0;\n",
       "  margin: 0;\n",
       "  float: left;\n",
       "  padding-right: 10px;\n",
       "  width: auto;\n",
       "}\n",
       "\n",
       ".xr-attrs dt {\n",
       "  font-weight: normal;\n",
       "  grid-column: 1;\n",
       "}\n",
       "\n",
       ".xr-attrs dt:hover span {\n",
       "  display: inline-block;\n",
       "  background: var(--xr-background-color);\n",
       "  padding-right: 10px;\n",
       "}\n",
       "\n",
       ".xr-attrs dd {\n",
       "  grid-column: 2;\n",
       "  white-space: pre-wrap;\n",
       "  word-break: break-all;\n",
       "}\n",
       "\n",
       ".xr-icon-database,\n",
       ".xr-icon-file-text2,\n",
       ".xr-no-icon {\n",
       "  display: inline-block;\n",
       "  vertical-align: middle;\n",
       "  width: 1em;\n",
       "  height: 1.5em !important;\n",
       "  stroke-width: 0;\n",
       "  stroke: currentColor;\n",
       "  fill: currentColor;\n",
       "}\n",
       "</style><pre class='xr-text-repr-fallback'>&lt;xarray.Dataset&gt; Size: 62MB\n",
       "Dimensions:    (time: 240, bnds: 2, lon: 360, lat: 180)\n",
       "Coordinates:\n",
       "  * time       (time) datetime64[ns] 2kB 1995-01-31T12:00:00 ... 2014-12-31T1...\n",
       "  * lon        (lon) float64 3kB 0.0 1.0 2.0 3.0 4.0 ... 356.0 357.0 358.0 359.0\n",
       "  * lat        (lat) float64 1kB -89.5 -88.5 -87.5 -86.5 ... 86.5 87.5 88.5 89.5\n",
       "Dimensions without coordinates: bnds\n",
       "Data variables:\n",
       "    time_bnds  (time, bnds) datetime64[ns] 4kB ...\n",
       "    sicbcs     (time, lat, lon) float32 62MB ...\n",
       "Attributes: (12/32)\n",
       "    CDI:                     Climate Data Interface version 1.9.10 (https://m...\n",
       "    Conventions:             CF-1.6\n",
       "    source:                  HadISST2.2.0.0 realisation 0 derived from pentad...\n",
       "    institution:             Met Office Hadley Centre, Fitzroy Road, Exeter, ...\n",
       "    history:                 Wed Jul 16 11:47:13 2025: cdo mergetime siconc_i...\n",
       "    activity_id:             input4MIPs\n",
       "    ...                      ...\n",
       "    title:                   HadISST2.2.0.0-r0-0.25x0.25 dataset prepared by ...\n",
       "    variable_id:             siconc\n",
       "    version:                 20170201\n",
       "    NCO:                     &quot;4.6.0&quot;\n",
       "    tracking_id:             hdl:21.14100/d00e3848-38e6-40e5-8dff-60ec2a1c0b56\n",
       "    CDO:                     Climate Data Operators version 1.9.10 (https://m...</pre><div class='xr-wrap' style='display:none'><div class='xr-header'><div class='xr-obj-type'>xarray.Dataset</div></div><ul class='xr-sections'><li class='xr-section-item'><input id='section-e685713e-85ac-4a14-9d1a-7bd37101e5f1' class='xr-section-summary-in' type='checkbox' disabled ><label for='section-e685713e-85ac-4a14-9d1a-7bd37101e5f1' class='xr-section-summary'  title='Expand/collapse section'>Dimensions:</label><div class='xr-section-inline-details'><ul class='xr-dim-list'><li><span class='xr-has-index'>time</span>: 240</li><li><span>bnds</span>: 2</li><li><span class='xr-has-index'>lon</span>: 360</li><li><span class='xr-has-index'>lat</span>: 180</li></ul></div><div class='xr-section-details'></div></li><li class='xr-section-item'><input id='section-e8fd2873-e3c1-4511-be9d-ee225bc732a0' class='xr-section-summary-in' type='checkbox'  checked><label for='section-e8fd2873-e3c1-4511-be9d-ee225bc732a0' class='xr-section-summary' >Coordinates: <span>(3)</span></label><div class='xr-section-inline-details'></div><div class='xr-section-details'><ul class='xr-var-list'><li class='xr-var-item'><div class='xr-var-name'><span class='xr-has-index'>time</span></div><div class='xr-var-dims'>(time)</div><div class='xr-var-dtype'>datetime64[ns]</div><div class='xr-var-preview xr-preview'>1995-01-31T12:00:00 ... 2014-12-...</div><input id='attrs-30f212c5-3588-4c7b-bf42-74b1ef54a975' class='xr-var-attrs-in' type='checkbox' ><label for='attrs-30f212c5-3588-4c7b-bf42-74b1ef54a975' title='Show/Hide attributes'><svg class='icon xr-icon-file-text2'><use xlink:href='#icon-file-text2'></use></svg></label><input id='data-533ec920-59bb-48a6-9118-a3a930c18dda' class='xr-var-data-in' type='checkbox'><label for='data-533ec920-59bb-48a6-9118-a3a930c18dda' title='Show/Hide data repr'><svg class='icon xr-icon-database'><use xlink:href='#icon-database'></use></svg></label><div class='xr-var-attrs'><dl class='xr-attrs'><dt><span>standard_name :</span></dt><dd>time</dd><dt><span>long_name :</span></dt><dd>Time</dd><dt><span>bounds :</span></dt><dd>time_bnds</dd><dt><span>axis :</span></dt><dd>T</dd></dl></div><div class='xr-var-data'><pre>array([&#x27;1995-01-31T12:00:00.000000000&#x27;, &#x27;1995-02-28T12:00:00.000000000&#x27;,\n",
       "       &#x27;1995-03-31T12:00:00.000000000&#x27;, ..., &#x27;2014-10-31T12:00:00.000000000&#x27;,\n",
       "       &#x27;2014-11-30T12:00:00.000000000&#x27;, &#x27;2014-12-31T12:00:00.000000000&#x27;],\n",
       "      dtype=&#x27;datetime64[ns]&#x27;)</pre></div></li><li class='xr-var-item'><div class='xr-var-name'><span class='xr-has-index'>lon</span></div><div class='xr-var-dims'>(lon)</div><div class='xr-var-dtype'>float64</div><div class='xr-var-preview xr-preview'>0.0 1.0 2.0 ... 357.0 358.0 359.0</div><input id='attrs-a709090a-bff5-4f85-8069-b4acc3f1e6da' class='xr-var-attrs-in' type='checkbox' ><label for='attrs-a709090a-bff5-4f85-8069-b4acc3f1e6da' title='Show/Hide attributes'><svg class='icon xr-icon-file-text2'><use xlink:href='#icon-file-text2'></use></svg></label><input id='data-e637a83c-a81f-4a8b-881b-84ffd248ebfd' class='xr-var-data-in' type='checkbox'><label for='data-e637a83c-a81f-4a8b-881b-84ffd248ebfd' title='Show/Hide data repr'><svg class='icon xr-icon-database'><use xlink:href='#icon-database'></use></svg></label><div class='xr-var-attrs'><dl class='xr-attrs'><dt><span>standard_name :</span></dt><dd>longitude</dd><dt><span>long_name :</span></dt><dd>longitude</dd><dt><span>units :</span></dt><dd>degrees_east</dd><dt><span>axis :</span></dt><dd>X</dd></dl></div><div class='xr-var-data'><pre>array([  0.,   1.,   2., ..., 357., 358., 359.])</pre></div></li><li class='xr-var-item'><div class='xr-var-name'><span class='xr-has-index'>lat</span></div><div class='xr-var-dims'>(lat)</div><div class='xr-var-dtype'>float64</div><div class='xr-var-preview xr-preview'>-89.5 -88.5 -87.5 ... 88.5 89.5</div><input id='attrs-c3cbae03-1a91-40c2-9d9c-fbdc316c3564' class='xr-var-attrs-in' type='checkbox' ><label for='attrs-c3cbae03-1a91-40c2-9d9c-fbdc316c3564' title='Show/Hide attributes'><svg class='icon xr-icon-file-text2'><use xlink:href='#icon-file-text2'></use></svg></label><input id='data-bf425e70-4027-484f-90a3-45c4ea728e64' class='xr-var-data-in' type='checkbox'><label for='data-bf425e70-4027-484f-90a3-45c4ea728e64' title='Show/Hide data repr'><svg class='icon xr-icon-database'><use xlink:href='#icon-database'></use></svg></label><div class='xr-var-attrs'><dl class='xr-attrs'><dt><span>standard_name :</span></dt><dd>latitude</dd><dt><span>long_name :</span></dt><dd>latitude</dd><dt><span>units :</span></dt><dd>degrees_north</dd><dt><span>axis :</span></dt><dd>Y</dd></dl></div><div class='xr-var-data'><pre>array([-89.5, -88.5, -87.5, -86.5, -85.5, -84.5, -83.5, -82.5, -81.5, -80.5,\n",
       "       -79.5, -78.5, -77.5, -76.5, -75.5, -74.5, -73.5, -72.5, -71.5, -70.5,\n",
       "       -69.5, -68.5, -67.5, -66.5, -65.5, -64.5, -63.5, -62.5, -61.5, -60.5,\n",
       "       -59.5, -58.5, -57.5, -56.5, -55.5, -54.5, -53.5, -52.5, -51.5, -50.5,\n",
       "       -49.5, -48.5, -47.5, -46.5, -45.5, -44.5, -43.5, -42.5, -41.5, -40.5,\n",
       "       -39.5, -38.5, -37.5, -36.5, -35.5, -34.5, -33.5, -32.5, -31.5, -30.5,\n",
       "       -29.5, -28.5, -27.5, -26.5, -25.5, -24.5, -23.5, -22.5, -21.5, -20.5,\n",
       "       -19.5, -18.5, -17.5, -16.5, -15.5, -14.5, -13.5, -12.5, -11.5, -10.5,\n",
       "        -9.5,  -8.5,  -7.5,  -6.5,  -5.5,  -4.5,  -3.5,  -2.5,  -1.5,  -0.5,\n",
       "         0.5,   1.5,   2.5,   3.5,   4.5,   5.5,   6.5,   7.5,   8.5,   9.5,\n",
       "        10.5,  11.5,  12.5,  13.5,  14.5,  15.5,  16.5,  17.5,  18.5,  19.5,\n",
       "        20.5,  21.5,  22.5,  23.5,  24.5,  25.5,  26.5,  27.5,  28.5,  29.5,\n",
       "        30.5,  31.5,  32.5,  33.5,  34.5,  35.5,  36.5,  37.5,  38.5,  39.5,\n",
       "        40.5,  41.5,  42.5,  43.5,  44.5,  45.5,  46.5,  47.5,  48.5,  49.5,\n",
       "        50.5,  51.5,  52.5,  53.5,  54.5,  55.5,  56.5,  57.5,  58.5,  59.5,\n",
       "        60.5,  61.5,  62.5,  63.5,  64.5,  65.5,  66.5,  67.5,  68.5,  69.5,\n",
       "        70.5,  71.5,  72.5,  73.5,  74.5,  75.5,  76.5,  77.5,  78.5,  79.5,\n",
       "        80.5,  81.5,  82.5,  83.5,  84.5,  85.5,  86.5,  87.5,  88.5,  89.5])</pre></div></li></ul></div></li><li class='xr-section-item'><input id='section-e118d922-8851-40e1-8d20-32864de25a02' class='xr-section-summary-in' type='checkbox'  checked><label for='section-e118d922-8851-40e1-8d20-32864de25a02' class='xr-section-summary' >Data variables: <span>(2)</span></label><div class='xr-section-inline-details'></div><div class='xr-section-details'><ul class='xr-var-list'><li class='xr-var-item'><div class='xr-var-name'><span>time_bnds</span></div><div class='xr-var-dims'>(time, bnds)</div><div class='xr-var-dtype'>datetime64[ns]</div><div class='xr-var-preview xr-preview'>...</div><input id='attrs-e01233c3-93a8-4987-b357-b51b05dc3ecf' class='xr-var-attrs-in' type='checkbox' disabled><label for='attrs-e01233c3-93a8-4987-b357-b51b05dc3ecf' title='Show/Hide attributes'><svg class='icon xr-icon-file-text2'><use xlink:href='#icon-file-text2'></use></svg></label><input id='data-5eb0cf18-5d0a-4062-8cbe-f2c57dc0308f' class='xr-var-data-in' type='checkbox'><label for='data-5eb0cf18-5d0a-4062-8cbe-f2c57dc0308f' title='Show/Hide data repr'><svg class='icon xr-icon-database'><use xlink:href='#icon-database'></use></svg></label><div class='xr-var-attrs'><dl class='xr-attrs'></dl></div><div class='xr-var-data'><pre>[480 values with dtype=datetime64[ns]]</pre></div></li><li class='xr-var-item'><div class='xr-var-name'><span>sicbcs</span></div><div class='xr-var-dims'>(time, lat, lon)</div><div class='xr-var-dtype'>float32</div><div class='xr-var-preview xr-preview'>...</div><input id='attrs-5deb4559-e190-4d66-9092-a0711a830480' class='xr-var-attrs-in' type='checkbox' ><label for='attrs-5deb4559-e190-4d66-9092-a0711a830480' title='Show/Hide attributes'><svg class='icon xr-icon-file-text2'><use xlink:href='#icon-file-text2'></use></svg></label><input id='data-27c673bc-0678-44a6-b1fb-db58b4fd0285' class='xr-var-data-in' type='checkbox'><label for='data-27c673bc-0678-44a6-b1fb-db58b4fd0285' title='Show/Hide data repr'><svg class='icon xr-icon-database'><use xlink:href='#icon-database'></use></svg></label><div class='xr-var-attrs'><dl class='xr-attrs'><dt><span>standard_name :</span></dt><dd>sea_ice_area_fraction</dd><dt><span>long_name :</span></dt><dd>HadISST2.2.0.0 Sea Ice Concentration</dd><dt><span>units :</span></dt><dd>%</dd><dt><span>cell_methods :</span></dt><dd>time: lat: lon: mean</dd></dl></div><div class='xr-var-data'><pre>[15552000 values with dtype=float32]</pre></div></li></ul></div></li><li class='xr-section-item'><input id='section-93dbfafd-f7fa-4c48-8441-4b6ba2ea5412' class='xr-section-summary-in' type='checkbox'  ><label for='section-93dbfafd-f7fa-4c48-8441-4b6ba2ea5412' class='xr-section-summary' >Indexes: <span>(3)</span></label><div class='xr-section-inline-details'></div><div class='xr-section-details'><ul class='xr-var-list'><li class='xr-var-item'><div class='xr-index-name'><div>time</div></div><div class='xr-index-preview'>PandasIndex</div><input type='checkbox' disabled/><label></label><input id='index-79351319-5f6b-482e-bb19-34fd4c359ed0' class='xr-index-data-in' type='checkbox'/><label for='index-79351319-5f6b-482e-bb19-34fd4c359ed0' title='Show/Hide index repr'><svg class='icon xr-icon-database'><use xlink:href='#icon-database'></use></svg></label><div class='xr-index-data'><pre>PandasIndex(DatetimeIndex([&#x27;1995-01-31 12:00:00&#x27;, &#x27;1995-02-28 12:00:00&#x27;,\n",
       "               &#x27;1995-03-31 12:00:00&#x27;, &#x27;1995-04-30 12:00:00&#x27;,\n",
       "               &#x27;1995-05-31 12:00:00&#x27;, &#x27;1995-06-30 12:00:00&#x27;,\n",
       "               &#x27;1995-07-31 12:00:00&#x27;, &#x27;1995-08-31 12:00:00&#x27;,\n",
       "               &#x27;1995-09-30 12:00:00&#x27;, &#x27;1995-10-31 12:00:00&#x27;,\n",
       "               ...\n",
       "               &#x27;2014-03-31 12:00:00&#x27;, &#x27;2014-04-30 12:00:00&#x27;,\n",
       "               &#x27;2014-05-31 12:00:00&#x27;, &#x27;2014-06-30 12:00:00&#x27;,\n",
       "               &#x27;2014-07-31 12:00:00&#x27;, &#x27;2014-08-31 12:00:00&#x27;,\n",
       "               &#x27;2014-09-30 12:00:00&#x27;, &#x27;2014-10-31 12:00:00&#x27;,\n",
       "               &#x27;2014-11-30 12:00:00&#x27;, &#x27;2014-12-31 12:00:00&#x27;],\n",
       "              dtype=&#x27;datetime64[ns]&#x27;, name=&#x27;time&#x27;, length=240, freq=None))</pre></div></li><li class='xr-var-item'><div class='xr-index-name'><div>lon</div></div><div class='xr-index-preview'>PandasIndex</div><input type='checkbox' disabled/><label></label><input id='index-6ae628a7-a703-4d07-81a9-e3ad990b84a9' class='xr-index-data-in' type='checkbox'/><label for='index-6ae628a7-a703-4d07-81a9-e3ad990b84a9' title='Show/Hide index repr'><svg class='icon xr-icon-database'><use xlink:href='#icon-database'></use></svg></label><div class='xr-index-data'><pre>PandasIndex(Index([  0.0,   1.0,   2.0,   3.0,   4.0,   5.0,   6.0,   7.0,   8.0,   9.0,\n",
       "       ...\n",
       "       350.0, 351.0, 352.0, 353.0, 354.0, 355.0, 356.0, 357.0, 358.0, 359.0],\n",
       "      dtype=&#x27;float64&#x27;, name=&#x27;lon&#x27;, length=360))</pre></div></li><li class='xr-var-item'><div class='xr-index-name'><div>lat</div></div><div class='xr-index-preview'>PandasIndex</div><input type='checkbox' disabled/><label></label><input id='index-1f8e24cb-4d0c-4199-881b-446edb78321d' class='xr-index-data-in' type='checkbox'/><label for='index-1f8e24cb-4d0c-4199-881b-446edb78321d' title='Show/Hide index repr'><svg class='icon xr-icon-database'><use xlink:href='#icon-database'></use></svg></label><div class='xr-index-data'><pre>PandasIndex(Index([-89.5, -88.5, -87.5, -86.5, -85.5, -84.5, -83.5, -82.5, -81.5, -80.5,\n",
       "       ...\n",
       "        80.5,  81.5,  82.5,  83.5,  84.5,  85.5,  86.5,  87.5,  88.5,  89.5],\n",
       "      dtype=&#x27;float64&#x27;, name=&#x27;lat&#x27;, length=180))</pre></div></li></ul></div></li><li class='xr-section-item'><input id='section-ef81e37b-893f-4a24-82fa-b1c9fc4ab4a9' class='xr-section-summary-in' type='checkbox'  ><label for='section-ef81e37b-893f-4a24-82fa-b1c9fc4ab4a9' class='xr-section-summary' >Attributes: <span>(32)</span></label><div class='xr-section-inline-details'></div><div class='xr-section-details'><dl class='xr-attrs'><dt><span>CDI :</span></dt><dd>Climate Data Interface version 1.9.10 (https://mpimet.mpg.de/cdi)</dd><dt><span>Conventions :</span></dt><dd>CF-1.6</dd><dt><span>source :</span></dt><dd>HadISST2.2.0.0 realisation 0 derived from pentad data</dd><dt><span>institution :</span></dt><dd>Met Office Hadley Centre, Fitzroy Road, Exeter, Devon, EX1 3PB, UK</dd><dt><span>history :</span></dt><dd>Wed Jul 16 11:47:13 2025: cdo mergetime siconc_input4MIPs_SSTsAndSeaIce_HighResMIP_MOHC-HadISST-2-2-0-0-0_gn_19950101-19951231_360x180_ymonmean.nc siconc_input4MIPs_SSTsAndSeaIce_HighResMIP_MOHC-HadISST-2-2-0-0-0_gn_19960101-19961231_360x180_ymonmean.nc siconc_input4MIPs_SSTsAndSeaIce_HighResMIP_MOHC-HadISST-2-2-0-0-0_gn_19970101-19971231_360x180_ymonmean.nc siconc_input4MIPs_SSTsAndSeaIce_HighResMIP_MOHC-HadISST-2-2-0-0-0_gn_19980101-19981231_360x180_ymonmean.nc siconc_input4MIPs_SSTsAndSeaIce_HighResMIP_MOHC-HadISST-2-2-0-0-0_gn_19990101-19991231_360x180_ymonmean.nc siconc_input4MIPs_SSTsAndSeaIce_HighResMIP_MOHC-HadISST-2-2-0-0-0_gn_20000101-20001231_360x180_ymonmean.nc siconc_input4MIPs_SSTsAndSeaIce_HighResMIP_MOHC-HadISST-2-2-0-0-0_gn_20010101-20011231_360x180_ymonmean.nc siconc_input4MIPs_SSTsAndSeaIce_HighResMIP_MOHC-HadISST-2-2-0-0-0_gn_20020101-20021231_360x180_ymonmean.nc siconc_input4MIPs_SSTsAndSeaIce_HighResMIP_MOHC-HadISST-2-2-0-0-0_gn_20030101-20031231_360x180_ymonmean.nc siconc_input4MIPs_SSTsAndSeaIce_HighResMIP_MOHC-HadISST-2-2-0-0-0_gn_20040101-20041231_360x180_ymonmean.nc siconc_input4MIPs_SSTsAndSeaIce_HighResMIP_MOHC-HadISST-2-2-0-0-0_gn_20050101-20051231_360x180_ymonmean.nc siconc_input4MIPs_SSTsAndSeaIce_HighResMIP_MOHC-HadISST-2-2-0-0-0_gn_20060101-20061231_360x180_ymonmean.nc siconc_input4MIPs_SSTsAndSeaIce_HighResMIP_MOHC-HadISST-2-2-0-0-0_gn_20070101-20071231_360x180_ymonmean.nc siconc_input4MIPs_SSTsAndSeaIce_HighResMIP_MOHC-HadISST-2-2-0-0-0_gn_20080101-20081231_360x180_ymonmean.nc siconc_input4MIPs_SSTsAndSeaIce_HighResMIP_MOHC-HadISST-2-2-0-0-0_gn_20090101-20091231_360x180_ymonmean.nc siconc_input4MIPs_SSTsAndSeaIce_HighResMIP_MOHC-HadISST-2-2-0-0-0_gn_20100101-20101231_360x180_ymonmean.nc siconc_input4MIPs_SSTsAndSeaIce_HighResMIP_MOHC-HadISST-2-2-0-0-0_gn_20110101-20111231_360x180_ymonmean.nc siconc_input4MIPs_SSTsAndSeaIce_HighResMIP_MOHC-HadISST-2-2-0-0-0_gn_20120101-20121231_360x180_ymonmean.nc siconc_input4MIPs_SSTsAndSeaIce_HighResMIP_MOHC-HadISST-2-2-0-0-0_gn_20130101-20131231_360x180_ymonmean.nc siconc_input4MIPs_SSTsAndSeaIce_HighResMIP_MOHC-HadISST-2-2-0-0-0_gn_20140101-20141231_360x180_ymonmean.nc siconc_input_merged.nc\n",
       "Wed Jul 16 11:18:57 2025: cdo -L -remapbil,r360x180 -ymonmean data_in/siconc_input4MIPs_SSTsAndSeaIce_HighResMIP_MOHC-HadISST-2-2-0-0-0_gn_19950101-19951231.nc data_out/siconc_input4MIPs_SSTsAndSeaIce_HighResMIP_MOHC-HadISST-2-2-0-0-0_gn_19950101-19951231_360x180_ymonmean.nc\n",
       "Wed Mar 27 10:16:37 2019: ncks -4 --no_rec_dmn time /ccc/work/cont003/igcmg/igcmg/IGCM/ATM/LIMIT/HadISST2.2.0.0-r0.v2/original/1440x720//siconc_input4MIPs_SSTsAndSeaIce_HighResMIP_MOHC-HadISST-2-2-0-0-0_gn_19950101-19951231.nc -o /ccc/work/cont003/igcmg/igcmg/IGCM/ATM/LIMIT/HadISST2.2.0.0-r0.v2/original/1440x720_icolmdz/siconc_input4MIPs_SSTsAndSeaIce_HighResMIP_MOHC-HadISST-2-2-0-0-0_gn_19950101-19951231.nc\n",
       "Fri May 04 01:24:58 2018: cdo fillmiss siconc_input4MIPs_SSTsAndSeaIce_HighResMIP_MOHC-HadISST-2-2-0-0-0_gn_19950101-19951231.nc ../siconc_input4MIPs_SSTsAndSeaIce_HighResMIP_MOHC-HadISST-2-2-0-0-0_gn_19950101-19951231.nc\n",
       "Thu Mar  8 09:48:47 2018: ncrename -v siconc,sicbcs siconc_input4MIPs_SSTsAndSeaIce_HighResMIP_MOHC-HadISST-2-2-0-0-0_gn_19950101-19951231.nc\n",
       "Wed May  3 13:13:52 2017: ncatted -O -a Conventions,global,m,c,CF-1.6 /group_workspaces/jasmin2/primavera1/WP6/forcing/HadISST2_submit/v1.2/siconc_input4MIPs_SSTsAndSeaIce_HighResMIP_MOHC-HadISST-2-2-0-0-0_gn_19950101-19951231.nc\n",
       "File processed on 2017-02-09, converting original netCDF3 files to deflated CF-compliant netCDF4 with additional metadata for CMIP6</dd><dt><span>activity_id :</span></dt><dd>input4MIPs</dd><dt><span>contact :</span></dt><dd>Met Office (john.kennedy@metoffice.gov.uk)</dd><dt><span>creation_date :</span></dt><dd>2017-03-09T12:00:00Z</dd><dt><span>data_structure :</span></dt><dd>grid</dd><dt><span>dataset_category :</span></dt><dd>SSTsAndSeaIce</dd><dt><span>dataset_version_number :</span></dt><dd>2.2.0.0-r0</dd><dt><span>frequency :</span></dt><dd>day</dd><dt><span>further_info_url :</span></dt><dd>http://collab.knmi.nl/highresmip</dd><dt><span>grid :</span></dt><dd>0.25x0.25 degree latitude x longitude</dd><dt><span>grid_label :</span></dt><dd>gn</dd><dt><span>institution_id :</span></dt><dd>MOHC</dd><dt><span>license :</span></dt><dd>HadISST2.2.0.0 is subject to Crown copyright protection. The material may be downloaded for the purposes of private study and scientific research. Any other proposed use of the material is subject to a copyright licence available from the Met Office. Licences and further information can be obtained from the Met Office IPR Officer, Met Office, FitzRoy Road, Exeter, Devon, EX1 3PB. E-mail: ipr@metoffice.gov.uk.</dd><dt><span>mip_era :</span></dt><dd>CMIP6</dd><dt><span>nominal_resolution :</span></dt><dd>25 km</dd><dt><span>product :</span></dt><dd>observations</dd><dt><span>realm :</span></dt><dd>seaIce</dd><dt><span>references :</span></dt><dd>Kennedy et al, 2017: The Met Office Hadley Centre Sea Ice and Sea-Surface Temperature data set, version 2.2.0.0, Technical Note. In preparation</dd><dt><span>source_id :</span></dt><dd>MOHC-HadISST-2-2-0-0-r0</dd><dt><span>table_id :</span></dt><dd>input4MIPs</dd><dt><span>target_mip :</span></dt><dd>HighResMIP</dd><dt><span>time_period :</span></dt><dd>19950101-19951231</dd><dt><span>title :</span></dt><dd>HadISST2.2.0.0-r0-0.25x0.25 dataset prepared by Met Office for CMIP6 HighResMIP</dd><dt><span>variable_id :</span></dt><dd>siconc</dd><dt><span>version :</span></dt><dd>20170201</dd><dt><span>NCO :</span></dt><dd>&quot;4.6.0&quot;</dd><dt><span>tracking_id :</span></dt><dd>hdl:21.14100/d00e3848-38e6-40e5-8dff-60ec2a1c0b56</dd><dt><span>CDO :</span></dt><dd>Climate Data Operators version 1.9.10 (https://mpimet.mpg.de/cdo)</dd></dl></div></li></ul></div></div>"
      ],
      "text/plain": [
       "<xarray.Dataset> Size: 62MB\n",
       "Dimensions:    (time: 240, bnds: 2, lon: 360, lat: 180)\n",
       "Coordinates:\n",
       "  * time       (time) datetime64[ns] 2kB 1995-01-31T12:00:00 ... 2014-12-31T1...\n",
       "  * lon        (lon) float64 3kB 0.0 1.0 2.0 3.0 4.0 ... 356.0 357.0 358.0 359.0\n",
       "  * lat        (lat) float64 1kB -89.5 -88.5 -87.5 -86.5 ... 86.5 87.5 88.5 89.5\n",
       "Dimensions without coordinates: bnds\n",
       "Data variables:\n",
       "    time_bnds  (time, bnds) datetime64[ns] 4kB ...\n",
       "    sicbcs     (time, lat, lon) float32 62MB ...\n",
       "Attributes: (12/32)\n",
       "    CDI:                     Climate Data Interface version 1.9.10 (https://m...\n",
       "    Conventions:             CF-1.6\n",
       "    source:                  HadISST2.2.0.0 realisation 0 derived from pentad...\n",
       "    institution:             Met Office Hadley Centre, Fitzroy Road, Exeter, ...\n",
       "    history:                 Wed Jul 16 11:47:13 2025: cdo mergetime siconc_i...\n",
       "    activity_id:             input4MIPs\n",
       "    ...                      ...\n",
       "    title:                   HadISST2.2.0.0-r0-0.25x0.25 dataset prepared by ...\n",
       "    variable_id:             siconc\n",
       "    version:                 20170201\n",
       "    NCO:                     \"4.6.0\"\n",
       "    tracking_id:             hdl:21.14100/d00e3848-38e6-40e5-8dff-60ec2a1c0b56\n",
       "    CDO:                     Climate Data Operators version 1.9.10 (https://m..."
      ]
     },
     "execution_count": 7,
     "metadata": {},
     "output_type": "execute_result"
    }
   ],
   "source": [
    "ref_grid"
   ]
  },
  {
   "cell_type": "code",
   "execution_count": 8,
   "id": "a2ae0017-e28f-4b95-927f-fb0dc712dbbc",
   "metadata": {},
   "outputs": [
    {
     "data": {
      "text/plain": [
       "<matplotlib.collections.QuadMesh at 0x740e7a4bed50>"
      ]
     },
     "execution_count": 8,
     "metadata": {},
     "output_type": "execute_result"
    },
    {
     "data": {
      "image/png": "[encoded data removed]",
      "text/plain": [
       "<Figure size 640x480 with 2 Axes>"
      ]
     },
     "metadata": {},
     "output_type": "display_data"
    }
   ],
   "source": [
    "ref_grid[\"sicbcs\"][1].plot()"
   ]
  },
  {
   "cell_type": "code",
   "execution_count": 9,
   "id": "a5d4c304-9a46-4067-8efb-73a203699bd7",
   "metadata": {},
   "outputs": [],
   "source": [
    "# path and file of the reference grid\n",
    "path = \"/home/jovyan/M2_SeaIce_project/Data/input_data/sea_ice_ref3.nc\"\n",
    "ref_grid2 = xr.open_dataarray(path)"
   ]
  },
  {
   "cell_type": "code",
   "execution_count": 10,
   "id": "d3cee22d-9c60-4c0e-9366-3fd5f6421fb2",
   "metadata": {},
   "outputs": [
    {
     "data": {
      "text/plain": [
       "<matplotlib.collections.QuadMesh at 0x740e7a1677d0>"
      ]
     },
     "execution_count": 10,
     "metadata": {},
     "output_type": "execute_result"
    },
    {
     "data": {
      "image/png": "[encoded data removed]",
      "text/plain": [
       "<Figure size 640x480 with 2 Axes>"
      ]
     },
     "metadata": {},
     "output_type": "display_data"
    }
   ],
   "source": [
    "ref_grid2[1].plot()"
   ]
  },
  {
   "cell_type": "code",
   "execution_count": 11,
   "id": "cece782f-5d38-4da7-81bf-4280c7e3a0d7",
   "metadata": {},
   "outputs": [
    {
     "data": {
      "text/html": [
       "<div><svg style=\"position: absolute; width: 0; height: 0; overflow: hidden\">\n",
       "<defs>\n",
       "<symbol id=\"icon-database\" viewBox=\"0 0 32 32\">\n",
       "<path d=\"M16 0c-8.837 0-16 2.239-16 5v4c0 2.761 7.163 5 16 5s16-2.239 16-5v-4c0-2.761-7.163-5-16-5z\"></path>\n",
       "<path d=\"M16 17c-8.837 0-16-2.239-16-5v6c0 2.761 7.163 5 16 5s16-2.239 16-5v-6c0 2.761-7.163 5-16 5z\"></path>\n",
       "<path d=\"M16 26c-8.837 0-16-2.239-16-5v6c0 2.761 7.163 5 16 5s16-2.239 16-5v-6c0 2.761-7.163 5-16 5z\"></path>\n",
       "</symbol>\n",
       "<symbol id=\"icon-file-text2\" viewBox=\"0 0 32 32\">\n",
       "<path d=\"M28.681 7.159c-0.694-0.947-1.662-2.053-2.724-3.116s-2.169-2.030-3.116-2.724c-1.612-1.182-2.393-1.319-2.841-1.319h-15.5c-1.378 0-2.5 1.121-2.5 2.5v27c0 1.378 1.122 2.5 2.5 2.5h23c1.378 0 2.5-1.122 2.5-2.5v-19.5c0-0.448-0.137-1.23-1.319-2.841zM24.543 5.457c0.959 0.959 1.712 1.825 2.268 2.543h-4.811v-4.811c0.718 0.556 1.584 1.309 2.543 2.268zM28 29.5c0 0.271-0.229 0.5-0.5 0.5h-23c-0.271 0-0.5-0.229-0.5-0.5v-27c0-0.271 0.229-0.5 0.5-0.5 0 0 15.499-0 15.5 0v7c0 0.552 0.448 1 1 1h7v19.5z\"></path>\n",
       "<path d=\"M23 26h-14c-0.552 0-1-0.448-1-1s0.448-1 1-1h14c0.552 0 1 0.448 1 1s-0.448 1-1 1z\"></path>\n",
       "<path d=\"M23 22h-14c-0.552 0-1-0.448-1-1s0.448-1 1-1h14c0.552 0 1 0.448 1 1s-0.448 1-1 1z\"></path>\n",
       "<path d=\"M23 18h-14c-0.552 0-1-0.448-1-1s0.448-1 1-1h14c0.552 0 1 0.448 1 1s-0.448 1-1 1z\"></path>\n",
       "</symbol>\n",
       "</defs>\n",
       "</svg>\n",
       "<style>/* CSS stylesheet for displaying xarray objects in jupyterlab.\n",
       " *\n",
       " */\n",
       "\n",
       ":root {\n",
       "  --xr-font-color0: var(--jp-content-font-color0, rgba(0, 0, 0, 1));\n",
       "  --xr-font-color2: var(--jp-content-font-color2, rgba(0, 0, 0, 0.54));\n",
       "  --xr-font-color3: var(--jp-content-font-color3, rgba(0, 0, 0, 0.38));\n",
       "  --xr-border-color: var(--jp-border-color2, #e0e0e0);\n",
       "  --xr-disabled-color: var(--jp-layout-color3, #bdbdbd);\n",
       "  --xr-background-color: var(--jp-layout-color0, white);\n",
       "  --xr-background-color-row-even: var(--jp-layout-color1, white);\n",
       "  --xr-background-color-row-odd: var(--jp-layout-color2, #eeeeee);\n",
       "}\n",
       "\n",
       "html[theme=\"dark\"],\n",
       "html[data-theme=\"dark\"],\n",
       "body[data-theme=\"dark\"],\n",
       "body.vscode-dark {\n",
       "  --xr-font-color0: rgba(255, 255, 255, 1);\n",
       "  --xr-font-color2: rgba(255, 255, 255, 0.54);\n",
       "  --xr-font-color3: rgba(255, 255, 255, 0.38);\n",
       "  --xr-border-color: #1f1f1f;\n",
       "  --xr-disabled-color: #515151;\n",
       "  --xr-background-color: #111111;\n",
       "  --xr-background-color-row-even: #111111;\n",
       "  --xr-background-color-row-odd: #313131;\n",
       "}\n",
       "\n",
       ".xr-wrap {\n",
       "  display: block !important;\n",
       "  min-width: 300px;\n",
       "  max-width: 700px;\n",
       "}\n",
       "\n",
       ".xr-text-repr-fallback {\n",
       "  /* fallback to plain text repr when CSS is not injected (untrusted notebook) */\n",
       "  display: none;\n",
       "}\n",
       "\n",
       ".xr-header {\n",
       "  padding-top: 6px;\n",
       "  padding-bottom: 6px;\n",
       "  margin-bottom: 4px;\n",
       "  border-bottom: solid 1px var(--xr-border-color);\n",
       "}\n",
       "\n",
       ".xr-header > div,\n",
       ".xr-header > ul {\n",
       "  display: inline;\n",
       "  margin-top: 0;\n",
       "  margin-bottom: 0;\n",
       "}\n",
       "\n",
       ".xr-obj-type,\n",
       ".xr-array-name {\n",
       "  margin-left: 2px;\n",
       "  margin-right: 10px;\n",
       "}\n",
       "\n",
       ".xr-obj-type {\n",
       "  color: var(--xr-font-color2);\n",
       "}\n",
       "\n",
       ".xr-sections {\n",
       "  padding-left: 0 !important;\n",
       "  display: grid;\n",
       "  grid-template-columns: 150px auto auto 1fr 0 20px 0 20px;\n",
       "}\n",
       "\n",
       ".xr-section-item {\n",
       "  display: contents;\n",
       "}\n",
       "\n",
       ".xr-section-item input {\n",
       "  display: inline-block;\n",
       "  opacity: 0;\n",
       "  height: 0;\n",
       "}\n",
       "\n",
       ".xr-section-item input + label {\n",
       "  color: var(--xr-disabled-color);\n",
       "}\n",
       "\n",
       ".xr-section-item input:enabled + label {\n",
       "  cursor: pointer;\n",
       "  color: var(--xr-font-color2);\n",
       "}\n",
       "\n",
       ".xr-section-item input:focus + label {\n",
       "  border: 2px solid var(--xr-font-color0);\n",
       "}\n",
       "\n",
       ".xr-section-item input:enabled + label:hover {\n",
       "  color: var(--xr-font-color0);\n",
       "}\n",
       "\n",
       ".xr-section-summary {\n",
       "  grid-column: 1;\n",
       "  color: var(--xr-font-color2);\n",
       "  font-weight: 500;\n",
       "}\n",
       "\n",
       ".xr-section-summary > span {\n",
       "  display: inline-block;\n",
       "  padding-left: 0.5em;\n",
       "}\n",
       "\n",
       ".xr-section-summary-in:disabled + label {\n",
       "  color: var(--xr-font-color2);\n",
       "}\n",
       "\n",
       ".xr-section-summary-in + label:before {\n",
       "  display: inline-block;\n",
       "  content: \"►\";\n",
       "  font-size: 11px;\n",
       "  width: 15px;\n",
       "  text-align: center;\n",
       "}\n",
       "\n",
       ".xr-section-summary-in:disabled + label:before {\n",
       "  color: var(--xr-disabled-color);\n",
       "}\n",
       "\n",
       ".xr-section-summary-in:checked + label:before {\n",
       "  content: \"▼\";\n",
       "}\n",
       "\n",
       ".xr-section-summary-in:checked + label > span {\n",
       "  display: none;\n",
       "}\n",
       "\n",
       ".xr-section-summary,\n",
       ".xr-section-inline-details {\n",
       "  padding-top: 4px;\n",
       "  padding-bottom: 4px;\n",
       "}\n",
       "\n",
       ".xr-section-inline-details {\n",
       "  grid-column: 2 / -1;\n",
       "}\n",
       "\n",
       ".xr-section-details {\n",
       "  display: none;\n",
       "  grid-column: 1 / -1;\n",
       "  margin-bottom: 5px;\n",
       "}\n",
       "\n",
       ".xr-section-summary-in:checked ~ .xr-section-details {\n",
       "  display: contents;\n",
       "}\n",
       "\n",
       ".xr-array-wrap {\n",
       "  grid-column: 1 / -1;\n",
       "  display: grid;\n",
       "  grid-template-columns: 20px auto;\n",
       "}\n",
       "\n",
       ".xr-array-wrap > label {\n",
       "  grid-column: 1;\n",
       "  vertical-align: top;\n",
       "}\n",
       "\n",
       ".xr-preview {\n",
       "  color: var(--xr-font-color3);\n",
       "}\n",
       "\n",
       ".xr-array-preview,\n",
       ".xr-array-data {\n",
       "  padding: 0 5px !important;\n",
       "  grid-column: 2;\n",
       "}\n",
       "\n",
       ".xr-array-data,\n",
       ".xr-array-in:checked ~ .xr-array-preview {\n",
       "  display: none;\n",
       "}\n",
       "\n",
       ".xr-array-in:checked ~ .xr-array-data,\n",
       ".xr-array-preview {\n",
       "  display: inline-block;\n",
       "}\n",
       "\n",
       ".xr-dim-list {\n",
       "  display: inline-block !important;\n",
       "  list-style: none;\n",
       "  padding: 0 !important;\n",
       "  margin: 0;\n",
       "}\n",
       "\n",
       ".xr-dim-list li {\n",
       "  display: inline-block;\n",
       "  padding: 0;\n",
       "  margin: 0;\n",
       "}\n",
       "\n",
       ".xr-dim-list:before {\n",
       "  content: \"(\";\n",
       "}\n",
       "\n",
       ".xr-dim-list:after {\n",
       "  content: \")\";\n",
       "}\n",
       "\n",
       ".xr-dim-list li:not(:last-child):after {\n",
       "  content: \",\";\n",
       "  padding-right: 5px;\n",
       "}\n",
       "\n",
       ".xr-has-index {\n",
       "  font-weight: bold;\n",
       "}\n",
       "\n",
       ".xr-var-list,\n",
       ".xr-var-item {\n",
       "  display: contents;\n",
       "}\n",
       "\n",
       ".xr-var-item > div,\n",
       ".xr-var-item label,\n",
       ".xr-var-item > .xr-var-name span {\n",
       "  background-color: var(--xr-background-color-row-even);\n",
       "  margin-bottom: 0;\n",
       "}\n",
       "\n",
       ".xr-var-item > .xr-var-name:hover span {\n",
       "  padding-right: 5px;\n",
       "}\n",
       "\n",
       ".xr-var-list > li:nth-child(odd) > div,\n",
       ".xr-var-list > li:nth-child(odd) > label,\n",
       ".xr-var-list > li:nth-child(odd) > .xr-var-name span {\n",
       "  background-color: var(--xr-background-color-row-odd);\n",
       "}\n",
       "\n",
       ".xr-var-name {\n",
       "  grid-column: 1;\n",
       "}\n",
       "\n",
       ".xr-var-dims {\n",
       "  grid-column: 2;\n",
       "}\n",
       "\n",
       ".xr-var-dtype {\n",
       "  grid-column: 3;\n",
       "  text-align: right;\n",
       "  color: var(--xr-font-color2);\n",
       "}\n",
       "\n",
       ".xr-var-preview {\n",
       "  grid-column: 4;\n",
       "}\n",
       "\n",
       ".xr-index-preview {\n",
       "  grid-column: 2 / 5;\n",
       "  color: var(--xr-font-color2);\n",
       "}\n",
       "\n",
       ".xr-var-name,\n",
       ".xr-var-dims,\n",
       ".xr-var-dtype,\n",
       ".xr-preview,\n",
       ".xr-attrs dt {\n",
       "  white-space: nowrap;\n",
       "  overflow: hidden;\n",
       "  text-overflow: ellipsis;\n",
       "  padding-right: 10px;\n",
       "}\n",
       "\n",
       ".xr-var-name:hover,\n",
       ".xr-var-dims:hover,\n",
       ".xr-var-dtype:hover,\n",
       ".xr-attrs dt:hover {\n",
       "  overflow: visible;\n",
       "  width: auto;\n",
       "  z-index: 1;\n",
       "}\n",
       "\n",
       ".xr-var-attrs,\n",
       ".xr-var-data,\n",
       ".xr-index-data {\n",
       "  display: none;\n",
       "  background-color: var(--xr-background-color) !important;\n",
       "  padding-bottom: 5px !important;\n",
       "}\n",
       "\n",
       ".xr-var-attrs-in:checked ~ .xr-var-attrs,\n",
       ".xr-var-data-in:checked ~ .xr-var-data,\n",
       ".xr-index-data-in:checked ~ .xr-index-data {\n",
       "  display: block;\n",
       "}\n",
       "\n",
       ".xr-var-data > table {\n",
       "  float: right;\n",
       "}\n",
       "\n",
       ".xr-var-name span,\n",
       ".xr-var-data,\n",
       ".xr-index-name div,\n",
       ".xr-index-data,\n",
       ".xr-attrs {\n",
       "  padding-left: 25px !important;\n",
       "}\n",
       "\n",
       ".xr-attrs,\n",
       ".xr-var-attrs,\n",
       ".xr-var-data,\n",
       ".xr-index-data {\n",
       "  grid-column: 1 / -1;\n",
       "}\n",
       "\n",
       "dl.xr-attrs {\n",
       "  padding: 0;\n",
       "  margin: 0;\n",
       "  display: grid;\n",
       "  grid-template-columns: 125px auto;\n",
       "}\n",
       "\n",
       ".xr-attrs dt,\n",
       ".xr-attrs dd {\n",
       "  padding: 0;\n",
       "  margin: 0;\n",
       "  float: left;\n",
       "  padding-right: 10px;\n",
       "  width: auto;\n",
       "}\n",
       "\n",
       ".xr-attrs dt {\n",
       "  font-weight: normal;\n",
       "  grid-column: 1;\n",
       "}\n",
       "\n",
       ".xr-attrs dt:hover span {\n",
       "  display: inline-block;\n",
       "  background: var(--xr-background-color);\n",
       "  padding-right: 10px;\n",
       "}\n",
       "\n",
       ".xr-attrs dd {\n",
       "  grid-column: 2;\n",
       "  white-space: pre-wrap;\n",
       "  word-break: break-all;\n",
       "}\n",
       "\n",
       ".xr-icon-database,\n",
       ".xr-icon-file-text2,\n",
       ".xr-no-icon {\n",
       "  display: inline-block;\n",
       "  vertical-align: middle;\n",
       "  width: 1em;\n",
       "  height: 1.5em !important;\n",
       "  stroke-width: 0;\n",
       "  stroke: currentColor;\n",
       "  fill: currentColor;\n",
       "}\n",
       "</style><pre class='xr-text-repr-fallback'>&lt;xarray.DataArray (month: 12, lat: 180, lon: 360)&gt; Size: 6MB\n",
       "[777600 values with dtype=float64]\n",
       "Coordinates:\n",
       "  * lon      (lon) float64 3kB 0.0 1.0 2.0 3.0 4.0 ... 356.0 357.0 358.0 359.0\n",
       "  * lat      (lat) float64 1kB -89.5 -88.5 -87.5 -86.5 ... 86.5 87.5 88.5 89.5\n",
       "  * month    (month) int64 96B 1 2 3 4 5 6 7 8 9 10 11 12</pre><div class='xr-wrap' style='display:none'><div class='xr-header'><div class='xr-obj-type'>xarray.DataArray</div><div class='xr-array-name'></div><ul class='xr-dim-list'><li><span class='xr-has-index'>month</span>: 12</li><li><span class='xr-has-index'>lat</span>: 180</li><li><span class='xr-has-index'>lon</span>: 360</li></ul></div><ul class='xr-sections'><li class='xr-section-item'><div class='xr-array-wrap'><input id='section-33251095-1e1e-4d11-b352-3c830a7e8ce7' class='xr-array-in' type='checkbox' checked><label for='section-33251095-1e1e-4d11-b352-3c830a7e8ce7' title='Show/hide data repr'><svg class='icon xr-icon-database'><use xlink:href='#icon-database'></use></svg></label><div class='xr-array-preview xr-preview'><span>...</span></div><div class='xr-array-data'><pre>[777600 values with dtype=float64]</pre></div></div></li><li class='xr-section-item'><input id='section-7cfe0e4a-43c7-4740-80b3-a62ffb1a9d45' class='xr-section-summary-in' type='checkbox'  checked><label for='section-7cfe0e4a-43c7-4740-80b3-a62ffb1a9d45' class='xr-section-summary' >Coordinates: <span>(3)</span></label><div class='xr-section-inline-details'></div><div class='xr-section-details'><ul class='xr-var-list'><li class='xr-var-item'><div class='xr-var-name'><span class='xr-has-index'>lon</span></div><div class='xr-var-dims'>(lon)</div><div class='xr-var-dtype'>float64</div><div class='xr-var-preview xr-preview'>0.0 1.0 2.0 ... 357.0 358.0 359.0</div><input id='attrs-0f8d24c8-6808-4d5e-8207-80e42d0e25d0' class='xr-var-attrs-in' type='checkbox' ><label for='attrs-0f8d24c8-6808-4d5e-8207-80e42d0e25d0' title='Show/Hide attributes'><svg class='icon xr-icon-file-text2'><use xlink:href='#icon-file-text2'></use></svg></label><input id='data-401cab2c-871b-422b-8c2d-4950306d5f4f' class='xr-var-data-in' type='checkbox'><label for='data-401cab2c-871b-422b-8c2d-4950306d5f4f' title='Show/Hide data repr'><svg class='icon xr-icon-database'><use xlink:href='#icon-database'></use></svg></label><div class='xr-var-attrs'><dl class='xr-attrs'><dt><span>standard_name :</span></dt><dd>longitude</dd><dt><span>long_name :</span></dt><dd>longitude</dd><dt><span>units :</span></dt><dd>degrees_east</dd><dt><span>axis :</span></dt><dd>X</dd></dl></div><div class='xr-var-data'><pre>array([  0.,   1.,   2., ..., 357., 358., 359.])</pre></div></li><li class='xr-var-item'><div class='xr-var-name'><span class='xr-has-index'>lat</span></div><div class='xr-var-dims'>(lat)</div><div class='xr-var-dtype'>float64</div><div class='xr-var-preview xr-preview'>-89.5 -88.5 -87.5 ... 88.5 89.5</div><input id='attrs-69d56399-9785-47b5-a082-d784d81980c0' class='xr-var-attrs-in' type='checkbox' ><label for='attrs-69d56399-9785-47b5-a082-d784d81980c0' title='Show/Hide attributes'><svg class='icon xr-icon-file-text2'><use xlink:href='#icon-file-text2'></use></svg></label><input id='data-b3c5c1df-cb69-48d8-b71b-5752110b09e0' class='xr-var-data-in' type='checkbox'><label for='data-b3c5c1df-cb69-48d8-b71b-5752110b09e0' title='Show/Hide data repr'><svg class='icon xr-icon-database'><use xlink:href='#icon-database'></use></svg></label><div class='xr-var-attrs'><dl class='xr-attrs'><dt><span>standard_name :</span></dt><dd>latitude</dd><dt><span>long_name :</span></dt><dd>latitude</dd><dt><span>units :</span></dt><dd>degrees_north</dd><dt><span>axis :</span></dt><dd>Y</dd></dl></div><div class='xr-var-data'><pre>array([-89.5, -88.5, -87.5, -86.5, -85.5, -84.5, -83.5, -82.5, -81.5, -80.5,\n",
       "       -79.5, -78.5, -77.5, -76.5, -75.5, -74.5, -73.5, -72.5, -71.5, -70.5,\n",
       "       -69.5, -68.5, -67.5, -66.5, -65.5, -64.5, -63.5, -62.5, -61.5, -60.5,\n",
       "       -59.5, -58.5, -57.5, -56.5, -55.5, -54.5, -53.5, -52.5, -51.5, -50.5,\n",
       "       -49.5, -48.5, -47.5, -46.5, -45.5, -44.5, -43.5, -42.5, -41.5, -40.5,\n",
       "       -39.5, -38.5, -37.5, -36.5, -35.5, -34.5, -33.5, -32.5, -31.5, -30.5,\n",
       "       -29.5, -28.5, -27.5, -26.5, -25.5, -24.5, -23.5, -22.5, -21.5, -20.5,\n",
       "       -19.5, -18.5, -17.5, -16.5, -15.5, -14.5, -13.5, -12.5, -11.5, -10.5,\n",
       "        -9.5,  -8.5,  -7.5,  -6.5,  -5.5,  -4.5,  -3.5,  -2.5,  -1.5,  -0.5,\n",
       "         0.5,   1.5,   2.5,   3.5,   4.5,   5.5,   6.5,   7.5,   8.5,   9.5,\n",
       "        10.5,  11.5,  12.5,  13.5,  14.5,  15.5,  16.5,  17.5,  18.5,  19.5,\n",
       "        20.5,  21.5,  22.5,  23.5,  24.5,  25.5,  26.5,  27.5,  28.5,  29.5,\n",
       "        30.5,  31.5,  32.5,  33.5,  34.5,  35.5,  36.5,  37.5,  38.5,  39.5,\n",
       "        40.5,  41.5,  42.5,  43.5,  44.5,  45.5,  46.5,  47.5,  48.5,  49.5,\n",
       "        50.5,  51.5,  52.5,  53.5,  54.5,  55.5,  56.5,  57.5,  58.5,  59.5,\n",
       "        60.5,  61.5,  62.5,  63.5,  64.5,  65.5,  66.5,  67.5,  68.5,  69.5,\n",
       "        70.5,  71.5,  72.5,  73.5,  74.5,  75.5,  76.5,  77.5,  78.5,  79.5,\n",
       "        80.5,  81.5,  82.5,  83.5,  84.5,  85.5,  86.5,  87.5,  88.5,  89.5])</pre></div></li><li class='xr-var-item'><div class='xr-var-name'><span class='xr-has-index'>month</span></div><div class='xr-var-dims'>(month)</div><div class='xr-var-dtype'>int64</div><div class='xr-var-preview xr-preview'>1 2 3 4 5 6 7 8 9 10 11 12</div><input id='attrs-bd72b06f-acc6-4885-aa81-8291a8ba3d9d' class='xr-var-attrs-in' type='checkbox' disabled><label for='attrs-bd72b06f-acc6-4885-aa81-8291a8ba3d9d' title='Show/Hide attributes'><svg class='icon xr-icon-file-text2'><use xlink:href='#icon-file-text2'></use></svg></label><input id='data-0121922f-197a-4a7e-a8d3-c23e070a3806' class='xr-var-data-in' type='checkbox'><label for='data-0121922f-197a-4a7e-a8d3-c23e070a3806' title='Show/Hide data repr'><svg class='icon xr-icon-database'><use xlink:href='#icon-database'></use></svg></label><div class='xr-var-attrs'><dl class='xr-attrs'></dl></div><div class='xr-var-data'><pre>array([ 1,  2,  3,  4,  5,  6,  7,  8,  9, 10, 11, 12])</pre></div></li></ul></div></li><li class='xr-section-item'><input id='section-07b35bb1-1d1d-40d9-9508-4b6ac2c84a74' class='xr-section-summary-in' type='checkbox'  ><label for='section-07b35bb1-1d1d-40d9-9508-4b6ac2c84a74' class='xr-section-summary' >Indexes: <span>(3)</span></label><div class='xr-section-inline-details'></div><div class='xr-section-details'><ul class='xr-var-list'><li class='xr-var-item'><div class='xr-index-name'><div>lon</div></div><div class='xr-index-preview'>PandasIndex</div><input type='checkbox' disabled/><label></label><input id='index-ed3275fe-07f9-4f29-9f5b-e1c06ea8eca8' class='xr-index-data-in' type='checkbox'/><label for='index-ed3275fe-07f9-4f29-9f5b-e1c06ea8eca8' title='Show/Hide index repr'><svg class='icon xr-icon-database'><use xlink:href='#icon-database'></use></svg></label><div class='xr-index-data'><pre>PandasIndex(Index([  0.0,   1.0,   2.0,   3.0,   4.0,   5.0,   6.0,   7.0,   8.0,   9.0,\n",
       "       ...\n",
       "       350.0, 351.0, 352.0, 353.0, 354.0, 355.0, 356.0, 357.0, 358.0, 359.0],\n",
       "      dtype=&#x27;float64&#x27;, name=&#x27;lon&#x27;, length=360))</pre></div></li><li class='xr-var-item'><div class='xr-index-name'><div>lat</div></div><div class='xr-index-preview'>PandasIndex</div><input type='checkbox' disabled/><label></label><input id='index-68f49bfd-e822-4ef3-9f90-dc5d9fac6bd0' class='xr-index-data-in' type='checkbox'/><label for='index-68f49bfd-e822-4ef3-9f90-dc5d9fac6bd0' title='Show/Hide index repr'><svg class='icon xr-icon-database'><use xlink:href='#icon-database'></use></svg></label><div class='xr-index-data'><pre>PandasIndex(Index([-89.5, -88.5, -87.5, -86.5, -85.5, -84.5, -83.5, -82.5, -81.5, -80.5,\n",
       "       ...\n",
       "        80.5,  81.5,  82.5,  83.5,  84.5,  85.5,  86.5,  87.5,  88.5,  89.5],\n",
       "      dtype=&#x27;float64&#x27;, name=&#x27;lat&#x27;, length=180))</pre></div></li><li class='xr-var-item'><div class='xr-index-name'><div>month</div></div><div class='xr-index-preview'>PandasIndex</div><input type='checkbox' disabled/><label></label><input id='index-ff13026d-bbee-4caf-bb6a-0d4b3c9c2838' class='xr-index-data-in' type='checkbox'/><label for='index-ff13026d-bbee-4caf-bb6a-0d4b3c9c2838' title='Show/Hide index repr'><svg class='icon xr-icon-database'><use xlink:href='#icon-database'></use></svg></label><div class='xr-index-data'><pre>PandasIndex(Index([1, 2, 3, 4, 5, 6, 7, 8, 9, 10, 11, 12], dtype=&#x27;int64&#x27;, name=&#x27;month&#x27;))</pre></div></li></ul></div></li><li class='xr-section-item'><input id='section-f1dde7d1-14dd-4740-b5cb-71ea894f27ff' class='xr-section-summary-in' type='checkbox' disabled ><label for='section-f1dde7d1-14dd-4740-b5cb-71ea894f27ff' class='xr-section-summary'  title='Expand/collapse section'>Attributes: <span>(0)</span></label><div class='xr-section-inline-details'></div><div class='xr-section-details'><dl class='xr-attrs'></dl></div></li></ul></div></div>"
      ],
      "text/plain": [
       "<xarray.DataArray (month: 12, lat: 180, lon: 360)> Size: 6MB\n",
       "[777600 values with dtype=float64]\n",
       "Coordinates:\n",
       "  * lon      (lon) float64 3kB 0.0 1.0 2.0 3.0 4.0 ... 356.0 357.0 358.0 359.0\n",
       "  * lat      (lat) float64 1kB -89.5 -88.5 -87.5 -86.5 ... 86.5 87.5 88.5 89.5\n",
       "  * month    (month) int64 96B 1 2 3 4 5 6 7 8 9 10 11 12"
      ]
     },
     "execution_count": 11,
     "metadata": {},
     "output_type": "execute_result"
    }
   ],
   "source": [
    "ref_grid2"
   ]
  },
  {
   "cell_type": "markdown",
   "id": "36ff6ef6-e17f-4f40-b276-ad190434fcef",
   "metadata": {},
   "source": [
    "## Regridding \n",
    "\n",
    "This procedure is repeated for all files. One cell describes the steps precisely; the other cells follow the same steps, with only the input files being modified."
   ]
  },
  {
   "cell_type": "markdown",
   "id": "c6b4d0f1-feec-48c1-ace3-0232c87d5a90",
   "metadata": {},
   "source": [
    "### Sea ice concentration (historical files)"
   ]
  },
  {
   "cell_type": "code",
   "execution_count": 8,
   "id": "d3dd8c7b-af8f-4f66-a3bc-53a8fed539ef",
   "metadata": {},
   "outputs": [],
   "source": [
    "models = [\n",
    "    \"BCC-CSM2-MR\", \"CAMS-CSM1-0\", \"CESM2\", \"CESM2-WACCM\", \"CNRM-CM6-1\", \"CNRM-CM6-1-HR\", \"CanESM5\", \n",
    "    \"FGOALS-f3-L\", \"FIO-ESM-2-0\"\n",
    "]"
   ]
  },
  {
   "cell_type": "code",
   "execution_count": null,
   "id": "bb0c9e60-acc6-4766-88df-e891eaab7a79",
   "metadata": {},
   "outputs": [
    {
     "name": "stdout",
     "output_type": "stream",
     "text": [
      "Traitement du modèle BCC-CSM2-MR : /home/jovyan/private-storage/historical-SImon-siconc/siconc_SImon_BCC-CSM2-MR_historical_r1i1p1f1_gn_185001-201412.nc\n",
      "Fichier sauvegardé : /home/jovyan/private-storage/output_data/sea_ice_interp/BCC-CSM2-MR_hist_reprojete.nc\n",
      "Traitement du modèle CAMS-CSM1-0 : /home/jovyan/private-storage/historical-SImon-siconc/siconc_SImon_CAMS-CSM1-0_historical_r1i1p1f1_gn_185001-201412.nc\n"
     ]
    },
    {
     "name": "stderr",
     "output_type": "stream",
     "text": [
      "/srv/conda/envs/notebook/lib/python3.12/site-packages/xesmf/smm.py:131: UserWarning: Input array is not C_CONTIGUOUS. Will affect performance.\n",
      "  warnings.warn('Input array is not C_CONTIGUOUS. ' 'Will affect performance.')\n",
      "/srv/conda/envs/notebook/lib/python3.12/site-packages/xesmf/smm.py:131: UserWarning: Input array is not C_CONTIGUOUS. Will affect performance.\n",
      "  warnings.warn('Input array is not C_CONTIGUOUS. ' 'Will affect performance.')\n"
     ]
    },
    {
     "name": "stdout",
     "output_type": "stream",
     "text": [
      "Fichier sauvegardé : /home/jovyan/private-storage/output_data/sea_ice_interp/CAMS-CSM1-0_hist_reprojete.nc\n",
      "Traitement du modèle CESM2 : /home/jovyan/private-storage/historical-SImon-siconc/siconc_SImon_CESM2_historical_r1i1p1f1_gn_185001-201412.nc\n"
     ]
    },
    {
     "name": "stderr",
     "output_type": "stream",
     "text": [
      "/srv/conda/envs/notebook/lib/python3.12/site-packages/xarray/conventions.py:193: SerializationWarning: variable 'siconc' has multiple fill values {np.float32(1e+20), np.float64(1e+20)} defined, decoding all values to NaN.\n",
      "  var = coder.decode(var, name=name)\n",
      "/srv/conda/envs/notebook/lib/python3.12/site-packages/xesmf/backend.py:56: UserWarning: Latitude is outside of [-90, 90]\n",
      "  warnings.warn('Latitude is outside of [-90, 90]')\n",
      "/srv/conda/envs/notebook/lib/python3.12/site-packages/xesmf/smm.py:131: UserWarning: Input array is not C_CONTIGUOUS. Will affect performance.\n",
      "  warnings.warn('Input array is not C_CONTIGUOUS. ' 'Will affect performance.')\n",
      "/srv/conda/envs/notebook/lib/python3.12/site-packages/xesmf/smm.py:131: UserWarning: Input array is not C_CONTIGUOUS. Will affect performance.\n",
      "  warnings.warn('Input array is not C_CONTIGUOUS. ' 'Will affect performance.')\n"
     ]
    },
    {
     "name": "stdout",
     "output_type": "stream",
     "text": [
      "Fichier sauvegardé : /home/jovyan/private-storage/output_data/sea_ice_interp/CESM2_hist_reprojete.nc\n",
      "Traitement du modèle CESM2-WACCM : /home/jovyan/private-storage/historical-SImon-siconc/siconc_SImon_CESM2-WACCM_historical_r1i1p1f1_gn_185001-201412.nc\n"
     ]
    },
    {
     "name": "stderr",
     "output_type": "stream",
     "text": [
      "/srv/conda/envs/notebook/lib/python3.12/site-packages/xarray/conventions.py:193: SerializationWarning: variable 'siconc' has multiple fill values {np.float32(1e+20), np.float64(1e+20)} defined, decoding all values to NaN.\n",
      "  var = coder.decode(var, name=name)\n",
      "/srv/conda/envs/notebook/lib/python3.12/site-packages/xesmf/backend.py:56: UserWarning: Latitude is outside of [-90, 90]\n",
      "  warnings.warn('Latitude is outside of [-90, 90]')\n",
      "/srv/conda/envs/notebook/lib/python3.12/site-packages/xesmf/smm.py:131: UserWarning: Input array is not C_CONTIGUOUS. Will affect performance.\n",
      "  warnings.warn('Input array is not C_CONTIGUOUS. ' 'Will affect performance.')\n",
      "/srv/conda/envs/notebook/lib/python3.12/site-packages/xesmf/smm.py:131: UserWarning: Input array is not C_CONTIGUOUS. Will affect performance.\n",
      "  warnings.warn('Input array is not C_CONTIGUOUS. ' 'Will affect performance.')\n"
     ]
    },
    {
     "name": "stdout",
     "output_type": "stream",
     "text": [
      "Fichier sauvegardé : /home/jovyan/private-storage/output_data/sea_ice_interp/CESM2-WACCM_hist_reprojete.nc\n",
      "Traitement du modèle CNRM-CM6-1 : /home/jovyan/private-storage/historical-SImon-siconc/siconc_SImon_CNRM-CM6-1_historical_r1i1p1f2_gn_185001-201412.nc\n"
     ]
    },
    {
     "name": "stderr",
     "output_type": "stream",
     "text": [
      "/srv/conda/envs/notebook/lib/python3.12/site-packages/xesmf/smm.py:131: UserWarning: Input array is not C_CONTIGUOUS. Will affect performance.\n",
      "  warnings.warn('Input array is not C_CONTIGUOUS. ' 'Will affect performance.')\n",
      "/srv/conda/envs/notebook/lib/python3.12/site-packages/xesmf/smm.py:131: UserWarning: Input array is not C_CONTIGUOUS. Will affect performance.\n",
      "  warnings.warn('Input array is not C_CONTIGUOUS. ' 'Will affect performance.')\n"
     ]
    },
    {
     "name": "stdout",
     "output_type": "stream",
     "text": [
      "Fichier sauvegardé : /home/jovyan/private-storage/output_data/sea_ice_interp/CNRM-CM6-1_hist_reprojete.nc\n",
      "Traitement du modèle CNRM-CM6-1-HR : /home/jovyan/private-storage/historical-SImon-siconc/siconc_SImon_CNRM-CM6-1-HR_historical_r1i1p1f2_gn_185001-201412.nc\n"
     ]
    },
    {
     "name": "stderr",
     "output_type": "stream",
     "text": [
      "/srv/conda/envs/notebook/lib/python3.12/site-packages/xesmf/smm.py:131: UserWarning: Input array is not C_CONTIGUOUS. Will affect performance.\n",
      "  warnings.warn('Input array is not C_CONTIGUOUS. ' 'Will affect performance.')\n",
      "/srv/conda/envs/notebook/lib/python3.12/site-packages/xesmf/smm.py:131: UserWarning: Input array is not C_CONTIGUOUS. Will affect performance.\n",
      "  warnings.warn('Input array is not C_CONTIGUOUS. ' 'Will affect performance.')\n"
     ]
    },
    {
     "name": "stdout",
     "output_type": "stream",
     "text": [
      "Fichier sauvegardé : /home/jovyan/private-storage/output_data/sea_ice_interp/CNRM-CM6-1-HR_hist_reprojete.nc\n",
      "Traitement du modèle CanESM5 : /home/jovyan/private-storage/historical-SImon-siconc/siconc_SImon_CanESM5_historical_r1i1p1f1_gn_185001-201412.nc\n"
     ]
    },
    {
     "name": "stderr",
     "output_type": "stream",
     "text": [
      "/srv/conda/envs/notebook/lib/python3.12/site-packages/xesmf/smm.py:131: UserWarning: Input array is not C_CONTIGUOUS. Will affect performance.\n",
      "  warnings.warn('Input array is not C_CONTIGUOUS. ' 'Will affect performance.')\n",
      "/srv/conda/envs/notebook/lib/python3.12/site-packages/xesmf/smm.py:131: UserWarning: Input array is not C_CONTIGUOUS. Will affect performance.\n",
      "  warnings.warn('Input array is not C_CONTIGUOUS. ' 'Will affect performance.')\n"
     ]
    },
    {
     "name": "stdout",
     "output_type": "stream",
     "text": [
      "Fichier sauvegardé : /home/jovyan/private-storage/output_data/sea_ice_interp/CanESM5_hist_reprojete.nc\n",
      "Traitement du modèle FGOALS-f3-L : /home/jovyan/private-storage/historical-SImon-siconc/siconc_SImon_FGOALS-f3-L_historical_r1i1p1f1_gn_185001-201412.nc\n",
      "Fichier sauvegardé : /home/jovyan/private-storage/output_data/sea_ice_interp/FGOALS-f3-L_hist_reprojete.nc\n",
      "Traitement du modèle FIO-ESM-2-0 : /home/jovyan/private-storage/historical-SImon-siconc/siconc_SImon_FIO-ESM-2-0_historical_r1i1p1f1_gn_185001-201412.nc\n"
     ]
    },
    {
     "name": "stderr",
     "output_type": "stream",
     "text": [
      "/srv/conda/envs/notebook/lib/python3.12/site-packages/xesmf/smm.py:131: UserWarning: Input array is not C_CONTIGUOUS. Will affect performance.\n",
      "  warnings.warn('Input array is not C_CONTIGUOUS. ' 'Will affect performance.')\n",
      "/srv/conda/envs/notebook/lib/python3.12/site-packages/xesmf/smm.py:131: UserWarning: Input array is not C_CONTIGUOUS. Will affect performance.\n",
      "  warnings.warn('Input array is not C_CONTIGUOUS. ' 'Will affect performance.')\n"
     ]
    },
    {
     "name": "stdout",
     "output_type": "stream",
     "text": [
      "Fichier sauvegardé : /home/jovyan/private-storage/output_data/sea_ice_interp/FIO-ESM-2-0_hist_reprojete.nc\n",
      "Traitement du modèle GFDL-CM4 : /home/jovyan/private-storage/historical-SImon-siconc/siconc_SImon_GFDL-CM4_historical_r1i1p1f1_gn_185001-201412.nc\n"
     ]
    }
   ],
   "source": [
    "regrid_model_files(\n",
    "    models=models,\n",
    "    ref_grid=ref_grid,\n",
    "    output_dir=\"/home/jovyan/private-storage/output_data/sea_ice_interp\",\n",
    "    filename_template=\"siconc_SImon_{model}_historical_*.nc\",\n",
    "    input_dirs=[\n",
    "        \"/home/jovyan/private-storage/historical-SImon-siconc/\"\n",
    "    ],\n",
    "    output_name_template=\"{model}_hist_reprojete.nc\"\n",
    ")"
   ]
  },
  {
   "cell_type": "code",
   "execution_count": 7,
   "id": "e55f8821-a74a-4836-ab62-6e70cd3ffc87",
   "metadata": {},
   "outputs": [],
   "source": [
    "models = [\"GFDL-CM4\", \"GFDL-ESM4\", \"INM-CM4-8\", \"INM-CM5-0\", \"IPSL-CM6A-LR\", \n",
    "    \"MIROC-ES2L\", \"MIROC6\", \"MPI-ESM1-2-HR\", \"MRI-ESM2-0\", \"NESM3\"\n",
    "]"
   ]
  },
  {
   "cell_type": "code",
   "execution_count": 8,
   "id": "6a61c72f-00d6-4238-bfde-8e2e8d5bab56",
   "metadata": {},
   "outputs": [
    {
     "name": "stdout",
     "output_type": "stream",
     "text": [
      "Traitement du modèle GFDL-CM4 : /home/jovyan/private-storage/historical-SImon-siconc/siconc_SImon_GFDL-CM4_historical_r1i1p1f1_gn_185001-201412.nc\n"
     ]
    },
    {
     "name": "stderr",
     "output_type": "stream",
     "text": [
      "/srv/conda/envs/notebook/lib/python3.12/site-packages/xesmf/smm.py:131: UserWarning: Input array is not C_CONTIGUOUS. Will affect performance.\n",
      "  warnings.warn('Input array is not C_CONTIGUOUS. ' 'Will affect performance.')\n",
      "/srv/conda/envs/notebook/lib/python3.12/site-packages/xesmf/smm.py:131: UserWarning: Input array is not C_CONTIGUOUS. Will affect performance.\n",
      "  warnings.warn('Input array is not C_CONTIGUOUS. ' 'Will affect performance.')\n"
     ]
    },
    {
     "name": "stdout",
     "output_type": "stream",
     "text": [
      "Fichier sauvegardé : /home/jovyan/private-storage/output_data/sea_ice_interp/GFDL-CM4_hist_reprojete.nc\n",
      "Traitement du modèle GFDL-ESM4 : /home/jovyan/private-storage/historical-SImon-siconc/siconc_SImon_GFDL-ESM4_historical_r1i1p1f1_gn_185001-201412.nc\n"
     ]
    },
    {
     "name": "stderr",
     "output_type": "stream",
     "text": [
      "/srv/conda/envs/notebook/lib/python3.12/site-packages/xesmf/smm.py:131: UserWarning: Input array is not C_CONTIGUOUS. Will affect performance.\n",
      "  warnings.warn('Input array is not C_CONTIGUOUS. ' 'Will affect performance.')\n",
      "/srv/conda/envs/notebook/lib/python3.12/site-packages/xesmf/smm.py:131: UserWarning: Input array is not C_CONTIGUOUS. Will affect performance.\n",
      "  warnings.warn('Input array is not C_CONTIGUOUS. ' 'Will affect performance.')\n"
     ]
    },
    {
     "name": "stdout",
     "output_type": "stream",
     "text": [
      "Fichier sauvegardé : /home/jovyan/private-storage/output_data/sea_ice_interp/GFDL-ESM4_hist_reprojete.nc\n",
      "Traitement du modèle INM-CM4-8 : /home/jovyan/private-storage/historical-SImon-siconc/siconc_SImon_INM-CM4-8_historical_r1i1p1f1_gr1_185001-201412.nc\n",
      "Fichier sauvegardé : /home/jovyan/private-storage/output_data/sea_ice_interp/INM-CM4-8_hist_reprojete.nc\n",
      "Traitement du modèle INM-CM5-0 : /home/jovyan/private-storage/historical-SImon-siconc/siconc_SImon_INM-CM5-0_historical_r1i1p1f1_gr1_185001-201412.nc\n",
      "Fichier sauvegardé : /home/jovyan/private-storage/output_data/sea_ice_interp/INM-CM5-0_hist_reprojete.nc\n",
      "Traitement du modèle IPSL-CM6A-LR : /home/jovyan/private-storage/historical-SImon-siconc/siconc_SImon_IPSL-CM6A-LR_historical_r1i1p1f1_gn_185001-201412.nc\n"
     ]
    },
    {
     "name": "stderr",
     "output_type": "stream",
     "text": [
      "/srv/conda/envs/notebook/lib/python3.12/site-packages/xesmf/smm.py:131: UserWarning: Input array is not C_CONTIGUOUS. Will affect performance.\n",
      "  warnings.warn('Input array is not C_CONTIGUOUS. ' 'Will affect performance.')\n",
      "/srv/conda/envs/notebook/lib/python3.12/site-packages/xesmf/smm.py:131: UserWarning: Input array is not C_CONTIGUOUS. Will affect performance.\n",
      "  warnings.warn('Input array is not C_CONTIGUOUS. ' 'Will affect performance.')\n"
     ]
    },
    {
     "name": "stdout",
     "output_type": "stream",
     "text": [
      "Fichier sauvegardé : /home/jovyan/private-storage/output_data/sea_ice_interp/IPSL-CM6A-LR_hist_reprojete.nc\n",
      "Traitement du modèle MIROC-ES2L : /home/jovyan/private-storage/historical-SImon-siconc/siconc_SImon_MIROC-ES2L_historical_r1i1p1f2_gn_185001-201412.nc\n"
     ]
    },
    {
     "name": "stderr",
     "output_type": "stream",
     "text": [
      "/srv/conda/envs/notebook/lib/python3.12/site-packages/xesmf/smm.py:131: UserWarning: Input array is not C_CONTIGUOUS. Will affect performance.\n",
      "  warnings.warn('Input array is not C_CONTIGUOUS. ' 'Will affect performance.')\n",
      "/srv/conda/envs/notebook/lib/python3.12/site-packages/xesmf/smm.py:131: UserWarning: Input array is not C_CONTIGUOUS. Will affect performance.\n",
      "  warnings.warn('Input array is not C_CONTIGUOUS. ' 'Will affect performance.')\n"
     ]
    },
    {
     "name": "stdout",
     "output_type": "stream",
     "text": [
      "Fichier sauvegardé : /home/jovyan/private-storage/output_data/sea_ice_interp/MIROC-ES2L_hist_reprojete.nc\n",
      "Traitement du modèle MIROC6 : /home/jovyan/private-storage/historical-SImon-siconc/siconc_SImon_MIROC6_historical_r1i1p1f1_gn_185001-201412.nc\n"
     ]
    },
    {
     "name": "stderr",
     "output_type": "stream",
     "text": [
      "/srv/conda/envs/notebook/lib/python3.12/site-packages/xesmf/smm.py:131: UserWarning: Input array is not C_CONTIGUOUS. Will affect performance.\n",
      "  warnings.warn('Input array is not C_CONTIGUOUS. ' 'Will affect performance.')\n",
      "/srv/conda/envs/notebook/lib/python3.12/site-packages/xesmf/smm.py:131: UserWarning: Input array is not C_CONTIGUOUS. Will affect performance.\n",
      "  warnings.warn('Input array is not C_CONTIGUOUS. ' 'Will affect performance.')\n"
     ]
    },
    {
     "name": "stdout",
     "output_type": "stream",
     "text": [
      "Fichier sauvegardé : /home/jovyan/private-storage/output_data/sea_ice_interp/MIROC6_hist_reprojete.nc\n",
      "Traitement du modèle MPI-ESM1-2-HR : /home/jovyan/private-storage/historical-SImon-siconc/siconc_SImon_MPI-ESM1-2-HR_historical_r1i1p1f1_gn_185001-201412.nc\n"
     ]
    },
    {
     "name": "stderr",
     "output_type": "stream",
     "text": [
      "/srv/conda/envs/notebook/lib/python3.12/site-packages/xesmf/smm.py:131: UserWarning: Input array is not C_CONTIGUOUS. Will affect performance.\n",
      "  warnings.warn('Input array is not C_CONTIGUOUS. ' 'Will affect performance.')\n",
      "/srv/conda/envs/notebook/lib/python3.12/site-packages/xesmf/smm.py:131: UserWarning: Input array is not C_CONTIGUOUS. Will affect performance.\n",
      "  warnings.warn('Input array is not C_CONTIGUOUS. ' 'Will affect performance.')\n"
     ]
    },
    {
     "name": "stdout",
     "output_type": "stream",
     "text": [
      "Fichier sauvegardé : /home/jovyan/private-storage/output_data/sea_ice_interp/MPI-ESM1-2-HR_hist_reprojete.nc\n",
      "Traitement du modèle MRI-ESM2-0 : /home/jovyan/private-storage/historical-SImon-siconc/siconc_SImon_MRI-ESM2-0_historical_r1i1p1f1_gn_185001-201412.nc\n"
     ]
    },
    {
     "name": "stderr",
     "output_type": "stream",
     "text": [
      "/srv/conda/envs/notebook/lib/python3.12/site-packages/xesmf/smm.py:131: UserWarning: Input array is not C_CONTIGUOUS. Will affect performance.\n",
      "  warnings.warn('Input array is not C_CONTIGUOUS. ' 'Will affect performance.')\n",
      "/srv/conda/envs/notebook/lib/python3.12/site-packages/xesmf/smm.py:131: UserWarning: Input array is not C_CONTIGUOUS. Will affect performance.\n",
      "  warnings.warn('Input array is not C_CONTIGUOUS. ' 'Will affect performance.')\n"
     ]
    },
    {
     "name": "stdout",
     "output_type": "stream",
     "text": [
      "Fichier sauvegardé : /home/jovyan/private-storage/output_data/sea_ice_interp/MRI-ESM2-0_hist_reprojete.nc\n",
      "Traitement du modèle NESM3 : /home/jovyan/private-storage/historical-SImon-siconc/siconc_SImon_NESM3_historical_r1i1p1f1_gn_185001-201412.nc\n"
     ]
    },
    {
     "name": "stderr",
     "output_type": "stream",
     "text": [
      "/srv/conda/envs/notebook/lib/python3.12/site-packages/xesmf/smm.py:131: UserWarning: Input array is not C_CONTIGUOUS. Will affect performance.\n",
      "  warnings.warn('Input array is not C_CONTIGUOUS. ' 'Will affect performance.')\n",
      "/srv/conda/envs/notebook/lib/python3.12/site-packages/xesmf/smm.py:131: UserWarning: Input array is not C_CONTIGUOUS. Will affect performance.\n",
      "  warnings.warn('Input array is not C_CONTIGUOUS. ' 'Will affect performance.')\n"
     ]
    },
    {
     "name": "stdout",
     "output_type": "stream",
     "text": [
      "Fichier sauvegardé : /home/jovyan/private-storage/output_data/sea_ice_interp/NESM3_hist_reprojete.nc\n"
     ]
    }
   ],
   "source": [
    "regrid_model_files(\n",
    "    models=models,\n",
    "    ref_grid=ref_grid,\n",
    "    output_dir=\"/home/jovyan/private-storage/output_data/sea_ice_interp\",\n",
    "    filename_template=\"siconc_SImon_{model}_historical_*.nc\",\n",
    "    input_dirs=[\n",
    "        \"/home/jovyan/private-storage/historical-SImon-siconc/\"\n",
    "    ],\n",
    "    output_name_template=\"{model}_hist_reprojete.nc\"\n",
    ")"
   ]
  },
  {
   "cell_type": "code",
   "execution_count": 18,
   "id": "5be19b85-e9c7-4fd7-a4f1-f537d9a853b1",
   "metadata": {},
   "outputs": [
    {
     "name": "stdout",
     "output_type": "stream",
     "text": [
      "Traitement du modèle BCC-CSM2-MR : /home/jovyan/private-storage/siconc_SImon_BCC-CSM2-MR_historical_r1i1p1f1_gn_185001-201412_modif.nc\n",
      "Fichier sauvegardé : /home/jovyan/private-storage/output_data/sea_ice_interp/BCC-CSM2-MR_hist_reprojete2.nc\n"
     ]
    }
   ],
   "source": [
    "model = [\"BCC-CSM2-MR\"]\n",
    "regrid_model_files(\n",
    "    models=model,\n",
    "    ref_grid=ref_grid,\n",
    "    output_dir=\"/home/jovyan/private-storage/output_data/sea_ice_interp\",\n",
    "    filename_template=\"siconc_SImon_{model}_historical_*.nc\",\n",
    "    input_dirs=[\n",
    "        \"/home/jovyan/private-storage/\"\n",
    "    ],\n",
    "    output_name_template=\"{model}_hist_reprojete2.nc\"\n",
    ")"
   ]
  },
  {
   "cell_type": "markdown",
   "id": "bc73a0d9-28b1-4be5-ab95-11458b33ee43",
   "metadata": {},
   "source": [
    "### New historical files"
   ]
  },
  {
   "cell_type": "code",
   "execution_count": 11,
   "id": "e63f167c-e88a-4061-aab6-402f1572ea60",
   "metadata": {},
   "outputs": [
    {
     "name": "stdout",
     "output_type": "stream",
     "text": [
      "Traitement du modèle BCC-CSM2-MR : /home/jovyan/private-storage/historical-SImon-siconc-bis/siconc_SImon_BCC-CSM2-MR_historical_r1i1p1f1_gn_185001-201412.nc\n",
      "✅ Fichier sauvegardé : /home/jovyan/private-storage/output_data/sea_ice_interp_new/BCC-CSM2-MR_hist_reprojete.nc\n",
      "Traitement du modèle CAMS-CSM1-0 : /home/jovyan/private-storage/historical-SImon-siconc-bis/siconc_SImon_CAMS-CSM1-0_historical_r1i1p1f1_gn_185001-201412.nc\n"
     ]
    },
    {
     "name": "stderr",
     "output_type": "stream",
     "text": [
      "/srv/conda/envs/notebook/lib/python3.12/site-packages/xesmf/smm.py:131: UserWarning: Input array is not C_CONTIGUOUS. Will affect performance.\n",
      "  warnings.warn('Input array is not C_CONTIGUOUS. ' 'Will affect performance.')\n",
      "/srv/conda/envs/notebook/lib/python3.12/site-packages/xesmf/smm.py:131: UserWarning: Input array is not C_CONTIGUOUS. Will affect performance.\n",
      "  warnings.warn('Input array is not C_CONTIGUOUS. ' 'Will affect performance.')\n"
     ]
    },
    {
     "name": "stdout",
     "output_type": "stream",
     "text": [
      "✅ Fichier sauvegardé : /home/jovyan/private-storage/output_data/sea_ice_interp_new/CAMS-CSM1-0_hist_reprojete.nc\n",
      "Traitement du modèle CESM2 : /home/jovyan/private-storage/historical-SImon-siconc-bis/siconc_SImon_CESM2_historical_r1i1p1f1_gn_185001-201412.nc\n"
     ]
    },
    {
     "name": "stderr",
     "output_type": "stream",
     "text": [
      "/srv/conda/envs/notebook/lib/python3.12/site-packages/xarray/conventions.py:193: SerializationWarning: variable 'siconc' has multiple fill values {np.float32(1e+20), np.float64(1e+20)} defined, decoding all values to NaN.\n",
      "  var = coder.decode(var, name=name)\n",
      "/srv/conda/envs/notebook/lib/python3.12/site-packages/xesmf/backend.py:56: UserWarning: Latitude is outside of [-90, 90]\n",
      "  warnings.warn('Latitude is outside of [-90, 90]')\n",
      "/srv/conda/envs/notebook/lib/python3.12/site-packages/xesmf/smm.py:131: UserWarning: Input array is not C_CONTIGUOUS. Will affect performance.\n",
      "  warnings.warn('Input array is not C_CONTIGUOUS. ' 'Will affect performance.')\n",
      "/srv/conda/envs/notebook/lib/python3.12/site-packages/xesmf/smm.py:131: UserWarning: Input array is not C_CONTIGUOUS. Will affect performance.\n",
      "  warnings.warn('Input array is not C_CONTIGUOUS. ' 'Will affect performance.')\n"
     ]
    },
    {
     "name": "stdout",
     "output_type": "stream",
     "text": [
      "✅ Fichier sauvegardé : /home/jovyan/private-storage/output_data/sea_ice_interp_new/CESM2_hist_reprojete.nc\n",
      "Traitement du modèle CESM2-WACCM : /home/jovyan/private-storage/historical-SImon-siconc-bis/siconc_SImon_CESM2-WACCM_historical_r1i1p1f1_gn_185001-201412.nc\n"
     ]
    },
    {
     "name": "stderr",
     "output_type": "stream",
     "text": [
      "/srv/conda/envs/notebook/lib/python3.12/site-packages/xarray/conventions.py:193: SerializationWarning: variable 'siconc' has multiple fill values {np.float32(1e+20), np.float64(1e+20)} defined, decoding all values to NaN.\n",
      "  var = coder.decode(var, name=name)\n",
      "/srv/conda/envs/notebook/lib/python3.12/site-packages/xesmf/backend.py:56: UserWarning: Latitude is outside of [-90, 90]\n",
      "  warnings.warn('Latitude is outside of [-90, 90]')\n",
      "/srv/conda/envs/notebook/lib/python3.12/site-packages/xesmf/smm.py:131: UserWarning: Input array is not C_CONTIGUOUS. Will affect performance.\n",
      "  warnings.warn('Input array is not C_CONTIGUOUS. ' 'Will affect performance.')\n",
      "/srv/conda/envs/notebook/lib/python3.12/site-packages/xesmf/smm.py:131: UserWarning: Input array is not C_CONTIGUOUS. Will affect performance.\n",
      "  warnings.warn('Input array is not C_CONTIGUOUS. ' 'Will affect performance.')\n"
     ]
    },
    {
     "name": "stdout",
     "output_type": "stream",
     "text": [
      "✅ Fichier sauvegardé : /home/jovyan/private-storage/output_data/sea_ice_interp_new/CESM2-WACCM_hist_reprojete.nc\n",
      "Traitement du modèle CNRM-CM6-1 : /home/jovyan/private-storage/historical-SImon-siconc-bis/siconc_SImon_CNRM-CM6-1_historical_r1i1p1f2_gn_185001-201412.nc\n"
     ]
    },
    {
     "name": "stderr",
     "output_type": "stream",
     "text": [
      "/srv/conda/envs/notebook/lib/python3.12/site-packages/xesmf/smm.py:131: UserWarning: Input array is not C_CONTIGUOUS. Will affect performance.\n",
      "  warnings.warn('Input array is not C_CONTIGUOUS. ' 'Will affect performance.')\n",
      "/srv/conda/envs/notebook/lib/python3.12/site-packages/xesmf/smm.py:131: UserWarning: Input array is not C_CONTIGUOUS. Will affect performance.\n",
      "  warnings.warn('Input array is not C_CONTIGUOUS. ' 'Will affect performance.')\n"
     ]
    },
    {
     "name": "stdout",
     "output_type": "stream",
     "text": [
      "✅ Fichier sauvegardé : /home/jovyan/private-storage/output_data/sea_ice_interp_new/CNRM-CM6-1_hist_reprojete.nc\n",
      "Traitement du modèle CNRM-CM6-1-HR : /home/jovyan/private-storage/historical-SImon-siconc-bis/siconc_SImon_CNRM-CM6-1-HR_historical_r1i1p1f2_gn_185001-201412.nc\n"
     ]
    },
    {
     "name": "stderr",
     "output_type": "stream",
     "text": [
      "/srv/conda/envs/notebook/lib/python3.12/site-packages/xesmf/smm.py:131: UserWarning: Input array is not C_CONTIGUOUS. Will affect performance.\n",
      "  warnings.warn('Input array is not C_CONTIGUOUS. ' 'Will affect performance.')\n",
      "/srv/conda/envs/notebook/lib/python3.12/site-packages/xesmf/smm.py:131: UserWarning: Input array is not C_CONTIGUOUS. Will affect performance.\n",
      "  warnings.warn('Input array is not C_CONTIGUOUS. ' 'Will affect performance.')\n"
     ]
    },
    {
     "name": "stdout",
     "output_type": "stream",
     "text": [
      "✅ Fichier sauvegardé : /home/jovyan/private-storage/output_data/sea_ice_interp_new/CNRM-CM6-1-HR_hist_reprojete.nc\n",
      "Traitement du modèle CanESM5 : /home/jovyan/private-storage/historical-SImon-siconc-bis/siconc_SImon_CanESM5_historical_r1i1p1f1_gn_185001-201412.nc\n"
     ]
    },
    {
     "name": "stderr",
     "output_type": "stream",
     "text": [
      "/srv/conda/envs/notebook/lib/python3.12/site-packages/xesmf/smm.py:131: UserWarning: Input array is not C_CONTIGUOUS. Will affect performance.\n",
      "  warnings.warn('Input array is not C_CONTIGUOUS. ' 'Will affect performance.')\n",
      "/srv/conda/envs/notebook/lib/python3.12/site-packages/xesmf/smm.py:131: UserWarning: Input array is not C_CONTIGUOUS. Will affect performance.\n",
      "  warnings.warn('Input array is not C_CONTIGUOUS. ' 'Will affect performance.')\n"
     ]
    },
    {
     "name": "stdout",
     "output_type": "stream",
     "text": [
      "✅ Fichier sauvegardé : /home/jovyan/private-storage/output_data/sea_ice_interp_new/CanESM5_hist_reprojete.nc\n",
      "Traitement du modèle FGOALS-f3-L : /home/jovyan/private-storage/historical-SImon-siconc-bis/siconc_SImon_FGOALS-f3-L_historical_r1i1p1f1_gn_185001-201412.nc\n",
      "✅ Fichier sauvegardé : /home/jovyan/private-storage/output_data/sea_ice_interp_new/FGOALS-f3-L_hist_reprojete.nc\n",
      "Traitement du modèle FIO-ESM-2-0 : /home/jovyan/private-storage/historical-SImon-siconc-bis/siconc_SImon_FIO-ESM-2-0_historical_r1i1p1f1_gn_185001-201412.nc\n"
     ]
    },
    {
     "name": "stderr",
     "output_type": "stream",
     "text": [
      "/srv/conda/envs/notebook/lib/python3.12/site-packages/xesmf/smm.py:131: UserWarning: Input array is not C_CONTIGUOUS. Will affect performance.\n",
      "  warnings.warn('Input array is not C_CONTIGUOUS. ' 'Will affect performance.')\n",
      "/srv/conda/envs/notebook/lib/python3.12/site-packages/xesmf/smm.py:131: UserWarning: Input array is not C_CONTIGUOUS. Will affect performance.\n",
      "  warnings.warn('Input array is not C_CONTIGUOUS. ' 'Will affect performance.')\n"
     ]
    },
    {
     "name": "stdout",
     "output_type": "stream",
     "text": [
      "✅ Fichier sauvegardé : /home/jovyan/private-storage/output_data/sea_ice_interp_new/FIO-ESM-2-0_hist_reprojete.nc\n"
     ]
    }
   ],
   "source": [
    "models = [\n",
    "    \"BCC-CSM2-MR\", \"CAMS-CSM1-0\", \"CESM2\", \"CESM2-WACCM\", \"CNRM-CM6-1\", \"CNRM-CM6-1-HR\", \"CanESM5\", \n",
    "    \"FGOALS-f3-L\", \"FIO-ESM-2-0\"\n",
    "]\n",
    "\n",
    "regrid_model_files_bis(\n",
    "    models=models,\n",
    "    ref_grid=ref_grid,\n",
    "    output_dir=\"/home/jovyan/private-storage/output_data/sea_ice_interp_new\",\n",
    "    filename_template=\"siconc_SImon_{model}_historical_*.nc\",\n",
    "    input_dirs=[\n",
    "        \"/home/jovyan/private-storage/historical-SImon-siconc-bis/\"\n",
    "    ],\n",
    "    output_name_template=\"{model}_hist_reprojete.nc\"\n",
    ")"
   ]
  },
  {
   "cell_type": "code",
   "execution_count": 12,
   "id": "b038822d-4f5f-420a-9dd9-bfb180e7c30f",
   "metadata": {},
   "outputs": [
    {
     "name": "stdout",
     "output_type": "stream",
     "text": [
      "Traitement du modèle GFDL-CM4 : /home/jovyan/private-storage/historical-SImon-siconc-bis/siconc_SImon_GFDL-CM4_historical_r1i1p1f1_gn_185001-201412.nc\n"
     ]
    },
    {
     "name": "stderr",
     "output_type": "stream",
     "text": [
      "/srv/conda/envs/notebook/lib/python3.12/site-packages/xesmf/smm.py:131: UserWarning: Input array is not C_CONTIGUOUS. Will affect performance.\n",
      "  warnings.warn('Input array is not C_CONTIGUOUS. ' 'Will affect performance.')\n",
      "/srv/conda/envs/notebook/lib/python3.12/site-packages/xesmf/smm.py:131: UserWarning: Input array is not C_CONTIGUOUS. Will affect performance.\n",
      "  warnings.warn('Input array is not C_CONTIGUOUS. ' 'Will affect performance.')\n"
     ]
    },
    {
     "name": "stdout",
     "output_type": "stream",
     "text": [
      "✅ Fichier sauvegardé : /home/jovyan/private-storage/output_data/sea_ice_interp_new/GFDL-CM4_hist_reprojete.nc\n",
      "Traitement du modèle GFDL-ESM4 : /home/jovyan/private-storage/historical-SImon-siconc-bis/siconc_SImon_GFDL-ESM4_historical_r1i1p1f1_gn_185001-201412.nc\n"
     ]
    },
    {
     "name": "stderr",
     "output_type": "stream",
     "text": [
      "/srv/conda/envs/notebook/lib/python3.12/site-packages/xesmf/smm.py:131: UserWarning: Input array is not C_CONTIGUOUS. Will affect performance.\n",
      "  warnings.warn('Input array is not C_CONTIGUOUS. ' 'Will affect performance.')\n",
      "/srv/conda/envs/notebook/lib/python3.12/site-packages/xesmf/smm.py:131: UserWarning: Input array is not C_CONTIGUOUS. Will affect performance.\n",
      "  warnings.warn('Input array is not C_CONTIGUOUS. ' 'Will affect performance.')\n"
     ]
    },
    {
     "name": "stdout",
     "output_type": "stream",
     "text": [
      "✅ Fichier sauvegardé : /home/jovyan/private-storage/output_data/sea_ice_interp_new/GFDL-ESM4_hist_reprojete.nc\n",
      "Traitement du modèle INM-CM4-8 : /home/jovyan/private-storage/historical-SImon-siconc-bis/siconc_SImon_INM-CM4-8_historical_r1i1p1f1_gr1_185001-201412.nc\n",
      "✅ Fichier sauvegardé : /home/jovyan/private-storage/output_data/sea_ice_interp_new/INM-CM4-8_hist_reprojete.nc\n",
      "Traitement du modèle INM-CM5-0 : /home/jovyan/private-storage/historical-SImon-siconc-bis/siconc_SImon_INM-CM5-0_historical_r1i1p1f1_gr1_185001-201412.nc\n",
      "✅ Fichier sauvegardé : /home/jovyan/private-storage/output_data/sea_ice_interp_new/INM-CM5-0_hist_reprojete.nc\n",
      "Traitement du modèle IPSL-CM6A-LR : /home/jovyan/private-storage/historical-SImon-siconc-bis/siconc_SImon_IPSL-CM6A-LR_historical_r1i1p1f1_gn_185001-201412.nc\n"
     ]
    },
    {
     "name": "stderr",
     "output_type": "stream",
     "text": [
      "/srv/conda/envs/notebook/lib/python3.12/site-packages/xesmf/smm.py:131: UserWarning: Input array is not C_CONTIGUOUS. Will affect performance.\n",
      "  warnings.warn('Input array is not C_CONTIGUOUS. ' 'Will affect performance.')\n",
      "/srv/conda/envs/notebook/lib/python3.12/site-packages/xesmf/smm.py:131: UserWarning: Input array is not C_CONTIGUOUS. Will affect performance.\n",
      "  warnings.warn('Input array is not C_CONTIGUOUS. ' 'Will affect performance.')\n"
     ]
    },
    {
     "name": "stdout",
     "output_type": "stream",
     "text": [
      "✅ Fichier sauvegardé : /home/jovyan/private-storage/output_data/sea_ice_interp_new/IPSL-CM6A-LR_hist_reprojete.nc\n",
      "Traitement du modèle MIROC-ES2L : /home/jovyan/private-storage/historical-SImon-siconc-bis/siconc_SImon_MIROC-ES2L_historical_r1i1p1f2_gn_185001-201412.nc\n"
     ]
    },
    {
     "name": "stderr",
     "output_type": "stream",
     "text": [
      "/srv/conda/envs/notebook/lib/python3.12/site-packages/xesmf/smm.py:131: UserWarning: Input array is not C_CONTIGUOUS. Will affect performance.\n",
      "  warnings.warn('Input array is not C_CONTIGUOUS. ' 'Will affect performance.')\n",
      "/srv/conda/envs/notebook/lib/python3.12/site-packages/xesmf/smm.py:131: UserWarning: Input array is not C_CONTIGUOUS. Will affect performance.\n",
      "  warnings.warn('Input array is not C_CONTIGUOUS. ' 'Will affect performance.')\n"
     ]
    },
    {
     "name": "stdout",
     "output_type": "stream",
     "text": [
      "✅ Fichier sauvegardé : /home/jovyan/private-storage/output_data/sea_ice_interp_new/MIROC-ES2L_hist_reprojete.nc\n",
      "Traitement du modèle MIROC6 : /home/jovyan/private-storage/historical-SImon-siconc-bis/siconc_SImon_MIROC6_historical_r1i1p1f1_gn_185001-201412.nc\n"
     ]
    },
    {
     "name": "stderr",
     "output_type": "stream",
     "text": [
      "/srv/conda/envs/notebook/lib/python3.12/site-packages/xesmf/smm.py:131: UserWarning: Input array is not C_CONTIGUOUS. Will affect performance.\n",
      "  warnings.warn('Input array is not C_CONTIGUOUS. ' 'Will affect performance.')\n",
      "/srv/conda/envs/notebook/lib/python3.12/site-packages/xesmf/smm.py:131: UserWarning: Input array is not C_CONTIGUOUS. Will affect performance.\n",
      "  warnings.warn('Input array is not C_CONTIGUOUS. ' 'Will affect performance.')\n"
     ]
    },
    {
     "name": "stdout",
     "output_type": "stream",
     "text": [
      "✅ Fichier sauvegardé : /home/jovyan/private-storage/output_data/sea_ice_interp_new/MIROC6_hist_reprojete.nc\n",
      "Traitement du modèle MPI-ESM1-2-HR : /home/jovyan/private-storage/historical-SImon-siconc-bis/siconc_SImon_MPI-ESM1-2-HR_historical_r1i1p1f1_gn_185001-201412.nc\n"
     ]
    },
    {
     "name": "stderr",
     "output_type": "stream",
     "text": [
      "/srv/conda/envs/notebook/lib/python3.12/site-packages/xesmf/smm.py:131: UserWarning: Input array is not C_CONTIGUOUS. Will affect performance.\n",
      "  warnings.warn('Input array is not C_CONTIGUOUS. ' 'Will affect performance.')\n",
      "/srv/conda/envs/notebook/lib/python3.12/site-packages/xesmf/smm.py:131: UserWarning: Input array is not C_CONTIGUOUS. Will affect performance.\n",
      "  warnings.warn('Input array is not C_CONTIGUOUS. ' 'Will affect performance.')\n"
     ]
    },
    {
     "name": "stdout",
     "output_type": "stream",
     "text": [
      "✅ Fichier sauvegardé : /home/jovyan/private-storage/output_data/sea_ice_interp_new/MPI-ESM1-2-HR_hist_reprojete.nc\n",
      "Traitement du modèle MRI-ESM2-0 : /home/jovyan/private-storage/historical-SImon-siconc-bis/siconc_SImon_MRI-ESM2-0_historical_r1i1p1f1_gn_185001-201412.nc\n"
     ]
    },
    {
     "name": "stderr",
     "output_type": "stream",
     "text": [
      "/srv/conda/envs/notebook/lib/python3.12/site-packages/xesmf/smm.py:131: UserWarning: Input array is not C_CONTIGUOUS. Will affect performance.\n",
      "  warnings.warn('Input array is not C_CONTIGUOUS. ' 'Will affect performance.')\n",
      "/srv/conda/envs/notebook/lib/python3.12/site-packages/xesmf/smm.py:131: UserWarning: Input array is not C_CONTIGUOUS. Will affect performance.\n",
      "  warnings.warn('Input array is not C_CONTIGUOUS. ' 'Will affect performance.')\n"
     ]
    },
    {
     "name": "stdout",
     "output_type": "stream",
     "text": [
      "✅ Fichier sauvegardé : /home/jovyan/private-storage/output_data/sea_ice_interp_new/MRI-ESM2-0_hist_reprojete.nc\n",
      "Traitement du modèle NESM3 : /home/jovyan/private-storage/historical-SImon-siconc-bis/siconc_SImon_NESM3_historical_r1i1p1f1_gn_185001-201412.nc\n"
     ]
    },
    {
     "name": "stderr",
     "output_type": "stream",
     "text": [
      "/srv/conda/envs/notebook/lib/python3.12/site-packages/xesmf/smm.py:131: UserWarning: Input array is not C_CONTIGUOUS. Will affect performance.\n",
      "  warnings.warn('Input array is not C_CONTIGUOUS. ' 'Will affect performance.')\n",
      "/srv/conda/envs/notebook/lib/python3.12/site-packages/xesmf/smm.py:131: UserWarning: Input array is not C_CONTIGUOUS. Will affect performance.\n",
      "  warnings.warn('Input array is not C_CONTIGUOUS. ' 'Will affect performance.')\n"
     ]
    },
    {
     "name": "stdout",
     "output_type": "stream",
     "text": [
      "✅ Fichier sauvegardé : /home/jovyan/private-storage/output_data/sea_ice_interp_new/NESM3_hist_reprojete.nc\n"
     ]
    }
   ],
   "source": [
    "models = [\"GFDL-CM4\", \"GFDL-ESM4\", \"INM-CM4-8\", \"INM-CM5-0\", \"IPSL-CM6A-LR\", \n",
    "    \"MIROC-ES2L\", \"MIROC6\", \"MPI-ESM1-2-HR\", \"MRI-ESM2-0\", \"NESM3\"\n",
    "]\n",
    "\n",
    "regrid_model_files_bis(\n",
    "    models=models,\n",
    "    ref_grid=ref_grid,\n",
    "    output_dir=\"/home/jovyan/private-storage/output_data/sea_ice_interp_new\",\n",
    "    filename_template=\"siconc_SImon_{model}_historical_*.nc\",\n",
    "    input_dirs=[\n",
    "        \"/home/jovyan/private-storage/historical-SImon-siconc-bis/\"\n",
    "    ],\n",
    "    output_name_template=\"{model}_hist_reprojete.nc\"\n",
    ")"
   ]
  },
  {
   "cell_type": "markdown",
   "id": "8a8aa01b-01b0-4f16-9a0e-f3d695a73347",
   "metadata": {},
   "source": [
    "### All files (new models)"
   ]
  },
  {
   "cell_type": "code",
   "execution_count": 11,
   "id": "64ca9cab-4acb-4f40-90d1-cccb10c558b6",
   "metadata": {},
   "outputs": [
    {
     "name": "stdout",
     "output_type": "stream",
     "text": [
      "Traitement du modèle ACCESS-CM2 : /home/jovyan/private-storage/historical-SImon-siconc-bis/siconc_SImon_ACCESS-CM2_historical_r1i1p1f1_gn_185001-201412.nc\n"
     ]
    },
    {
     "name": "stderr",
     "output_type": "stream",
     "text": [
      "/srv/conda/envs/notebook/lib/python3.12/site-packages/xesmf/smm.py:131: UserWarning: Input array is not C_CONTIGUOUS. Will affect performance.\n",
      "  warnings.warn('Input array is not C_CONTIGUOUS. ' 'Will affect performance.')\n",
      "/srv/conda/envs/notebook/lib/python3.12/site-packages/xesmf/smm.py:131: UserWarning: Input array is not C_CONTIGUOUS. Will affect performance.\n",
      "  warnings.warn('Input array is not C_CONTIGUOUS. ' 'Will affect performance.')\n"
     ]
    },
    {
     "name": "stdout",
     "output_type": "stream",
     "text": [
      "✅ Fichier sauvegardé : /home/jovyan/private-storage/output_data/sea_ice_interp_new/ACCESS-CM2_hist_reprojete.nc\n",
      "Traitement du modèle ACCESS-ESM1-5 : /home/jovyan/private-storage/historical-SImon-siconc-bis/siconc_SImon_ACCESS-ESM1-5_historical_r1i1p1f1_gn_185001-201412.nc\n"
     ]
    },
    {
     "name": "stderr",
     "output_type": "stream",
     "text": [
      "/srv/conda/envs/notebook/lib/python3.12/site-packages/xesmf/smm.py:131: UserWarning: Input array is not C_CONTIGUOUS. Will affect performance.\n",
      "  warnings.warn('Input array is not C_CONTIGUOUS. ' 'Will affect performance.')\n",
      "/srv/conda/envs/notebook/lib/python3.12/site-packages/xesmf/smm.py:131: UserWarning: Input array is not C_CONTIGUOUS. Will affect performance.\n",
      "  warnings.warn('Input array is not C_CONTIGUOUS. ' 'Will affect performance.')\n"
     ]
    },
    {
     "name": "stdout",
     "output_type": "stream",
     "text": [
      "✅ Fichier sauvegardé : /home/jovyan/private-storage/output_data/sea_ice_interp_new/ACCESS-ESM1-5_hist_reprojete.nc\n",
      "Traitement du modèle CanESM5-CanOE : /home/jovyan/private-storage/historical-SImon-siconc-bis/siconc_SImon_CanESM5-CanOE_historical_r1i1p2f1_gn_185001-201412.nc\n"
     ]
    },
    {
     "name": "stderr",
     "output_type": "stream",
     "text": [
      "/srv/conda/envs/notebook/lib/python3.12/site-packages/xesmf/smm.py:131: UserWarning: Input array is not C_CONTIGUOUS. Will affect performance.\n",
      "  warnings.warn('Input array is not C_CONTIGUOUS. ' 'Will affect performance.')\n",
      "/srv/conda/envs/notebook/lib/python3.12/site-packages/xesmf/smm.py:131: UserWarning: Input array is not C_CONTIGUOUS. Will affect performance.\n",
      "  warnings.warn('Input array is not C_CONTIGUOUS. ' 'Will affect performance.')\n"
     ]
    },
    {
     "name": "stdout",
     "output_type": "stream",
     "text": [
      "✅ Fichier sauvegardé : /home/jovyan/private-storage/output_data/sea_ice_interp_new/CanESM5-CanOE_hist_reprojete.nc\n",
      "Traitement du modèle CAS-ESM2-0 : /home/jovyan/private-storage/historical-SImon-siconc-bis/siconc_SImon_CAS-ESM2-0_historical_r1i1p1f1_gn_185001-201412.nc\n"
     ]
    },
    {
     "name": "stderr",
     "output_type": "stream",
     "text": [
      "/srv/conda/envs/notebook/lib/python3.12/site-packages/xesmf/backend.py:56: UserWarning: Latitude is outside of [-90, 90]\n",
      "  warnings.warn('Latitude is outside of [-90, 90]')\n"
     ]
    },
    {
     "name": "stdout",
     "output_type": "stream",
     "text": [
      "✅ Fichier sauvegardé : /home/jovyan/private-storage/output_data/sea_ice_interp_new/CAS-ESM2-0_hist_reprojete.nc\n",
      "Traitement du modèle CMCC-CM2-SR5 : /home/jovyan/private-storage/historical-SImon-siconc-bis/siconc_SImon_CMCC-CM2-SR5_historical_r1i1p1f1_gn_185001-201412.nc\n"
     ]
    },
    {
     "name": "stderr",
     "output_type": "stream",
     "text": [
      "/srv/conda/envs/notebook/lib/python3.12/site-packages/xesmf/smm.py:131: UserWarning: Input array is not C_CONTIGUOUS. Will affect performance.\n",
      "  warnings.warn('Input array is not C_CONTIGUOUS. ' 'Will affect performance.')\n",
      "/srv/conda/envs/notebook/lib/python3.12/site-packages/xesmf/smm.py:131: UserWarning: Input array is not C_CONTIGUOUS. Will affect performance.\n",
      "  warnings.warn('Input array is not C_CONTIGUOUS. ' 'Will affect performance.')\n"
     ]
    },
    {
     "name": "stdout",
     "output_type": "stream",
     "text": [
      "✅ Fichier sauvegardé : /home/jovyan/private-storage/output_data/sea_ice_interp_new/CMCC-CM2-SR5_hist_reprojete.nc\n",
      "Traitement du modèle CMCC-ESM2 : /home/jovyan/private-storage/historical-SImon-siconc-bis/siconc_SImon_CMCC-ESM2_historical_r1i1p1f1_gn_185001-201412.nc\n"
     ]
    },
    {
     "name": "stderr",
     "output_type": "stream",
     "text": [
      "/srv/conda/envs/notebook/lib/python3.12/site-packages/xesmf/smm.py:131: UserWarning: Input array is not C_CONTIGUOUS. Will affect performance.\n",
      "  warnings.warn('Input array is not C_CONTIGUOUS. ' 'Will affect performance.')\n",
      "/srv/conda/envs/notebook/lib/python3.12/site-packages/xesmf/smm.py:131: UserWarning: Input array is not C_CONTIGUOUS. Will affect performance.\n",
      "  warnings.warn('Input array is not C_CONTIGUOUS. ' 'Will affect performance.')\n"
     ]
    },
    {
     "name": "stdout",
     "output_type": "stream",
     "text": [
      "✅ Fichier sauvegardé : /home/jovyan/private-storage/output_data/sea_ice_interp_new/CMCC-ESM2_hist_reprojete.nc\n",
      "Traitement du modèle CNRM-ESM2-1 : /home/jovyan/private-storage/historical-SImon-siconc-bis/siconc_SImon_CNRM-ESM2-1_historical_r1i1p1f2_gn_185001-201412.nc\n"
     ]
    },
    {
     "name": "stderr",
     "output_type": "stream",
     "text": [
      "/srv/conda/envs/notebook/lib/python3.12/site-packages/xesmf/smm.py:131: UserWarning: Input array is not C_CONTIGUOUS. Will affect performance.\n",
      "  warnings.warn('Input array is not C_CONTIGUOUS. ' 'Will affect performance.')\n",
      "/srv/conda/envs/notebook/lib/python3.12/site-packages/xesmf/smm.py:131: UserWarning: Input array is not C_CONTIGUOUS. Will affect performance.\n",
      "  warnings.warn('Input array is not C_CONTIGUOUS. ' 'Will affect performance.')\n"
     ]
    },
    {
     "name": "stdout",
     "output_type": "stream",
     "text": [
      "✅ Fichier sauvegardé : /home/jovyan/private-storage/output_data/sea_ice_interp_new/CNRM-ESM2-1_hist_reprojete.nc\n",
      "Traitement du modèle E3SM-1-1 : /home/jovyan/private-storage/historical-SImon-siconc-bis/siconc_SImon_E3SM-1-1_historical_r1i1p1f1_gr_185001-201412.nc\n",
      "✅ Fichier sauvegardé : /home/jovyan/private-storage/output_data/sea_ice_interp_new/E3SM-1-1_hist_reprojete.nc\n",
      "Traitement du modèle EC-Earth3 : /home/jovyan/private-storage/historical-SImon-siconc-bis/siconc_SImon_EC-Earth3_historical_r1i1p1f1_gn_185001-201412.nc\n"
     ]
    },
    {
     "name": "stderr",
     "output_type": "stream",
     "text": [
      "/srv/conda/envs/notebook/lib/python3.12/site-packages/xesmf/smm.py:131: UserWarning: Input array is not C_CONTIGUOUS. Will affect performance.\n",
      "  warnings.warn('Input array is not C_CONTIGUOUS. ' 'Will affect performance.')\n",
      "/srv/conda/envs/notebook/lib/python3.12/site-packages/xesmf/smm.py:131: UserWarning: Input array is not C_CONTIGUOUS. Will affect performance.\n",
      "  warnings.warn('Input array is not C_CONTIGUOUS. ' 'Will affect performance.')\n"
     ]
    },
    {
     "name": "stdout",
     "output_type": "stream",
     "text": [
      "✅ Fichier sauvegardé : /home/jovyan/private-storage/output_data/sea_ice_interp_new/EC-Earth3_hist_reprojete.nc\n",
      "Traitement du modèle EC-Earth3-CC : /home/jovyan/private-storage/historical-SImon-siconc-bis/siconc_SImon_EC-Earth3-CC_historical_r1i1p1f1_gn_185001-201412.nc\n"
     ]
    },
    {
     "name": "stderr",
     "output_type": "stream",
     "text": [
      "/srv/conda/envs/notebook/lib/python3.12/site-packages/xesmf/smm.py:131: UserWarning: Input array is not C_CONTIGUOUS. Will affect performance.\n",
      "  warnings.warn('Input array is not C_CONTIGUOUS. ' 'Will affect performance.')\n",
      "/srv/conda/envs/notebook/lib/python3.12/site-packages/xesmf/smm.py:131: UserWarning: Input array is not C_CONTIGUOUS. Will affect performance.\n",
      "  warnings.warn('Input array is not C_CONTIGUOUS. ' 'Will affect performance.')\n"
     ]
    },
    {
     "name": "stdout",
     "output_type": "stream",
     "text": [
      "✅ Fichier sauvegardé : /home/jovyan/private-storage/output_data/sea_ice_interp_new/EC-Earth3-CC_hist_reprojete.nc\n",
      "Traitement du modèle EC-Earth3-Veg : /home/jovyan/private-storage/historical-SImon-siconc-bis/siconc_SImon_EC-Earth3-Veg_historical_r1i1p1f1_gn_185001-201412.nc\n"
     ]
    },
    {
     "name": "stderr",
     "output_type": "stream",
     "text": [
      "/srv/conda/envs/notebook/lib/python3.12/site-packages/xesmf/smm.py:131: UserWarning: Input array is not C_CONTIGUOUS. Will affect performance.\n",
      "  warnings.warn('Input array is not C_CONTIGUOUS. ' 'Will affect performance.')\n",
      "/srv/conda/envs/notebook/lib/python3.12/site-packages/xesmf/smm.py:131: UserWarning: Input array is not C_CONTIGUOUS. Will affect performance.\n",
      "  warnings.warn('Input array is not C_CONTIGUOUS. ' 'Will affect performance.')\n"
     ]
    },
    {
     "name": "stdout",
     "output_type": "stream",
     "text": [
      "✅ Fichier sauvegardé : /home/jovyan/private-storage/output_data/sea_ice_interp_new/EC-Earth3-Veg_hist_reprojete.nc\n",
      "Traitement du modèle EC-Earth3-Veg-LR : /home/jovyan/private-storage/historical-SImon-siconc-bis/siconc_SImon_EC-Earth3-Veg-LR_historical_r1i1p1f1_gn_185001-201412.nc\n"
     ]
    },
    {
     "name": "stderr",
     "output_type": "stream",
     "text": [
      "/srv/conda/envs/notebook/lib/python3.12/site-packages/xesmf/smm.py:131: UserWarning: Input array is not C_CONTIGUOUS. Will affect performance.\n",
      "  warnings.warn('Input array is not C_CONTIGUOUS. ' 'Will affect performance.')\n",
      "/srv/conda/envs/notebook/lib/python3.12/site-packages/xesmf/smm.py:131: UserWarning: Input array is not C_CONTIGUOUS. Will affect performance.\n",
      "  warnings.warn('Input array is not C_CONTIGUOUS. ' 'Will affect performance.')\n"
     ]
    },
    {
     "name": "stdout",
     "output_type": "stream",
     "text": [
      "✅ Fichier sauvegardé : /home/jovyan/private-storage/output_data/sea_ice_interp_new/EC-Earth3-Veg-LR_hist_reprojete.nc\n",
      "Traitement du modèle FGOALS-g3 : /home/jovyan/private-storage/historical-SImon-siconc-bis/siconc_SImon_FGOALS-g3_historical_r1i1p1f1_gn_185001-201412.nc\n",
      "✅ Fichier sauvegardé : /home/jovyan/private-storage/output_data/sea_ice_interp_new/FGOALS-g3_hist_reprojete.nc\n"
     ]
    }
   ],
   "source": [
    "models = [\"ACCESS-CM2\", \"ACCESS-ESM1-5\", \"CanESM5-CanOE\", \"CAS-ESM2-0\", \"CMCC-CM2-SR5\",\n",
    "          \"CMCC-ESM2\", \"CNRM-ESM2-1\", \"E3SM-1-1\", \"EC-Earth3\", \"EC-Earth3-CC\", \"EC-Earth3-Veg\",\n",
    "          \"EC-Earth3-Veg-LR\", \"FGOALS-g3\"]\n",
    "\n",
    "regrid_model_files_bis(\n",
    "    models=models,\n",
    "    ref_grid=ref_grid,\n",
    "    output_dir=\"/home/jovyan/private-storage/output_data/sea_ice_interp_new\",\n",
    "    filename_template=\"siconc_SImon_{model}_historical_*.nc\",\n",
    "    input_dirs=[\n",
    "        \"/home/jovyan/private-storage/historical-SImon-siconc-bis/\"\n",
    "    ],\n",
    "    output_name_template=\"{model}_hist_reprojete.nc\"\n",
    ")"
   ]
  },
  {
   "cell_type": "code",
   "execution_count": null,
   "id": "3a7f0bf6-4540-48be-a720-a13e9651dcf0",
   "metadata": {},
   "outputs": [
    {
     "name": "stdout",
     "output_type": "stream",
     "text": [
      "Traitement du modèle HadGEM3-GC31-LL : /home/jovyan/private-storage/historical-SImon-siconc-bis/siconc_SImon_HadGEM3-GC31-LL_historical_r1i1p1f3_gn_185001-201412.nc\n"
     ]
    },
    {
     "name": "stderr",
     "output_type": "stream",
     "text": [
      "/srv/conda/envs/notebook/lib/python3.12/site-packages/xesmf/smm.py:131: UserWarning: Input array is not C_CONTIGUOUS. Will affect performance.\n",
      "  warnings.warn('Input array is not C_CONTIGUOUS. ' 'Will affect performance.')\n",
      "/srv/conda/envs/notebook/lib/python3.12/site-packages/xesmf/smm.py:131: UserWarning: Input array is not C_CONTIGUOUS. Will affect performance.\n",
      "  warnings.warn('Input array is not C_CONTIGUOUS. ' 'Will affect performance.')\n"
     ]
    },
    {
     "name": "stdout",
     "output_type": "stream",
     "text": [
      "✅ Fichier sauvegardé : /home/jovyan/private-storage/output_data/sea_ice_interp_new/HadGEM3-GC31-LL_hist_reprojete.nc\n",
      "Traitement du modèle HadGEM3-GC31-MM : /home/jovyan/private-storage/historical-SImon-siconc-bis/siconc_SImon_HadGEM3-GC31-MM_historical_r1i1p1f3_gn_185001-201412.nc\n"
     ]
    },
    {
     "name": "stderr",
     "output_type": "stream",
     "text": [
      "/srv/conda/envs/notebook/lib/python3.12/site-packages/xesmf/smm.py:131: UserWarning: Input array is not C_CONTIGUOUS. Will affect performance.\n",
      "  warnings.warn('Input array is not C_CONTIGUOUS. ' 'Will affect performance.')\n",
      "/srv/conda/envs/notebook/lib/python3.12/site-packages/xesmf/smm.py:131: UserWarning: Input array is not C_CONTIGUOUS. Will affect performance.\n",
      "  warnings.warn('Input array is not C_CONTIGUOUS. ' 'Will affect performance.')\n"
     ]
    }
   ],
   "source": [
    "models = [\"HadGEM3-GC31-LL\"]\n",
    "\n",
    "regrid_model_files_bis(\n",
    "    models=models,\n",
    "    ref_grid=ref_grid,\n",
    "    output_dir=\"/home/jovyan/private-storage/output_data/sea_ice_interp_new\",\n",
    "    filename_template=\"siconc_SImon_{model}_historical_*.nc\",\n",
    "    input_dirs=[\n",
    "        \"/home/jovyan/private-storage/historical-SImon-siconc-bis/\"\n",
    "    ],\n",
    "    output_name_template=\"{model}_hist_reprojete.nc\"\n",
    ")"
   ]
  },
  {
   "cell_type": "code",
   "execution_count": 12,
   "id": "323bda4c-7054-4d77-a85e-75621eaa875b",
   "metadata": {},
   "outputs": [
    {
     "name": "stdout",
     "output_type": "stream",
     "text": [
      "Traitement du modèle MPI-ESM1-2-LR : /home/jovyan/private-storage/historical-SImon-siconc-bis/siconc_SImon_MPI-ESM1-2-LR_historical_r1i1p1f1_gn_185001-201412.nc\n"
     ]
    },
    {
     "name": "stderr",
     "output_type": "stream",
     "text": [
      "/srv/conda/envs/notebook/lib/python3.12/site-packages/xesmf/smm.py:131: UserWarning: Input array is not C_CONTIGUOUS. Will affect performance.\n",
      "  warnings.warn('Input array is not C_CONTIGUOUS. ' 'Will affect performance.')\n",
      "/srv/conda/envs/notebook/lib/python3.12/site-packages/xesmf/smm.py:131: UserWarning: Input array is not C_CONTIGUOUS. Will affect performance.\n",
      "  warnings.warn('Input array is not C_CONTIGUOUS. ' 'Will affect performance.')\n"
     ]
    },
    {
     "name": "stdout",
     "output_type": "stream",
     "text": [
      "✅ Fichier sauvegardé : /home/jovyan/private-storage/output_data/sea_ice_interp_new/MPI-ESM1-2-LR_hist_reprojete.nc\n",
      "Traitement du modèle NorESM2-LM : /home/jovyan/private-storage/historical-SImon-siconc-bis/siconc_SImon_NorESM2-LM_historical_r1i1p1f1_gn_185001-201412.nc\n"
     ]
    },
    {
     "name": "stderr",
     "output_type": "stream",
     "text": [
      "/srv/conda/envs/notebook/lib/python3.12/site-packages/xesmf/backend.py:56: UserWarning: Latitude is outside of [-90, 90]\n",
      "  warnings.warn('Latitude is outside of [-90, 90]')\n",
      "/srv/conda/envs/notebook/lib/python3.12/site-packages/xesmf/smm.py:131: UserWarning: Input array is not C_CONTIGUOUS. Will affect performance.\n",
      "  warnings.warn('Input array is not C_CONTIGUOUS. ' 'Will affect performance.')\n",
      "/srv/conda/envs/notebook/lib/python3.12/site-packages/xesmf/smm.py:131: UserWarning: Input array is not C_CONTIGUOUS. Will affect performance.\n",
      "  warnings.warn('Input array is not C_CONTIGUOUS. ' 'Will affect performance.')\n"
     ]
    },
    {
     "name": "stdout",
     "output_type": "stream",
     "text": [
      "✅ Fichier sauvegardé : /home/jovyan/private-storage/output_data/sea_ice_interp_new/NorESM2-LM_hist_reprojete.nc\n",
      "Traitement du modèle NorESM2-MM : /home/jovyan/private-storage/historical-SImon-siconc-bis/siconc_SImon_NorESM2-MM_historical_r1i1p1f1_gn_185001-201412.nc\n"
     ]
    },
    {
     "name": "stderr",
     "output_type": "stream",
     "text": [
      "/srv/conda/envs/notebook/lib/python3.12/site-packages/xesmf/smm.py:131: UserWarning: Input array is not C_CONTIGUOUS. Will affect performance.\n",
      "  warnings.warn('Input array is not C_CONTIGUOUS. ' 'Will affect performance.')\n",
      "/srv/conda/envs/notebook/lib/python3.12/site-packages/xesmf/smm.py:131: UserWarning: Input array is not C_CONTIGUOUS. Will affect performance.\n",
      "  warnings.warn('Input array is not C_CONTIGUOUS. ' 'Will affect performance.')\n"
     ]
    },
    {
     "name": "stdout",
     "output_type": "stream",
     "text": [
      "✅ Fichier sauvegardé : /home/jovyan/private-storage/output_data/sea_ice_interp_new/NorESM2-MM_hist_reprojete.nc\n",
      "Traitement du modèle UKESM1-0-LL : /home/jovyan/private-storage/historical-SImon-siconc-bis/siconc_SImon_UKESM1-0-LL_historical_r1i1p1f2_gn_185001-201412.nc\n"
     ]
    },
    {
     "name": "stderr",
     "output_type": "stream",
     "text": [
      "/srv/conda/envs/notebook/lib/python3.12/site-packages/xesmf/smm.py:131: UserWarning: Input array is not C_CONTIGUOUS. Will affect performance.\n",
      "  warnings.warn('Input array is not C_CONTIGUOUS. ' 'Will affect performance.')\n",
      "/srv/conda/envs/notebook/lib/python3.12/site-packages/xesmf/smm.py:131: UserWarning: Input array is not C_CONTIGUOUS. Will affect performance.\n",
      "  warnings.warn('Input array is not C_CONTIGUOUS. ' 'Will affect performance.')\n"
     ]
    },
    {
     "name": "stdout",
     "output_type": "stream",
     "text": [
      "✅ Fichier sauvegardé : /home/jovyan/private-storage/output_data/sea_ice_interp_new/UKESM1-0-LL_hist_reprojete.nc\n"
     ]
    }
   ],
   "source": [
    "models = [\"MPI-ESM1-2-LR\", \"NorESM2-LM\", \"NorESM2-MM\", \n",
    "          \"UKESM1-0-LL\"]\n",
    "\n",
    "regrid_model_files_bis(\n",
    "    models=models,\n",
    "    ref_grid=ref_grid,\n",
    "    output_dir=\"/home/jovyan/private-storage/output_data/sea_ice_interp_new\",\n",
    "    filename_template=\"siconc_SImon_{model}_historical_*.nc\",\n",
    "    input_dirs=[\n",
    "        \"/home/jovyan/private-storage/historical-SImon-siconc-bis/\"\n",
    "    ],\n",
    "    output_name_template=\"{model}_hist_reprojete.nc\"\n",
    ")"
   ]
  },
  {
   "cell_type": "markdown",
   "id": "68ce4347-7a0c-4f6b-ac46-53e9b4ea17fc",
   "metadata": {},
   "source": [
    "### Sea ice warming 1850-1900"
   ]
  },
  {
   "cell_type": "code",
   "execution_count": 15,
   "id": "24e824b0-9f39-4fe0-a296-b8f4e45d6457",
   "metadata": {},
   "outputs": [
    {
     "name": "stdout",
     "output_type": "stream",
     "text": [
      "Traitement du modèle BCC-CSM2-MR : /home/jovyan/private-storage/SiconcWarming2/SiconcWarming_BCC-CSM2-MR_historical+ssp585.nc\n",
      "✅ Fichier sauvegardé : /home/jovyan/private-storage/output_data/interp_models_SIW_1995_2014/BCC-CSM2-MR_SIW_reprojete.nc\n",
      "Traitement du modèle CAMS-CSM1-0 : /home/jovyan/private-storage/SiconcWarming2/SiconcWarming_CAMS-CSM1-0_historical+ssp585.nc\n",
      "✅ Fichier sauvegardé : /home/jovyan/private-storage/output_data/interp_models_SIW_1995_2014/CAMS-CSM1-0_SIW_reprojete.nc\n",
      "Traitement du modèle CESM2 : /home/jovyan/private-storage/SiconcWarming2/SiconcWarming_CESM2_historical+ssp585.nc\n"
     ]
    },
    {
     "name": "stderr",
     "output_type": "stream",
     "text": [
      "/srv/conda/envs/notebook/lib/python3.12/site-packages/xesmf/backend.py:56: UserWarning: Latitude is outside of [-90, 90]\n",
      "  warnings.warn('Latitude is outside of [-90, 90]')\n"
     ]
    },
    {
     "name": "stdout",
     "output_type": "stream",
     "text": [
      "✅ Fichier sauvegardé : /home/jovyan/private-storage/output_data/interp_models_SIW_1995_2014/CESM2_SIW_reprojete.nc\n",
      "Traitement du modèle CESM2-WACCM : /home/jovyan/private-storage/SiconcWarming2/SiconcWarming_CESM2-WACCM_historical+ssp585.nc\n"
     ]
    },
    {
     "name": "stderr",
     "output_type": "stream",
     "text": [
      "/srv/conda/envs/notebook/lib/python3.12/site-packages/xesmf/backend.py:56: UserWarning: Latitude is outside of [-90, 90]\n",
      "  warnings.warn('Latitude is outside of [-90, 90]')\n"
     ]
    },
    {
     "name": "stdout",
     "output_type": "stream",
     "text": [
      "✅ Fichier sauvegardé : /home/jovyan/private-storage/output_data/interp_models_SIW_1995_2014/CESM2-WACCM_SIW_reprojete.nc\n",
      "Traitement du modèle CNRM-CM6-1 : /home/jovyan/private-storage/SiconcWarming2/SiconcWarming_CNRM-CM6-1_historical+ssp585.nc\n",
      "✅ Fichier sauvegardé : /home/jovyan/private-storage/output_data/interp_models_SIW_1995_2014/CNRM-CM6-1_SIW_reprojete.nc\n",
      "Traitement du modèle CNRM-CM6-1-HR : /home/jovyan/private-storage/SiconcWarming2/SiconcWarming_CNRM-CM6-1-HR_historical+ssp585.nc\n",
      "✅ Fichier sauvegardé : /home/jovyan/private-storage/output_data/interp_models_SIW_1995_2014/CNRM-CM6-1-HR_SIW_reprojete.nc\n",
      "Traitement du modèle CanESM5 : /home/jovyan/private-storage/SiconcWarming2/SiconcWarming_CanESM5_historical+ssp585.nc\n",
      "✅ Fichier sauvegardé : /home/jovyan/private-storage/output_data/interp_models_SIW_1995_2014/CanESM5_SIW_reprojete.nc\n",
      "Traitement du modèle FGOALS-f3-L : /home/jovyan/private-storage/SiconcWarming2/SiconcWarming_FGOALS-f3-L_historical+ssp585.nc\n",
      "✅ Fichier sauvegardé : /home/jovyan/private-storage/output_data/interp_models_SIW_1995_2014/FGOALS-f3-L_SIW_reprojete.nc\n",
      "Traitement du modèle FIO-ESM-2-0 : /home/jovyan/private-storage/SiconcWarming2/SiconcWarming_FIO-ESM-2-0_historical+ssp585.nc\n"
     ]
    },
    {
     "name": "stderr",
     "output_type": "stream",
     "text": [
      "/srv/conda/envs/notebook/lib/python3.12/site-packages/xesmf/backend.py:56: UserWarning: Latitude is outside of [-90, 90]\n",
      "  warnings.warn('Latitude is outside of [-90, 90]')\n"
     ]
    },
    {
     "name": "stdout",
     "output_type": "stream",
     "text": [
      "✅ Fichier sauvegardé : /home/jovyan/private-storage/output_data/interp_models_SIW_1995_2014/FIO-ESM-2-0_SIW_reprojete.nc\n",
      "Traitement du modèle GFDL-CM4 : /home/jovyan/private-storage/SiconcWarming2/SiconcWarming_GFDL-CM4_historical+ssp585.nc\n",
      "✅ Fichier sauvegardé : /home/jovyan/private-storage/output_data/interp_models_SIW_1995_2014/GFDL-CM4_SIW_reprojete.nc\n",
      "Traitement du modèle GFDL-ESM4 : /home/jovyan/private-storage/SiconcWarming2/SiconcWarming_GFDL-ESM4_historical+ssp585.nc\n",
      "✅ Fichier sauvegardé : /home/jovyan/private-storage/output_data/interp_models_SIW_1995_2014/GFDL-ESM4_SIW_reprojete.nc\n",
      "Traitement du modèle INM-CM4-8 : /home/jovyan/private-storage/SiconcWarming2/SiconcWarming_INM-CM4-8_historical+ssp585.nc\n",
      "✅ Fichier sauvegardé : /home/jovyan/private-storage/output_data/interp_models_SIW_1995_2014/INM-CM4-8_SIW_reprojete.nc\n",
      "Traitement du modèle INM-CM5-0 : /home/jovyan/private-storage/SiconcWarming2/SiconcWarming_INM-CM5-0_historical+ssp585.nc\n",
      "✅ Fichier sauvegardé : /home/jovyan/private-storage/output_data/interp_models_SIW_1995_2014/INM-CM5-0_SIW_reprojete.nc\n",
      "Traitement du modèle IPSL-CM6A-LR : /home/jovyan/private-storage/SiconcWarming2/SiconcWarming_IPSL-CM6A-LR_historical+ssp585.nc\n",
      "✅ Fichier sauvegardé : /home/jovyan/private-storage/output_data/interp_models_SIW_1995_2014/IPSL-CM6A-LR_SIW_reprojete.nc\n",
      "Traitement du modèle MIROC-ES2L : /home/jovyan/private-storage/SiconcWarming2/SiconcWarming_MIROC-ES2L_historical+ssp585.nc\n",
      "✅ Fichier sauvegardé : /home/jovyan/private-storage/output_data/interp_models_SIW_1995_2014/MIROC-ES2L_SIW_reprojete.nc\n",
      "Traitement du modèle MIROC6 : /home/jovyan/private-storage/SiconcWarming2/SiconcWarming_MIROC6_historical+ssp585.nc\n",
      "✅ Fichier sauvegardé : /home/jovyan/private-storage/output_data/interp_models_SIW_1995_2014/MIROC6_SIW_reprojete.nc\n",
      "Traitement du modèle MPI-ESM1-2-HR : /home/jovyan/private-storage/SiconcWarming2/SiconcWarming_MPI-ESM1-2-HR_historical+ssp585.nc\n",
      "✅ Fichier sauvegardé : /home/jovyan/private-storage/output_data/interp_models_SIW_1995_2014/MPI-ESM1-2-HR_SIW_reprojete.nc\n",
      "Traitement du modèle MRI-ESM2-0 : /home/jovyan/private-storage/SiconcWarming2/SiconcWarming_MRI-ESM2-0_historical+ssp585.nc\n",
      "✅ Fichier sauvegardé : /home/jovyan/private-storage/output_data/interp_models_SIW_1995_2014/MRI-ESM2-0_SIW_reprojete.nc\n",
      "Traitement du modèle NESM3 : /home/jovyan/private-storage/SiconcWarming2/SiconcWarming_NESM3_historical+ssp585.nc\n",
      "✅ Fichier sauvegardé : /home/jovyan/private-storage/output_data/interp_models_SIW_1995_2014/NESM3_SIW_reprojete.nc\n"
     ]
    }
   ],
   "source": [
    "models = [\n",
    "    \"BCC-CSM2-MR\", \"CAMS-CSM1-0\", \"CESM2\", \"CESM2-WACCM\", \"CNRM-CM6-1\", \"CNRM-CM6-1-HR\", \"CanESM5\", \n",
    "    \"FGOALS-f3-L\", \"FIO-ESM-2-0\", \"GFDL-CM4\", \"GFDL-ESM4\", \"INM-CM4-8\", \"INM-CM5-0\", \"IPSL-CM6A-LR\", \n",
    "    \"MIROC-ES2L\", \"MIROC6\", \"MPI-ESM1-2-HR\", \"MRI-ESM2-0\", \"NESM3\"\n",
    "]\n",
    "\n",
    "regrid_model_files_bis(\n",
    "    models=models,\n",
    "    ref_grid=ref_grid2,\n",
    "    output_dir=\"/home/jovyan/private-storage/output_data/interp_models_SIW_1995_2014\",\n",
    "    filename_template=\"SiconcWarming_{model}_*.nc\",\n",
    "    input_dirs=[\n",
    "        \"/home/jovyan/private-storage/SiconcWarming2\",\n",
    "    ],\n",
    "    output_name_template=\"{model}_SIW_reprojete.nc\"\n",
    ")"
   ]
  },
  {
   "cell_type": "code",
   "execution_count": 15,
   "id": "76ace049-8f3c-4f05-869f-80c67827728d",
   "metadata": {},
   "outputs": [
    {
     "name": "stdout",
     "output_type": "stream",
     "text": [
      "Traitement du modèle ACCESS-CM2 : /home/jovyan/private-storage/SiconcWarming4/SiconcWarming_ACCESS-CM2_historical+ssp585.nc\n",
      "✅ Fichier sauvegardé : /home/jovyan/private-storage/output_data/interp_models_SIW_all_models/ACCESS-CM2_SIW_reprojete.nc\n",
      "Traitement du modèle ACCESS-ESM1-5 : /home/jovyan/private-storage/SiconcWarming4/SiconcWarming_ACCESS-ESM1-5_historical+ssp585.nc\n",
      "✅ Fichier sauvegardé : /home/jovyan/private-storage/output_data/interp_models_SIW_all_models/ACCESS-ESM1-5_SIW_reprojete.nc\n",
      "Traitement du modèle CanESM5-CanOE : /home/jovyan/private-storage/SiconcWarming4/SiconcWarming_CanESM5-CanOE_historical+ssp585.nc\n",
      "✅ Fichier sauvegardé : /home/jovyan/private-storage/output_data/interp_models_SIW_all_models/CanESM5-CanOE_SIW_reprojete.nc\n",
      "Traitement du modèle CAS-ESM2-0 : /home/jovyan/private-storage/SiconcWarming4/SiconcWarming_CAS-ESM2-0_historical+ssp585.nc\n"
     ]
    },
    {
     "name": "stderr",
     "output_type": "stream",
     "text": [
      "/srv/conda/envs/notebook/lib/python3.12/site-packages/xesmf/backend.py:56: UserWarning: Latitude is outside of [-90, 90]\n",
      "  warnings.warn('Latitude is outside of [-90, 90]')\n"
     ]
    },
    {
     "name": "stdout",
     "output_type": "stream",
     "text": [
      "✅ Fichier sauvegardé : /home/jovyan/private-storage/output_data/interp_models_SIW_all_models/CAS-ESM2-0_SIW_reprojete.nc\n",
      "Traitement du modèle CMCC-CM2-SR5 : /home/jovyan/private-storage/SiconcWarming4/SiconcWarming_CMCC-CM2-SR5_historical+ssp585.nc\n",
      "✅ Fichier sauvegardé : /home/jovyan/private-storage/output_data/interp_models_SIW_all_models/CMCC-CM2-SR5_SIW_reprojete.nc\n",
      "Traitement du modèle CNRM-ESM2-1 : /home/jovyan/private-storage/SiconcWarming4/SiconcWarming_CNRM-ESM2-1_historical+ssp585.nc\n",
      "✅ Fichier sauvegardé : /home/jovyan/private-storage/output_data/interp_models_SIW_all_models/CNRM-ESM2-1_SIW_reprojete.nc\n",
      "Traitement du modèle E3SM-1-1 : /home/jovyan/private-storage/SiconcWarming4/SiconcWarming_E3SM-1-1_historical+ssp585.nc\n",
      "Coordonnées lat/lon non trouvées pour le fichier : /home/jovyan/private-storage/SiconcWarming4/SiconcWarming_E3SM-1-1_historical+ssp585.nc\n",
      "Traitement du modèle EC-Earth3 : /home/jovyan/private-storage/SiconcWarming4/SiconcWarming_EC-Earth3_historical+ssp585.nc\n",
      "✅ Fichier sauvegardé : /home/jovyan/private-storage/output_data/interp_models_SIW_all_models/EC-Earth3_SIW_reprojete.nc\n",
      "Traitement du modèle EC-Earth3-Veg : /home/jovyan/private-storage/SiconcWarming4/SiconcWarming_EC-Earth3-Veg_historical+ssp585.nc\n",
      "✅ Fichier sauvegardé : /home/jovyan/private-storage/output_data/interp_models_SIW_all_models/EC-Earth3-Veg_SIW_reprojete.nc\n",
      "Traitement du modèle EC-Earth3-Veg-LR : /home/jovyan/private-storage/SiconcWarming4/SiconcWarming_EC-Earth3-Veg-LR_historical+ssp585.nc\n",
      "✅ Fichier sauvegardé : /home/jovyan/private-storage/output_data/interp_models_SIW_all_models/EC-Earth3-Veg-LR_SIW_reprojete.nc\n",
      "Traitement du modèle FGOALS-g3 : /home/jovyan/private-storage/SiconcWarming4/SiconcWarming_FGOALS-g3_historical+ssp585.nc\n",
      "✅ Fichier sauvegardé : /home/jovyan/private-storage/output_data/interp_models_SIW_all_models/FGOALS-g3_SIW_reprojete.nc\n",
      "Traitement du modèle HadGEM3-GC31-LL : /home/jovyan/private-storage/SiconcWarming4/SiconcWarming_HadGEM3-GC31-LL_historical+ssp585.nc\n",
      "✅ Fichier sauvegardé : /home/jovyan/private-storage/output_data/interp_models_SIW_all_models/HadGEM3-GC31-LL_SIW_reprojete.nc\n",
      "Traitement du modèle MPI-ESM1-2-LR : /home/jovyan/private-storage/SiconcWarming4/SiconcWarming_MPI-ESM1-2-LR_historical+ssp585.nc\n",
      "✅ Fichier sauvegardé : /home/jovyan/private-storage/output_data/interp_models_SIW_all_models/MPI-ESM1-2-LR_SIW_reprojete.nc\n",
      "Traitement du modèle NorESM2-LM : /home/jovyan/private-storage/SiconcWarming4/SiconcWarming_NorESM2-LM_historical+ssp585.nc\n"
     ]
    },
    {
     "name": "stderr",
     "output_type": "stream",
     "text": [
      "/srv/conda/envs/notebook/lib/python3.12/site-packages/xesmf/backend.py:56: UserWarning: Latitude is outside of [-90, 90]\n",
      "  warnings.warn('Latitude is outside of [-90, 90]')\n"
     ]
    },
    {
     "name": "stdout",
     "output_type": "stream",
     "text": [
      "✅ Fichier sauvegardé : /home/jovyan/private-storage/output_data/interp_models_SIW_all_models/NorESM2-LM_SIW_reprojete.nc\n",
      "Traitement du modèle NorESM2-MM : /home/jovyan/private-storage/SiconcWarming4/SiconcWarming_NorESM2-MM_historical+ssp585.nc\n",
      "✅ Fichier sauvegardé : /home/jovyan/private-storage/output_data/interp_models_SIW_all_models/NorESM2-MM_SIW_reprojete.nc\n",
      "Traitement du modèle UKESM1-0-LL : /home/jovyan/private-storage/SiconcWarming4/SiconcWarming_UKESM1-0-LL_historical+ssp585.nc\n",
      "✅ Fichier sauvegardé : /home/jovyan/private-storage/output_data/interp_models_SIW_all_models/UKESM1-0-LL_SIW_reprojete.nc\n",
      "Traitement du modèle BCC-CSM2-MR : /home/jovyan/private-storage/SiconcWarming4/SiconcWarming_BCC-CSM2-MR_historical+ssp585.nc\n",
      "✅ Fichier sauvegardé : /home/jovyan/private-storage/output_data/interp_models_SIW_all_models/BCC-CSM2-MR_SIW_reprojete.nc\n",
      "Traitement du modèle CAMS-CSM1-0 : /home/jovyan/private-storage/SiconcWarming4/SiconcWarming_CAMS-CSM1-0_historical+ssp585.nc\n",
      "✅ Fichier sauvegardé : /home/jovyan/private-storage/output_data/interp_models_SIW_all_models/CAMS-CSM1-0_SIW_reprojete.nc\n",
      "Traitement du modèle CESM2 : /home/jovyan/private-storage/SiconcWarming4/SiconcWarming_CESM2_historical+ssp585.nc\n"
     ]
    },
    {
     "name": "stderr",
     "output_type": "stream",
     "text": [
      "/srv/conda/envs/notebook/lib/python3.12/site-packages/xesmf/backend.py:56: UserWarning: Latitude is outside of [-90, 90]\n",
      "  warnings.warn('Latitude is outside of [-90, 90]')\n"
     ]
    },
    {
     "name": "stdout",
     "output_type": "stream",
     "text": [
      "✅ Fichier sauvegardé : /home/jovyan/private-storage/output_data/interp_models_SIW_all_models/CESM2_SIW_reprojete.nc\n",
      "Traitement du modèle CESM2-WACCM : /home/jovyan/private-storage/SiconcWarming4/SiconcWarming_CESM2-WACCM_historical+ssp585.nc\n"
     ]
    },
    {
     "name": "stderr",
     "output_type": "stream",
     "text": [
      "/srv/conda/envs/notebook/lib/python3.12/site-packages/xesmf/backend.py:56: UserWarning: Latitude is outside of [-90, 90]\n",
      "  warnings.warn('Latitude is outside of [-90, 90]')\n"
     ]
    },
    {
     "name": "stdout",
     "output_type": "stream",
     "text": [
      "✅ Fichier sauvegardé : /home/jovyan/private-storage/output_data/interp_models_SIW_all_models/CESM2-WACCM_SIW_reprojete.nc\n",
      "Traitement du modèle CNRM-CM6-1 : /home/jovyan/private-storage/SiconcWarming4/SiconcWarming_CNRM-CM6-1_historical+ssp585.nc\n",
      "✅ Fichier sauvegardé : /home/jovyan/private-storage/output_data/interp_models_SIW_all_models/CNRM-CM6-1_SIW_reprojete.nc\n",
      "Traitement du modèle CNRM-CM6-1-HR : /home/jovyan/private-storage/SiconcWarming4/SiconcWarming_CNRM-CM6-1-HR_historical+ssp585.nc\n",
      "✅ Fichier sauvegardé : /home/jovyan/private-storage/output_data/interp_models_SIW_all_models/CNRM-CM6-1-HR_SIW_reprojete.nc\n",
      "Traitement du modèle CanESM5 : /home/jovyan/private-storage/SiconcWarming4/SiconcWarming_CanESM5_historical+ssp585.nc\n",
      "✅ Fichier sauvegardé : /home/jovyan/private-storage/output_data/interp_models_SIW_all_models/CanESM5_SIW_reprojete.nc\n",
      "Traitement du modèle FGOALS-f3-L : /home/jovyan/private-storage/SiconcWarming4/SiconcWarming_FGOALS-f3-L_historical+ssp585.nc\n",
      "✅ Fichier sauvegardé : /home/jovyan/private-storage/output_data/interp_models_SIW_all_models/FGOALS-f3-L_SIW_reprojete.nc\n",
      "Traitement du modèle FIO-ESM-2-0 : /home/jovyan/private-storage/SiconcWarming4/SiconcWarming_FIO-ESM-2-0_historical+ssp585.nc\n",
      "✅ Fichier sauvegardé : /home/jovyan/private-storage/output_data/interp_models_SIW_all_models/FIO-ESM-2-0_SIW_reprojete.nc\n",
      "Traitement du modèle GFDL-CM4 : /home/jovyan/private-storage/SiconcWarming4/SiconcWarming_GFDL-CM4_historical+ssp585.nc\n",
      "✅ Fichier sauvegardé : /home/jovyan/private-storage/output_data/interp_models_SIW_all_models/GFDL-CM4_SIW_reprojete.nc\n",
      "Traitement du modèle GFDL-ESM4 : /home/jovyan/private-storage/SiconcWarming4/SiconcWarming_GFDL-ESM4_historical+ssp585.nc\n",
      "✅ Fichier sauvegardé : /home/jovyan/private-storage/output_data/interp_models_SIW_all_models/GFDL-ESM4_SIW_reprojete.nc\n",
      "Traitement du modèle INM-CM4-8 : /home/jovyan/private-storage/SiconcWarming4/SiconcWarming_INM-CM4-8_historical+ssp585.nc\n",
      "✅ Fichier sauvegardé : /home/jovyan/private-storage/output_data/interp_models_SIW_all_models/INM-CM4-8_SIW_reprojete.nc\n",
      "Traitement du modèle INM-CM5-0 : /home/jovyan/private-storage/SiconcWarming4/SiconcWarming_INM-CM5-0_historical+ssp585.nc\n",
      "✅ Fichier sauvegardé : /home/jovyan/private-storage/output_data/interp_models_SIW_all_models/INM-CM5-0_SIW_reprojete.nc\n",
      "Traitement du modèle IPSL-CM6A-LR : /home/jovyan/private-storage/SiconcWarming4/SiconcWarming_IPSL-CM6A-LR_historical+ssp585.nc\n",
      "✅ Fichier sauvegardé : /home/jovyan/private-storage/output_data/interp_models_SIW_all_models/IPSL-CM6A-LR_SIW_reprojete.nc\n",
      "Traitement du modèle MIROC-ES2L : /home/jovyan/private-storage/SiconcWarming4/SiconcWarming_MIROC-ES2L_historical+ssp585.nc\n",
      "✅ Fichier sauvegardé : /home/jovyan/private-storage/output_data/interp_models_SIW_all_models/MIROC-ES2L_SIW_reprojete.nc\n",
      "Traitement du modèle MIROC6 : /home/jovyan/private-storage/SiconcWarming4/SiconcWarming_MIROC6_historical+ssp585.nc\n",
      "✅ Fichier sauvegardé : /home/jovyan/private-storage/output_data/interp_models_SIW_all_models/MIROC6_SIW_reprojete.nc\n",
      "Traitement du modèle MPI-ESM1-2-HR : /home/jovyan/private-storage/SiconcWarming4/SiconcWarming_MPI-ESM1-2-HR_historical+ssp585.nc\n",
      "✅ Fichier sauvegardé : /home/jovyan/private-storage/output_data/interp_models_SIW_all_models/MPI-ESM1-2-HR_SIW_reprojete.nc\n",
      "Traitement du modèle MRI-ESM2-0 : /home/jovyan/private-storage/SiconcWarming4/SiconcWarming_MRI-ESM2-0_historical+ssp585.nc\n",
      "✅ Fichier sauvegardé : /home/jovyan/private-storage/output_data/interp_models_SIW_all_models/MRI-ESM2-0_SIW_reprojete.nc\n",
      "Traitement du modèle NESM3 : /home/jovyan/private-storage/SiconcWarming4/SiconcWarming_NESM3_historical+ssp585.nc\n",
      "✅ Fichier sauvegardé : /home/jovyan/private-storage/output_data/interp_models_SIW_all_models/NESM3_SIW_reprojete.nc\n"
     ]
    }
   ],
   "source": [
    "models = [\"ACCESS-CM2\", \"ACCESS-ESM1-5\", \"CanESM5-CanOE\", \"CAS-ESM2-0\", \"CMCC-CM2-SR5\",\n",
    "          \"CNRM-ESM2-1\", \"E3SM-1-1\", \"EC-Earth3\", \"EC-Earth3-Veg\", \"EC-Earth3-Veg-LR\", \"FGOALS-g3\", \n",
    "          \"HadGEM3-GC31-LL\", \"MPI-ESM1-2-LR\", \"NorESM2-LM\", \"NorESM2-MM\", \"UKESM1-0-LL\", \n",
    "          \"BCC-CSM2-MR\", \"CAMS-CSM1-0\", \"CESM2\", \"CESM2-WACCM\", \"CNRM-CM6-1\", \"CNRM-CM6-1-HR\", \n",
    "          \"CanESM5\", \"FGOALS-f3-L\", \"FIO-ESM-2-0\", \"GFDL-CM4\", \"GFDL-ESM4\", \"INM-CM4-8\", \"INM-CM5-0\", \n",
    "          \"IPSL-CM6A-LR\", \"MIROC-ES2L\", \"MIROC6\", \"MPI-ESM1-2-HR\", \"MRI-ESM2-0\", \"NESM3\"]\n",
    "\n",
    "regrid_model_files_bis(\n",
    "    models=models,\n",
    "    ref_grid=ref_grid2,\n",
    "    output_dir=\"/home/jovyan/private-storage/output_data/interp_models_SIW_all_models\",\n",
    "    filename_template=\"SiconcWarming_{model}_*.nc\",\n",
    "    input_dirs=[\n",
    "        \"/home/jovyan/private-storage/SiconcWarming4\",\n",
    "    ],\n",
    "    output_name_template=\"{model}_SIW_reprojete.nc\"\n",
    ")"
   ]
  },
  {
   "cell_type": "code",
   "execution_count": 17,
   "id": "86b7f853-3776-4c7e-b49d-50f37755ded3",
   "metadata": {},
   "outputs": [
    {
     "name": "stdout",
     "output_type": "stream",
     "text": [
      "Traitement du modèle E3SM-1-1 : /home/jovyan/private-storage/SiconcWarming4/SiconcWarming_E3SM-1-1_historical+ssp585.nc\n",
      "✅ Fichier sauvegardé : /home/jovyan/private-storage/output_data/interp_models_SIW_all_models/E3SM-1-1_SIW_reprojete.nc\n",
      "Traitement du modèle EC-Earth3-CC : /home/jovyan/private-storage/SiconcWarming4/SiconcWarming_EC-Earth3-CC_historical+ssp585.nc\n",
      "✅ Fichier sauvegardé : /home/jovyan/private-storage/output_data/interp_models_SIW_all_models/EC-Earth3-CC_SIW_reprojete.nc\n",
      "Traitement du modèle CMCC-ESM2 : /home/jovyan/private-storage/SiconcWarming4/SiconcWarming_CMCC-ESM2_historical+ssp585.nc\n",
      "✅ Fichier sauvegardé : /home/jovyan/private-storage/output_data/interp_models_SIW_all_models/CMCC-ESM2_SIW_reprojete.nc\n"
     ]
    }
   ],
   "source": [
    "models = [\"E3SM-1-1\", \"EC-Earth3-CC\", \"CMCC-ESM2\"]\n",
    "\n",
    "regrid_model_files_bis(\n",
    "    models=models,\n",
    "    ref_grid=ref_grid2,\n",
    "    output_dir=\"/home/jovyan/private-storage/output_data/interp_models_SIW_all_models\",\n",
    "    filename_template=\"SiconcWarming_{model}_*.nc\",\n",
    "    input_dirs=[\n",
    "        \"/home/jovyan/private-storage/SiconcWarming4\",\n",
    "    ],\n",
    "    output_name_template=\"{model}_SIW_reprojete.nc\"\n",
    ")"
   ]
  },
  {
   "cell_type": "markdown",
   "id": "9be4458a-b79f-44ae-94b2-d0761ccaa55e",
   "metadata": {},
   "source": [
    "### Sftlf"
   ]
  },
  {
   "cell_type": "code",
   "execution_count": 8,
   "id": "b58aa0d3-58e8-406b-84e1-25627a44cf78",
   "metadata": {},
   "outputs": [
    {
     "name": "stdout",
     "output_type": "stream",
     "text": [
      "Traitement du modèle BCC-CSM2-MR : /home/jovyan/private-storage/masques/masques/pseudo_sftlf/sftlf_BCC-CSM2-MR.nc\n",
      "Fichier sauvegardé : /home/jovyan/private-storage/output_data/interp_sftlf/BCC-CSM2-MR_sftlf_reprojete.nc\n",
      "Traitement du modèle CAMS-CSM1-0 : /home/jovyan/private-storage/masques/masques/sftlf/sftlf_CAMS-CSM1-0.nc\n",
      "Fichier sauvegardé : /home/jovyan/private-storage/output_data/interp_sftlf/CAMS-CSM1-0_sftlf_reprojete.nc\n",
      "Traitement du modèle CESM2 : /home/jovyan/private-storage/masques/masques/sftlf/sftlf_CESM2.nc\n"
     ]
    },
    {
     "name": "stderr",
     "output_type": "stream",
     "text": [
      "/srv/conda/envs/notebook/lib/python3.12/site-packages/xarray/conventions.py:193: SerializationWarning: variable 'sftlf' has multiple fill values {np.float32(1e+20), np.float64(1e+20)} defined, decoding all values to NaN.\n",
      "  var = coder.decode(var, name=name)\n"
     ]
    },
    {
     "name": "stdout",
     "output_type": "stream",
     "text": [
      "Fichier sauvegardé : /home/jovyan/private-storage/output_data/interp_sftlf/CESM2_sftlf_reprojete.nc\n",
      "Traitement du modèle CESM2-WACCM : /home/jovyan/private-storage/masques/masques/sftlf/sftlf_CESM2-WACCM.nc\n"
     ]
    },
    {
     "name": "stderr",
     "output_type": "stream",
     "text": [
      "/srv/conda/envs/notebook/lib/python3.12/site-packages/xarray/conventions.py:193: SerializationWarning: variable 'sftlf' has multiple fill values {np.float32(1e+20), np.float64(1e+20)} defined, decoding all values to NaN.\n",
      "  var = coder.decode(var, name=name)\n"
     ]
    },
    {
     "name": "stdout",
     "output_type": "stream",
     "text": [
      "Fichier sauvegardé : /home/jovyan/private-storage/output_data/interp_sftlf/CESM2-WACCM_sftlf_reprojete.nc\n",
      "Traitement du modèle CNRM-CM6-1 : /home/jovyan/private-storage/masques/masques/sftlf/sftlf_CNRM-CM6-1.nc\n",
      "Fichier sauvegardé : /home/jovyan/private-storage/output_data/interp_sftlf/CNRM-CM6-1_sftlf_reprojete.nc\n",
      "Traitement du modèle CNRM-CM6-1-HR : /home/jovyan/private-storage/masques/masques/sftlf/sftlf_CNRM-CM6-1-HR.nc\n",
      "Fichier sauvegardé : /home/jovyan/private-storage/output_data/interp_sftlf/CNRM-CM6-1-HR_sftlf_reprojete.nc\n",
      "Traitement du modèle CanESM5 : /home/jovyan/private-storage/masques/masques/sftlf/sftlf_CanESM5.nc\n",
      "Fichier sauvegardé : /home/jovyan/private-storage/output_data/interp_sftlf/CanESM5_sftlf_reprojete.nc\n",
      "Traitement du modèle FGOALS-f3-L : /home/jovyan/private-storage/masques/masques/sftlf/sftlf_FGOALS-f3-L.nc\n",
      "Fichier sauvegardé : /home/jovyan/private-storage/output_data/interp_sftlf/FGOALS-f3-L_sftlf_reprojete.nc\n",
      "Traitement du modèle FIO-ESM-2-0 : /home/jovyan/private-storage/masques/masques/sftlf/sftlf_FIO-ESM-2-0.nc\n",
      "Fichier sauvegardé : /home/jovyan/private-storage/output_data/interp_sftlf/FIO-ESM-2-0_sftlf_reprojete.nc\n",
      "Traitement du modèle GFDL-CM4 : /home/jovyan/private-storage/masques/masques/sftlf/sftlf_GFDL-CM4.nc\n",
      "Fichier sauvegardé : /home/jovyan/private-storage/output_data/interp_sftlf/GFDL-CM4_sftlf_reprojete.nc\n",
      "Traitement du modèle GFDL-ESM4 : /home/jovyan/private-storage/masques/masques/pseudo_sftlf/sftlf_GFDL-ESM4.nc\n",
      "Fichier sauvegardé : /home/jovyan/private-storage/output_data/interp_sftlf/GFDL-ESM4_sftlf_reprojete.nc\n",
      "Traitement du modèle INM-CM4-8 : /home/jovyan/private-storage/masques/masques/sftlf/sftlf_INM-CM4-8.nc\n",
      "Fichier sauvegardé : /home/jovyan/private-storage/output_data/interp_sftlf/INM-CM4-8_sftlf_reprojete.nc\n",
      "Traitement du modèle INM-CM5-0 : /home/jovyan/private-storage/masques/masques/sftlf/sftlf_INM-CM5-0.nc\n",
      "Fichier sauvegardé : /home/jovyan/private-storage/output_data/interp_sftlf/INM-CM5-0_sftlf_reprojete.nc\n",
      "Traitement du modèle IPSL-CM6A-LR : /home/jovyan/private-storage/masques/masques/sftlf/sftlf_IPSL-CM6A-LR.nc\n",
      "Fichier sauvegardé : /home/jovyan/private-storage/output_data/interp_sftlf/IPSL-CM6A-LR_sftlf_reprojete.nc\n",
      "Traitement du modèle MIROC-ES2L : /home/jovyan/private-storage/masques/masques/sftlf/sftlf_MIROC-ES2L.nc\n",
      "Fichier sauvegardé : /home/jovyan/private-storage/output_data/interp_sftlf/MIROC-ES2L_sftlf_reprojete.nc\n",
      "Traitement du modèle MIROC6 : /home/jovyan/private-storage/masques/masques/sftlf/sftlf_MIROC6.nc\n",
      "Fichier sauvegardé : /home/jovyan/private-storage/output_data/interp_sftlf/MIROC6_sftlf_reprojete.nc\n",
      "Traitement du modèle MPI-ESM1-2-HR : /home/jovyan/private-storage/masques/masques/sftlf/sftlf_MPI-ESM1-2-HR.nc\n",
      "Fichier sauvegardé : /home/jovyan/private-storage/output_data/interp_sftlf/MPI-ESM1-2-HR_sftlf_reprojete.nc\n",
      "Traitement du modèle MRI-ESM2-0 : /home/jovyan/private-storage/masques/masques/sftlf/sftlf_MRI-ESM2-0.nc\n",
      "Fichier sauvegardé : /home/jovyan/private-storage/output_data/interp_sftlf/MRI-ESM2-0_sftlf_reprojete.nc\n",
      "Traitement du modèle NESM3 : /home/jovyan/private-storage/masques/masques/sftlf/sftlf_NESM3.nc\n",
      "Fichier sauvegardé : /home/jovyan/private-storage/output_data/interp_sftlf/NESM3_sftlf_reprojete.nc\n"
     ]
    }
   ],
   "source": [
    "models = [\n",
    "    \"BCC-CSM2-MR\", \"CAMS-CSM1-0\", \"CESM2\", \"CESM2-WACCM\", \"CNRM-CM6-1\", \"CNRM-CM6-1-HR\", \"CanESM5\", \n",
    "    \"FGOALS-f3-L\", \"FIO-ESM-2-0\", \"GFDL-CM4\", \"GFDL-ESM4\", \"INM-CM4-8\", \"INM-CM5-0\", \"IPSL-CM6A-LR\", \n",
    "    \"MIROC-ES2L\", \"MIROC6\", \"MPI-ESM1-2-HR\", \"MRI-ESM2-0\", \"NESM3\"\n",
    "]\n",
    "\n",
    "regrid_model_files(\n",
    "    models=models,\n",
    "    ref_grid=ref_grid,\n",
    "    output_dir=\"/home/jovyan/private-storage/output_data/interp_sftlf\",\n",
    "    filename_template=\"sftlf_{model}.nc\",\n",
    "    input_dirs=[\n",
    "        \"/home/jovyan/private-storage/masques/masques/sftlf\",\n",
    "        \"/home/jovyan/private-storage/masques/masques/pseudo_sftlf/\"\n",
    "    ],\n",
    "    output_name_template=\"{model}_sftlf_reprojete.nc\"\n",
    ")"
   ]
  },
  {
   "cell_type": "markdown",
   "id": "305707ed-082b-4224-bf3e-341ef2eab7f9",
   "metadata": {},
   "source": [
    "#### All models"
   ]
  },
  {
   "cell_type": "code",
   "execution_count": 12,
   "id": "b9771479-ee39-4df1-b90a-4e4e0105a13f",
   "metadata": {},
   "outputs": [
    {
     "name": "stdout",
     "output_type": "stream",
     "text": [
      "Traitement du modèle ACCESS-CM2 : /home/jovyan/private-storage/masques/masques/sftlf/sftlf_ACCESS-CM2.nc\n",
      "Fichier sauvegardé : /home/jovyan/private-storage/output_data/interp_sftlf/ACCESS-CM2_sftlf_reprojete.nc\n",
      "Traitement du modèle ACCESS-ESM1-5 : /home/jovyan/private-storage/masques/masques/sftlf/sftlf_ACCESS-ESM1-5.nc\n",
      "Fichier sauvegardé : /home/jovyan/private-storage/output_data/interp_sftlf/ACCESS-ESM1-5_sftlf_reprojete.nc\n",
      "Traitement du modèle CanESM5-CanOE : /home/jovyan/private-storage/masques/masques/sftlf/sftlf_CanESM5-CanOE.nc\n",
      "Fichier sauvegardé : /home/jovyan/private-storage/output_data/interp_sftlf/CanESM5-CanOE_sftlf_reprojete.nc\n",
      "Traitement du modèle CAS-ESM2-0 : /home/jovyan/private-storage/masques/masques/sftlf/sftlf_CAS-ESM2-0.nc\n",
      "Fichier sauvegardé : /home/jovyan/private-storage/output_data/interp_sftlf/CAS-ESM2-0_sftlf_reprojete.nc\n",
      "Traitement du modèle CMCC-CM2-SR5 : /home/jovyan/private-storage/masques/masques/sftlf/sftlf_CMCC-CM2-SR5.nc\n",
      "Fichier sauvegardé : /home/jovyan/private-storage/output_data/interp_sftlf/CMCC-CM2-SR5_sftlf_reprojete.nc\n",
      "Aucun fichier trouvé pour le modèle CMCC-ESM2\n",
      "Traitement du modèle CNRM-ESM2-1 : /home/jovyan/private-storage/masques/masques/sftlf/sftlf_CNRM-ESM2-1.nc\n",
      "Fichier sauvegardé : /home/jovyan/private-storage/output_data/interp_sftlf/CNRM-ESM2-1_sftlf_reprojete.nc\n",
      "Traitement du modèle E3SM-1-1 : /home/jovyan/private-storage/masques/masques/sftlf/sftlf_E3SM-1-1.nc\n",
      "Fichier sauvegardé : /home/jovyan/private-storage/output_data/interp_sftlf/E3SM-1-1_sftlf_reprojete.nc\n",
      "Traitement du modèle EC-Earth3 : /home/jovyan/private-storage/masques/masques/sftlf/sftlf_EC-Earth3.nc\n",
      "Fichier sauvegardé : /home/jovyan/private-storage/output_data/interp_sftlf/EC-Earth3_sftlf_reprojete.nc\n",
      "Traitement du modèle EC-Earth3-Veg : /home/jovyan/private-storage/masques/masques/sftlf/sftlf_EC-Earth3-Veg.nc\n",
      "Fichier sauvegardé : /home/jovyan/private-storage/output_data/interp_sftlf/EC-Earth3-Veg_sftlf_reprojete.nc\n",
      "Traitement du modèle EC-Earth3-Veg-LR : /home/jovyan/private-storage/masques/masques/sftlf/sftlf_EC-Earth3-Veg-LR.nc\n",
      "Fichier sauvegardé : /home/jovyan/private-storage/output_data/interp_sftlf/EC-Earth3-Veg-LR_sftlf_reprojete.nc\n",
      "Traitement du modèle FGOALS-g3 : /home/jovyan/private-storage/masques/masques/sftlf/sftlf_FGOALS-g3.nc\n",
      "Fichier sauvegardé : /home/jovyan/private-storage/output_data/interp_sftlf/FGOALS-g3_sftlf_reprojete.nc\n",
      "Traitement du modèle HadGEM3-GC31-LL : /home/jovyan/private-storage/masques/masques/sftlf/sftlf_HadGEM3-GC31-LL.nc\n",
      "Fichier sauvegardé : /home/jovyan/private-storage/output_data/interp_sftlf/HadGEM3-GC31-LL_sftlf_reprojete.nc\n",
      "Traitement du modèle MPI-ESM1-2-LR : /home/jovyan/private-storage/masques/masques/sftlf/sftlf_MPI-ESM1-2-LR.nc\n",
      "Fichier sauvegardé : /home/jovyan/private-storage/output_data/interp_sftlf/MPI-ESM1-2-LR_sftlf_reprojete.nc\n",
      "Traitement du modèle NorESM2-LM : /home/jovyan/private-storage/masques/masques/sftlf/sftlf_NorESM2-LM.nc\n",
      "Fichier sauvegardé : /home/jovyan/private-storage/output_data/interp_sftlf/NorESM2-LM_sftlf_reprojete.nc\n",
      "Traitement du modèle NorESM2-MM : /home/jovyan/private-storage/masques/masques/sftlf/sftlf_NorESM2-MM.nc\n",
      "Fichier sauvegardé : /home/jovyan/private-storage/output_data/interp_sftlf/NorESM2-MM_sftlf_reprojete.nc\n",
      "Traitement du modèle UKESM1-0-LL : /home/jovyan/private-storage/masques/masques/sftlf/sftlf_UKESM1-0-LL.nc\n",
      "Fichier sauvegardé : /home/jovyan/private-storage/output_data/interp_sftlf/UKESM1-0-LL_sftlf_reprojete.nc\n",
      "Traitement du modèle BCC-CSM2-MR : /home/jovyan/private-storage/masques/masques/pseudo_sftlf/sftlf_BCC-CSM2-MR.nc\n",
      "Fichier sauvegardé : /home/jovyan/private-storage/output_data/interp_sftlf/BCC-CSM2-MR_sftlf_reprojete.nc\n",
      "Traitement du modèle CAMS-CSM1-0 : /home/jovyan/private-storage/masques/masques/sftlf/sftlf_CAMS-CSM1-0.nc\n",
      "Fichier sauvegardé : /home/jovyan/private-storage/output_data/interp_sftlf/CAMS-CSM1-0_sftlf_reprojete.nc\n",
      "Traitement du modèle CESM2 : /home/jovyan/private-storage/masques/masques/sftlf/sftlf_CESM2.nc\n"
     ]
    },
    {
     "name": "stderr",
     "output_type": "stream",
     "text": [
      "/srv/conda/envs/notebook/lib/python3.12/site-packages/xarray/conventions.py:193: SerializationWarning: variable 'sftlf' has multiple fill values {np.float32(1e+20), np.float64(1e+20)} defined, decoding all values to NaN.\n",
      "  var = coder.decode(var, name=name)\n"
     ]
    },
    {
     "name": "stdout",
     "output_type": "stream",
     "text": [
      "Fichier sauvegardé : /home/jovyan/private-storage/output_data/interp_sftlf/CESM2_sftlf_reprojete.nc\n",
      "Traitement du modèle CESM2-WACCM : /home/jovyan/private-storage/masques/masques/sftlf/sftlf_CESM2-WACCM.nc\n"
     ]
    },
    {
     "name": "stderr",
     "output_type": "stream",
     "text": [
      "/srv/conda/envs/notebook/lib/python3.12/site-packages/xarray/conventions.py:193: SerializationWarning: variable 'sftlf' has multiple fill values {np.float32(1e+20), np.float64(1e+20)} defined, decoding all values to NaN.\n",
      "  var = coder.decode(var, name=name)\n"
     ]
    },
    {
     "name": "stdout",
     "output_type": "stream",
     "text": [
      "Fichier sauvegardé : /home/jovyan/private-storage/output_data/interp_sftlf/CESM2-WACCM_sftlf_reprojete.nc\n",
      "Traitement du modèle CNRM-CM6-1 : /home/jovyan/private-storage/masques/masques/sftlf/sftlf_CNRM-CM6-1.nc\n",
      "Fichier sauvegardé : /home/jovyan/private-storage/output_data/interp_sftlf/CNRM-CM6-1_sftlf_reprojete.nc\n",
      "Traitement du modèle CNRM-CM6-1-HR : /home/jovyan/private-storage/masques/masques/sftlf/sftlf_CNRM-CM6-1-HR.nc\n",
      "Fichier sauvegardé : /home/jovyan/private-storage/output_data/interp_sftlf/CNRM-CM6-1-HR_sftlf_reprojete.nc\n",
      "Traitement du modèle CanESM5 : /home/jovyan/private-storage/masques/masques/sftlf/sftlf_CanESM5.nc\n",
      "Fichier sauvegardé : /home/jovyan/private-storage/output_data/interp_sftlf/CanESM5_sftlf_reprojete.nc\n",
      "Traitement du modèle FGOALS-f3-L : /home/jovyan/private-storage/masques/masques/sftlf/sftlf_FGOALS-f3-L.nc\n",
      "Fichier sauvegardé : /home/jovyan/private-storage/output_data/interp_sftlf/FGOALS-f3-L_sftlf_reprojete.nc\n",
      "Traitement du modèle FIO-ESM-2-0 : /home/jovyan/private-storage/masques/masques/sftlf/sftlf_FIO-ESM-2-0.nc\n",
      "Fichier sauvegardé : /home/jovyan/private-storage/output_data/interp_sftlf/FIO-ESM-2-0_sftlf_reprojete.nc\n",
      "Traitement du modèle GFDL-CM4 : /home/jovyan/private-storage/masques/masques/sftlf/sftlf_GFDL-CM4.nc\n",
      "Fichier sauvegardé : /home/jovyan/private-storage/output_data/interp_sftlf/GFDL-CM4_sftlf_reprojete.nc\n",
      "Traitement du modèle GFDL-ESM4 : /home/jovyan/private-storage/masques/masques/pseudo_sftlf/sftlf_GFDL-ESM4.nc\n",
      "Fichier sauvegardé : /home/jovyan/private-storage/output_data/interp_sftlf/GFDL-ESM4_sftlf_reprojete.nc\n",
      "Traitement du modèle INM-CM4-8 : /home/jovyan/private-storage/masques/masques/sftlf/sftlf_INM-CM4-8.nc\n",
      "Fichier sauvegardé : /home/jovyan/private-storage/output_data/interp_sftlf/INM-CM4-8_sftlf_reprojete.nc\n",
      "Traitement du modèle INM-CM5-0 : /home/jovyan/private-storage/masques/masques/sftlf/sftlf_INM-CM5-0.nc\n",
      "Fichier sauvegardé : /home/jovyan/private-storage/output_data/interp_sftlf/INM-CM5-0_sftlf_reprojete.nc\n",
      "Traitement du modèle IPSL-CM6A-LR : /home/jovyan/private-storage/masques/masques/sftlf/sftlf_IPSL-CM6A-LR.nc\n",
      "Fichier sauvegardé : /home/jovyan/private-storage/output_data/interp_sftlf/IPSL-CM6A-LR_sftlf_reprojete.nc\n",
      "Traitement du modèle MIROC-ES2L : /home/jovyan/private-storage/masques/masques/sftlf/sftlf_MIROC-ES2L.nc\n",
      "Fichier sauvegardé : /home/jovyan/private-storage/output_data/interp_sftlf/MIROC-ES2L_sftlf_reprojete.nc\n",
      "Traitement du modèle MIROC6 : /home/jovyan/private-storage/masques/masques/sftlf/sftlf_MIROC6.nc\n",
      "Fichier sauvegardé : /home/jovyan/private-storage/output_data/interp_sftlf/MIROC6_sftlf_reprojete.nc\n",
      "Traitement du modèle MPI-ESM1-2-HR : /home/jovyan/private-storage/masques/masques/sftlf/sftlf_MPI-ESM1-2-HR.nc\n",
      "Fichier sauvegardé : /home/jovyan/private-storage/output_data/interp_sftlf/MPI-ESM1-2-HR_sftlf_reprojete.nc\n",
      "Traitement du modèle MRI-ESM2-0 : /home/jovyan/private-storage/masques/masques/sftlf/sftlf_MRI-ESM2-0.nc\n",
      "Fichier sauvegardé : /home/jovyan/private-storage/output_data/interp_sftlf/MRI-ESM2-0_sftlf_reprojete.nc\n",
      "Traitement du modèle NESM3 : /home/jovyan/private-storage/masques/masques/sftlf/sftlf_NESM3.nc\n",
      "Fichier sauvegardé : /home/jovyan/private-storage/output_data/interp_sftlf/NESM3_sftlf_reprojete.nc\n"
     ]
    }
   ],
   "source": [
    "models = [\"ACCESS-CM2\", \"ACCESS-ESM1-5\", \"CanESM5-CanOE\", \"CAS-ESM2-0\", \"CMCC-CM2-SR5\",\n",
    "          \"CNRM-ESM2-1\", \"E3SM-1-1\", \"EC-Earth3\", \"EC-Earth3-Veg\",\n",
    "          \"EC-Earth3-Veg-LR\", \"FGOALS-g3\", \"HadGEM3-GC31-LL\", \"MPI-ESM1-2-LR\", \"NorESM2-LM\", \"NorESM2-MM\", \n",
    "          \"UKESM1-0-LL\", \"BCC-CSM2-MR\", \"CAMS-CSM1-0\", \"CESM2\", \"CESM2-WACCM\", \"CNRM-CM6-1\", \"CNRM-CM6-1-HR\", \n",
    "          \"CanESM5\", \"FGOALS-f3-L\", \"FIO-ESM-2-0\", \"GFDL-CM4\", \"GFDL-ESM4\", \"INM-CM4-8\", \"INM-CM5-0\", \n",
    "          \"IPSL-CM6A-LR\", \"MIROC-ES2L\", \"MIROC6\", \"MPI-ESM1-2-HR\", \"MRI-ESM2-0\", \"NESM3\"]\n",
    "\n",
    "regrid_model_files(\n",
    "    models=models,\n",
    "    ref_grid=ref_grid,\n",
    "    output_dir=\"/home/jovyan/private-storage/output_data/interp_sftlf\",\n",
    "    filename_template=\"sftlf_{model}.nc\",\n",
    "    input_dirs=[\n",
    "        \"/home/jovyan/private-storage/masques/masques/sftlf\",\n",
    "        \"/home/jovyan/private-storage/masques/masques/pseudo_sftlf/\"\n",
    "    ],\n",
    "    output_name_template=\"{model}_sftlf_reprojete.nc\"\n",
    ")"
   ]
  },
  {
   "cell_type": "code",
   "execution_count": 14,
   "id": "ea98fbcd-1f5e-46da-b19a-7a82cb190156",
   "metadata": {},
   "outputs": [
    {
     "name": "stdout",
     "output_type": "stream",
     "text": [
      "Traitement du modèle CMCC-ESM2 : /home/jovyan/private-storage/sftlf_CMCC-ESM2.nc\n",
      "Fichier sauvegardé : /home/jovyan/private-storage/output_data/interp_sftlf/CMCC-ESM2_sftlf_reprojete.nc\n"
     ]
    }
   ],
   "source": [
    "models = [\"CMCC-ESM2\"]\n",
    "\n",
    "regrid_model_files(\n",
    "    models=models,\n",
    "    ref_grid=ref_grid,\n",
    "    output_dir=\"/home/jovyan/private-storage/output_data/interp_sftlf\",\n",
    "    filename_template=\"sftlf_{model}.nc\",\n",
    "    input_dirs=[\n",
    "        \"/home/jovyan/private-storage/\"\n",
    "    ],\n",
    "    output_name_template=\"{model}_sftlf_reprojete.nc\"\n",
    ")"
   ]
  },
  {
   "cell_type": "markdown",
   "id": "4ede2900-fc07-4ba9-8032-a5346e1a6069",
   "metadata": {},
   "source": [
    "## Conclusion\n",
    "\n",
    "Ce notebook a donc interpolé chaque fichier historique de glace de mer selon la grille de référence des données d'observations afin d'avoir tous les fichiers sur un même référentiel pour permettre les futures comparaisons. Cette étape a été réalisé en 2 fois avec deux groupes de modèles différents afin de ne pas atteindre la limite de stockage définie sur ce notebook."
   ]
  }
 ],
 "metadata": {
  "kernelspec": {
   "display_name": "Python 3 (ipykernel)",
   "language": "python",
   "name": "python3"
  },
  "language_info": {
   "codemirror_mode": {
    "name": "ipython",
    "version": 3
   },
   "file_extension": ".py",
   "mimetype": "text/x-python",
   "name": "python",
   "nbconvert_exporter": "python",
   "pygments_lexer": "ipython3",
   "version": "3.12.8"
  }
 },
 "nbformat": 4,
 "nbformat_minor": 5
}
